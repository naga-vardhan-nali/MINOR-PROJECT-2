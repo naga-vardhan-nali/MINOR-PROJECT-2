{
 "cells": [
  {
   "cell_type": "markdown",
   "id": "72f485fc",
   "metadata": {
    "papermill": {
     "duration": 0.06603,
     "end_time": "2021-11-14T17:06:51.574162",
     "exception": false,
     "start_time": "2021-11-14T17:06:51.508132",
     "status": "completed"
    },
    "tags": []
   },
   "source": [
    "![Right_Candidate](http://www.prevuehr.com/drive/uploads/2016/11/AdobeStock_95250209-Converted-1024x695.png?_t=1484780827)"
   ]
  },
  {
   "cell_type": "markdown",
   "id": "8720e3d6",
   "metadata": {
    "papermill": {
     "duration": 0.063712,
     "end_time": "2021-11-14T17:06:51.705272",
     "exception": false,
     "start_time": "2021-11-14T17:06:51.641560",
     "status": "completed"
    },
    "tags": []
   },
   "source": [
    "In this Notebook, I will try to do detailed Exploratory data analysis(EDA) on Student Placement Dataset with Visualization. Extract different Insights from data that will be helpful for Fresh candidates. At the end I will Create Machine Learning Model that predicts whether a particular candidate got placement or not based on some feature.\n",
    "\n",
    "**I Hope you will like my work!**"
   ]
  },
  {
   "cell_type": "markdown",
   "id": "2a1f88b9",
   "metadata": {
    "papermill": {
     "duration": 0.062942,
     "end_time": "2021-11-14T17:06:51.831863",
     "exception": false,
     "start_time": "2021-11-14T17:06:51.768921",
     "status": "completed"
    },
    "tags": []
   },
   "source": [
    "<a id='top'></a>\n",
    "<div class=\"list-group\" id=\"list-tab\" role=\"tablist\">\n",
    "<p style=\"background-color:#47b7ed;font-family:newtimeroman;color:#000000;font-size:170%;text-align:center;border-radius:20px 80px;\">📋 TABLE OF CONTENTS</p>   "
   ]
  },
  {
   "cell_type": "markdown",
   "id": "101e4c18",
   "metadata": {
    "papermill": {
     "duration": 0.063512,
     "end_time": "2021-11-14T17:06:51.960909",
     "exception": false,
     "start_time": "2021-11-14T17:06:51.897397",
     "status": "completed"
    },
    "tags": []
   },
   "source": [
    "    \n",
    "* [1. Importing Libraries](#1)\n",
    "    \n",
    "* [2. Meta information of dataframe](#2)\n",
    "    \n",
    "* [3. Statistical information](#3)  \n",
    "    \n",
    "* [4. NaN values](#4)  \n",
    "    \n",
    "* [5. EDA & Visualization](#5)\n",
    "    * [5.1. Mean Age of Students](#5.1)\n",
    "    \n",
    "    * [5.2. Total Male & Female](#5.2)\n",
    "    \n",
    "    * [5.3. Total Male & Female Pass Placement Exam](#5.3)\n",
    "    \n",
    "    * [5.4. Higher CGPA VS Placement](#5.4)\n",
    "    \n",
    "    * [5.5. Lower CGPA VS Placement](#5.5)\n",
    "    \n",
    "    * [5.6. Analyze Stream](#5.6)\n",
    "    \n",
    "    * [5.7. No Internship Experience VS Placement](#5.7)\n",
    "    \n",
    "    * [5.8. Top words in Stream](#5.8)\n",
    "\n",
    "* [6. Preprocess data for Machine Learning](#6)\n",
    "    * [6.1. One-Hot Encoding](#6.1)\n",
    "    \n",
    "    * [6.2. Scaling Features](#6.2)\n",
    "\n",
    "* [7. Visualize Coorelation](#7)\n",
    " \n",
    "* [8. Train Test Split](#8)\n",
    "\n",
    "* [9. Create & Train Model](#9)\n",
    "\n",
    "* [10. Visualize Model Score](#10)\n",
    "\n",
    "* [11. Hyperparameter tuning using RandomizedSearchCV](#11)\n",
    "\n",
    "* [12. Best estimator and best hyperparameters](#12)\n",
    "\n",
    "* [13. Training model with best hyperparameters](#13)\n",
    "\n",
    "* [14. Plot Confusion Matrix](#14)\n",
    "\n",
    "\n",
    "\n",
    "\n",
    "\n",
    "\n",
    "\n",
    "\n",
    "\n",
    "    "
   ]
  },
  {
   "cell_type": "markdown",
   "id": "d7b3326e",
   "metadata": {
    "papermill": {
     "duration": 0.063597,
     "end_time": "2021-11-14T17:06:52.088068",
     "exception": false,
     "start_time": "2021-11-14T17:06:52.024471",
     "status": "completed"
    },
    "tags": []
   },
   "source": [
    "<a id=\"1\"></a>\n",
    "# <p style=\"background-color:#47b7ed;font-family:newtimeroman;color:#000000;font-size:120%;text-align:center;border-radius:20px 80px;\">📥 Importing libraries</p>\n"
   ]
  },
  {
   "cell_type": "code",
   "execution_count": 1,
   "id": "12b52cb0",
   "metadata": {
    "_cell_guid": "b1076dfc-b9ad-4769-8c92-a6c4dae69d19",
    "_uuid": "8f2839f25d086af736a60e9eeb907d3b93b6e0e5",
    "execution": {
     "iopub.execute_input": "2021-11-14T17:06:52.219947Z",
     "iopub.status.busy": "2021-11-14T17:06:52.218730Z",
     "iopub.status.idle": "2021-11-14T17:06:54.944761Z",
     "shell.execute_reply": "2021-11-14T17:06:54.945276Z",
     "shell.execute_reply.started": "2021-11-14T16:18:31.271846Z"
    },
    "papermill": {
     "duration": 2.793471,
     "end_time": "2021-11-14T17:06:54.945575",
     "exception": false,
     "start_time": "2021-11-14T17:06:52.152104",
     "status": "completed"
    },
    "tags": []
   },
   "outputs": [
    {
     "name": "stdout",
     "output_type": "stream",
     "text": [
      "/kaggle/input/engineering-placements-prediction/collegePlace.csv\n"
     ]
    }
   ],
   "source": [
    "# This Python 3 environment comes with many helpful analytics libraries installed\n",
    "# It is defined by the kaggle/python Docker image: https://github.com/kaggle/docker-python\n",
    "# For example, here's several helpful packages to load\n",
    "\n",
    "import numpy as np # linear algebra\n",
    "import pandas as pd # data processing, CSV file I/O (e.g. pd.read_csv)\n",
    "import matplotlib.pyplot as plt\n",
    "import seaborn as sns\n",
    "import plotly.express as px\n",
    "from plotly.subplots import make_subplots\n",
    "import plotly.graph_objects as go\n",
    "from wordcloud import WordCloud\n",
    "from sklearn.preprocessing import StandardScaler\n",
    "from sklearn.tree import DecisionTreeClassifier\n",
    "from sklearn.ensemble import RandomForestClassifier\n",
    "from xgboost import XGBClassifier\n",
    "from sklearn.neighbors import KNeighborsClassifier\n",
    "from sklearn.model_selection import RandomizedSearchCV\n",
    "from sklearn.metrics import accuracy_score, plot_confusion_matrix\n",
    "from datetime import datetime\n",
    "import warnings\n",
    "\n",
    "warnings.filterwarnings(\"ignore\", category = FutureWarning)\n",
    "\n",
    "\n",
    "sns.set(style=\"darkgrid\")\n",
    "\n",
    "# Input data files are available in the read-only \"../input/\" directory\n",
    "# For example, running this (by clicking run or pressing Shift+Enter) will list all files under the input directory\n",
    "\n",
    "import os\n",
    "for dirname, _, filenames in os.walk('/kaggle/input'):\n",
    "    for filename in filenames:\n",
    "        print(os.path.join(dirname, filename))\n",
    "\n",
    "# You can write up to 20GB to the current directory (/kaggle/working/) that gets preserved as output when you create a version using \"Save & Run All\" \n",
    "# You can also write temporary files to /kaggle/temp/, but they won't be saved outside of the current session"
   ]
  },
  {
   "cell_type": "code",
   "execution_count": 2,
   "id": "3ff339b6",
   "metadata": {
    "execution": {
     "iopub.execute_input": "2021-11-14T17:06:55.081805Z",
     "iopub.status.busy": "2021-11-14T17:06:55.081201Z",
     "iopub.status.idle": "2021-11-14T17:06:55.120378Z",
     "shell.execute_reply": "2021-11-14T17:06:55.119805Z",
     "shell.execute_reply.started": "2021-11-14T16:18:38.648670Z"
    },
    "papermill": {
     "duration": 0.109316,
     "end_time": "2021-11-14T17:06:55.120519",
     "exception": false,
     "start_time": "2021-11-14T17:06:55.011203",
     "status": "completed"
    },
    "tags": []
   },
   "outputs": [
    {
     "data": {
      "text/html": [
       "<div>\n",
       "<style scoped>\n",
       "    .dataframe tbody tr th:only-of-type {\n",
       "        vertical-align: middle;\n",
       "    }\n",
       "\n",
       "    .dataframe tbody tr th {\n",
       "        vertical-align: top;\n",
       "    }\n",
       "\n",
       "    .dataframe thead th {\n",
       "        text-align: right;\n",
       "    }\n",
       "</style>\n",
       "<table border=\"1\" class=\"dataframe\">\n",
       "  <thead>\n",
       "    <tr style=\"text-align: right;\">\n",
       "      <th></th>\n",
       "      <th>Age</th>\n",
       "      <th>Gender</th>\n",
       "      <th>Stream</th>\n",
       "      <th>Internships</th>\n",
       "      <th>CGPA</th>\n",
       "      <th>Hostel</th>\n",
       "      <th>HistoryOfBacklogs</th>\n",
       "      <th>PlacedOrNot</th>\n",
       "    </tr>\n",
       "  </thead>\n",
       "  <tbody>\n",
       "    <tr>\n",
       "      <th>0</th>\n",
       "      <td>22</td>\n",
       "      <td>Male</td>\n",
       "      <td>Electronics And Communication</td>\n",
       "      <td>1</td>\n",
       "      <td>8</td>\n",
       "      <td>1</td>\n",
       "      <td>1</td>\n",
       "      <td>1</td>\n",
       "    </tr>\n",
       "    <tr>\n",
       "      <th>1</th>\n",
       "      <td>21</td>\n",
       "      <td>Female</td>\n",
       "      <td>Computer Science</td>\n",
       "      <td>0</td>\n",
       "      <td>7</td>\n",
       "      <td>1</td>\n",
       "      <td>1</td>\n",
       "      <td>1</td>\n",
       "    </tr>\n",
       "    <tr>\n",
       "      <th>2</th>\n",
       "      <td>22</td>\n",
       "      <td>Female</td>\n",
       "      <td>Information Technology</td>\n",
       "      <td>1</td>\n",
       "      <td>6</td>\n",
       "      <td>0</td>\n",
       "      <td>0</td>\n",
       "      <td>1</td>\n",
       "    </tr>\n",
       "    <tr>\n",
       "      <th>3</th>\n",
       "      <td>21</td>\n",
       "      <td>Male</td>\n",
       "      <td>Information Technology</td>\n",
       "      <td>0</td>\n",
       "      <td>8</td>\n",
       "      <td>0</td>\n",
       "      <td>1</td>\n",
       "      <td>1</td>\n",
       "    </tr>\n",
       "    <tr>\n",
       "      <th>4</th>\n",
       "      <td>22</td>\n",
       "      <td>Male</td>\n",
       "      <td>Mechanical</td>\n",
       "      <td>0</td>\n",
       "      <td>8</td>\n",
       "      <td>1</td>\n",
       "      <td>0</td>\n",
       "      <td>1</td>\n",
       "    </tr>\n",
       "  </tbody>\n",
       "</table>\n",
       "</div>"
      ],
      "text/plain": [
       "   Age  Gender                         Stream  Internships  CGPA  Hostel  \\\n",
       "0   22    Male  Electronics And Communication            1     8       1   \n",
       "1   21  Female               Computer Science            0     7       1   \n",
       "2   22  Female         Information Technology            1     6       0   \n",
       "3   21    Male         Information Technology            0     8       0   \n",
       "4   22    Male                     Mechanical            0     8       1   \n",
       "\n",
       "   HistoryOfBacklogs  PlacedOrNot  \n",
       "0                  1            1  \n",
       "1                  1            1  \n",
       "2                  0            1  \n",
       "3                  1            1  \n",
       "4                  0            1  "
      ]
     },
     "execution_count": 2,
     "metadata": {},
     "output_type": "execute_result"
    }
   ],
   "source": [
    "data = pd.read_csv('/kaggle/input/engineering-placements-prediction/collegePlace.csv')\n",
    "\n",
    "data.head()"
   ]
  },
  {
   "cell_type": "markdown",
   "id": "46ba5db0",
   "metadata": {
    "papermill": {
     "duration": 0.064096,
     "end_time": "2021-11-14T17:06:55.249528",
     "exception": false,
     "start_time": "2021-11-14T17:06:55.185432",
     "status": "completed"
    },
    "tags": []
   },
   "source": [
    "<a id=\"2\"></a>\n",
    "# <p style=\"background-color:#47b7ed;font-family:newtimeroman;color:#000000;font-size:120%;text-align:center;border-radius:20px 80px;\">📝 Meta information of Dataframe</p>\n"
   ]
  },
  {
   "cell_type": "code",
   "execution_count": 3,
   "id": "b3fc017d",
   "metadata": {
    "execution": {
     "iopub.execute_input": "2021-11-14T17:06:55.384013Z",
     "iopub.status.busy": "2021-11-14T17:06:55.383415Z",
     "iopub.status.idle": "2021-11-14T17:06:55.385719Z",
     "shell.execute_reply": "2021-11-14T17:06:55.386176Z",
     "shell.execute_reply.started": "2021-11-14T16:18:44.690943Z"
    },
    "papermill": {
     "duration": 0.072025,
     "end_time": "2021-11-14T17:06:55.386331",
     "exception": false,
     "start_time": "2021-11-14T17:06:55.314306",
     "status": "completed"
    },
    "tags": []
   },
   "outputs": [
    {
     "name": "stdout",
     "output_type": "stream",
     "text": [
      "Shape of Dataframe is: (2966, 8)\n"
     ]
    }
   ],
   "source": [
    "print(f\"Shape of Dataframe is: {data.shape}\")"
   ]
  },
  {
   "cell_type": "code",
   "execution_count": 4,
   "id": "dfc52a0a",
   "metadata": {
    "execution": {
     "iopub.execute_input": "2021-11-14T17:06:55.528889Z",
     "iopub.status.busy": "2021-11-14T17:06:55.527955Z",
     "iopub.status.idle": "2021-11-14T17:06:55.532554Z",
     "shell.execute_reply": "2021-11-14T17:06:55.533030Z",
     "shell.execute_reply.started": "2021-11-14T16:18:52.327014Z"
    },
    "papermill": {
     "duration": 0.080829,
     "end_time": "2021-11-14T17:06:55.533219",
     "exception": false,
     "start_time": "2021-11-14T17:06:55.452390",
     "status": "completed"
    },
    "tags": []
   },
   "outputs": [
    {
     "name": "stdout",
     "output_type": "stream",
     "text": [
      "Datatype in Each Column\n",
      "\n"
     ]
    },
    {
     "data": {
      "text/html": [
       "<div>\n",
       "<style scoped>\n",
       "    .dataframe tbody tr th:only-of-type {\n",
       "        vertical-align: middle;\n",
       "    }\n",
       "\n",
       "    .dataframe tbody tr th {\n",
       "        vertical-align: top;\n",
       "    }\n",
       "\n",
       "    .dataframe thead th {\n",
       "        text-align: right;\n",
       "    }\n",
       "</style>\n",
       "<table border=\"1\" class=\"dataframe\">\n",
       "  <thead>\n",
       "    <tr style=\"text-align: right;\">\n",
       "      <th></th>\n",
       "      <th>Datatype</th>\n",
       "    </tr>\n",
       "    <tr>\n",
       "      <th>Column Name</th>\n",
       "      <th></th>\n",
       "    </tr>\n",
       "  </thead>\n",
       "  <tbody>\n",
       "    <tr>\n",
       "      <th>Age</th>\n",
       "      <td>int64</td>\n",
       "    </tr>\n",
       "    <tr>\n",
       "      <th>Gender</th>\n",
       "      <td>object</td>\n",
       "    </tr>\n",
       "    <tr>\n",
       "      <th>Stream</th>\n",
       "      <td>object</td>\n",
       "    </tr>\n",
       "    <tr>\n",
       "      <th>Internships</th>\n",
       "      <td>int64</td>\n",
       "    </tr>\n",
       "    <tr>\n",
       "      <th>CGPA</th>\n",
       "      <td>int64</td>\n",
       "    </tr>\n",
       "    <tr>\n",
       "      <th>Hostel</th>\n",
       "      <td>int64</td>\n",
       "    </tr>\n",
       "    <tr>\n",
       "      <th>HistoryOfBacklogs</th>\n",
       "      <td>int64</td>\n",
       "    </tr>\n",
       "    <tr>\n",
       "      <th>PlacedOrNot</th>\n",
       "      <td>int64</td>\n",
       "    </tr>\n",
       "  </tbody>\n",
       "</table>\n",
       "</div>"
      ],
      "text/plain": [
       "                  Datatype\n",
       "Column Name               \n",
       "Age                  int64\n",
       "Gender              object\n",
       "Stream              object\n",
       "Internships          int64\n",
       "CGPA                 int64\n",
       "Hostel               int64\n",
       "HistoryOfBacklogs    int64\n",
       "PlacedOrNot          int64"
      ]
     },
     "execution_count": 4,
     "metadata": {},
     "output_type": "execute_result"
    }
   ],
   "source": [
    "print('Datatype in Each Column\\n')\n",
    "pd.DataFrame(data.dtypes, columns=['Datatype']).rename_axis(\"Column Name\")"
   ]
  },
  {
   "cell_type": "markdown",
   "id": "6e037806",
   "metadata": {
    "papermill": {
     "duration": 0.065974,
     "end_time": "2021-11-14T17:06:55.665667",
     "exception": false,
     "start_time": "2021-11-14T17:06:55.599693",
     "status": "completed"
    },
    "tags": []
   },
   "source": [
    "<a id=\"3\"></a>\n",
    "# <p style=\"background-color:#47b7ed;font-family:newtimeroman;color:#000000;font-size:120%;text-align:center;border-radius:20px 80px;\">📈 Statistical information of Dataframe</p>\n"
   ]
  },
  {
   "cell_type": "code",
   "execution_count": 5,
   "id": "add01e55",
   "metadata": {
    "execution": {
     "iopub.execute_input": "2021-11-14T17:06:55.800435Z",
     "iopub.status.busy": "2021-11-14T17:06:55.799506Z",
     "iopub.status.idle": "2021-11-14T17:06:55.870235Z",
     "shell.execute_reply": "2021-11-14T17:06:55.870743Z",
     "shell.execute_reply.started": "2021-11-14T16:18:55.888603Z"
    },
    "papermill": {
     "duration": 0.139427,
     "end_time": "2021-11-14T17:06:55.870904",
     "exception": false,
     "start_time": "2021-11-14T17:06:55.731477",
     "status": "completed"
    },
    "tags": []
   },
   "outputs": [
    {
     "data": {
      "text/html": [
       "<style  type=\"text/css\" >\n",
       "#T_a875c_row0_col1{\n",
       "            width:  10em;\n",
       "             height:  80%;\n",
       "            background:  linear-gradient(90deg,#205ff2 100.0%, transparent 100.0%);\n",
       "        }#T_a875c_row0_col2{\n",
       "            background-color:  #67000d;\n",
       "            color:  #f1f1f1;\n",
       "        }#T_a875c_row0_col5{\n",
       "            background-color:  #b40426;\n",
       "            color:  #f1f1f1;\n",
       "        }#T_a875c_row1_col1{\n",
       "            width:  10em;\n",
       "             height:  80%;\n",
       "            background:  linear-gradient(90deg,#205ff2 2.4%, transparent 2.4%);\n",
       "        }#T_a875c_row1_col2{\n",
       "            background-color:  #fc9373;\n",
       "            color:  #000000;\n",
       "        }#T_a875c_row1_col5,#T_a875c_row5_col5{\n",
       "            background-color:  #4961d2;\n",
       "            color:  #f1f1f1;\n",
       "        }#T_a875c_row2_col1{\n",
       "            width:  10em;\n",
       "             height:  80%;\n",
       "            background:  linear-gradient(90deg,#205ff2 32.3%, transparent 32.3%);\n",
       "        }#T_a875c_row2_col2{\n",
       "            background-color:  #f03f2e;\n",
       "            color:  #f1f1f1;\n",
       "        }#T_a875c_row2_col5{\n",
       "            background-color:  #aac7fd;\n",
       "            color:  #000000;\n",
       "        }#T_a875c_row3_col1{\n",
       "            width:  10em;\n",
       "             height:  80%;\n",
       "            background:  linear-gradient(90deg,#205ff2 0.4%, transparent 0.4%);\n",
       "        }#T_a875c_row3_col2{\n",
       "            background-color:  #ffece4;\n",
       "            color:  #000000;\n",
       "        }#T_a875c_row3_col5,#T_a875c_row4_col5{\n",
       "            background-color:  #3b4cc0;\n",
       "            color:  #f1f1f1;\n",
       "        }#T_a875c_row4_col1{\n",
       "            width:  10em;\n",
       "             height:  80%;\n",
       "        }#T_a875c_row4_col2{\n",
       "            background-color:  #fff5f0;\n",
       "            color:  #000000;\n",
       "        }#T_a875c_row5_col1{\n",
       "            width:  10em;\n",
       "             height:  80%;\n",
       "            background:  linear-gradient(90deg,#205ff2 1.7%, transparent 1.7%);\n",
       "        }#T_a875c_row5_col2{\n",
       "            background-color:  #fee3d6;\n",
       "            color:  #000000;\n",
       "        }</style><table id=\"T_a875c_\" ><thead>    <tr>        <th class=\"blank level0\" ></th>        <th class=\"col_heading level0 col0\" >count</th>        <th class=\"col_heading level0 col1\" >mean</th>        <th class=\"col_heading level0 col2\" >std</th>        <th class=\"col_heading level0 col3\" >min</th>        <th class=\"col_heading level0 col4\" >25%</th>        <th class=\"col_heading level0 col5\" >50%</th>        <th class=\"col_heading level0 col6\" >75%</th>        <th class=\"col_heading level0 col7\" >max</th>    </tr></thead><tbody>\n",
       "                <tr>\n",
       "                        <th id=\"T_a875c_level0_row0\" class=\"row_heading level0 row0\" >Age</th>\n",
       "                        <td id=\"T_a875c_row0_col0\" class=\"data row0 col0\" >2966.000000</td>\n",
       "                        <td id=\"T_a875c_row0_col1\" class=\"data row0 col1\" >21.485840</td>\n",
       "                        <td id=\"T_a875c_row0_col2\" class=\"data row0 col2\" >1.324933</td>\n",
       "                        <td id=\"T_a875c_row0_col3\" class=\"data row0 col3\" >19.000000</td>\n",
       "                        <td id=\"T_a875c_row0_col4\" class=\"data row0 col4\" >21.000000</td>\n",
       "                        <td id=\"T_a875c_row0_col5\" class=\"data row0 col5\" >21.000000</td>\n",
       "                        <td id=\"T_a875c_row0_col6\" class=\"data row0 col6\" >22.000000</td>\n",
       "                        <td id=\"T_a875c_row0_col7\" class=\"data row0 col7\" >30.000000</td>\n",
       "            </tr>\n",
       "            <tr>\n",
       "                        <th id=\"T_a875c_level0_row1\" class=\"row_heading level0 row1\" >Internships</th>\n",
       "                        <td id=\"T_a875c_row1_col0\" class=\"data row1 col0\" >2966.000000</td>\n",
       "                        <td id=\"T_a875c_row1_col1\" class=\"data row1 col1\" >0.703641</td>\n",
       "                        <td id=\"T_a875c_row1_col2\" class=\"data row1 col2\" >0.740197</td>\n",
       "                        <td id=\"T_a875c_row1_col3\" class=\"data row1 col3\" >0.000000</td>\n",
       "                        <td id=\"T_a875c_row1_col4\" class=\"data row1 col4\" >0.000000</td>\n",
       "                        <td id=\"T_a875c_row1_col5\" class=\"data row1 col5\" >1.000000</td>\n",
       "                        <td id=\"T_a875c_row1_col6\" class=\"data row1 col6\" >1.000000</td>\n",
       "                        <td id=\"T_a875c_row1_col7\" class=\"data row1 col7\" >3.000000</td>\n",
       "            </tr>\n",
       "            <tr>\n",
       "                        <th id=\"T_a875c_level0_row2\" class=\"row_heading level0 row2\" >CGPA</th>\n",
       "                        <td id=\"T_a875c_row2_col0\" class=\"data row2 col0\" >2966.000000</td>\n",
       "                        <td id=\"T_a875c_row2_col1\" class=\"data row2 col1\" >7.073837</td>\n",
       "                        <td id=\"T_a875c_row2_col2\" class=\"data row2 col2\" >0.967748</td>\n",
       "                        <td id=\"T_a875c_row2_col3\" class=\"data row2 col3\" >5.000000</td>\n",
       "                        <td id=\"T_a875c_row2_col4\" class=\"data row2 col4\" >6.000000</td>\n",
       "                        <td id=\"T_a875c_row2_col5\" class=\"data row2 col5\" >7.000000</td>\n",
       "                        <td id=\"T_a875c_row2_col6\" class=\"data row2 col6\" >8.000000</td>\n",
       "                        <td id=\"T_a875c_row2_col7\" class=\"data row2 col7\" >9.000000</td>\n",
       "            </tr>\n",
       "            <tr>\n",
       "                        <th id=\"T_a875c_level0_row3\" class=\"row_heading level0 row3\" >Hostel</th>\n",
       "                        <td id=\"T_a875c_row3_col0\" class=\"data row3 col0\" >2966.000000</td>\n",
       "                        <td id=\"T_a875c_row3_col1\" class=\"data row3 col1\" >0.269049</td>\n",
       "                        <td id=\"T_a875c_row3_col2\" class=\"data row3 col2\" >0.443540</td>\n",
       "                        <td id=\"T_a875c_row3_col3\" class=\"data row3 col3\" >0.000000</td>\n",
       "                        <td id=\"T_a875c_row3_col4\" class=\"data row3 col4\" >0.000000</td>\n",
       "                        <td id=\"T_a875c_row3_col5\" class=\"data row3 col5\" >0.000000</td>\n",
       "                        <td id=\"T_a875c_row3_col6\" class=\"data row3 col6\" >1.000000</td>\n",
       "                        <td id=\"T_a875c_row3_col7\" class=\"data row3 col7\" >1.000000</td>\n",
       "            </tr>\n",
       "            <tr>\n",
       "                        <th id=\"T_a875c_level0_row4\" class=\"row_heading level0 row4\" >HistoryOfBacklogs</th>\n",
       "                        <td id=\"T_a875c_row4_col0\" class=\"data row4 col0\" >2966.000000</td>\n",
       "                        <td id=\"T_a875c_row4_col1\" class=\"data row4 col1\" >0.192178</td>\n",
       "                        <td id=\"T_a875c_row4_col2\" class=\"data row4 col2\" >0.394079</td>\n",
       "                        <td id=\"T_a875c_row4_col3\" class=\"data row4 col3\" >0.000000</td>\n",
       "                        <td id=\"T_a875c_row4_col4\" class=\"data row4 col4\" >0.000000</td>\n",
       "                        <td id=\"T_a875c_row4_col5\" class=\"data row4 col5\" >0.000000</td>\n",
       "                        <td id=\"T_a875c_row4_col6\" class=\"data row4 col6\" >0.000000</td>\n",
       "                        <td id=\"T_a875c_row4_col7\" class=\"data row4 col7\" >1.000000</td>\n",
       "            </tr>\n",
       "            <tr>\n",
       "                        <th id=\"T_a875c_level0_row5\" class=\"row_heading level0 row5\" >PlacedOrNot</th>\n",
       "                        <td id=\"T_a875c_row5_col0\" class=\"data row5 col0\" >2966.000000</td>\n",
       "                        <td id=\"T_a875c_row5_col1\" class=\"data row5 col1\" >0.552596</td>\n",
       "                        <td id=\"T_a875c_row5_col2\" class=\"data row5 col2\" >0.497310</td>\n",
       "                        <td id=\"T_a875c_row5_col3\" class=\"data row5 col3\" >0.000000</td>\n",
       "                        <td id=\"T_a875c_row5_col4\" class=\"data row5 col4\" >0.000000</td>\n",
       "                        <td id=\"T_a875c_row5_col5\" class=\"data row5 col5\" >1.000000</td>\n",
       "                        <td id=\"T_a875c_row5_col6\" class=\"data row5 col6\" >1.000000</td>\n",
       "                        <td id=\"T_a875c_row5_col7\" class=\"data row5 col7\" >1.000000</td>\n",
       "            </tr>\n",
       "    </tbody></table>"
      ],
      "text/plain": [
       "<pandas.io.formats.style.Styler at 0x7f01cce4a350>"
      ]
     },
     "execution_count": 5,
     "metadata": {},
     "output_type": "execute_result"
    }
   ],
   "source": [
    "data.describe().T.style.bar(subset=['mean'], color='#205ff2').background_gradient(subset=['std'], cmap='Reds').background_gradient(subset=['50%'], cmap='coolwarm')"
   ]
  },
  {
   "cell_type": "markdown",
   "id": "eac04580",
   "metadata": {
    "papermill": {
     "duration": 0.06687,
     "end_time": "2021-11-14T17:06:56.004708",
     "exception": false,
     "start_time": "2021-11-14T17:06:55.937838",
     "status": "completed"
    },
    "tags": []
   },
   "source": [
    "\n",
    "<a id=\"4\"></a>\n",
    "# <p style=\"background-color:#47b7ed;font-family:newtimeroman;color:#000000;font-size:120%;text-align:center;border-radius:20px 80px;\">🔎 Checking for NaN values</p>\n"
   ]
  },
  {
   "cell_type": "code",
   "execution_count": 6,
   "id": "20c2fa6f",
   "metadata": {
    "execution": {
     "iopub.execute_input": "2021-11-14T17:06:56.140730Z",
     "iopub.status.busy": "2021-11-14T17:06:56.140126Z",
     "iopub.status.idle": "2021-11-14T17:06:56.151921Z",
     "shell.execute_reply": "2021-11-14T17:06:56.151319Z",
     "shell.execute_reply.started": "2021-11-14T16:19:02.111812Z"
    },
    "papermill": {
     "duration": 0.080753,
     "end_time": "2021-11-14T17:06:56.152062",
     "exception": false,
     "start_time": "2021-11-14T17:06:56.071309",
     "status": "completed"
    },
    "tags": []
   },
   "outputs": [
    {
     "data": {
      "text/html": [
       "<div>\n",
       "<style scoped>\n",
       "    .dataframe tbody tr th:only-of-type {\n",
       "        vertical-align: middle;\n",
       "    }\n",
       "\n",
       "    .dataframe tbody tr th {\n",
       "        vertical-align: top;\n",
       "    }\n",
       "\n",
       "    .dataframe thead th {\n",
       "        text-align: right;\n",
       "    }\n",
       "</style>\n",
       "<table border=\"1\" class=\"dataframe\">\n",
       "  <thead>\n",
       "    <tr style=\"text-align: right;\">\n",
       "      <th></th>\n",
       "      <th>Null Values</th>\n",
       "    </tr>\n",
       "    <tr>\n",
       "      <th>Column Name</th>\n",
       "      <th></th>\n",
       "    </tr>\n",
       "  </thead>\n",
       "  <tbody>\n",
       "    <tr>\n",
       "      <th>Age</th>\n",
       "      <td>0</td>\n",
       "    </tr>\n",
       "    <tr>\n",
       "      <th>Gender</th>\n",
       "      <td>0</td>\n",
       "    </tr>\n",
       "    <tr>\n",
       "      <th>Stream</th>\n",
       "      <td>0</td>\n",
       "    </tr>\n",
       "    <tr>\n",
       "      <th>Internships</th>\n",
       "      <td>0</td>\n",
       "    </tr>\n",
       "    <tr>\n",
       "      <th>CGPA</th>\n",
       "      <td>0</td>\n",
       "    </tr>\n",
       "    <tr>\n",
       "      <th>Hostel</th>\n",
       "      <td>0</td>\n",
       "    </tr>\n",
       "    <tr>\n",
       "      <th>HistoryOfBacklogs</th>\n",
       "      <td>0</td>\n",
       "    </tr>\n",
       "    <tr>\n",
       "      <th>PlacedOrNot</th>\n",
       "      <td>0</td>\n",
       "    </tr>\n",
       "  </tbody>\n",
       "</table>\n",
       "</div>"
      ],
      "text/plain": [
       "                   Null Values\n",
       "Column Name                   \n",
       "Age                          0\n",
       "Gender                       0\n",
       "Stream                       0\n",
       "Internships                  0\n",
       "CGPA                         0\n",
       "Hostel                       0\n",
       "HistoryOfBacklogs            0\n",
       "PlacedOrNot                  0"
      ]
     },
     "execution_count": 6,
     "metadata": {},
     "output_type": "execute_result"
    }
   ],
   "source": [
    "pd.DataFrame(data.isnull().sum(), columns=[\"Null Values\"]).rename_axis(\"Column Name\")"
   ]
  },
  {
   "cell_type": "markdown",
   "id": "6815312a",
   "metadata": {
    "papermill": {
     "duration": 0.065877,
     "end_time": "2021-11-14T17:06:56.284600",
     "exception": false,
     "start_time": "2021-11-14T17:06:56.218723",
     "status": "completed"
    },
    "tags": []
   },
   "source": [
    "### **Fortunately data has no missing value**"
   ]
  },
  {
   "cell_type": "markdown",
   "id": "85965689",
   "metadata": {
    "papermill": {
     "duration": 0.065921,
     "end_time": "2021-11-14T17:06:56.416953",
     "exception": false,
     "start_time": "2021-11-14T17:06:56.351032",
     "status": "completed"
    },
    "tags": []
   },
   "source": [
    "<a id=\"5\"></a>\n",
    "# <p style=\"background-color:#47b7ed;font-family:newtimeroman;color:#000000;font-size:120%;text-align:center;border-radius:20px 80px;\">🔥 EDA & Visualization</p>\n"
   ]
  },
  {
   "cell_type": "markdown",
   "id": "01df4851",
   "metadata": {
    "papermill": {
     "duration": 0.066596,
     "end_time": "2021-11-14T17:06:56.550816",
     "exception": false,
     "start_time": "2021-11-14T17:06:56.484220",
     "status": "completed"
    },
    "tags": []
   },
   "source": [
    "<a id=\"5.1\"></a>\n",
    "# <p style=\"background-color:#73d1ff;font-family:newtimeroman;color:#000000;font-size:120%;text-align:center;border-radius:20px 80px;\">✔️ Mean Age of Student</p>\n"
   ]
  },
  {
   "cell_type": "code",
   "execution_count": 7,
   "id": "38e88972",
   "metadata": {
    "execution": {
     "iopub.execute_input": "2021-11-14T17:06:56.688957Z",
     "iopub.status.busy": "2021-11-14T17:06:56.688356Z",
     "iopub.status.idle": "2021-11-14T17:06:57.706720Z",
     "shell.execute_reply": "2021-11-14T17:06:57.707179Z",
     "shell.execute_reply.started": "2021-11-14T16:19:10.750460Z"
    },
    "papermill": {
     "duration": 1.089456,
     "end_time": "2021-11-14T17:06:57.707346",
     "exception": false,
     "start_time": "2021-11-14T17:06:56.617890",
     "status": "completed"
    },
    "tags": []
   },
   "outputs": [
    {
     "data": {
      "text/html": [
       "        <script type=\"text/javascript\">\n",
       "        window.PlotlyConfig = {MathJaxConfig: 'local'};\n",
       "        if (window.MathJax) {MathJax.Hub.Config({SVG: {font: \"STIX-Web\"}});}\n",
       "        if (typeof require !== 'undefined') {\n",
       "        require.undef(\"plotly\");\n",
       "        requirejs.config({\n",
       "            paths: {\n",
       "                'plotly': ['https://cdn.plot.ly/plotly-2.2.0.min']\n",
       "            }\n",
       "        });\n",
       "        require(['plotly'], function(Plotly) {\n",
       "            window._Plotly = Plotly;\n",
       "        });\n",
       "        }\n",
       "        </script>\n",
       "        "
      ]
     },
     "metadata": {},
     "output_type": "display_data"
    },
    {
     "data": {
      "text/html": [
       "<div>                            <div id=\"abb05852-e3b1-4c91-9abe-dee3c471073f\" class=\"plotly-graph-div\" style=\"height:525px; width:100%;\"></div>            <script type=\"text/javascript\">                require([\"plotly\"], function(Plotly) {                    window.PLOTLYENV=window.PLOTLYENV || {};                                    if (document.getElementById(\"abb05852-e3b1-4c91-9abe-dee3c471073f\")) {                    Plotly.newPlot(                        \"abb05852-e3b1-4c91-9abe-dee3c471073f\",                        [{\"alignmentgroup\":\"True\",\"bingroup\":\"x\",\"hovertemplate\":\"Age=%{x}<br>count=%{y}<extra></extra>\",\"legendgroup\":\"\",\"marker\":{\"color\":\"#636efa\",\"pattern\":{\"shape\":\"\"}},\"name\":\"\",\"offsetgroup\":\"\",\"orientation\":\"v\",\"showlegend\":false,\"type\":\"histogram\",\"x\":[22,21,22,21,22,22,21,21,21,21,22,22,21,21,21,22,22,21,21,22,22,21,22,22,22,21,22,22,22,21,22,21,21,21,21,21,22,22,22,22,22,22,21,21,22,21,22,21,21,21,22,21,21,21,21,21,21,21,21,21,21,22,21,21,21,22,22,21,22,21,22,22,22,21,22,21,21,22,22,21,21,21,22,21,21,21,21,21,22,22,21,22,21,22,22,22,21,22,22,21,23,23,23,24,23,23,24,24,24,23,23,24,24,23,24,23,23,23,24,23,23,23,23,23,23,24,24,24,24,24,23,23,23,24,23,24,24,24,23,24,23,23,24,24,24,23,24,23,23,24,23,24,23,23,24,24,23,24,23,24,22,22,22,21,21,21,21,21,22,22,21,21,21,22,22,21,21,22,22,21,22,22,21,22,21,22,21,21,22,21,22,22,21,21,21,22,21,21,22,21,21,22,21,21,21,21,22,22,21,21,21,21,22,22,21,21,21,21,22,21,22,22,21,22,22,21,21,21,21,22,22,22,21,22,21,22,22,21,21,21,22,22,21,22,21,21,21,22,22,22,21,21,22,22,22,22,22,21,22,22,22,21,21,22,21,21,21,22,21,22,21,22,21,22,21,22,21,21,21,21,21,22,21,21,22,21,21,22,21,22,22,22,22,22,21,21,22,22,22,21,22,22,21,21,22,22,22,22,22,21,21,22,22,22,22,22,22,22,21,21,21,21,21,22,21,22,21,21,22,22,21,22,22,21,22,22,21,21,22,22,21,22,21,22,22,22,21,21,21,22,22,21,21,21,22,22,21,22,21,22,22,21,22,21,21,22,22,21,21,21,22,21,22,22,22,22,21,21,21,22,21,22,21,21,22,21,21,22,22,22,22,22,21,22,21,21,21,21,21,21,22,22,21,21,21,22,21,21,21,22,21,22,21,21,22,22,22,21,22,22,21,22,22,21,22,21,22,21,21,21,21,22,21,21,21,21,21,21,22,22,21,21,22,21,21,21,22,21,28,21,22,21,22,21,21,22,22,21,21,22,22,22,21,22,22,21,22,21,22,21,21,22,22,21,21,22,22,22,21,22,21,21,21,22,21,22,21,22,22,22,22,22,21,22,22,21,22,21,22,22,22,21,22,21,22,21,22,21,21,21,21,22,21,22,21,22,21,21,21,21,21,22,22,21,21,22,22,22,21,22,21,22,22,22,22,21,21,21,22,21,22,22,22,22,22,21,22,21,22,21,30,22,21,22,22,22,22,21,21,22,21,21,22,22,22,21,21,21,22,22,22,21,22,21,22,22,21,21,22,22,21,21,21,22,21,22,21,22,21,21,21,21,22,22,21,22,21,22,22,21,21,22,21,21,21,22,22,21,21,22,21,21,22,21,21,21,21,22,22,21,22,22,22,22,22,22,21,22,22,21,21,21,21,22,22,22,22,21,22,21,21,22,21,22,21,22,21,21,22,21,22,21,22,22,21,22,22,22,21,22,22,22,21,22,22,21,22,22,22,21,22,22,21,22,21,21,21,22,22,22,21,21,22,21,22,21,21,21,22,21,22,21,22,21,22,22,21,21,21,21,25,26,24,25,24,25,23,24,25,25,26,26,25,26,24,25,23,23,24,25,24,24,23,26,23,26,26,26,26,24,24,23,26,23,24,26,25,23,24,23,23,26,24,26,23,23,26,26,24,23,26,23,24,24,25,25,26,24,26,25,22,21,22,22,22,22,21,22,21,21,22,22,22,22,21,21,21,22,22,21,21,22,21,22,21,22,21,21,22,22,22,22,22,22,22,22,22,22,22,21,22,21,22,21,22,21,22,22,22,21,22,21,21,22,22,21,22,21,21,22,22,21,21,22,21,21,21,21,21,21,21,21,22,21,21,21,22,21,22,22,21,22,22,22,22,21,22,21,22,22,22,22,21,22,22,21,21,22,21,22,22,21,21,21,21,22,22,21,22,22,22,22,22,22,22,21,22,21,21,21,22,22,22,22,21,21,22,22,21,22,22,21,21,22,22,22,22,21,21,22,22,21,22,21,21,22,21,21,22,21,21,21,21,21,22,22,22,22,21,22,21,21,21,21,21,21,21,22,21,22,22,21,22,22,22,22,22,22,22,22,22,22,22,22,22,22,22,21,21,22,22,22,22,21,21,21,21,21,22,21,22,22,21,21,22,22,22,22,21,21,22,21,21,22,21,21,22,21,22,22,22,22,21,22,22,22,21,22,22,22,22,22,22,22,21,21,22,21,21,21,22,22,21,22,22,21,21,22,21,21,22,22,21,22,22,21,21,22,22,22,21,22,22,21,21,22,21,22,21,22,21,22,21,21,22,22,21,21,22,22,22,21,21,22,22,22,21,22,21,22,22,21,21,22,22,22,22,21,21,22,22,22,21,22,21,21,22,21,22,22,22,22,21,22,21,21,21,21,22,21,21,22,22,22,21,21,22,22,22,22,21,21,22,22,22,22,22,22,21,22,22,21,21,22,21,21,22,22,21,21,21,22,21,21,21,22,21,21,22,21,21,21,22,21,22,21,22,22,22,21,22,21,21,22,22,22,21,22,22,22,21,22,22,21,21,22,22,21,22,22,21,21,21,22,21,21,21,22,21,21,22,21,22,21,22,22,21,21,22,22,22,21,21,22,22,21,22,21,22,21,22,22,21,21,21,21,21,21,21,21,22,22,21,21,22,22,21,22,21,22,21,22,22,21,21,22,21,21,21,21,21,21,21,21,22,22,22,22,21,21,22,22,22,21,22,22,21,22,22,21,21,21,22,22,22,21,22,22,22,21,21,21,21,22,22,22,21,22,21,21,22,21,21,22,21,21,21,22,22,21,22,22,21,21,21,22,22,21,21,21,21,22,22,21,22,21,22,22,22,21,21,21,22,22,22,21,21,22,21,21,21,21,22,22,22,21,21,21,22,21,25,26,24,25,26,26,26,26,24,26,26,26,26,26,26,25,26,24,26,26,24,24,24,25,25,25,26,26,26,26,25,25,25,26,25,26,26,26,26,26,24,24,25,26,26,25,26,25,25,24,26,24,26,26,24,26,25,25,26,25,22,21,22,21,21,22,21,22,21,22,21,21,22,22,21,22,21,21,21,22,21,22,21,21,21,22,21,21,21,22,22,21,21,21,22,22,22,22,21,22,22,22,22,21,22,22,22,21,22,22,21,22,22,22,21,21,21,21,22,22,21,22,22,22,21,22,21,22,22,21,21,21,21,22,22,21,22,21,21,21,21,22,22,21,28,21,22,21,22,22,21,21,22,22,22,21,22,21,21,22,22,21,22,22,22,21,22,21,21,22,21,21,21,21,22,22,22,21,22,21,22,21,22,22,22,22,21,22,22,22,21,21,22,21,21,21,21,22,21,22,24,24,22,24,24,24,24,24,20,21,23,22,23,23,22,24,22,24,22,23,22,23,23,20,24,24,20,24,22,20,23,23,22,22,23,22,20,20,21,23,21,21,20,23,21,24,21,21,22,20,21,20,23,22,21,21,24,23,22,20,24,21,23,23,23,22,24,21,22,22,23,20,22,20,23,21,24,21,21,20,23,20,21,23,24,22,24,23,23,23,22,24,22,24,20,20,24,24,21,23,21,23,20,24,24,20,23,24,20,23,22,24,23,21,23,21,24,24,22,21,23,22,24,20,22,21,20,21,22,24,21,23,21,20,24,20,23,22,22,23,23,23,20,24,20,22,20,23,21,24,21,22,24,20,24,22,23,21,22,21,23,21,21,20,21,22,24,20,21,21,21,21,21,23,21,24,23,23,23,22,21,24,24,22,20,20,21,22,24,21,24,22,24,22,21,20,22,21,22,23,23,22,20,20,24,24,22,23,22,21,22,24,23,23,22,20,23,23,21,24,23,24,22,22,21,21,20,22,23,22,23,22,21,21,20,24,23,21,21,20,21,23,21,22,20,24,24,22,22,23,22,24,20,24,21,23,23,23,21,22,21,22,22,23,23,21,21,23,20,21,21,23,20,21,20,22,21,24,20,23,22,20,20,24,22,20,21,22,22,22,24,22,23,23,22,23,24,24,22,24,21,24,21,24,24,21,24,20,20,24,21,22,23,21,23,23,22,24,22,24,21,22,22,22,24,24,23,22,20,21,20,22,21,23,20,22,20,21,22,21,23,21,21,20,21,24,21,22,24,22,21,23,24,22,21,21,23,20,23,23,21,21,22,24,21,21,21,20,24,20,20,20,24,22,23,20,22,21,21,22,22,22,22,21,22,23,24,24,21,22,20,23,21,21,21,23,22,23,23,20,20,22,22,21,20,20,21,19,19,21,19,20,19,21,21,22,20,22,21,22,21,20,22,22,21,22,22,19,22,22,21,22,21,20,19,21,21,19,22,21,19,19,21,20,20,22,22,20,20,22,22,19,22,22,20,20,20,22,20,19,21,19,22,19,19,21,19,22,20,22,21,20,19,20,21,22,20,19,21,20,21,20,21,20,21,22,19,19,21,21,19,22,20,22,21,19,20,22,20,19,21,19,21,19,19,22,21,19,19,19,20,21,20,22,19,20,22,22,21,20,20,21,21,19,19,19,22,22,22,22,19,20,22,21,22,20,20,20,21,20,20,19,19,22,22,19,22,20,21,20,22,19,22,19,19,21,21,21,19,21,20,20,20,21,22,21,21,20,21,22,21,21,19,20,19,19,21,21,22,20,19,20,19,19,21,22,22,21,21,20,19,20,20,21,20,22,21,19,20,19,21,19,19,19,20,20,19,19,21,21,19,19,19,20,22,22,21,21,22,19,22,21,19,21,20,21,20,22,20,19,22,22,19,19,22,21,19,21,22,19,22,22,22,19,20,21,19,21,20,19,20,20,19,20,22,20,21,20,21,21,19,22,22,20,21,20,21,21,21,22,19,19,21,20,21,22,21,21,22,21,20,22,19,20,20,21,22,22,20,19,19,21,21,20,21,20,19,21,19,19,21,21,19,21,20,19,20,19,19,19,19,20,21,19,19,20,20,22,21,20,19,22,22,20,20,21,22,22,19,22,21,20,20,22,19,19,20,19,21,21,22,21,19,19,21,21,19,20,19,19,19,19,19,20,22,19,20,22,19,19,22,21,20,21,20,21,22,22,20,20,19,22,22,22,20,21,21,21,21,20,19,20,22,22,21,19,19,19,20,20,22,20,20,21,21,20,19,21,21,20,22,20,19,22,21,22,19,21,21,22,22,19,20,20,19,22,20,22,21,21,20,20,22,22,19,22,19,20,19,21,22,19,20,29,20,20,20,20,22,19,20,19,20,19,20,19,22,22,19,21,22,20,21,19,22,21,19,21,21,21,20,21,20,19,22,19,20,20,22,22,19,20,20,19,22,19,21,21,20,20,20,20,20,20,20,21,20,20,19,19,19,21,22,22,21,20,22,22,22,19,22,19,22,20,20,19,22,21,21,22,20,19,22,22,20,20,21,20,19,21,22,21,22,21,22,20,21,20,22,21,21,19,22,19,21,20,19,20,20,22,19,19,19,20,19,22,28,22,22,19,19,21,22,20,19,22,21,20,19,21,19,19,22,19,22,19,21,21,20,20,19,21,22,22,21,21,22,21,22,19,21,19,21,20,20,19,19,21,22,21,22,22,21,21,20,19,21,22,21,22,20,21,21,20,21,21,21,20,21,20,21,21,21,21,20,20,21,20,20,21,20,21,20,20,21,20,20,20,20,20,20,20,20,21,20,21,20,21,21,21,21,20,21,20,21,20,20,20,20,21,20,20,21,20,21,21,21,20,20,20,21,20,20,21,21,21,20,21,20,21,21,21,21,20,21,20,20,20,21,21,21,20,20,21,21,20,20,21,21,21,21,20,21,21,21,20,21,21,21,20,20,20,20,20,21,20,20,20,21,21,20,20,20,21,21,21,21,21,21,21,21,21,21,20,21,21,20,21,20,21,21,21,20,21,20,20,21,21,21,21,20,21,20,21,21,20,20,21,20,21,21,20,20,20,21,20,20,21,20,20,20,21,20,20,20,20,21,20,21,21,20,21,20,20,21,21,21,20,21,20,21,20,20,21,21,20,21,20,21,21,20,21,21,20,20,20,20,20,20,21,20,20,21,20,20,21,20,21,20,21,20,20,20,21,21,20,21,21,21,20,21,20,20,20,21,21,20,21,20,20,20,20,20,21,20,20,20,20,20,20,20,20,20,20,21,20,21,20,20,21,20,21,21,21,20,20,20,20,21,21,20,20,20,21,21,21,21,20,20,20,20,20,21,21,20,20,21,21,20,21,20,20,20,20,20,21,21,20,21,20,20,21,20,20,20,20,20,20,20,20,23,22,22,22,21,21,23,23,23,21,23,21,23,23,23,21,23,23,21,22,21,21,21,22,21,22,21,23,23,22,22,23,22,23,21,23,23,23,23,23,21,21,22,23,22,21,22,21,21,23,21,22,22,21,23,21,21,23,23,22,22,21,23,22,22,22,22,22,23,23,21,23,22,23,21,21,23,23,21,22,23,23,23,21,21,21,21,21,23,22,21,21,23,23,22,23,23,22,21,21,22,21,23,23,22,23,21,22,21,23,21,23,21,23,22,23,21,21,21,21,22,23,23,22,21,23,21,22,22,23,21,21,21,23,23,21,23,23,21,21,22,21,23,23,23,21,23,22,21,22,23,21,23,22,23,22,22,22,23,23,23,23,23,22,22,23],\"xaxis\":\"x\",\"yaxis\":\"y\"}],                        {\"barmode\":\"relative\",\"legend\":{\"tracegroupgap\":0},\"shapes\":[{\"line\":{\"color\":\"red\",\"dash\":\"dash\",\"width\":2},\"type\":\"line\",\"x0\":21.48583951449764,\"x1\":21.48583951449764,\"xref\":\"x\",\"y0\":0,\"y1\":1,\"yref\":\"y domain\"}],\"template\":{\"data\":{\"bar\":[{\"error_x\":{\"color\":\"#2a3f5f\"},\"error_y\":{\"color\":\"#2a3f5f\"},\"marker\":{\"line\":{\"color\":\"#E5ECF6\",\"width\":0.5},\"pattern\":{\"fillmode\":\"overlay\",\"size\":10,\"solidity\":0.2}},\"type\":\"bar\"}],\"barpolar\":[{\"marker\":{\"line\":{\"color\":\"#E5ECF6\",\"width\":0.5},\"pattern\":{\"fillmode\":\"overlay\",\"size\":10,\"solidity\":0.2}},\"type\":\"barpolar\"}],\"carpet\":[{\"aaxis\":{\"endlinecolor\":\"#2a3f5f\",\"gridcolor\":\"white\",\"linecolor\":\"white\",\"minorgridcolor\":\"white\",\"startlinecolor\":\"#2a3f5f\"},\"baxis\":{\"endlinecolor\":\"#2a3f5f\",\"gridcolor\":\"white\",\"linecolor\":\"white\",\"minorgridcolor\":\"white\",\"startlinecolor\":\"#2a3f5f\"},\"type\":\"carpet\"}],\"choropleth\":[{\"colorbar\":{\"outlinewidth\":0,\"ticks\":\"\"},\"type\":\"choropleth\"}],\"contour\":[{\"colorbar\":{\"outlinewidth\":0,\"ticks\":\"\"},\"colorscale\":[[0.0,\"#0d0887\"],[0.1111111111111111,\"#46039f\"],[0.2222222222222222,\"#7201a8\"],[0.3333333333333333,\"#9c179e\"],[0.4444444444444444,\"#bd3786\"],[0.5555555555555556,\"#d8576b\"],[0.6666666666666666,\"#ed7953\"],[0.7777777777777778,\"#fb9f3a\"],[0.8888888888888888,\"#fdca26\"],[1.0,\"#f0f921\"]],\"type\":\"contour\"}],\"contourcarpet\":[{\"colorbar\":{\"outlinewidth\":0,\"ticks\":\"\"},\"type\":\"contourcarpet\"}],\"heatmap\":[{\"colorbar\":{\"outlinewidth\":0,\"ticks\":\"\"},\"colorscale\":[[0.0,\"#0d0887\"],[0.1111111111111111,\"#46039f\"],[0.2222222222222222,\"#7201a8\"],[0.3333333333333333,\"#9c179e\"],[0.4444444444444444,\"#bd3786\"],[0.5555555555555556,\"#d8576b\"],[0.6666666666666666,\"#ed7953\"],[0.7777777777777778,\"#fb9f3a\"],[0.8888888888888888,\"#fdca26\"],[1.0,\"#f0f921\"]],\"type\":\"heatmap\"}],\"heatmapgl\":[{\"colorbar\":{\"outlinewidth\":0,\"ticks\":\"\"},\"colorscale\":[[0.0,\"#0d0887\"],[0.1111111111111111,\"#46039f\"],[0.2222222222222222,\"#7201a8\"],[0.3333333333333333,\"#9c179e\"],[0.4444444444444444,\"#bd3786\"],[0.5555555555555556,\"#d8576b\"],[0.6666666666666666,\"#ed7953\"],[0.7777777777777778,\"#fb9f3a\"],[0.8888888888888888,\"#fdca26\"],[1.0,\"#f0f921\"]],\"type\":\"heatmapgl\"}],\"histogram\":[{\"marker\":{\"pattern\":{\"fillmode\":\"overlay\",\"size\":10,\"solidity\":0.2}},\"type\":\"histogram\"}],\"histogram2d\":[{\"colorbar\":{\"outlinewidth\":0,\"ticks\":\"\"},\"colorscale\":[[0.0,\"#0d0887\"],[0.1111111111111111,\"#46039f\"],[0.2222222222222222,\"#7201a8\"],[0.3333333333333333,\"#9c179e\"],[0.4444444444444444,\"#bd3786\"],[0.5555555555555556,\"#d8576b\"],[0.6666666666666666,\"#ed7953\"],[0.7777777777777778,\"#fb9f3a\"],[0.8888888888888888,\"#fdca26\"],[1.0,\"#f0f921\"]],\"type\":\"histogram2d\"}],\"histogram2dcontour\":[{\"colorbar\":{\"outlinewidth\":0,\"ticks\":\"\"},\"colorscale\":[[0.0,\"#0d0887\"],[0.1111111111111111,\"#46039f\"],[0.2222222222222222,\"#7201a8\"],[0.3333333333333333,\"#9c179e\"],[0.4444444444444444,\"#bd3786\"],[0.5555555555555556,\"#d8576b\"],[0.6666666666666666,\"#ed7953\"],[0.7777777777777778,\"#fb9f3a\"],[0.8888888888888888,\"#fdca26\"],[1.0,\"#f0f921\"]],\"type\":\"histogram2dcontour\"}],\"mesh3d\":[{\"colorbar\":{\"outlinewidth\":0,\"ticks\":\"\"},\"type\":\"mesh3d\"}],\"parcoords\":[{\"line\":{\"colorbar\":{\"outlinewidth\":0,\"ticks\":\"\"}},\"type\":\"parcoords\"}],\"pie\":[{\"automargin\":true,\"type\":\"pie\"}],\"scatter\":[{\"marker\":{\"colorbar\":{\"outlinewidth\":0,\"ticks\":\"\"}},\"type\":\"scatter\"}],\"scatter3d\":[{\"line\":{\"colorbar\":{\"outlinewidth\":0,\"ticks\":\"\"}},\"marker\":{\"colorbar\":{\"outlinewidth\":0,\"ticks\":\"\"}},\"type\":\"scatter3d\"}],\"scattercarpet\":[{\"marker\":{\"colorbar\":{\"outlinewidth\":0,\"ticks\":\"\"}},\"type\":\"scattercarpet\"}],\"scattergeo\":[{\"marker\":{\"colorbar\":{\"outlinewidth\":0,\"ticks\":\"\"}},\"type\":\"scattergeo\"}],\"scattergl\":[{\"marker\":{\"colorbar\":{\"outlinewidth\":0,\"ticks\":\"\"}},\"type\":\"scattergl\"}],\"scattermapbox\":[{\"marker\":{\"colorbar\":{\"outlinewidth\":0,\"ticks\":\"\"}},\"type\":\"scattermapbox\"}],\"scatterpolar\":[{\"marker\":{\"colorbar\":{\"outlinewidth\":0,\"ticks\":\"\"}},\"type\":\"scatterpolar\"}],\"scatterpolargl\":[{\"marker\":{\"colorbar\":{\"outlinewidth\":0,\"ticks\":\"\"}},\"type\":\"scatterpolargl\"}],\"scatterternary\":[{\"marker\":{\"colorbar\":{\"outlinewidth\":0,\"ticks\":\"\"}},\"type\":\"scatterternary\"}],\"surface\":[{\"colorbar\":{\"outlinewidth\":0,\"ticks\":\"\"},\"colorscale\":[[0.0,\"#0d0887\"],[0.1111111111111111,\"#46039f\"],[0.2222222222222222,\"#7201a8\"],[0.3333333333333333,\"#9c179e\"],[0.4444444444444444,\"#bd3786\"],[0.5555555555555556,\"#d8576b\"],[0.6666666666666666,\"#ed7953\"],[0.7777777777777778,\"#fb9f3a\"],[0.8888888888888888,\"#fdca26\"],[1.0,\"#f0f921\"]],\"type\":\"surface\"}],\"table\":[{\"cells\":{\"fill\":{\"color\":\"#EBF0F8\"},\"line\":{\"color\":\"white\"}},\"header\":{\"fill\":{\"color\":\"#C8D4E3\"},\"line\":{\"color\":\"white\"}},\"type\":\"table\"}]},\"layout\":{\"annotationdefaults\":{\"arrowcolor\":\"#2a3f5f\",\"arrowhead\":0,\"arrowwidth\":1},\"autotypenumbers\":\"strict\",\"coloraxis\":{\"colorbar\":{\"outlinewidth\":0,\"ticks\":\"\"}},\"colorscale\":{\"diverging\":[[0,\"#8e0152\"],[0.1,\"#c51b7d\"],[0.2,\"#de77ae\"],[0.3,\"#f1b6da\"],[0.4,\"#fde0ef\"],[0.5,\"#f7f7f7\"],[0.6,\"#e6f5d0\"],[0.7,\"#b8e186\"],[0.8,\"#7fbc41\"],[0.9,\"#4d9221\"],[1,\"#276419\"]],\"sequential\":[[0.0,\"#0d0887\"],[0.1111111111111111,\"#46039f\"],[0.2222222222222222,\"#7201a8\"],[0.3333333333333333,\"#9c179e\"],[0.4444444444444444,\"#bd3786\"],[0.5555555555555556,\"#d8576b\"],[0.6666666666666666,\"#ed7953\"],[0.7777777777777778,\"#fb9f3a\"],[0.8888888888888888,\"#fdca26\"],[1.0,\"#f0f921\"]],\"sequentialminus\":[[0.0,\"#0d0887\"],[0.1111111111111111,\"#46039f\"],[0.2222222222222222,\"#7201a8\"],[0.3333333333333333,\"#9c179e\"],[0.4444444444444444,\"#bd3786\"],[0.5555555555555556,\"#d8576b\"],[0.6666666666666666,\"#ed7953\"],[0.7777777777777778,\"#fb9f3a\"],[0.8888888888888888,\"#fdca26\"],[1.0,\"#f0f921\"]]},\"colorway\":[\"#636efa\",\"#EF553B\",\"#00cc96\",\"#ab63fa\",\"#FFA15A\",\"#19d3f3\",\"#FF6692\",\"#B6E880\",\"#FF97FF\",\"#FECB52\"],\"font\":{\"color\":\"#2a3f5f\"},\"geo\":{\"bgcolor\":\"white\",\"lakecolor\":\"white\",\"landcolor\":\"#E5ECF6\",\"showlakes\":true,\"showland\":true,\"subunitcolor\":\"white\"},\"hoverlabel\":{\"align\":\"left\"},\"hovermode\":\"closest\",\"mapbox\":{\"style\":\"light\"},\"paper_bgcolor\":\"white\",\"plot_bgcolor\":\"#E5ECF6\",\"polar\":{\"angularaxis\":{\"gridcolor\":\"white\",\"linecolor\":\"white\",\"ticks\":\"\"},\"bgcolor\":\"#E5ECF6\",\"radialaxis\":{\"gridcolor\":\"white\",\"linecolor\":\"white\",\"ticks\":\"\"}},\"scene\":{\"xaxis\":{\"backgroundcolor\":\"#E5ECF6\",\"gridcolor\":\"white\",\"gridwidth\":2,\"linecolor\":\"white\",\"showbackground\":true,\"ticks\":\"\",\"zerolinecolor\":\"white\"},\"yaxis\":{\"backgroundcolor\":\"#E5ECF6\",\"gridcolor\":\"white\",\"gridwidth\":2,\"linecolor\":\"white\",\"showbackground\":true,\"ticks\":\"\",\"zerolinecolor\":\"white\"},\"zaxis\":{\"backgroundcolor\":\"#E5ECF6\",\"gridcolor\":\"white\",\"gridwidth\":2,\"linecolor\":\"white\",\"showbackground\":true,\"ticks\":\"\",\"zerolinecolor\":\"white\"}},\"shapedefaults\":{\"line\":{\"color\":\"#2a3f5f\"}},\"ternary\":{\"aaxis\":{\"gridcolor\":\"white\",\"linecolor\":\"white\",\"ticks\":\"\"},\"baxis\":{\"gridcolor\":\"white\",\"linecolor\":\"white\",\"ticks\":\"\"},\"bgcolor\":\"#E5ECF6\",\"caxis\":{\"gridcolor\":\"white\",\"linecolor\":\"white\",\"ticks\":\"\"}},\"title\":{\"x\":0.05},\"xaxis\":{\"automargin\":true,\"gridcolor\":\"white\",\"linecolor\":\"white\",\"ticks\":\"\",\"title\":{\"standoff\":15},\"zerolinecolor\":\"white\",\"zerolinewidth\":2},\"yaxis\":{\"automargin\":true,\"gridcolor\":\"white\",\"linecolor\":\"white\",\"ticks\":\"\",\"title\":{\"standoff\":15},\"zerolinecolor\":\"white\",\"zerolinewidth\":2}}},\"title\":{\"text\":\"<b>Average Age of Student</b>\"},\"xaxis\":{\"anchor\":\"y\",\"domain\":[0.0,1.0],\"title\":{\"text\":\"Age\"}},\"yaxis\":{\"anchor\":\"x\",\"domain\":[0.0,1.0],\"title\":{\"text\":\"count\"}}},                        {\"responsive\": true}                    ).then(function(){\n",
       "                            \n",
       "var gd = document.getElementById('abb05852-e3b1-4c91-9abe-dee3c471073f');\n",
       "var x = new MutationObserver(function (mutations, observer) {{\n",
       "        var display = window.getComputedStyle(gd).display;\n",
       "        if (!display || display === 'none') {{\n",
       "            console.log([gd, 'removed!']);\n",
       "            Plotly.purge(gd);\n",
       "            observer.disconnect();\n",
       "        }}\n",
       "}});\n",
       "\n",
       "// Listen for the removal of the full notebook cells\n",
       "var notebookContainer = gd.closest('#notebook-container');\n",
       "if (notebookContainer) {{\n",
       "    x.observe(notebookContainer, {childList: true});\n",
       "}}\n",
       "\n",
       "// Listen for the clearing of the current output cell\n",
       "var outputEl = gd.closest('.output');\n",
       "if (outputEl) {{\n",
       "    x.observe(outputEl, {childList: true});\n",
       "}}\n",
       "\n",
       "                        })                };                });            </script>        </div>"
      ]
     },
     "metadata": {},
     "output_type": "display_data"
    }
   ],
   "source": [
    "fig = px.histogram(data, 'Age',\n",
    "                   title=\"<b>Average Age of Student</b>\")\n",
    "\n",
    "fig.add_vline(x=data['Age'].mean(), line_width=2, line_dash=\"dash\", line_color=\"red\")\n",
    "\n",
    "fig.show()"
   ]
  },
  {
   "cell_type": "code",
   "execution_count": 8,
   "id": "56ef7842",
   "metadata": {
    "execution": {
     "iopub.execute_input": "2021-11-14T17:06:57.846824Z",
     "iopub.status.busy": "2021-11-14T17:06:57.845907Z",
     "iopub.status.idle": "2021-11-14T17:06:58.004923Z",
     "shell.execute_reply": "2021-11-14T17:06:58.004327Z",
     "shell.execute_reply.started": "2021-11-14T16:43:09.555335Z"
    },
    "papermill": {
     "duration": 0.229649,
     "end_time": "2021-11-14T17:06:58.005060",
     "exception": false,
     "start_time": "2021-11-14T17:06:57.775411",
     "status": "completed"
    },
    "tags": []
   },
   "outputs": [
    {
     "data": {
      "text/html": [
       "<div>                            <div id=\"fca703b5-449e-457c-8582-47c4f9e669d4\" class=\"plotly-graph-div\" style=\"height:525px; width:100%;\"></div>            <script type=\"text/javascript\">                require([\"plotly\"], function(Plotly) {                    window.PLOTLYENV=window.PLOTLYENV || {};                                    if (document.getElementById(\"fca703b5-449e-457c-8582-47c4f9e669d4\")) {                    Plotly.newPlot(                        \"fca703b5-449e-457c-8582-47c4f9e669d4\",                        [{\"alignmentgroup\":\"True\",\"bingroup\":\"x\",\"hovertemplate\":\"Gender=Male<br>Age=%{x}<br>count=%{y}<extra></extra>\",\"legendgroup\":\"Male\",\"marker\":{\"color\":\"#636efa\",\"opacity\":0.7,\"pattern\":{\"shape\":\"\"}},\"name\":\"Male\",\"offsetgroup\":\"Male\",\"orientation\":\"v\",\"showlegend\":true,\"type\":\"histogram\",\"x\":[22,21,22,22,21,21,21,22,21,22,21,21,22,22,21,22,22,22,21,22,22,22,21,22,21,21,21,21,22,22,22,22,22,22,21,21,22,21,21,22,21,21,21,21,21,21,21,22,21,21,21,22,22,21,22,21,22,22,22,21,22,21,21,22,22,21,21,21,22,21,21,21,21,21,22,21,22,21,22,22,21,22,21,23,23,23,24,23,23,24,24,23,23,24,24,23,24,23,23,23,24,23,23,23,23,23,24,24,24,24,24,23,23,24,23,24,24,24,23,24,23,23,24,24,24,23,24,23,23,24,23,23,24,24,23,24,23,24,22,22,22,21,21,21,21,22,22,21,21,22,22,21,21,22,22,21,22,21,22,21,22,22,21,21,21,21,21,21,21,22,21,21,22,22,21,21,21,22,22,21,21,21,22,21,22,22,21,22,22,21,21,22,22,22,22,21,22,22,21,22,21,21,21,22,22,21,22,22,22,22,21,22,22,21,21,22,21,21,22,21,22,21,22,21,22,21,22,21,21,21,21,21,22,21,21,22,21,22,22,22,22,21,21,22,22,22,21,22,22,21,21,22,22,22,22,21,21,22,22,22,22,22,21,21,21,21,22,21,22,21,21,22,22,21,22,21,22,22,21,21,22,21,22,21,22,22,21,21,21,21,21,21,22,22,21,22,21,22,22,21,22,21,21,22,22,21,21,22,22,22,22,22,21,21,22,21,22,21,21,21,21,22,22,22,21,22,21,21,21,21,21,22,22,21,22,21,21,21,22,21,22,21,21,22,22,22,21,22,22,21,22,22,21,22,21,22,21,21,21,21,21,21,21,22,22,21,21,22,21,21,21,22,21,28,21,22,21,22,21,21,22,21,21,22,22,22,21,22,22,21,22,21,21,21,22,22,21,21,22,22,21,22,21,22,21,21,22,22,22,22,22,21,22,22,21,22,21,22,22,22,21,22,21,22,21,21,21,21,21,22,22,21,21,21,21,22,22,21,21,22,22,22,21,22,21,22,22,22,21,21,21,22,21,22,22,22,22,22,21,21,30,22,21,22,22,22,21,22,21,21,22,22,22,21,21,21,22,22,22,21,22,21,22,21,21,22,22,21,21,21,22,21,21,22,21,21,21,21,22,22,21,22,21,22,21,21,21,21,21,22,21,21,22,21,21,22,21,21,21,21,22,22,21,22,22,22,21,22,22,21,21,21,22,22,22,22,21,22,21,21,22,22,21,21,22,21,22,22,21,22,21,22,22,22,21,22,22,21,22,22,21,22,22,21,21,21,21,22,21,22,22,21,21,21,22,21,22,21,22,21,22,21,21,21,21,25,26,25,25,23,24,25,25,26,25,26,24,25,23,23,24,25,24,24,23,26,26,26,26,26,24,24,23,23,24,26,25,23,23,23,26,24,26,23,23,26,26,24,23,23,24,24,25,25,26,24,25,22,21,22,22,22,22,21,22,22,22,21,21,22,22,21,22,22,21,22,21,22,22,22,22,22,22,22,22,21,21,22,22,21,22,22,22,21,22,21,21,22,21,22,21,22,21,21,22,21,21,21,21,21,21,22,21,21,22,21,22,21,22,22,22,22,21,22,21,22,22,22,21,22,22,21,21,22,21,22,22,21,21,21,22,22,21,22,22,22,22,22,21,22,21,21,21,22,22,22,21,21,22,22,21,22,22,21,22,22,22,22,21,22,22,22,21,21,22,21,21,22,21,21,21,21,21,22,22,21,22,21,21,21,21,21,21,22,22,22,21,22,22,22,22,22,22,22,22,22,22,22,22,22,22,21,21,22,22,22,21,21,21,21,21,22,21,22,22,21,21,22,22,22,21,21,22,21,21,22,21,21,22,22,22,22,21,22,22,22,21,22,22,22,22,22,21,21,21,21,21,22,22,22,22,21,21,22,21,21,22,22,21,22,22,21,21,22,22,22,22,22,21,21,21,22,21,22,21,22,22,21,21,22,21,21,22,22,22,21,22,21,22,22,21,22,22,22,21,22,22,22,21,21,21,22,22,22,21,22,21,21,21,22,21,22,22,22,21,21,22,22,22,22,21,22,22,22,22,22,22,21,21,22,21,21,22,22,21,21,22,21,21,22,21,21,22,21,21,21,21,22,22,22,21,22,22,21,22,22,22,21,22,22,21,22,22,21,22,22,21,21,22,21,22,21,21,22,21,22,21,21,21,22,22,22,21,21,22,21,21,22,21,22,22,21,21,21,21,21,21,21,22,22,21,22,21,22,21,21,22,22,21,21,21,21,21,21,21,21,21,21,22,22,22,22,21,22,22,22,21,22,22,21,22,22,21,21,21,22,22,22,22,21,21,21,21,22,22,21,21,21,22,21,21,22,21,21,22,21,22,22,21,21,21,21,22,22,21,22,21,22,22,22,21,21,22,22,22,21,21,22,21,21,21,21,22,22,22,21,21,21,22,21,25,26,24,25,26,26,26,26,26,26,26,26,25,26,24,26,26,24,24,25,25,25,26,26,26,26,25,25,26,26,26,24,24,25,26,26,25,26,25,25,24,26,24,26,26,24,25,26,22,22,21,22,22,21,22,21,22,22,21,22,21,21,21,22,21,21,21,21,21,21,21,22,22,22,21,22,22,22,21,22,22,22,22,22,21,22,22,21,21,21,21,22,22,21,22,22,22,21,22,21,22,21,21,21,22,22,21,22,21,21,21,22,21,21,22,22,21,21,22,21,22,21,21,22,22,21,22,22,22,21,22,21,21,22,21,21,21,21,22,22,21,22,21,22,21,22,22,22,21,22,22,21,21,22,21,21,21,21,22,24,24,22,24,24,24,24,21,23,23,23,24,22,24,22,23,22,23,23,20,24,24,20,24,20,23,23,22,22,23,22,20,21,23,21,20,21,24,21,21,22,20,21,20,23,22,21,21,24,23,22,20,24,21,23,23,23,22,24,22,22,23,20,22,20,23,21,24,21,21,23,20,21,22,24,23,23,22,24,22,24,20,20,24,24,21,23,20,20,23,24,20,23,24,23,21,23,24,22,23,22,24,20,22,21,20,21,22,24,21,23,21,20,24,22,22,23,23,23,20,24,22,20,23,21,24,21,22,24,20,24,22,23,22,21,21,21,20,21,22,24,20,21,21,21,21,23,23,22,21,24,24,22,20,20,21,22,21,22,24,22,21,20,22,21,22,23,20,24,22,22,22,24,23,22,20,23,23,24,23,24,22,22,21,21,20,22,22,23,22,21,21,20,24,23,21,21,20,21,23,21,22,20,24,24,22,22,23,22,24,20,24,21,23,23,21,22,21,22,22,23,23,21,21,20,21,23,20,21,20,24,20,23,20,20,24,22,21,22,22,24,22,23,23,23,24,24,22,24,24,21,24,24,21,24,20,24,21,22,23,23,23,22,24,22,24,21,22,22,24,22,21,20,22,21,23,20,20,21,22,21,23,21,21,20,21,24,21,22,22,21,23,24,22,21,23,20,23,23,21,22,24,21,21,20,24,20,20,24,22,20,22,21,21,22,22,22,22,21,24,24,20,23,21,21,23,22,23,23,20,20,22,22,21,20,20,21,19,21,19,19,22,20,22,21,22,21,20,21,22,19,22,22,21,22,21,19,21,21,19,21,19,21,20,20,22,22,20,22,22,22,20,20,20,20,19,21,19,22,19,19,21,19,22,20,22,21,20,19,20,21,22,19,21,20,21,20,21,20,21,22,19,19,21,21,19,22,20,22,21,19,20,22,20,19,21,19,21,19,19,22,19,19,19,20,21,20,22,19,20,22,21,20,20,21,21,19,19,19,22,22,22,22,19,20,21,22,20,20,20,21,20,20,19,19,22,19,22,20,21,20,22,19,22,19,19,21,21,21,19,21,20,20,20,21,22,21,21,20,21,22,21,19,19,19,21,22,20,19,20,19,19,21,22,22,21,20,19,20,21,20,22,21,19,20,19,21,19,19,19,20,19,19,21,21,19,19,19,20,22,22,21,22,19,22,21,19,21,20,20,22,20,19,22,22,19,19,22,21,19,21,22,19,22,22,19,20,21,19,21,20,19,20,20,20,22,20,21,20,21,21,19,22,22,21,20,21,21,22,19,19,21,21,22,21,21,22,21,20,22,19,20,20,21,22,20,19,21,20,21,20,19,21,19,19,21,19,21,20,19,19,19,19,20,19,19,20,20,21,20,19,22,22,20,20,21,22,22,19,22,21,20,20,22,19,19,20,21,22,21,19,21,21,19,20,19,19,19,19,19,19,20,22,19,22,21,20,21,21,22,20,20,19,22,22,20,21,21,21,21,19,22,21,19,20,20,20,21,19,21,21,20,22,20,19,22,21,22,19,21,21,22,19,20,20,19,22,20,22,21,20,19,19,20,21,22,19,20,20,20,20,20,22,19,20,19,20,20,19,22,19,21,20,21,19,21,19,21,21,21,20,20,22,19,20,22,19,20,19,22,19,21,21,20,20,20,20,20,20,20,21,20,19,19,22,22,21,20,22,22,19,22,19,22,20,20,19,22,21,21,22,20,22,20,20,21,20,19,21,22,21,22,21,22,20,21,20,22,21,21,19,22,19,21,20,19,20,20,22,19,19,19,20,19,22,28,22,22,19,19,21,22,20,19,22,21,20,19,21,19,19,22,22,19,21,20,20,19,21,22,22,21,21,21,22,19,21,21,20,20,19,19,21,22,21,22,22,21,21,20,19,22,21,22,20,21,20,21,21,21,20,21,21,21,21,20,21,20,20,21,20,20,20,21,20,20,20,20,20,20,20,20,21,20,21,21,20,21,20,21,20,20,20,20,21,20,20,21,20,21,21,21,20,20,20,21,20,21,21,20,21,20,21,21,21,20,20,20,21,21,20,20,21,21,20,20,21,21,21,21,21,20,21,21,21,20,20,20,20,20,20,20,21,21,20,20,20,21,21,21,21,21,21,21,21,21,21,21,20,21,20,21,21,21,20,21,21,20,21,21,20,20,21,20,21,21,20,20,20,20,20,21,20,20,21,20,20,20,20,21,20,21,21,20,20,21,21,20,21,20,21,20,20,21,21,20,20,21,21,20,21,20,20,20,20,20,20,20,20,21,20,20,21,20,21,20,21,20,20,21,21,21,20,21,20,20,20,21,21,20,21,20,20,20,20,21,20,20,20,20,20,20,20,20,21,20,21,20,20,21,20,21,20,20,21,21,20,20,20,21,21,21,20,20,20,20,21,21,20,21,21,20,20,20,20,21,20,21,20,20,20,20,20,20,20,20,23,22,22,21,21,23,23,23,21,23,21,23,23,23,21,23,23,21,22,21,21,21,22,21,21,23,23,22,22,23,22,21,23,23,23,23,23,21,21,22,23,22,21,22,21,21,23,21,22,22,21,21,23,23,22,22,23,22,22,22,22,22,23,23,21,23,22,21,21,23,21,22,23,23,23,21,21,21,21,23,22,21,21,23,23,22,23,23,22,21,21,22,21,23,22,23,21,22,21,23,21,23,21,23,22,23,21,21,21,22,23,23,22,21,23,21,21,21,21,23,23,21,23,23,21,21,22,21,23,23,23,21,23,22,21,22,21,23,22,22,22,22,23,23,23,23,23,22,22,23],\"xaxis\":\"x\",\"yaxis\":\"y\"},{\"alignmentgroup\":\"True\",\"hovertemplate\":\"Gender=Male<br>Age=%{x}<extra></extra>\",\"legendgroup\":\"Male\",\"marker\":{\"color\":\"#636efa\",\"opacity\":0.7},\"name\":\"Male\",\"offsetgroup\":\"Male\",\"scalegroup\":\"x\",\"showlegend\":false,\"type\":\"violin\",\"x\":[22,21,22,22,21,21,21,22,21,22,21,21,22,22,21,22,22,22,21,22,22,22,21,22,21,21,21,21,22,22,22,22,22,22,21,21,22,21,21,22,21,21,21,21,21,21,21,22,21,21,21,22,22,21,22,21,22,22,22,21,22,21,21,22,22,21,21,21,22,21,21,21,21,21,22,21,22,21,22,22,21,22,21,23,23,23,24,23,23,24,24,23,23,24,24,23,24,23,23,23,24,23,23,23,23,23,24,24,24,24,24,23,23,24,23,24,24,24,23,24,23,23,24,24,24,23,24,23,23,24,23,23,24,24,23,24,23,24,22,22,22,21,21,21,21,22,22,21,21,22,22,21,21,22,22,21,22,21,22,21,22,22,21,21,21,21,21,21,21,22,21,21,22,22,21,21,21,22,22,21,21,21,22,21,22,22,21,22,22,21,21,22,22,22,22,21,22,22,21,22,21,21,21,22,22,21,22,22,22,22,21,22,22,21,21,22,21,21,22,21,22,21,22,21,22,21,22,21,21,21,21,21,22,21,21,22,21,22,22,22,22,21,21,22,22,22,21,22,22,21,21,22,22,22,22,21,21,22,22,22,22,22,21,21,21,21,22,21,22,21,21,22,22,21,22,21,22,22,21,21,22,21,22,21,22,22,21,21,21,21,21,21,22,22,21,22,21,22,22,21,22,21,21,22,22,21,21,22,22,22,22,22,21,21,22,21,22,21,21,21,21,22,22,22,21,22,21,21,21,21,21,22,22,21,22,21,21,21,22,21,22,21,21,22,22,22,21,22,22,21,22,22,21,22,21,22,21,21,21,21,21,21,21,22,22,21,21,22,21,21,21,22,21,28,21,22,21,22,21,21,22,21,21,22,22,22,21,22,22,21,22,21,21,21,22,22,21,21,22,22,21,22,21,22,21,21,22,22,22,22,22,21,22,22,21,22,21,22,22,22,21,22,21,22,21,21,21,21,21,22,22,21,21,21,21,22,22,21,21,22,22,22,21,22,21,22,22,22,21,21,21,22,21,22,22,22,22,22,21,21,30,22,21,22,22,22,21,22,21,21,22,22,22,21,21,21,22,22,22,21,22,21,22,21,21,22,22,21,21,21,22,21,21,22,21,21,21,21,22,22,21,22,21,22,21,21,21,21,21,22,21,21,22,21,21,22,21,21,21,21,22,22,21,22,22,22,21,22,22,21,21,21,22,22,22,22,21,22,21,21,22,22,21,21,22,21,22,22,21,22,21,22,22,22,21,22,22,21,22,22,21,22,22,21,21,21,21,22,21,22,22,21,21,21,22,21,22,21,22,21,22,21,21,21,21,25,26,25,25,23,24,25,25,26,25,26,24,25,23,23,24,25,24,24,23,26,26,26,26,26,24,24,23,23,24,26,25,23,23,23,26,24,26,23,23,26,26,24,23,23,24,24,25,25,26,24,25,22,21,22,22,22,22,21,22,22,22,21,21,22,22,21,22,22,21,22,21,22,22,22,22,22,22,22,22,21,21,22,22,21,22,22,22,21,22,21,21,22,21,22,21,22,21,21,22,21,21,21,21,21,21,22,21,21,22,21,22,21,22,22,22,22,21,22,21,22,22,22,21,22,22,21,21,22,21,22,22,21,21,21,22,22,21,22,22,22,22,22,21,22,21,21,21,22,22,22,21,21,22,22,21,22,22,21,22,22,22,22,21,22,22,22,21,21,22,21,21,22,21,21,21,21,21,22,22,21,22,21,21,21,21,21,21,22,22,22,21,22,22,22,22,22,22,22,22,22,22,22,22,22,22,21,21,22,22,22,21,21,21,21,21,22,21,22,22,21,21,22,22,22,21,21,22,21,21,22,21,21,22,22,22,22,21,22,22,22,21,22,22,22,22,22,21,21,21,21,21,22,22,22,22,21,21,22,21,21,22,22,21,22,22,21,21,22,22,22,22,22,21,21,21,22,21,22,21,22,22,21,21,22,21,21,22,22,22,21,22,21,22,22,21,22,22,22,21,22,22,22,21,21,21,22,22,22,21,22,21,21,21,22,21,22,22,22,21,21,22,22,22,22,21,22,22,22,22,22,22,21,21,22,21,21,22,22,21,21,22,21,21,22,21,21,22,21,21,21,21,22,22,22,21,22,22,21,22,22,22,21,22,22,21,22,22,21,22,22,21,21,22,21,22,21,21,22,21,22,21,21,21,22,22,22,21,21,22,21,21,22,21,22,22,21,21,21,21,21,21,21,22,22,21,22,21,22,21,21,22,22,21,21,21,21,21,21,21,21,21,21,22,22,22,22,21,22,22,22,21,22,22,21,22,22,21,21,21,22,22,22,22,21,21,21,21,22,22,21,21,21,22,21,21,22,21,21,22,21,22,22,21,21,21,21,22,22,21,22,21,22,22,22,21,21,22,22,22,21,21,22,21,21,21,21,22,22,22,21,21,21,22,21,25,26,24,25,26,26,26,26,26,26,26,26,25,26,24,26,26,24,24,25,25,25,26,26,26,26,25,25,26,26,26,24,24,25,26,26,25,26,25,25,24,26,24,26,26,24,25,26,22,22,21,22,22,21,22,21,22,22,21,22,21,21,21,22,21,21,21,21,21,21,21,22,22,22,21,22,22,22,21,22,22,22,22,22,21,22,22,21,21,21,21,22,22,21,22,22,22,21,22,21,22,21,21,21,22,22,21,22,21,21,21,22,21,21,22,22,21,21,22,21,22,21,21,22,22,21,22,22,22,21,22,21,21,22,21,21,21,21,22,22,21,22,21,22,21,22,22,22,21,22,22,21,21,22,21,21,21,21,22,24,24,22,24,24,24,24,21,23,23,23,24,22,24,22,23,22,23,23,20,24,24,20,24,20,23,23,22,22,23,22,20,21,23,21,20,21,24,21,21,22,20,21,20,23,22,21,21,24,23,22,20,24,21,23,23,23,22,24,22,22,23,20,22,20,23,21,24,21,21,23,20,21,22,24,23,23,22,24,22,24,20,20,24,24,21,23,20,20,23,24,20,23,24,23,21,23,24,22,23,22,24,20,22,21,20,21,22,24,21,23,21,20,24,22,22,23,23,23,20,24,22,20,23,21,24,21,22,24,20,24,22,23,22,21,21,21,20,21,22,24,20,21,21,21,21,23,23,22,21,24,24,22,20,20,21,22,21,22,24,22,21,20,22,21,22,23,20,24,22,22,22,24,23,22,20,23,23,24,23,24,22,22,21,21,20,22,22,23,22,21,21,20,24,23,21,21,20,21,23,21,22,20,24,24,22,22,23,22,24,20,24,21,23,23,21,22,21,22,22,23,23,21,21,20,21,23,20,21,20,24,20,23,20,20,24,22,21,22,22,24,22,23,23,23,24,24,22,24,24,21,24,24,21,24,20,24,21,22,23,23,23,22,24,22,24,21,22,22,24,22,21,20,22,21,23,20,20,21,22,21,23,21,21,20,21,24,21,22,22,21,23,24,22,21,23,20,23,23,21,22,24,21,21,20,24,20,20,24,22,20,22,21,21,22,22,22,22,21,24,24,20,23,21,21,23,22,23,23,20,20,22,22,21,20,20,21,19,21,19,19,22,20,22,21,22,21,20,21,22,19,22,22,21,22,21,19,21,21,19,21,19,21,20,20,22,22,20,22,22,22,20,20,20,20,19,21,19,22,19,19,21,19,22,20,22,21,20,19,20,21,22,19,21,20,21,20,21,20,21,22,19,19,21,21,19,22,20,22,21,19,20,22,20,19,21,19,21,19,19,22,19,19,19,20,21,20,22,19,20,22,21,20,20,21,21,19,19,19,22,22,22,22,19,20,21,22,20,20,20,21,20,20,19,19,22,19,22,20,21,20,22,19,22,19,19,21,21,21,19,21,20,20,20,21,22,21,21,20,21,22,21,19,19,19,21,22,20,19,20,19,19,21,22,22,21,20,19,20,21,20,22,21,19,20,19,21,19,19,19,20,19,19,21,21,19,19,19,20,22,22,21,22,19,22,21,19,21,20,20,22,20,19,22,22,19,19,22,21,19,21,22,19,22,22,19,20,21,19,21,20,19,20,20,20,22,20,21,20,21,21,19,22,22,21,20,21,21,22,19,19,21,21,22,21,21,22,21,20,22,19,20,20,21,22,20,19,21,20,21,20,19,21,19,19,21,19,21,20,19,19,19,19,20,19,19,20,20,21,20,19,22,22,20,20,21,22,22,19,22,21,20,20,22,19,19,20,21,22,21,19,21,21,19,20,19,19,19,19,19,19,20,22,19,22,21,20,21,21,22,20,20,19,22,22,20,21,21,21,21,19,22,21,19,20,20,20,21,19,21,21,20,22,20,19,22,21,22,19,21,21,22,19,20,20,19,22,20,22,21,20,19,19,20,21,22,19,20,20,20,20,20,22,19,20,19,20,20,19,22,19,21,20,21,19,21,19,21,21,21,20,20,22,19,20,22,19,20,19,22,19,21,21,20,20,20,20,20,20,20,21,20,19,19,22,22,21,20,22,22,19,22,19,22,20,20,19,22,21,21,22,20,22,20,20,21,20,19,21,22,21,22,21,22,20,21,20,22,21,21,19,22,19,21,20,19,20,20,22,19,19,19,20,19,22,28,22,22,19,19,21,22,20,19,22,21,20,19,21,19,19,22,22,19,21,20,20,19,21,22,22,21,21,21,22,19,21,21,20,20,19,19,21,22,21,22,22,21,21,20,19,22,21,22,20,21,20,21,21,21,20,21,21,21,21,20,21,20,20,21,20,20,20,21,20,20,20,20,20,20,20,20,21,20,21,21,20,21,20,21,20,20,20,20,21,20,20,21,20,21,21,21,20,20,20,21,20,21,21,20,21,20,21,21,21,20,20,20,21,21,20,20,21,21,20,20,21,21,21,21,21,20,21,21,21,20,20,20,20,20,20,20,21,21,20,20,20,21,21,21,21,21,21,21,21,21,21,21,20,21,20,21,21,21,20,21,21,20,21,21,20,20,21,20,21,21,20,20,20,20,20,21,20,20,21,20,20,20,20,21,20,21,21,20,20,21,21,20,21,20,21,20,20,21,21,20,20,21,21,20,21,20,20,20,20,20,20,20,20,21,20,20,21,20,21,20,21,20,20,21,21,21,20,21,20,20,20,21,21,20,21,20,20,20,20,21,20,20,20,20,20,20,20,20,21,20,21,20,20,21,20,21,20,20,21,21,20,20,20,21,21,21,20,20,20,20,21,21,20,21,21,20,20,20,20,21,20,21,20,20,20,20,20,20,20,20,23,22,22,21,21,23,23,23,21,23,21,23,23,23,21,23,23,21,22,21,21,21,22,21,21,23,23,22,22,23,22,21,23,23,23,23,23,21,21,22,23,22,21,22,21,21,23,21,22,22,21,21,23,23,22,22,23,22,22,22,22,22,23,23,21,23,22,21,21,23,21,22,23,23,23,21,21,21,21,23,22,21,21,23,23,22,23,23,22,21,21,22,21,23,22,23,21,22,21,23,21,23,21,23,22,23,21,21,21,22,23,23,22,21,23,21,21,21,21,23,23,21,23,23,21,21,22,21,23,23,23,21,23,22,21,22,21,23,22,22,22,22,23,23,23,23,23,22,22,23],\"xaxis\":\"x2\",\"yaxis\":\"y2\"},{\"alignmentgroup\":\"True\",\"bingroup\":\"x\",\"hovertemplate\":\"Gender=Female<br>Age=%{x}<br>count=%{y}<extra></extra>\",\"legendgroup\":\"Female\",\"marker\":{\"color\":\"#EF553B\",\"opacity\":0.7,\"pattern\":{\"shape\":\"\"}},\"name\":\"Female\",\"offsetgroup\":\"Female\",\"orientation\":\"v\",\"showlegend\":true,\"type\":\"histogram\",\"x\":[21,22,21,22,21,21,22,21,22,21,21,21,21,21,22,22,22,24,23,23,24,23,21,21,22,21,22,21,22,21,22,22,21,21,21,21,21,21,21,21,21,21,22,22,22,21,22,22,21,21,21,22,22,22,22,22,21,22,22,22,22,22,21,21,21,22,22,22,21,21,21,21,21,22,21,22,22,22,21,21,22,22,21,22,21,21,22,22,21,22,22,21,22,22,22,22,22,22,22,22,21,21,22,21,21,22,22,22,22,22,22,22,21,21,22,24,24,26,23,26,24,26,26,22,21,21,22,21,21,21,21,22,22,22,22,21,22,21,22,21,21,21,22,22,21,22,22,22,21,21,21,22,22,21,21,22,22,22,22,21,22,22,22,21,21,22,21,22,21,22,22,21,22,21,22,21,22,22,21,21,21,21,22,22,21,21,22,21,22,22,21,21,22,21,21,21,21,22,22,22,22,21,21,22,22,22,21,22,21,22,22,22,21,22,21,22,22,21,21,21,26,24,26,24,25,25,26,26,26,26,25,25,21,21,21,21,22,21,22,21,22,22,21,22,22,21,22,22,21,21,22,28,21,22,22,22,22,22,22,22,21,24,20,22,22,22,20,21,23,21,20,23,24,23,21,23,24,24,22,21,24,21,20,23,20,21,23,21,21,23,24,23,24,24,23,22,20,24,23,21,23,21,23,23,23,21,22,21,22,20,22,22,21,20,21,22,24,23,20,22,24,21,21,21,20,23,22,23,21,22,21,19,20,21,21,22,22,22,20,22,19,20,22,19,22,20,21,22,22,22,21,20,21,21,20,20,21,21,22,19,20,21,20,22,19,21,21,20,19,21,22,19,21,19,20,22,19,20,22,22,20,20,22,19,19,20,22,21,20,22,21,20,22,22,22,19,29,19,22,22,22,21,19,20,22,20,20,19,21,22,19,22,19,21,22,19,21,21,20,21,20,21,20,21,21,21,20,21,21,21,20,21,21,21,20,20,21,21,20,21,20,20,21,21,21,20,21,20,21,20,21,21,21,21,20,20,21,21,20,20,20,21,21,20,20,21,20,20,21,20,20,21,21,20,20,22,22,23,23,21,21,23,23,21,23,21,22,22,23,23,23],\"xaxis\":\"x\",\"yaxis\":\"y\"},{\"alignmentgroup\":\"True\",\"hovertemplate\":\"Gender=Female<br>Age=%{x}<extra></extra>\",\"legendgroup\":\"Female\",\"marker\":{\"color\":\"#EF553B\",\"opacity\":0.7},\"name\":\"Female\",\"offsetgroup\":\"Female\",\"scalegroup\":\"x\",\"showlegend\":false,\"type\":\"violin\",\"x\":[21,22,21,22,21,21,22,21,22,21,21,21,21,21,22,22,22,24,23,23,24,23,21,21,22,21,22,21,22,21,22,22,21,21,21,21,21,21,21,21,21,21,22,22,22,21,22,22,21,21,21,22,22,22,22,22,21,22,22,22,22,22,21,21,21,22,22,22,21,21,21,21,21,22,21,22,22,22,21,21,22,22,21,22,21,21,22,22,21,22,22,21,22,22,22,22,22,22,22,22,21,21,22,21,21,22,22,22,22,22,22,22,21,21,22,24,24,26,23,26,24,26,26,22,21,21,22,21,21,21,21,22,22,22,22,21,22,21,22,21,21,21,22,22,21,22,22,22,21,21,21,22,22,21,21,22,22,22,22,21,22,22,22,21,21,22,21,22,21,22,22,21,22,21,22,21,22,22,21,21,21,21,22,22,21,21,22,21,22,22,21,21,22,21,21,21,21,22,22,22,22,21,21,22,22,22,21,22,21,22,22,22,21,22,21,22,22,21,21,21,26,24,26,24,25,25,26,26,26,26,25,25,21,21,21,21,22,21,22,21,22,22,21,22,22,21,22,22,21,21,22,28,21,22,22,22,22,22,22,22,21,24,20,22,22,22,20,21,23,21,20,23,24,23,21,23,24,24,22,21,24,21,20,23,20,21,23,21,21,23,24,23,24,24,23,22,20,24,23,21,23,21,23,23,23,21,22,21,22,20,22,22,21,20,21,22,24,23,20,22,24,21,21,21,20,23,22,23,21,22,21,19,20,21,21,22,22,22,20,22,19,20,22,19,22,20,21,22,22,22,21,20,21,21,20,20,21,21,22,19,20,21,20,22,19,21,21,20,19,21,22,19,21,19,20,22,19,20,22,22,20,20,22,19,19,20,22,21,20,22,21,20,22,22,22,19,29,19,22,22,22,21,19,20,22,20,20,19,21,22,19,22,19,21,22,19,21,21,20,21,20,21,20,21,21,21,20,21,21,21,20,21,21,21,20,20,21,21,20,21,20,20,21,21,21,20,21,20,21,20,21,21,21,21,20,20,21,21,20,20,20,21,21,20,20,21,20,20,21,20,20,21,21,20,20,22,22,23,23,21,21,23,23,21,23,21,22,22,23,23,23],\"xaxis\":\"x2\",\"yaxis\":\"y2\"}],                        {\"barmode\":\"relative\",\"legend\":{\"title\":{\"text\":\"Gender\"},\"tracegroupgap\":0},\"shapes\":[{\"line\":{\"color\":\"black\",\"dash\":\"dash\",\"width\":2},\"type\":\"line\",\"x0\":21.48583951449764,\"x1\":21.48583951449764,\"xref\":\"x\",\"y0\":0,\"y1\":1,\"yref\":\"y domain\"},{\"line\":{\"color\":\"black\",\"dash\":\"dash\",\"width\":2},\"type\":\"line\",\"x0\":21.48583951449764,\"x1\":21.48583951449764,\"xref\":\"x2\",\"y0\":0,\"y1\":1,\"yref\":\"y2 domain\"}],\"template\":{\"data\":{\"bar\":[{\"error_x\":{\"color\":\"#2a3f5f\"},\"error_y\":{\"color\":\"#2a3f5f\"},\"marker\":{\"line\":{\"color\":\"#E5ECF6\",\"width\":0.5},\"pattern\":{\"fillmode\":\"overlay\",\"size\":10,\"solidity\":0.2}},\"type\":\"bar\"}],\"barpolar\":[{\"marker\":{\"line\":{\"color\":\"#E5ECF6\",\"width\":0.5},\"pattern\":{\"fillmode\":\"overlay\",\"size\":10,\"solidity\":0.2}},\"type\":\"barpolar\"}],\"carpet\":[{\"aaxis\":{\"endlinecolor\":\"#2a3f5f\",\"gridcolor\":\"white\",\"linecolor\":\"white\",\"minorgridcolor\":\"white\",\"startlinecolor\":\"#2a3f5f\"},\"baxis\":{\"endlinecolor\":\"#2a3f5f\",\"gridcolor\":\"white\",\"linecolor\":\"white\",\"minorgridcolor\":\"white\",\"startlinecolor\":\"#2a3f5f\"},\"type\":\"carpet\"}],\"choropleth\":[{\"colorbar\":{\"outlinewidth\":0,\"ticks\":\"\"},\"type\":\"choropleth\"}],\"contour\":[{\"colorbar\":{\"outlinewidth\":0,\"ticks\":\"\"},\"colorscale\":[[0.0,\"#0d0887\"],[0.1111111111111111,\"#46039f\"],[0.2222222222222222,\"#7201a8\"],[0.3333333333333333,\"#9c179e\"],[0.4444444444444444,\"#bd3786\"],[0.5555555555555556,\"#d8576b\"],[0.6666666666666666,\"#ed7953\"],[0.7777777777777778,\"#fb9f3a\"],[0.8888888888888888,\"#fdca26\"],[1.0,\"#f0f921\"]],\"type\":\"contour\"}],\"contourcarpet\":[{\"colorbar\":{\"outlinewidth\":0,\"ticks\":\"\"},\"type\":\"contourcarpet\"}],\"heatmap\":[{\"colorbar\":{\"outlinewidth\":0,\"ticks\":\"\"},\"colorscale\":[[0.0,\"#0d0887\"],[0.1111111111111111,\"#46039f\"],[0.2222222222222222,\"#7201a8\"],[0.3333333333333333,\"#9c179e\"],[0.4444444444444444,\"#bd3786\"],[0.5555555555555556,\"#d8576b\"],[0.6666666666666666,\"#ed7953\"],[0.7777777777777778,\"#fb9f3a\"],[0.8888888888888888,\"#fdca26\"],[1.0,\"#f0f921\"]],\"type\":\"heatmap\"}],\"heatmapgl\":[{\"colorbar\":{\"outlinewidth\":0,\"ticks\":\"\"},\"colorscale\":[[0.0,\"#0d0887\"],[0.1111111111111111,\"#46039f\"],[0.2222222222222222,\"#7201a8\"],[0.3333333333333333,\"#9c179e\"],[0.4444444444444444,\"#bd3786\"],[0.5555555555555556,\"#d8576b\"],[0.6666666666666666,\"#ed7953\"],[0.7777777777777778,\"#fb9f3a\"],[0.8888888888888888,\"#fdca26\"],[1.0,\"#f0f921\"]],\"type\":\"heatmapgl\"}],\"histogram\":[{\"marker\":{\"pattern\":{\"fillmode\":\"overlay\",\"size\":10,\"solidity\":0.2}},\"type\":\"histogram\"}],\"histogram2d\":[{\"colorbar\":{\"outlinewidth\":0,\"ticks\":\"\"},\"colorscale\":[[0.0,\"#0d0887\"],[0.1111111111111111,\"#46039f\"],[0.2222222222222222,\"#7201a8\"],[0.3333333333333333,\"#9c179e\"],[0.4444444444444444,\"#bd3786\"],[0.5555555555555556,\"#d8576b\"],[0.6666666666666666,\"#ed7953\"],[0.7777777777777778,\"#fb9f3a\"],[0.8888888888888888,\"#fdca26\"],[1.0,\"#f0f921\"]],\"type\":\"histogram2d\"}],\"histogram2dcontour\":[{\"colorbar\":{\"outlinewidth\":0,\"ticks\":\"\"},\"colorscale\":[[0.0,\"#0d0887\"],[0.1111111111111111,\"#46039f\"],[0.2222222222222222,\"#7201a8\"],[0.3333333333333333,\"#9c179e\"],[0.4444444444444444,\"#bd3786\"],[0.5555555555555556,\"#d8576b\"],[0.6666666666666666,\"#ed7953\"],[0.7777777777777778,\"#fb9f3a\"],[0.8888888888888888,\"#fdca26\"],[1.0,\"#f0f921\"]],\"type\":\"histogram2dcontour\"}],\"mesh3d\":[{\"colorbar\":{\"outlinewidth\":0,\"ticks\":\"\"},\"type\":\"mesh3d\"}],\"parcoords\":[{\"line\":{\"colorbar\":{\"outlinewidth\":0,\"ticks\":\"\"}},\"type\":\"parcoords\"}],\"pie\":[{\"automargin\":true,\"type\":\"pie\"}],\"scatter\":[{\"marker\":{\"colorbar\":{\"outlinewidth\":0,\"ticks\":\"\"}},\"type\":\"scatter\"}],\"scatter3d\":[{\"line\":{\"colorbar\":{\"outlinewidth\":0,\"ticks\":\"\"}},\"marker\":{\"colorbar\":{\"outlinewidth\":0,\"ticks\":\"\"}},\"type\":\"scatter3d\"}],\"scattercarpet\":[{\"marker\":{\"colorbar\":{\"outlinewidth\":0,\"ticks\":\"\"}},\"type\":\"scattercarpet\"}],\"scattergeo\":[{\"marker\":{\"colorbar\":{\"outlinewidth\":0,\"ticks\":\"\"}},\"type\":\"scattergeo\"}],\"scattergl\":[{\"marker\":{\"colorbar\":{\"outlinewidth\":0,\"ticks\":\"\"}},\"type\":\"scattergl\"}],\"scattermapbox\":[{\"marker\":{\"colorbar\":{\"outlinewidth\":0,\"ticks\":\"\"}},\"type\":\"scattermapbox\"}],\"scatterpolar\":[{\"marker\":{\"colorbar\":{\"outlinewidth\":0,\"ticks\":\"\"}},\"type\":\"scatterpolar\"}],\"scatterpolargl\":[{\"marker\":{\"colorbar\":{\"outlinewidth\":0,\"ticks\":\"\"}},\"type\":\"scatterpolargl\"}],\"scatterternary\":[{\"marker\":{\"colorbar\":{\"outlinewidth\":0,\"ticks\":\"\"}},\"type\":\"scatterternary\"}],\"surface\":[{\"colorbar\":{\"outlinewidth\":0,\"ticks\":\"\"},\"colorscale\":[[0.0,\"#0d0887\"],[0.1111111111111111,\"#46039f\"],[0.2222222222222222,\"#7201a8\"],[0.3333333333333333,\"#9c179e\"],[0.4444444444444444,\"#bd3786\"],[0.5555555555555556,\"#d8576b\"],[0.6666666666666666,\"#ed7953\"],[0.7777777777777778,\"#fb9f3a\"],[0.8888888888888888,\"#fdca26\"],[1.0,\"#f0f921\"]],\"type\":\"surface\"}],\"table\":[{\"cells\":{\"fill\":{\"color\":\"#EBF0F8\"},\"line\":{\"color\":\"white\"}},\"header\":{\"fill\":{\"color\":\"#C8D4E3\"},\"line\":{\"color\":\"white\"}},\"type\":\"table\"}]},\"layout\":{\"annotationdefaults\":{\"arrowcolor\":\"#2a3f5f\",\"arrowhead\":0,\"arrowwidth\":1},\"autotypenumbers\":\"strict\",\"coloraxis\":{\"colorbar\":{\"outlinewidth\":0,\"ticks\":\"\"}},\"colorscale\":{\"diverging\":[[0,\"#8e0152\"],[0.1,\"#c51b7d\"],[0.2,\"#de77ae\"],[0.3,\"#f1b6da\"],[0.4,\"#fde0ef\"],[0.5,\"#f7f7f7\"],[0.6,\"#e6f5d0\"],[0.7,\"#b8e186\"],[0.8,\"#7fbc41\"],[0.9,\"#4d9221\"],[1,\"#276419\"]],\"sequential\":[[0.0,\"#0d0887\"],[0.1111111111111111,\"#46039f\"],[0.2222222222222222,\"#7201a8\"],[0.3333333333333333,\"#9c179e\"],[0.4444444444444444,\"#bd3786\"],[0.5555555555555556,\"#d8576b\"],[0.6666666666666666,\"#ed7953\"],[0.7777777777777778,\"#fb9f3a\"],[0.8888888888888888,\"#fdca26\"],[1.0,\"#f0f921\"]],\"sequentialminus\":[[0.0,\"#0d0887\"],[0.1111111111111111,\"#46039f\"],[0.2222222222222222,\"#7201a8\"],[0.3333333333333333,\"#9c179e\"],[0.4444444444444444,\"#bd3786\"],[0.5555555555555556,\"#d8576b\"],[0.6666666666666666,\"#ed7953\"],[0.7777777777777778,\"#fb9f3a\"],[0.8888888888888888,\"#fdca26\"],[1.0,\"#f0f921\"]]},\"colorway\":[\"#636efa\",\"#EF553B\",\"#00cc96\",\"#ab63fa\",\"#FFA15A\",\"#19d3f3\",\"#FF6692\",\"#B6E880\",\"#FF97FF\",\"#FECB52\"],\"font\":{\"color\":\"#2a3f5f\"},\"geo\":{\"bgcolor\":\"white\",\"lakecolor\":\"white\",\"landcolor\":\"#E5ECF6\",\"showlakes\":true,\"showland\":true,\"subunitcolor\":\"white\"},\"hoverlabel\":{\"align\":\"left\"},\"hovermode\":\"closest\",\"mapbox\":{\"style\":\"light\"},\"paper_bgcolor\":\"white\",\"plot_bgcolor\":\"#E5ECF6\",\"polar\":{\"angularaxis\":{\"gridcolor\":\"white\",\"linecolor\":\"white\",\"ticks\":\"\"},\"bgcolor\":\"#E5ECF6\",\"radialaxis\":{\"gridcolor\":\"white\",\"linecolor\":\"white\",\"ticks\":\"\"}},\"scene\":{\"xaxis\":{\"backgroundcolor\":\"#E5ECF6\",\"gridcolor\":\"white\",\"gridwidth\":2,\"linecolor\":\"white\",\"showbackground\":true,\"ticks\":\"\",\"zerolinecolor\":\"white\"},\"yaxis\":{\"backgroundcolor\":\"#E5ECF6\",\"gridcolor\":\"white\",\"gridwidth\":2,\"linecolor\":\"white\",\"showbackground\":true,\"ticks\":\"\",\"zerolinecolor\":\"white\"},\"zaxis\":{\"backgroundcolor\":\"#E5ECF6\",\"gridcolor\":\"white\",\"gridwidth\":2,\"linecolor\":\"white\",\"showbackground\":true,\"ticks\":\"\",\"zerolinecolor\":\"white\"}},\"shapedefaults\":{\"line\":{\"color\":\"#2a3f5f\"}},\"ternary\":{\"aaxis\":{\"gridcolor\":\"white\",\"linecolor\":\"white\",\"ticks\":\"\"},\"baxis\":{\"gridcolor\":\"white\",\"linecolor\":\"white\",\"ticks\":\"\"},\"bgcolor\":\"#E5ECF6\",\"caxis\":{\"gridcolor\":\"white\",\"linecolor\":\"white\",\"ticks\":\"\"}},\"title\":{\"x\":0.05},\"xaxis\":{\"automargin\":true,\"gridcolor\":\"white\",\"linecolor\":\"white\",\"ticks\":\"\",\"title\":{\"standoff\":15},\"zerolinecolor\":\"white\",\"zerolinewidth\":2},\"yaxis\":{\"automargin\":true,\"gridcolor\":\"white\",\"linecolor\":\"white\",\"ticks\":\"\",\"title\":{\"standoff\":15},\"zerolinecolor\":\"white\",\"zerolinewidth\":2}}},\"title\":{\"text\":\"<b>Average Age Gender wise</b>\"},\"xaxis\":{\"anchor\":\"y\",\"domain\":[0.0,1.0],\"title\":{\"text\":\"Age\"}},\"xaxis2\":{\"anchor\":\"y2\",\"domain\":[0.0,1.0],\"matches\":\"x\",\"showgrid\":true,\"showticklabels\":false},\"yaxis\":{\"anchor\":\"x\",\"domain\":[0.0,0.7326],\"title\":{\"text\":\"count\"}},\"yaxis2\":{\"anchor\":\"x2\",\"domain\":[0.7426,1.0],\"matches\":\"y2\",\"showgrid\":false,\"showline\":false,\"showticklabels\":false,\"ticks\":\"\"}},                        {\"responsive\": true}                    ).then(function(){\n",
       "                            \n",
       "var gd = document.getElementById('fca703b5-449e-457c-8582-47c4f9e669d4');\n",
       "var x = new MutationObserver(function (mutations, observer) {{\n",
       "        var display = window.getComputedStyle(gd).display;\n",
       "        if (!display || display === 'none') {{\n",
       "            console.log([gd, 'removed!']);\n",
       "            Plotly.purge(gd);\n",
       "            observer.disconnect();\n",
       "        }}\n",
       "}});\n",
       "\n",
       "// Listen for the removal of the full notebook cells\n",
       "var notebookContainer = gd.closest('#notebook-container');\n",
       "if (notebookContainer) {{\n",
       "    x.observe(notebookContainer, {childList: true});\n",
       "}}\n",
       "\n",
       "// Listen for the clearing of the current output cell\n",
       "var outputEl = gd.closest('.output');\n",
       "if (outputEl) {{\n",
       "    x.observe(outputEl, {childList: true});\n",
       "}}\n",
       "\n",
       "                        })                };                });            </script>        </div>"
      ]
     },
     "metadata": {},
     "output_type": "display_data"
    }
   ],
   "source": [
    "fig = px.histogram(data, 'Age',             \n",
    "                   color = \"Gender\",\n",
    "                   marginal = 'violin',\n",
    "                   title = \"<b>Average Age Gender wise</b>\")\n",
    "\n",
    "fig.update_traces(marker = {\"opacity\": 0.7})\n",
    "\n",
    "fig.add_vline(x = data['Age'].mean(),\n",
    "              line_width = 2,\n",
    "              line_dash = \"dash\",\n",
    "              line_color = \"black\")\n",
    "\n",
    "fig.show()"
   ]
  },
  {
   "cell_type": "markdown",
   "id": "5445e644",
   "metadata": {
    "papermill": {
     "duration": 0.068565,
     "end_time": "2021-11-14T17:06:58.143548",
     "exception": false,
     "start_time": "2021-11-14T17:06:58.074983",
     "status": "completed"
    },
    "tags": []
   },
   "source": [
    "<a id=\"5.2\"></a>\n",
    "# <p style=\"background-color:#73d1ff;font-family:newtimeroman;color:#000000;font-size:120%;text-align:center;border-radius:20px 80px;\">✔️ Total Male & Female</p>\n"
   ]
  },
  {
   "cell_type": "code",
   "execution_count": 9,
   "id": "d0ff7459",
   "metadata": {
    "execution": {
     "iopub.execute_input": "2021-11-14T17:06:58.285565Z",
     "iopub.status.busy": "2021-11-14T17:06:58.284610Z",
     "iopub.status.idle": "2021-11-14T17:06:58.298010Z",
     "shell.execute_reply": "2021-11-14T17:06:58.298536Z",
     "shell.execute_reply.started": "2021-11-14T16:27:30.732295Z"
    },
    "papermill": {
     "duration": 0.085989,
     "end_time": "2021-11-14T17:06:58.298693",
     "exception": false,
     "start_time": "2021-11-14T17:06:58.212704",
     "status": "completed"
    },
    "tags": []
   },
   "outputs": [
    {
     "data": {
      "text/html": [
       "<div>\n",
       "<style scoped>\n",
       "    .dataframe tbody tr th:only-of-type {\n",
       "        vertical-align: middle;\n",
       "    }\n",
       "\n",
       "    .dataframe tbody tr th {\n",
       "        vertical-align: top;\n",
       "    }\n",
       "\n",
       "    .dataframe thead th {\n",
       "        text-align: right;\n",
       "    }\n",
       "</style>\n",
       "<table border=\"1\" class=\"dataframe\">\n",
       "  <thead>\n",
       "    <tr style=\"text-align: right;\">\n",
       "      <th></th>\n",
       "      <th>Counts</th>\n",
       "    </tr>\n",
       "    <tr>\n",
       "      <th>Gender</th>\n",
       "      <th></th>\n",
       "    </tr>\n",
       "  </thead>\n",
       "  <tbody>\n",
       "    <tr>\n",
       "      <th>Male</th>\n",
       "      <td>2475</td>\n",
       "    </tr>\n",
       "    <tr>\n",
       "      <th>Female</th>\n",
       "      <td>491</td>\n",
       "    </tr>\n",
       "  </tbody>\n",
       "</table>\n",
       "</div>"
      ],
      "text/plain": [
       "        Counts\n",
       "Gender        \n",
       "Male      2475\n",
       "Female     491"
      ]
     },
     "execution_count": 9,
     "metadata": {},
     "output_type": "execute_result"
    }
   ],
   "source": [
    "pd.DataFrame(data['Gender'].value_counts()).rename({\"Gender\":\"Counts\"}, axis = 1).rename_axis(\"Gender\")"
   ]
  },
  {
   "cell_type": "code",
   "execution_count": 10,
   "id": "ab45ea7e",
   "metadata": {
    "execution": {
     "iopub.execute_input": "2021-11-14T17:06:58.440741Z",
     "iopub.status.busy": "2021-11-14T17:06:58.440111Z",
     "iopub.status.idle": "2021-11-14T17:06:58.544786Z",
     "shell.execute_reply": "2021-11-14T17:06:58.544163Z",
     "shell.execute_reply.started": "2021-11-14T16:28:25.870108Z"
    },
    "papermill": {
     "duration": 0.176874,
     "end_time": "2021-11-14T17:06:58.544919",
     "exception": false,
     "start_time": "2021-11-14T17:06:58.368045",
     "status": "completed"
    },
    "tags": []
   },
   "outputs": [
    {
     "data": {
      "text/html": [
       "<div>                            <div id=\"4f54d307-b684-4a6e-97c7-238c30673b20\" class=\"plotly-graph-div\" style=\"height:525px; width:100%;\"></div>            <script type=\"text/javascript\">                require([\"plotly\"], function(Plotly) {                    window.PLOTLYENV=window.PLOTLYENV || {};                                    if (document.getElementById(\"4f54d307-b684-4a6e-97c7-238c30673b20\")) {                    Plotly.newPlot(                        \"4f54d307-b684-4a6e-97c7-238c30673b20\",                        [{\"alignmentgroup\":\"True\",\"bingroup\":\"x\",\"hovertemplate\":\"Gender=%{x}<br>count=%{y}<extra></extra>\",\"legendgroup\":\"Male\",\"marker\":{\"color\":\"#636efa\",\"pattern\":{\"shape\":\"\"}},\"name\":\"Male\",\"offsetgroup\":\"Male\",\"orientation\":\"v\",\"showlegend\":true,\"type\":\"histogram\",\"x\":[\"Male\",\"Male\",\"Male\",\"Male\",\"Male\",\"Male\",\"Male\",\"Male\",\"Male\",\"Male\",\"Male\",\"Male\",\"Male\",\"Male\",\"Male\",\"Male\",\"Male\",\"Male\",\"Male\",\"Male\",\"Male\",\"Male\",\"Male\",\"Male\",\"Male\",\"Male\",\"Male\",\"Male\",\"Male\",\"Male\",\"Male\",\"Male\",\"Male\",\"Male\",\"Male\",\"Male\",\"Male\",\"Male\",\"Male\",\"Male\",\"Male\",\"Male\",\"Male\",\"Male\",\"Male\",\"Male\",\"Male\",\"Male\",\"Male\",\"Male\",\"Male\",\"Male\",\"Male\",\"Male\",\"Male\",\"Male\",\"Male\",\"Male\",\"Male\",\"Male\",\"Male\",\"Male\",\"Male\",\"Male\",\"Male\",\"Male\",\"Male\",\"Male\",\"Male\",\"Male\",\"Male\",\"Male\",\"Male\",\"Male\",\"Male\",\"Male\",\"Male\",\"Male\",\"Male\",\"Male\",\"Male\",\"Male\",\"Male\",\"Male\",\"Male\",\"Male\",\"Male\",\"Male\",\"Male\",\"Male\",\"Male\",\"Male\",\"Male\",\"Male\",\"Male\",\"Male\",\"Male\",\"Male\",\"Male\",\"Male\",\"Male\",\"Male\",\"Male\",\"Male\",\"Male\",\"Male\",\"Male\",\"Male\",\"Male\",\"Male\",\"Male\",\"Male\",\"Male\",\"Male\",\"Male\",\"Male\",\"Male\",\"Male\",\"Male\",\"Male\",\"Male\",\"Male\",\"Male\",\"Male\",\"Male\",\"Male\",\"Male\",\"Male\",\"Male\",\"Male\",\"Male\",\"Male\",\"Male\",\"Male\",\"Male\",\"Male\",\"Male\",\"Male\",\"Male\",\"Male\",\"Male\",\"Male\",\"Male\",\"Male\",\"Male\",\"Male\",\"Male\",\"Male\",\"Male\",\"Male\",\"Male\",\"Male\",\"Male\",\"Male\",\"Male\",\"Male\",\"Male\",\"Male\",\"Male\",\"Male\",\"Male\",\"Male\",\"Male\",\"Male\",\"Male\",\"Male\",\"Male\",\"Male\",\"Male\",\"Male\",\"Male\",\"Male\",\"Male\",\"Male\",\"Male\",\"Male\",\"Male\",\"Male\",\"Male\",\"Male\",\"Male\",\"Male\",\"Male\",\"Male\",\"Male\",\"Male\",\"Male\",\"Male\",\"Male\",\"Male\",\"Male\",\"Male\",\"Male\",\"Male\",\"Male\",\"Male\",\"Male\",\"Male\",\"Male\",\"Male\",\"Male\",\"Male\",\"Male\",\"Male\",\"Male\",\"Male\",\"Male\",\"Male\",\"Male\",\"Male\",\"Male\",\"Male\",\"Male\",\"Male\",\"Male\",\"Male\",\"Male\",\"Male\",\"Male\",\"Male\",\"Male\",\"Male\",\"Male\",\"Male\",\"Male\",\"Male\",\"Male\",\"Male\",\"Male\",\"Male\",\"Male\",\"Male\",\"Male\",\"Male\",\"Male\",\"Male\",\"Male\",\"Male\",\"Male\",\"Male\",\"Male\",\"Male\",\"Male\",\"Male\",\"Male\",\"Male\",\"Male\",\"Male\",\"Male\",\"Male\",\"Male\",\"Male\",\"Male\",\"Male\",\"Male\",\"Male\",\"Male\",\"Male\",\"Male\",\"Male\",\"Male\",\"Male\",\"Male\",\"Male\",\"Male\",\"Male\",\"Male\",\"Male\",\"Male\",\"Male\",\"Male\",\"Male\",\"Male\",\"Male\",\"Male\",\"Male\",\"Male\",\"Male\",\"Male\",\"Male\",\"Male\",\"Male\",\"Male\",\"Male\",\"Male\",\"Male\",\"Male\",\"Male\",\"Male\",\"Male\",\"Male\",\"Male\",\"Male\",\"Male\",\"Male\",\"Male\",\"Male\",\"Male\",\"Male\",\"Male\",\"Male\",\"Male\",\"Male\",\"Male\",\"Male\",\"Male\",\"Male\",\"Male\",\"Male\",\"Male\",\"Male\",\"Male\",\"Male\",\"Male\",\"Male\",\"Male\",\"Male\",\"Male\",\"Male\",\"Male\",\"Male\",\"Male\",\"Male\",\"Male\",\"Male\",\"Male\",\"Male\",\"Male\",\"Male\",\"Male\",\"Male\",\"Male\",\"Male\",\"Male\",\"Male\",\"Male\",\"Male\",\"Male\",\"Male\",\"Male\",\"Male\",\"Male\",\"Male\",\"Male\",\"Male\",\"Male\",\"Male\",\"Male\",\"Male\",\"Male\",\"Male\",\"Male\",\"Male\",\"Male\",\"Male\",\"Male\",\"Male\",\"Male\",\"Male\",\"Male\",\"Male\",\"Male\",\"Male\",\"Male\",\"Male\",\"Male\",\"Male\",\"Male\",\"Male\",\"Male\",\"Male\",\"Male\",\"Male\",\"Male\",\"Male\",\"Male\",\"Male\",\"Male\",\"Male\",\"Male\",\"Male\",\"Male\",\"Male\",\"Male\",\"Male\",\"Male\",\"Male\",\"Male\",\"Male\",\"Male\",\"Male\",\"Male\",\"Male\",\"Male\",\"Male\",\"Male\",\"Male\",\"Male\",\"Male\",\"Male\",\"Male\",\"Male\",\"Male\",\"Male\",\"Male\",\"Male\",\"Male\",\"Male\",\"Male\",\"Male\",\"Male\",\"Male\",\"Male\",\"Male\",\"Male\",\"Male\",\"Male\",\"Male\",\"Male\",\"Male\",\"Male\",\"Male\",\"Male\",\"Male\",\"Male\",\"Male\",\"Male\",\"Male\",\"Male\",\"Male\",\"Male\",\"Male\",\"Male\",\"Male\",\"Male\",\"Male\",\"Male\",\"Male\",\"Male\",\"Male\",\"Male\",\"Male\",\"Male\",\"Male\",\"Male\",\"Male\",\"Male\",\"Male\",\"Male\",\"Male\",\"Male\",\"Male\",\"Male\",\"Male\",\"Male\",\"Male\",\"Male\",\"Male\",\"Male\",\"Male\",\"Male\",\"Male\",\"Male\",\"Male\",\"Male\",\"Male\",\"Male\",\"Male\",\"Male\",\"Male\",\"Male\",\"Male\",\"Male\",\"Male\",\"Male\",\"Male\",\"Male\",\"Male\",\"Male\",\"Male\",\"Male\",\"Male\",\"Male\",\"Male\",\"Male\",\"Male\",\"Male\",\"Male\",\"Male\",\"Male\",\"Male\",\"Male\",\"Male\",\"Male\",\"Male\",\"Male\",\"Male\",\"Male\",\"Male\",\"Male\",\"Male\",\"Male\",\"Male\",\"Male\",\"Male\",\"Male\",\"Male\",\"Male\",\"Male\",\"Male\",\"Male\",\"Male\",\"Male\",\"Male\",\"Male\",\"Male\",\"Male\",\"Male\",\"Male\",\"Male\",\"Male\",\"Male\",\"Male\",\"Male\",\"Male\",\"Male\",\"Male\",\"Male\",\"Male\",\"Male\",\"Male\",\"Male\",\"Male\",\"Male\",\"Male\",\"Male\",\"Male\",\"Male\",\"Male\",\"Male\",\"Male\",\"Male\",\"Male\",\"Male\",\"Male\",\"Male\",\"Male\",\"Male\",\"Male\",\"Male\",\"Male\",\"Male\",\"Male\",\"Male\",\"Male\",\"Male\",\"Male\",\"Male\",\"Male\",\"Male\",\"Male\",\"Male\",\"Male\",\"Male\",\"Male\",\"Male\",\"Male\",\"Male\",\"Male\",\"Male\",\"Male\",\"Male\",\"Male\",\"Male\",\"Male\",\"Male\",\"Male\",\"Male\",\"Male\",\"Male\",\"Male\",\"Male\",\"Male\",\"Male\",\"Male\",\"Male\",\"Male\",\"Male\",\"Male\",\"Male\",\"Male\",\"Male\",\"Male\",\"Male\",\"Male\",\"Male\",\"Male\",\"Male\",\"Male\",\"Male\",\"Male\",\"Male\",\"Male\",\"Male\",\"Male\",\"Male\",\"Male\",\"Male\",\"Male\",\"Male\",\"Male\",\"Male\",\"Male\",\"Male\",\"Male\",\"Male\",\"Male\",\"Male\",\"Male\",\"Male\",\"Male\",\"Male\",\"Male\",\"Male\",\"Male\",\"Male\",\"Male\",\"Male\",\"Male\",\"Male\",\"Male\",\"Male\",\"Male\",\"Male\",\"Male\",\"Male\",\"Male\",\"Male\",\"Male\",\"Male\",\"Male\",\"Male\",\"Male\",\"Male\",\"Male\",\"Male\",\"Male\",\"Male\",\"Male\",\"Male\",\"Male\",\"Male\",\"Male\",\"Male\",\"Male\",\"Male\",\"Male\",\"Male\",\"Male\",\"Male\",\"Male\",\"Male\",\"Male\",\"Male\",\"Male\",\"Male\",\"Male\",\"Male\",\"Male\",\"Male\",\"Male\",\"Male\",\"Male\",\"Male\",\"Male\",\"Male\",\"Male\",\"Male\",\"Male\",\"Male\",\"Male\",\"Male\",\"Male\",\"Male\",\"Male\",\"Male\",\"Male\",\"Male\",\"Male\",\"Male\",\"Male\",\"Male\",\"Male\",\"Male\",\"Male\",\"Male\",\"Male\",\"Male\",\"Male\",\"Male\",\"Male\",\"Male\",\"Male\",\"Male\",\"Male\",\"Male\",\"Male\",\"Male\",\"Male\",\"Male\",\"Male\",\"Male\",\"Male\",\"Male\",\"Male\",\"Male\",\"Male\",\"Male\",\"Male\",\"Male\",\"Male\",\"Male\",\"Male\",\"Male\",\"Male\",\"Male\",\"Male\",\"Male\",\"Male\",\"Male\",\"Male\",\"Male\",\"Male\",\"Male\",\"Male\",\"Male\",\"Male\",\"Male\",\"Male\",\"Male\",\"Male\",\"Male\",\"Male\",\"Male\",\"Male\",\"Male\",\"Male\",\"Male\",\"Male\",\"Male\",\"Male\",\"Male\",\"Male\",\"Male\",\"Male\",\"Male\",\"Male\",\"Male\",\"Male\",\"Male\",\"Male\",\"Male\",\"Male\",\"Male\",\"Male\",\"Male\",\"Male\",\"Male\",\"Male\",\"Male\",\"Male\",\"Male\",\"Male\",\"Male\",\"Male\",\"Male\",\"Male\",\"Male\",\"Male\",\"Male\",\"Male\",\"Male\",\"Male\",\"Male\",\"Male\",\"Male\",\"Male\",\"Male\",\"Male\",\"Male\",\"Male\",\"Male\",\"Male\",\"Male\",\"Male\",\"Male\",\"Male\",\"Male\",\"Male\",\"Male\",\"Male\",\"Male\",\"Male\",\"Male\",\"Male\",\"Male\",\"Male\",\"Male\",\"Male\",\"Male\",\"Male\",\"Male\",\"Male\",\"Male\",\"Male\",\"Male\",\"Male\",\"Male\",\"Male\",\"Male\",\"Male\",\"Male\",\"Male\",\"Male\",\"Male\",\"Male\",\"Male\",\"Male\",\"Male\",\"Male\",\"Male\",\"Male\",\"Male\",\"Male\",\"Male\",\"Male\",\"Male\",\"Male\",\"Male\",\"Male\",\"Male\",\"Male\",\"Male\",\"Male\",\"Male\",\"Male\",\"Male\",\"Male\",\"Male\",\"Male\",\"Male\",\"Male\",\"Male\",\"Male\",\"Male\",\"Male\",\"Male\",\"Male\",\"Male\",\"Male\",\"Male\",\"Male\",\"Male\",\"Male\",\"Male\",\"Male\",\"Male\",\"Male\",\"Male\",\"Male\",\"Male\",\"Male\",\"Male\",\"Male\",\"Male\",\"Male\",\"Male\",\"Male\",\"Male\",\"Male\",\"Male\",\"Male\",\"Male\",\"Male\",\"Male\",\"Male\",\"Male\",\"Male\",\"Male\",\"Male\",\"Male\",\"Male\",\"Male\",\"Male\",\"Male\",\"Male\",\"Male\",\"Male\",\"Male\",\"Male\",\"Male\",\"Male\",\"Male\",\"Male\",\"Male\",\"Male\",\"Male\",\"Male\",\"Male\",\"Male\",\"Male\",\"Male\",\"Male\",\"Male\",\"Male\",\"Male\",\"Male\",\"Male\",\"Male\",\"Male\",\"Male\",\"Male\",\"Male\",\"Male\",\"Male\",\"Male\",\"Male\",\"Male\",\"Male\",\"Male\",\"Male\",\"Male\",\"Male\",\"Male\",\"Male\",\"Male\",\"Male\",\"Male\",\"Male\",\"Male\",\"Male\",\"Male\",\"Male\",\"Male\",\"Male\",\"Male\",\"Male\",\"Male\",\"Male\",\"Male\",\"Male\",\"Male\",\"Male\",\"Male\",\"Male\",\"Male\",\"Male\",\"Male\",\"Male\",\"Male\",\"Male\",\"Male\",\"Male\",\"Male\",\"Male\",\"Male\",\"Male\",\"Male\",\"Male\",\"Male\",\"Male\",\"Male\",\"Male\",\"Male\",\"Male\",\"Male\",\"Male\",\"Male\",\"Male\",\"Male\",\"Male\",\"Male\",\"Male\",\"Male\",\"Male\",\"Male\",\"Male\",\"Male\",\"Male\",\"Male\",\"Male\",\"Male\",\"Male\",\"Male\",\"Male\",\"Male\",\"Male\",\"Male\",\"Male\",\"Male\",\"Male\",\"Male\",\"Male\",\"Male\",\"Male\",\"Male\",\"Male\",\"Male\",\"Male\",\"Male\",\"Male\",\"Male\",\"Male\",\"Male\",\"Male\",\"Male\",\"Male\",\"Male\",\"Male\",\"Male\",\"Male\",\"Male\",\"Male\",\"Male\",\"Male\",\"Male\",\"Male\",\"Male\",\"Male\",\"Male\",\"Male\",\"Male\",\"Male\",\"Male\",\"Male\",\"Male\",\"Male\",\"Male\",\"Male\",\"Male\",\"Male\",\"Male\",\"Male\",\"Male\",\"Male\",\"Male\",\"Male\",\"Male\",\"Male\",\"Male\",\"Male\",\"Male\",\"Male\",\"Male\",\"Male\",\"Male\",\"Male\",\"Male\",\"Male\",\"Male\",\"Male\",\"Male\",\"Male\",\"Male\",\"Male\",\"Male\",\"Male\",\"Male\",\"Male\",\"Male\",\"Male\",\"Male\",\"Male\",\"Male\",\"Male\",\"Male\",\"Male\",\"Male\",\"Male\",\"Male\",\"Male\",\"Male\",\"Male\",\"Male\",\"Male\",\"Male\",\"Male\",\"Male\",\"Male\",\"Male\",\"Male\",\"Male\",\"Male\",\"Male\",\"Male\",\"Male\",\"Male\",\"Male\",\"Male\",\"Male\",\"Male\",\"Male\",\"Male\",\"Male\",\"Male\",\"Male\",\"Male\",\"Male\",\"Male\",\"Male\",\"Male\",\"Male\",\"Male\",\"Male\",\"Male\",\"Male\",\"Male\",\"Male\",\"Male\",\"Male\",\"Male\",\"Male\",\"Male\",\"Male\",\"Male\",\"Male\",\"Male\",\"Male\",\"Male\",\"Male\",\"Male\",\"Male\",\"Male\",\"Male\",\"Male\",\"Male\",\"Male\",\"Male\",\"Male\",\"Male\",\"Male\",\"Male\",\"Male\",\"Male\",\"Male\",\"Male\",\"Male\",\"Male\",\"Male\",\"Male\",\"Male\",\"Male\",\"Male\",\"Male\",\"Male\",\"Male\",\"Male\",\"Male\",\"Male\",\"Male\",\"Male\",\"Male\",\"Male\",\"Male\",\"Male\",\"Male\",\"Male\",\"Male\",\"Male\",\"Male\",\"Male\",\"Male\",\"Male\",\"Male\",\"Male\",\"Male\",\"Male\",\"Male\",\"Male\",\"Male\",\"Male\",\"Male\",\"Male\",\"Male\",\"Male\",\"Male\",\"Male\",\"Male\",\"Male\",\"Male\",\"Male\",\"Male\",\"Male\",\"Male\",\"Male\",\"Male\",\"Male\",\"Male\",\"Male\",\"Male\",\"Male\",\"Male\",\"Male\",\"Male\",\"Male\",\"Male\",\"Male\",\"Male\",\"Male\",\"Male\",\"Male\",\"Male\",\"Male\",\"Male\",\"Male\",\"Male\",\"Male\",\"Male\",\"Male\",\"Male\",\"Male\",\"Male\",\"Male\",\"Male\",\"Male\",\"Male\",\"Male\",\"Male\",\"Male\",\"Male\",\"Male\",\"Male\",\"Male\",\"Male\",\"Male\",\"Male\",\"Male\",\"Male\",\"Male\",\"Male\",\"Male\",\"Male\",\"Male\",\"Male\",\"Male\",\"Male\",\"Male\",\"Male\",\"Male\",\"Male\",\"Male\",\"Male\",\"Male\",\"Male\",\"Male\",\"Male\",\"Male\",\"Male\",\"Male\",\"Male\",\"Male\",\"Male\",\"Male\",\"Male\",\"Male\",\"Male\",\"Male\",\"Male\",\"Male\",\"Male\",\"Male\",\"Male\",\"Male\",\"Male\",\"Male\",\"Male\",\"Male\",\"Male\",\"Male\",\"Male\",\"Male\",\"Male\",\"Male\",\"Male\",\"Male\",\"Male\",\"Male\",\"Male\",\"Male\",\"Male\",\"Male\",\"Male\",\"Male\",\"Male\",\"Male\",\"Male\",\"Male\",\"Male\",\"Male\",\"Male\",\"Male\",\"Male\",\"Male\",\"Male\",\"Male\",\"Male\",\"Male\",\"Male\",\"Male\",\"Male\",\"Male\",\"Male\",\"Male\",\"Male\",\"Male\",\"Male\",\"Male\",\"Male\",\"Male\",\"Male\",\"Male\",\"Male\",\"Male\",\"Male\",\"Male\",\"Male\",\"Male\",\"Male\",\"Male\",\"Male\",\"Male\",\"Male\",\"Male\",\"Male\",\"Male\",\"Male\",\"Male\",\"Male\",\"Male\",\"Male\",\"Male\",\"Male\",\"Male\",\"Male\",\"Male\",\"Male\",\"Male\",\"Male\",\"Male\",\"Male\",\"Male\",\"Male\",\"Male\",\"Male\",\"Male\",\"Male\",\"Male\",\"Male\",\"Male\",\"Male\",\"Male\",\"Male\",\"Male\",\"Male\",\"Male\",\"Male\",\"Male\",\"Male\",\"Male\",\"Male\",\"Male\",\"Male\",\"Male\",\"Male\",\"Male\",\"Male\",\"Male\",\"Male\",\"Male\",\"Male\",\"Male\",\"Male\",\"Male\",\"Male\",\"Male\",\"Male\",\"Male\",\"Male\",\"Male\",\"Male\",\"Male\",\"Male\",\"Male\",\"Male\",\"Male\",\"Male\",\"Male\",\"Male\",\"Male\",\"Male\",\"Male\",\"Male\",\"Male\",\"Male\",\"Male\",\"Male\",\"Male\",\"Male\",\"Male\",\"Male\",\"Male\",\"Male\",\"Male\",\"Male\",\"Male\",\"Male\",\"Male\",\"Male\",\"Male\",\"Male\",\"Male\",\"Male\",\"Male\",\"Male\",\"Male\",\"Male\",\"Male\",\"Male\",\"Male\",\"Male\",\"Male\",\"Male\",\"Male\",\"Male\",\"Male\",\"Male\",\"Male\",\"Male\",\"Male\",\"Male\",\"Male\",\"Male\",\"Male\",\"Male\",\"Male\",\"Male\",\"Male\",\"Male\",\"Male\",\"Male\",\"Male\",\"Male\",\"Male\",\"Male\",\"Male\",\"Male\",\"Male\",\"Male\",\"Male\",\"Male\",\"Male\",\"Male\",\"Male\",\"Male\",\"Male\",\"Male\",\"Male\",\"Male\",\"Male\",\"Male\",\"Male\",\"Male\",\"Male\",\"Male\",\"Male\",\"Male\",\"Male\",\"Male\",\"Male\",\"Male\",\"Male\",\"Male\",\"Male\",\"Male\",\"Male\",\"Male\",\"Male\",\"Male\",\"Male\",\"Male\",\"Male\",\"Male\",\"Male\",\"Male\",\"Male\",\"Male\",\"Male\",\"Male\",\"Male\",\"Male\",\"Male\",\"Male\",\"Male\",\"Male\",\"Male\",\"Male\",\"Male\",\"Male\",\"Male\",\"Male\",\"Male\",\"Male\",\"Male\",\"Male\",\"Male\",\"Male\",\"Male\",\"Male\",\"Male\",\"Male\",\"Male\",\"Male\",\"Male\",\"Male\",\"Male\",\"Male\",\"Male\",\"Male\",\"Male\",\"Male\",\"Male\",\"Male\",\"Male\",\"Male\",\"Male\",\"Male\",\"Male\",\"Male\",\"Male\",\"Male\",\"Male\",\"Male\",\"Male\",\"Male\",\"Male\",\"Male\",\"Male\",\"Male\",\"Male\",\"Male\",\"Male\",\"Male\",\"Male\",\"Male\",\"Male\",\"Male\",\"Male\",\"Male\",\"Male\",\"Male\",\"Male\",\"Male\",\"Male\",\"Male\",\"Male\",\"Male\",\"Male\",\"Male\",\"Male\",\"Male\",\"Male\",\"Male\",\"Male\",\"Male\",\"Male\",\"Male\",\"Male\",\"Male\",\"Male\",\"Male\",\"Male\",\"Male\",\"Male\",\"Male\",\"Male\",\"Male\",\"Male\",\"Male\",\"Male\",\"Male\",\"Male\",\"Male\",\"Male\",\"Male\",\"Male\",\"Male\",\"Male\",\"Male\",\"Male\",\"Male\",\"Male\",\"Male\",\"Male\",\"Male\",\"Male\",\"Male\",\"Male\",\"Male\",\"Male\",\"Male\",\"Male\",\"Male\",\"Male\",\"Male\",\"Male\",\"Male\",\"Male\",\"Male\",\"Male\",\"Male\",\"Male\",\"Male\",\"Male\",\"Male\",\"Male\",\"Male\",\"Male\",\"Male\",\"Male\",\"Male\",\"Male\",\"Male\",\"Male\",\"Male\",\"Male\",\"Male\",\"Male\",\"Male\",\"Male\",\"Male\",\"Male\",\"Male\",\"Male\",\"Male\",\"Male\",\"Male\",\"Male\",\"Male\",\"Male\",\"Male\",\"Male\",\"Male\",\"Male\",\"Male\",\"Male\",\"Male\",\"Male\",\"Male\",\"Male\",\"Male\",\"Male\",\"Male\",\"Male\",\"Male\",\"Male\",\"Male\",\"Male\",\"Male\",\"Male\",\"Male\",\"Male\",\"Male\",\"Male\",\"Male\",\"Male\",\"Male\",\"Male\",\"Male\",\"Male\",\"Male\",\"Male\",\"Male\",\"Male\",\"Male\",\"Male\",\"Male\",\"Male\",\"Male\",\"Male\",\"Male\",\"Male\",\"Male\",\"Male\",\"Male\",\"Male\",\"Male\",\"Male\",\"Male\",\"Male\",\"Male\",\"Male\",\"Male\",\"Male\",\"Male\",\"Male\",\"Male\",\"Male\",\"Male\",\"Male\",\"Male\",\"Male\",\"Male\",\"Male\",\"Male\",\"Male\",\"Male\",\"Male\",\"Male\",\"Male\",\"Male\",\"Male\",\"Male\",\"Male\",\"Male\",\"Male\",\"Male\",\"Male\",\"Male\",\"Male\",\"Male\",\"Male\",\"Male\",\"Male\",\"Male\",\"Male\",\"Male\",\"Male\",\"Male\",\"Male\",\"Male\",\"Male\",\"Male\",\"Male\",\"Male\",\"Male\",\"Male\",\"Male\",\"Male\",\"Male\",\"Male\",\"Male\",\"Male\",\"Male\",\"Male\",\"Male\",\"Male\",\"Male\",\"Male\",\"Male\",\"Male\",\"Male\",\"Male\",\"Male\",\"Male\",\"Male\",\"Male\",\"Male\",\"Male\",\"Male\",\"Male\",\"Male\",\"Male\",\"Male\",\"Male\",\"Male\",\"Male\",\"Male\",\"Male\",\"Male\",\"Male\",\"Male\",\"Male\",\"Male\",\"Male\",\"Male\",\"Male\",\"Male\",\"Male\",\"Male\",\"Male\",\"Male\",\"Male\",\"Male\",\"Male\",\"Male\",\"Male\",\"Male\",\"Male\",\"Male\",\"Male\",\"Male\",\"Male\",\"Male\",\"Male\",\"Male\",\"Male\",\"Male\",\"Male\",\"Male\",\"Male\",\"Male\",\"Male\",\"Male\",\"Male\",\"Male\",\"Male\",\"Male\",\"Male\",\"Male\",\"Male\",\"Male\",\"Male\",\"Male\",\"Male\",\"Male\",\"Male\",\"Male\",\"Male\",\"Male\",\"Male\",\"Male\",\"Male\",\"Male\",\"Male\",\"Male\",\"Male\",\"Male\",\"Male\",\"Male\",\"Male\",\"Male\",\"Male\",\"Male\",\"Male\",\"Male\",\"Male\",\"Male\",\"Male\",\"Male\",\"Male\",\"Male\",\"Male\",\"Male\",\"Male\",\"Male\",\"Male\",\"Male\",\"Male\",\"Male\",\"Male\",\"Male\",\"Male\",\"Male\",\"Male\",\"Male\",\"Male\",\"Male\",\"Male\",\"Male\",\"Male\",\"Male\",\"Male\",\"Male\",\"Male\",\"Male\",\"Male\",\"Male\",\"Male\",\"Male\",\"Male\",\"Male\",\"Male\",\"Male\",\"Male\",\"Male\",\"Male\",\"Male\",\"Male\",\"Male\",\"Male\",\"Male\",\"Male\",\"Male\",\"Male\",\"Male\",\"Male\",\"Male\",\"Male\",\"Male\",\"Male\",\"Male\",\"Male\",\"Male\",\"Male\",\"Male\",\"Male\",\"Male\",\"Male\",\"Male\",\"Male\",\"Male\",\"Male\",\"Male\",\"Male\",\"Male\",\"Male\",\"Male\",\"Male\",\"Male\",\"Male\",\"Male\",\"Male\",\"Male\",\"Male\",\"Male\",\"Male\",\"Male\",\"Male\",\"Male\",\"Male\",\"Male\",\"Male\",\"Male\",\"Male\",\"Male\",\"Male\",\"Male\",\"Male\",\"Male\",\"Male\",\"Male\",\"Male\",\"Male\",\"Male\",\"Male\",\"Male\",\"Male\",\"Male\",\"Male\",\"Male\",\"Male\",\"Male\",\"Male\",\"Male\",\"Male\",\"Male\",\"Male\",\"Male\",\"Male\",\"Male\",\"Male\",\"Male\",\"Male\",\"Male\",\"Male\",\"Male\",\"Male\",\"Male\",\"Male\",\"Male\",\"Male\",\"Male\",\"Male\",\"Male\",\"Male\",\"Male\",\"Male\",\"Male\",\"Male\",\"Male\",\"Male\",\"Male\",\"Male\",\"Male\",\"Male\",\"Male\",\"Male\",\"Male\",\"Male\",\"Male\",\"Male\",\"Male\",\"Male\",\"Male\",\"Male\",\"Male\",\"Male\",\"Male\",\"Male\",\"Male\",\"Male\",\"Male\",\"Male\",\"Male\",\"Male\",\"Male\",\"Male\",\"Male\",\"Male\",\"Male\",\"Male\",\"Male\",\"Male\",\"Male\",\"Male\",\"Male\",\"Male\",\"Male\",\"Male\",\"Male\",\"Male\",\"Male\",\"Male\",\"Male\",\"Male\",\"Male\",\"Male\",\"Male\",\"Male\",\"Male\",\"Male\",\"Male\",\"Male\",\"Male\",\"Male\",\"Male\",\"Male\",\"Male\",\"Male\",\"Male\",\"Male\",\"Male\",\"Male\",\"Male\",\"Male\",\"Male\",\"Male\",\"Male\",\"Male\",\"Male\",\"Male\",\"Male\",\"Male\",\"Male\",\"Male\",\"Male\",\"Male\",\"Male\",\"Male\",\"Male\",\"Male\",\"Male\",\"Male\",\"Male\",\"Male\",\"Male\",\"Male\",\"Male\",\"Male\",\"Male\",\"Male\",\"Male\",\"Male\",\"Male\",\"Male\",\"Male\",\"Male\",\"Male\",\"Male\",\"Male\",\"Male\",\"Male\",\"Male\",\"Male\",\"Male\",\"Male\",\"Male\",\"Male\",\"Male\",\"Male\",\"Male\",\"Male\",\"Male\",\"Male\",\"Male\",\"Male\",\"Male\",\"Male\",\"Male\",\"Male\",\"Male\",\"Male\",\"Male\",\"Male\",\"Male\",\"Male\",\"Male\",\"Male\",\"Male\",\"Male\",\"Male\",\"Male\",\"Male\",\"Male\",\"Male\",\"Male\",\"Male\",\"Male\",\"Male\",\"Male\",\"Male\",\"Male\",\"Male\",\"Male\",\"Male\",\"Male\",\"Male\",\"Male\",\"Male\",\"Male\",\"Male\",\"Male\",\"Male\",\"Male\",\"Male\",\"Male\",\"Male\",\"Male\",\"Male\",\"Male\",\"Male\",\"Male\",\"Male\",\"Male\",\"Male\",\"Male\",\"Male\",\"Male\",\"Male\",\"Male\",\"Male\",\"Male\",\"Male\",\"Male\",\"Male\",\"Male\",\"Male\",\"Male\",\"Male\",\"Male\",\"Male\",\"Male\",\"Male\",\"Male\",\"Male\",\"Male\",\"Male\",\"Male\",\"Male\",\"Male\",\"Male\",\"Male\",\"Male\",\"Male\",\"Male\",\"Male\",\"Male\",\"Male\",\"Male\",\"Male\",\"Male\",\"Male\",\"Male\",\"Male\",\"Male\",\"Male\",\"Male\",\"Male\",\"Male\",\"Male\",\"Male\",\"Male\",\"Male\",\"Male\",\"Male\",\"Male\",\"Male\",\"Male\",\"Male\",\"Male\",\"Male\",\"Male\",\"Male\",\"Male\",\"Male\",\"Male\",\"Male\",\"Male\",\"Male\",\"Male\",\"Male\",\"Male\",\"Male\",\"Male\",\"Male\",\"Male\",\"Male\",\"Male\",\"Male\",\"Male\",\"Male\",\"Male\",\"Male\",\"Male\",\"Male\",\"Male\",\"Male\",\"Male\",\"Male\",\"Male\",\"Male\",\"Male\",\"Male\",\"Male\",\"Male\",\"Male\",\"Male\",\"Male\",\"Male\",\"Male\",\"Male\",\"Male\",\"Male\",\"Male\",\"Male\",\"Male\",\"Male\",\"Male\",\"Male\",\"Male\",\"Male\",\"Male\",\"Male\",\"Male\",\"Male\",\"Male\",\"Male\",\"Male\",\"Male\",\"Male\",\"Male\",\"Male\",\"Male\",\"Male\",\"Male\",\"Male\",\"Male\",\"Male\",\"Male\",\"Male\",\"Male\",\"Male\",\"Male\",\"Male\",\"Male\",\"Male\",\"Male\",\"Male\",\"Male\",\"Male\",\"Male\",\"Male\",\"Male\",\"Male\",\"Male\",\"Male\",\"Male\",\"Male\",\"Male\",\"Male\",\"Male\",\"Male\",\"Male\",\"Male\",\"Male\",\"Male\",\"Male\",\"Male\",\"Male\",\"Male\",\"Male\",\"Male\",\"Male\",\"Male\",\"Male\",\"Male\",\"Male\",\"Male\",\"Male\",\"Male\",\"Male\",\"Male\",\"Male\",\"Male\",\"Male\",\"Male\",\"Male\",\"Male\",\"Male\",\"Male\",\"Male\",\"Male\",\"Male\",\"Male\",\"Male\",\"Male\",\"Male\",\"Male\",\"Male\",\"Male\",\"Male\",\"Male\",\"Male\",\"Male\",\"Male\",\"Male\",\"Male\",\"Male\",\"Male\",\"Male\",\"Male\",\"Male\",\"Male\",\"Male\",\"Male\",\"Male\",\"Male\",\"Male\",\"Male\",\"Male\",\"Male\",\"Male\",\"Male\",\"Male\",\"Male\",\"Male\",\"Male\",\"Male\",\"Male\",\"Male\",\"Male\",\"Male\",\"Male\",\"Male\",\"Male\",\"Male\",\"Male\",\"Male\",\"Male\",\"Male\",\"Male\",\"Male\",\"Male\",\"Male\",\"Male\",\"Male\",\"Male\",\"Male\",\"Male\",\"Male\",\"Male\",\"Male\",\"Male\",\"Male\",\"Male\",\"Male\",\"Male\",\"Male\",\"Male\",\"Male\",\"Male\",\"Male\",\"Male\",\"Male\",\"Male\",\"Male\",\"Male\",\"Male\",\"Male\",\"Male\",\"Male\",\"Male\",\"Male\",\"Male\",\"Male\",\"Male\",\"Male\",\"Male\",\"Male\",\"Male\",\"Male\",\"Male\",\"Male\",\"Male\",\"Male\",\"Male\",\"Male\",\"Male\",\"Male\",\"Male\",\"Male\",\"Male\",\"Male\",\"Male\",\"Male\",\"Male\",\"Male\",\"Male\",\"Male\",\"Male\",\"Male\",\"Male\",\"Male\",\"Male\",\"Male\",\"Male\",\"Male\",\"Male\",\"Male\",\"Male\",\"Male\",\"Male\",\"Male\",\"Male\",\"Male\",\"Male\",\"Male\",\"Male\",\"Male\",\"Male\",\"Male\",\"Male\",\"Male\",\"Male\",\"Male\",\"Male\",\"Male\",\"Male\",\"Male\",\"Male\",\"Male\",\"Male\",\"Male\",\"Male\",\"Male\",\"Male\",\"Male\",\"Male\",\"Male\",\"Male\",\"Male\",\"Male\",\"Male\",\"Male\",\"Male\"],\"xaxis\":\"x\",\"yaxis\":\"y\"},{\"alignmentgroup\":\"True\",\"bingroup\":\"x\",\"hovertemplate\":\"Gender=%{x}<br>count=%{y}<extra></extra>\",\"legendgroup\":\"Female\",\"marker\":{\"color\":\"#EF553B\",\"pattern\":{\"shape\":\"\"}},\"name\":\"Female\",\"offsetgroup\":\"Female\",\"orientation\":\"v\",\"showlegend\":true,\"type\":\"histogram\",\"x\":[\"Female\",\"Female\",\"Female\",\"Female\",\"Female\",\"Female\",\"Female\",\"Female\",\"Female\",\"Female\",\"Female\",\"Female\",\"Female\",\"Female\",\"Female\",\"Female\",\"Female\",\"Female\",\"Female\",\"Female\",\"Female\",\"Female\",\"Female\",\"Female\",\"Female\",\"Female\",\"Female\",\"Female\",\"Female\",\"Female\",\"Female\",\"Female\",\"Female\",\"Female\",\"Female\",\"Female\",\"Female\",\"Female\",\"Female\",\"Female\",\"Female\",\"Female\",\"Female\",\"Female\",\"Female\",\"Female\",\"Female\",\"Female\",\"Female\",\"Female\",\"Female\",\"Female\",\"Female\",\"Female\",\"Female\",\"Female\",\"Female\",\"Female\",\"Female\",\"Female\",\"Female\",\"Female\",\"Female\",\"Female\",\"Female\",\"Female\",\"Female\",\"Female\",\"Female\",\"Female\",\"Female\",\"Female\",\"Female\",\"Female\",\"Female\",\"Female\",\"Female\",\"Female\",\"Female\",\"Female\",\"Female\",\"Female\",\"Female\",\"Female\",\"Female\",\"Female\",\"Female\",\"Female\",\"Female\",\"Female\",\"Female\",\"Female\",\"Female\",\"Female\",\"Female\",\"Female\",\"Female\",\"Female\",\"Female\",\"Female\",\"Female\",\"Female\",\"Female\",\"Female\",\"Female\",\"Female\",\"Female\",\"Female\",\"Female\",\"Female\",\"Female\",\"Female\",\"Female\",\"Female\",\"Female\",\"Female\",\"Female\",\"Female\",\"Female\",\"Female\",\"Female\",\"Female\",\"Female\",\"Female\",\"Female\",\"Female\",\"Female\",\"Female\",\"Female\",\"Female\",\"Female\",\"Female\",\"Female\",\"Female\",\"Female\",\"Female\",\"Female\",\"Female\",\"Female\",\"Female\",\"Female\",\"Female\",\"Female\",\"Female\",\"Female\",\"Female\",\"Female\",\"Female\",\"Female\",\"Female\",\"Female\",\"Female\",\"Female\",\"Female\",\"Female\",\"Female\",\"Female\",\"Female\",\"Female\",\"Female\",\"Female\",\"Female\",\"Female\",\"Female\",\"Female\",\"Female\",\"Female\",\"Female\",\"Female\",\"Female\",\"Female\",\"Female\",\"Female\",\"Female\",\"Female\",\"Female\",\"Female\",\"Female\",\"Female\",\"Female\",\"Female\",\"Female\",\"Female\",\"Female\",\"Female\",\"Female\",\"Female\",\"Female\",\"Female\",\"Female\",\"Female\",\"Female\",\"Female\",\"Female\",\"Female\",\"Female\",\"Female\",\"Female\",\"Female\",\"Female\",\"Female\",\"Female\",\"Female\",\"Female\",\"Female\",\"Female\",\"Female\",\"Female\",\"Female\",\"Female\",\"Female\",\"Female\",\"Female\",\"Female\",\"Female\",\"Female\",\"Female\",\"Female\",\"Female\",\"Female\",\"Female\",\"Female\",\"Female\",\"Female\",\"Female\",\"Female\",\"Female\",\"Female\",\"Female\",\"Female\",\"Female\",\"Female\",\"Female\",\"Female\",\"Female\",\"Female\",\"Female\",\"Female\",\"Female\",\"Female\",\"Female\",\"Female\",\"Female\",\"Female\",\"Female\",\"Female\",\"Female\",\"Female\",\"Female\",\"Female\",\"Female\",\"Female\",\"Female\",\"Female\",\"Female\",\"Female\",\"Female\",\"Female\",\"Female\",\"Female\",\"Female\",\"Female\",\"Female\",\"Female\",\"Female\",\"Female\",\"Female\",\"Female\",\"Female\",\"Female\",\"Female\",\"Female\",\"Female\",\"Female\",\"Female\",\"Female\",\"Female\",\"Female\",\"Female\",\"Female\",\"Female\",\"Female\",\"Female\",\"Female\",\"Female\",\"Female\",\"Female\",\"Female\",\"Female\",\"Female\",\"Female\",\"Female\",\"Female\",\"Female\",\"Female\",\"Female\",\"Female\",\"Female\",\"Female\",\"Female\",\"Female\",\"Female\",\"Female\",\"Female\",\"Female\",\"Female\",\"Female\",\"Female\",\"Female\",\"Female\",\"Female\",\"Female\",\"Female\",\"Female\",\"Female\",\"Female\",\"Female\",\"Female\",\"Female\",\"Female\",\"Female\",\"Female\",\"Female\",\"Female\",\"Female\",\"Female\",\"Female\",\"Female\",\"Female\",\"Female\",\"Female\",\"Female\",\"Female\",\"Female\",\"Female\",\"Female\",\"Female\",\"Female\",\"Female\",\"Female\",\"Female\",\"Female\",\"Female\",\"Female\",\"Female\",\"Female\",\"Female\",\"Female\",\"Female\",\"Female\",\"Female\",\"Female\",\"Female\",\"Female\",\"Female\",\"Female\",\"Female\",\"Female\",\"Female\",\"Female\",\"Female\",\"Female\",\"Female\",\"Female\",\"Female\",\"Female\",\"Female\",\"Female\",\"Female\",\"Female\",\"Female\",\"Female\",\"Female\",\"Female\",\"Female\",\"Female\",\"Female\",\"Female\",\"Female\",\"Female\",\"Female\",\"Female\",\"Female\",\"Female\",\"Female\",\"Female\",\"Female\",\"Female\",\"Female\",\"Female\",\"Female\",\"Female\",\"Female\",\"Female\",\"Female\",\"Female\",\"Female\",\"Female\",\"Female\",\"Female\",\"Female\",\"Female\",\"Female\",\"Female\",\"Female\",\"Female\",\"Female\",\"Female\",\"Female\",\"Female\",\"Female\",\"Female\",\"Female\",\"Female\",\"Female\",\"Female\",\"Female\",\"Female\",\"Female\",\"Female\",\"Female\",\"Female\",\"Female\",\"Female\",\"Female\",\"Female\",\"Female\",\"Female\",\"Female\",\"Female\",\"Female\",\"Female\",\"Female\",\"Female\",\"Female\",\"Female\",\"Female\",\"Female\",\"Female\",\"Female\",\"Female\",\"Female\",\"Female\",\"Female\",\"Female\",\"Female\",\"Female\",\"Female\",\"Female\",\"Female\",\"Female\",\"Female\",\"Female\",\"Female\",\"Female\",\"Female\",\"Female\",\"Female\",\"Female\",\"Female\",\"Female\",\"Female\",\"Female\",\"Female\",\"Female\",\"Female\",\"Female\",\"Female\",\"Female\",\"Female\",\"Female\",\"Female\",\"Female\",\"Female\",\"Female\",\"Female\",\"Female\",\"Female\",\"Female\",\"Female\",\"Female\",\"Female\",\"Female\",\"Female\",\"Female\",\"Female\",\"Female\",\"Female\",\"Female\",\"Female\",\"Female\"],\"xaxis\":\"x\",\"yaxis\":\"y\"}],                        {\"barmode\":\"relative\",\"legend\":{\"title\":{\"text\":\"Gender\"},\"tracegroupgap\":0},\"template\":{\"data\":{\"bar\":[{\"error_x\":{\"color\":\"#2a3f5f\"},\"error_y\":{\"color\":\"#2a3f5f\"},\"marker\":{\"line\":{\"color\":\"#E5ECF6\",\"width\":0.5},\"pattern\":{\"fillmode\":\"overlay\",\"size\":10,\"solidity\":0.2}},\"type\":\"bar\"}],\"barpolar\":[{\"marker\":{\"line\":{\"color\":\"#E5ECF6\",\"width\":0.5},\"pattern\":{\"fillmode\":\"overlay\",\"size\":10,\"solidity\":0.2}},\"type\":\"barpolar\"}],\"carpet\":[{\"aaxis\":{\"endlinecolor\":\"#2a3f5f\",\"gridcolor\":\"white\",\"linecolor\":\"white\",\"minorgridcolor\":\"white\",\"startlinecolor\":\"#2a3f5f\"},\"baxis\":{\"endlinecolor\":\"#2a3f5f\",\"gridcolor\":\"white\",\"linecolor\":\"white\",\"minorgridcolor\":\"white\",\"startlinecolor\":\"#2a3f5f\"},\"type\":\"carpet\"}],\"choropleth\":[{\"colorbar\":{\"outlinewidth\":0,\"ticks\":\"\"},\"type\":\"choropleth\"}],\"contour\":[{\"colorbar\":{\"outlinewidth\":0,\"ticks\":\"\"},\"colorscale\":[[0.0,\"#0d0887\"],[0.1111111111111111,\"#46039f\"],[0.2222222222222222,\"#7201a8\"],[0.3333333333333333,\"#9c179e\"],[0.4444444444444444,\"#bd3786\"],[0.5555555555555556,\"#d8576b\"],[0.6666666666666666,\"#ed7953\"],[0.7777777777777778,\"#fb9f3a\"],[0.8888888888888888,\"#fdca26\"],[1.0,\"#f0f921\"]],\"type\":\"contour\"}],\"contourcarpet\":[{\"colorbar\":{\"outlinewidth\":0,\"ticks\":\"\"},\"type\":\"contourcarpet\"}],\"heatmap\":[{\"colorbar\":{\"outlinewidth\":0,\"ticks\":\"\"},\"colorscale\":[[0.0,\"#0d0887\"],[0.1111111111111111,\"#46039f\"],[0.2222222222222222,\"#7201a8\"],[0.3333333333333333,\"#9c179e\"],[0.4444444444444444,\"#bd3786\"],[0.5555555555555556,\"#d8576b\"],[0.6666666666666666,\"#ed7953\"],[0.7777777777777778,\"#fb9f3a\"],[0.8888888888888888,\"#fdca26\"],[1.0,\"#f0f921\"]],\"type\":\"heatmap\"}],\"heatmapgl\":[{\"colorbar\":{\"outlinewidth\":0,\"ticks\":\"\"},\"colorscale\":[[0.0,\"#0d0887\"],[0.1111111111111111,\"#46039f\"],[0.2222222222222222,\"#7201a8\"],[0.3333333333333333,\"#9c179e\"],[0.4444444444444444,\"#bd3786\"],[0.5555555555555556,\"#d8576b\"],[0.6666666666666666,\"#ed7953\"],[0.7777777777777778,\"#fb9f3a\"],[0.8888888888888888,\"#fdca26\"],[1.0,\"#f0f921\"]],\"type\":\"heatmapgl\"}],\"histogram\":[{\"marker\":{\"pattern\":{\"fillmode\":\"overlay\",\"size\":10,\"solidity\":0.2}},\"type\":\"histogram\"}],\"histogram2d\":[{\"colorbar\":{\"outlinewidth\":0,\"ticks\":\"\"},\"colorscale\":[[0.0,\"#0d0887\"],[0.1111111111111111,\"#46039f\"],[0.2222222222222222,\"#7201a8\"],[0.3333333333333333,\"#9c179e\"],[0.4444444444444444,\"#bd3786\"],[0.5555555555555556,\"#d8576b\"],[0.6666666666666666,\"#ed7953\"],[0.7777777777777778,\"#fb9f3a\"],[0.8888888888888888,\"#fdca26\"],[1.0,\"#f0f921\"]],\"type\":\"histogram2d\"}],\"histogram2dcontour\":[{\"colorbar\":{\"outlinewidth\":0,\"ticks\":\"\"},\"colorscale\":[[0.0,\"#0d0887\"],[0.1111111111111111,\"#46039f\"],[0.2222222222222222,\"#7201a8\"],[0.3333333333333333,\"#9c179e\"],[0.4444444444444444,\"#bd3786\"],[0.5555555555555556,\"#d8576b\"],[0.6666666666666666,\"#ed7953\"],[0.7777777777777778,\"#fb9f3a\"],[0.8888888888888888,\"#fdca26\"],[1.0,\"#f0f921\"]],\"type\":\"histogram2dcontour\"}],\"mesh3d\":[{\"colorbar\":{\"outlinewidth\":0,\"ticks\":\"\"},\"type\":\"mesh3d\"}],\"parcoords\":[{\"line\":{\"colorbar\":{\"outlinewidth\":0,\"ticks\":\"\"}},\"type\":\"parcoords\"}],\"pie\":[{\"automargin\":true,\"type\":\"pie\"}],\"scatter\":[{\"marker\":{\"colorbar\":{\"outlinewidth\":0,\"ticks\":\"\"}},\"type\":\"scatter\"}],\"scatter3d\":[{\"line\":{\"colorbar\":{\"outlinewidth\":0,\"ticks\":\"\"}},\"marker\":{\"colorbar\":{\"outlinewidth\":0,\"ticks\":\"\"}},\"type\":\"scatter3d\"}],\"scattercarpet\":[{\"marker\":{\"colorbar\":{\"outlinewidth\":0,\"ticks\":\"\"}},\"type\":\"scattercarpet\"}],\"scattergeo\":[{\"marker\":{\"colorbar\":{\"outlinewidth\":0,\"ticks\":\"\"}},\"type\":\"scattergeo\"}],\"scattergl\":[{\"marker\":{\"colorbar\":{\"outlinewidth\":0,\"ticks\":\"\"}},\"type\":\"scattergl\"}],\"scattermapbox\":[{\"marker\":{\"colorbar\":{\"outlinewidth\":0,\"ticks\":\"\"}},\"type\":\"scattermapbox\"}],\"scatterpolar\":[{\"marker\":{\"colorbar\":{\"outlinewidth\":0,\"ticks\":\"\"}},\"type\":\"scatterpolar\"}],\"scatterpolargl\":[{\"marker\":{\"colorbar\":{\"outlinewidth\":0,\"ticks\":\"\"}},\"type\":\"scatterpolargl\"}],\"scatterternary\":[{\"marker\":{\"colorbar\":{\"outlinewidth\":0,\"ticks\":\"\"}},\"type\":\"scatterternary\"}],\"surface\":[{\"colorbar\":{\"outlinewidth\":0,\"ticks\":\"\"},\"colorscale\":[[0.0,\"#0d0887\"],[0.1111111111111111,\"#46039f\"],[0.2222222222222222,\"#7201a8\"],[0.3333333333333333,\"#9c179e\"],[0.4444444444444444,\"#bd3786\"],[0.5555555555555556,\"#d8576b\"],[0.6666666666666666,\"#ed7953\"],[0.7777777777777778,\"#fb9f3a\"],[0.8888888888888888,\"#fdca26\"],[1.0,\"#f0f921\"]],\"type\":\"surface\"}],\"table\":[{\"cells\":{\"fill\":{\"color\":\"#EBF0F8\"},\"line\":{\"color\":\"white\"}},\"header\":{\"fill\":{\"color\":\"#C8D4E3\"},\"line\":{\"color\":\"white\"}},\"type\":\"table\"}]},\"layout\":{\"annotationdefaults\":{\"arrowcolor\":\"#2a3f5f\",\"arrowhead\":0,\"arrowwidth\":1},\"autotypenumbers\":\"strict\",\"coloraxis\":{\"colorbar\":{\"outlinewidth\":0,\"ticks\":\"\"}},\"colorscale\":{\"diverging\":[[0,\"#8e0152\"],[0.1,\"#c51b7d\"],[0.2,\"#de77ae\"],[0.3,\"#f1b6da\"],[0.4,\"#fde0ef\"],[0.5,\"#f7f7f7\"],[0.6,\"#e6f5d0\"],[0.7,\"#b8e186\"],[0.8,\"#7fbc41\"],[0.9,\"#4d9221\"],[1,\"#276419\"]],\"sequential\":[[0.0,\"#0d0887\"],[0.1111111111111111,\"#46039f\"],[0.2222222222222222,\"#7201a8\"],[0.3333333333333333,\"#9c179e\"],[0.4444444444444444,\"#bd3786\"],[0.5555555555555556,\"#d8576b\"],[0.6666666666666666,\"#ed7953\"],[0.7777777777777778,\"#fb9f3a\"],[0.8888888888888888,\"#fdca26\"],[1.0,\"#f0f921\"]],\"sequentialminus\":[[0.0,\"#0d0887\"],[0.1111111111111111,\"#46039f\"],[0.2222222222222222,\"#7201a8\"],[0.3333333333333333,\"#9c179e\"],[0.4444444444444444,\"#bd3786\"],[0.5555555555555556,\"#d8576b\"],[0.6666666666666666,\"#ed7953\"],[0.7777777777777778,\"#fb9f3a\"],[0.8888888888888888,\"#fdca26\"],[1.0,\"#f0f921\"]]},\"colorway\":[\"#636efa\",\"#EF553B\",\"#00cc96\",\"#ab63fa\",\"#FFA15A\",\"#19d3f3\",\"#FF6692\",\"#B6E880\",\"#FF97FF\",\"#FECB52\"],\"font\":{\"color\":\"#2a3f5f\"},\"geo\":{\"bgcolor\":\"white\",\"lakecolor\":\"white\",\"landcolor\":\"#E5ECF6\",\"showlakes\":true,\"showland\":true,\"subunitcolor\":\"white\"},\"hoverlabel\":{\"align\":\"left\"},\"hovermode\":\"closest\",\"mapbox\":{\"style\":\"light\"},\"paper_bgcolor\":\"white\",\"plot_bgcolor\":\"#E5ECF6\",\"polar\":{\"angularaxis\":{\"gridcolor\":\"white\",\"linecolor\":\"white\",\"ticks\":\"\"},\"bgcolor\":\"#E5ECF6\",\"radialaxis\":{\"gridcolor\":\"white\",\"linecolor\":\"white\",\"ticks\":\"\"}},\"scene\":{\"xaxis\":{\"backgroundcolor\":\"#E5ECF6\",\"gridcolor\":\"white\",\"gridwidth\":2,\"linecolor\":\"white\",\"showbackground\":true,\"ticks\":\"\",\"zerolinecolor\":\"white\"},\"yaxis\":{\"backgroundcolor\":\"#E5ECF6\",\"gridcolor\":\"white\",\"gridwidth\":2,\"linecolor\":\"white\",\"showbackground\":true,\"ticks\":\"\",\"zerolinecolor\":\"white\"},\"zaxis\":{\"backgroundcolor\":\"#E5ECF6\",\"gridcolor\":\"white\",\"gridwidth\":2,\"linecolor\":\"white\",\"showbackground\":true,\"ticks\":\"\",\"zerolinecolor\":\"white\"}},\"shapedefaults\":{\"line\":{\"color\":\"#2a3f5f\"}},\"ternary\":{\"aaxis\":{\"gridcolor\":\"white\",\"linecolor\":\"white\",\"ticks\":\"\"},\"baxis\":{\"gridcolor\":\"white\",\"linecolor\":\"white\",\"ticks\":\"\"},\"bgcolor\":\"#E5ECF6\",\"caxis\":{\"gridcolor\":\"white\",\"linecolor\":\"white\",\"ticks\":\"\"}},\"title\":{\"x\":0.05},\"xaxis\":{\"automargin\":true,\"gridcolor\":\"white\",\"linecolor\":\"white\",\"ticks\":\"\",\"title\":{\"standoff\":15},\"zerolinecolor\":\"white\",\"zerolinewidth\":2},\"yaxis\":{\"automargin\":true,\"gridcolor\":\"white\",\"linecolor\":\"white\",\"ticks\":\"\",\"title\":{\"standoff\":15},\"zerolinecolor\":\"white\",\"zerolinewidth\":2}}},\"title\":{\"text\":\"<b>Total Male and Female</b>\"},\"xaxis\":{\"anchor\":\"y\",\"categoryarray\":[\"Male\",\"Female\"],\"categoryorder\":\"array\",\"domain\":[0.0,1.0],\"title\":{\"text\":\"Gender\"}},\"yaxis\":{\"anchor\":\"x\",\"domain\":[0.0,1.0],\"title\":{\"text\":\"count\"}}},                        {\"responsive\": true}                    ).then(function(){\n",
       "                            \n",
       "var gd = document.getElementById('4f54d307-b684-4a6e-97c7-238c30673b20');\n",
       "var x = new MutationObserver(function (mutations, observer) {{\n",
       "        var display = window.getComputedStyle(gd).display;\n",
       "        if (!display || display === 'none') {{\n",
       "            console.log([gd, 'removed!']);\n",
       "            Plotly.purge(gd);\n",
       "            observer.disconnect();\n",
       "        }}\n",
       "}});\n",
       "\n",
       "// Listen for the removal of the full notebook cells\n",
       "var notebookContainer = gd.closest('#notebook-container');\n",
       "if (notebookContainer) {{\n",
       "    x.observe(notebookContainer, {childList: true});\n",
       "}}\n",
       "\n",
       "// Listen for the clearing of the current output cell\n",
       "var outputEl = gd.closest('.output');\n",
       "if (outputEl) {{\n",
       "    x.observe(outputEl, {childList: true});\n",
       "}}\n",
       "\n",
       "                        })                };                });            </script>        </div>"
      ]
     },
     "metadata": {},
     "output_type": "display_data"
    }
   ],
   "source": [
    "px.histogram(data, x = \"Gender\", title = \"<b>Total Male and Female</b>\", color = \"Gender\")"
   ]
  },
  {
   "cell_type": "code",
   "execution_count": 11,
   "id": "b885c9b3",
   "metadata": {
    "execution": {
     "iopub.execute_input": "2021-11-14T17:06:58.695705Z",
     "iopub.status.busy": "2021-11-14T17:06:58.695038Z",
     "iopub.status.idle": "2021-11-14T17:06:58.814321Z",
     "shell.execute_reply": "2021-11-14T17:06:58.814819Z",
     "shell.execute_reply.started": "2021-11-14T16:29:47.681240Z"
    },
    "papermill": {
     "duration": 0.197672,
     "end_time": "2021-11-14T17:06:58.814983",
     "exception": false,
     "start_time": "2021-11-14T17:06:58.617311",
     "status": "completed"
    },
    "tags": []
   },
   "outputs": [
    {
     "data": {
      "text/html": [
       "<div>                            <div id=\"4b9a4749-e001-4b8d-822a-944fb87a4308\" class=\"plotly-graph-div\" style=\"height:525px; width:100%;\"></div>            <script type=\"text/javascript\">                require([\"plotly\"], function(Plotly) {                    window.PLOTLYENV=window.PLOTLYENV || {};                                    if (document.getElementById(\"4b9a4749-e001-4b8d-822a-944fb87a4308\")) {                    Plotly.newPlot(                        \"4b9a4749-e001-4b8d-822a-944fb87a4308\",                        [{\"domain\":{\"x\":[0.0,1.0],\"y\":[0.0,1.0]},\"hole\":0.5,\"hovertemplate\":\"Gender=%{label}<extra></extra>\",\"labels\":[\"Male\",\"Female\",\"Female\",\"Male\",\"Male\",\"Male\",\"Male\",\"Male\",\"Male\",\"Female\",\"Male\",\"Female\",\"Female\",\"Male\",\"Female\",\"Male\",\"Female\",\"Male\",\"Male\",\"Male\",\"Male\",\"Male\",\"Male\",\"Male\",\"Male\",\"Male\",\"Male\",\"Male\",\"Male\",\"Male\",\"Male\",\"Male\",\"Female\",\"Male\",\"Male\",\"Male\",\"Male\",\"Male\",\"Male\",\"Male\",\"Male\",\"Male\",\"Male\",\"Male\",\"Female\",\"Female\",\"Male\",\"Male\",\"Male\",\"Female\",\"Male\",\"Male\",\"Female\",\"Male\",\"Female\",\"Male\",\"Male\",\"Male\",\"Male\",\"Female\",\"Male\",\"Male\",\"Male\",\"Male\",\"Male\",\"Male\",\"Male\",\"Male\",\"Male\",\"Male\",\"Male\",\"Male\",\"Male\",\"Male\",\"Male\",\"Male\",\"Male\",\"Male\",\"Male\",\"Male\",\"Male\",\"Male\",\"Male\",\"Male\",\"Male\",\"Male\",\"Male\",\"Male\",\"Female\",\"Male\",\"Male\",\"Male\",\"Male\",\"Female\",\"Male\",\"Male\",\"Male\",\"Male\",\"Female\",\"Male\",\"Male\",\"Male\",\"Male\",\"Male\",\"Male\",\"Male\",\"Female\",\"Male\",\"Male\",\"Male\",\"Male\",\"Male\",\"Male\",\"Male\",\"Male\",\"Male\",\"Male\",\"Male\",\"Male\",\"Male\",\"Female\",\"Male\",\"Male\",\"Male\",\"Male\",\"Male\",\"Male\",\"Male\",\"Male\",\"Male\",\"Male\",\"Male\",\"Female\",\"Male\",\"Male\",\"Male\",\"Male\",\"Male\",\"Male\",\"Male\",\"Male\",\"Male\",\"Male\",\"Male\",\"Male\",\"Male\",\"Male\",\"Male\",\"Male\",\"Male\",\"Male\",\"Female\",\"Male\",\"Female\",\"Male\",\"Male\",\"Male\",\"Male\",\"Male\",\"Male\",\"Male\",\"Male\",\"Male\",\"Male\",\"Male\",\"Male\",\"Male\",\"Female\",\"Male\",\"Male\",\"Male\",\"Female\",\"Male\",\"Male\",\"Male\",\"Male\",\"Male\",\"Female\",\"Male\",\"Female\",\"Female\",\"Male\",\"Male\",\"Male\",\"Male\",\"Male\",\"Female\",\"Male\",\"Female\",\"Female\",\"Male\",\"Male\",\"Male\",\"Male\",\"Male\",\"Female\",\"Male\",\"Male\",\"Female\",\"Male\",\"Male\",\"Male\",\"Female\",\"Male\",\"Female\",\"Male\",\"Male\",\"Male\",\"Female\",\"Male\",\"Male\",\"Male\",\"Male\",\"Male\",\"Male\",\"Female\",\"Male\",\"Male\",\"Male\",\"Male\",\"Male\",\"Male\",\"Male\",\"Male\",\"Male\",\"Male\",\"Female\",\"Male\",\"Female\",\"Male\",\"Male\",\"Male\",\"Female\",\"Male\",\"Male\",\"Male\",\"Male\",\"Female\",\"Female\",\"Female\",\"Female\",\"Female\",\"Male\",\"Male\",\"Male\",\"Male\",\"Male\",\"Male\",\"Female\",\"Male\",\"Male\",\"Female\",\"Male\",\"Male\",\"Male\",\"Female\",\"Male\",\"Male\",\"Male\",\"Male\",\"Female\",\"Male\",\"Male\",\"Male\",\"Male\",\"Male\",\"Female\",\"Male\",\"Male\",\"Male\",\"Male\",\"Male\",\"Male\",\"Male\",\"Male\",\"Male\",\"Male\",\"Female\",\"Male\",\"Male\",\"Female\",\"Female\",\"Male\",\"Male\",\"Male\",\"Male\",\"Male\",\"Male\",\"Male\",\"Male\",\"Male\",\"Male\",\"Female\",\"Male\",\"Male\",\"Male\",\"Male\",\"Male\",\"Male\",\"Male\",\"Male\",\"Male\",\"Male\",\"Male\",\"Male\",\"Male\",\"Male\",\"Male\",\"Female\",\"Male\",\"Male\",\"Male\",\"Female\",\"Male\",\"Male\",\"Male\",\"Female\",\"Male\",\"Female\",\"Male\",\"Male\",\"Male\",\"Male\",\"Male\",\"Male\",\"Male\",\"Male\",\"Male\",\"Male\",\"Male\",\"Male\",\"Female\",\"Male\",\"Male\",\"Male\",\"Male\",\"Male\",\"Male\",\"Female\",\"Male\",\"Male\",\"Male\",\"Male\",\"Female\",\"Male\",\"Male\",\"Male\",\"Male\",\"Male\",\"Female\",\"Female\",\"Male\",\"Male\",\"Male\",\"Male\",\"Male\",\"Male\",\"Male\",\"Male\",\"Male\",\"Male\",\"Male\",\"Male\",\"Male\",\"Male\",\"Male\",\"Male\",\"Male\",\"Female\",\"Male\",\"Male\",\"Female\",\"Male\",\"Male\",\"Male\",\"Male\",\"Male\",\"Female\",\"Male\",\"Male\",\"Male\",\"Male\",\"Male\",\"Male\",\"Female\",\"Male\",\"Male\",\"Male\",\"Female\",\"Female\",\"Male\",\"Male\",\"Male\",\"Male\",\"Male\",\"Male\",\"Male\",\"Male\",\"Female\",\"Male\",\"Male\",\"Male\",\"Male\",\"Female\",\"Female\",\"Male\",\"Male\",\"Male\",\"Male\",\"Male\",\"Male\",\"Male\",\"Male\",\"Male\",\"Male\",\"Male\",\"Male\",\"Male\",\"Male\",\"Male\",\"Male\",\"Male\",\"Male\",\"Male\",\"Male\",\"Male\",\"Male\",\"Male\",\"Female\",\"Male\",\"Female\",\"Female\",\"Male\",\"Male\",\"Male\",\"Male\",\"Male\",\"Female\",\"Male\",\"Male\",\"Male\",\"Male\",\"Male\",\"Male\",\"Male\",\"Male\",\"Male\",\"Male\",\"Male\",\"Male\",\"Male\",\"Male\",\"Male\",\"Male\",\"Male\",\"Female\",\"Male\",\"Male\",\"Male\",\"Male\",\"Male\",\"Male\",\"Male\",\"Male\",\"Male\",\"Male\",\"Male\",\"Male\",\"Female\",\"Male\",\"Male\",\"Male\",\"Male\",\"Male\",\"Male\",\"Male\",\"Female\",\"Male\",\"Male\",\"Male\",\"Male\",\"Female\",\"Female\",\"Male\",\"Male\",\"Female\",\"Male\",\"Male\",\"Male\",\"Male\",\"Male\",\"Male\",\"Male\",\"Male\",\"Male\",\"Male\",\"Male\",\"Male\",\"Male\",\"Male\",\"Male\",\"Male\",\"Male\",\"Male\",\"Male\",\"Male\",\"Female\",\"Male\",\"Male\",\"Male\",\"Male\",\"Male\",\"Female\",\"Male\",\"Male\",\"Female\",\"Male\",\"Female\",\"Female\",\"Male\",\"Male\",\"Male\",\"Male\",\"Male\",\"Male\",\"Male\",\"Male\",\"Male\",\"Male\",\"Male\",\"Male\",\"Male\",\"Male\",\"Male\",\"Female\",\"Male\",\"Male\",\"Male\",\"Male\",\"Male\",\"Male\",\"Male\",\"Male\",\"Male\",\"Male\",\"Male\",\"Female\",\"Female\",\"Female\",\"Male\",\"Male\",\"Male\",\"Male\",\"Female\",\"Male\",\"Male\",\"Male\",\"Female\",\"Male\",\"Male\",\"Male\",\"Male\",\"Male\",\"Male\",\"Male\",\"Male\",\"Male\",\"Male\",\"Male\",\"Male\",\"Male\",\"Male\",\"Male\",\"Male\",\"Female\",\"Male\",\"Male\",\"Male\",\"Male\",\"Male\",\"Male\",\"Male\",\"Male\",\"Male\",\"Male\",\"Female\",\"Male\",\"Male\",\"Male\",\"Male\",\"Male\",\"Male\",\"Male\",\"Male\",\"Male\",\"Male\",\"Male\",\"Female\",\"Male\",\"Male\",\"Male\",\"Female\",\"Male\",\"Male\",\"Male\",\"Female\",\"Male\",\"Male\",\"Male\",\"Male\",\"Male\",\"Male\",\"Male\",\"Male\",\"Male\",\"Male\",\"Male\",\"Male\",\"Male\",\"Male\",\"Female\",\"Male\",\"Male\",\"Female\",\"Female\",\"Male\",\"Male\",\"Male\",\"Male\",\"Male\",\"Female\",\"Male\",\"Male\",\"Male\",\"Male\",\"Male\",\"Male\",\"Male\",\"Male\",\"Female\",\"Male\",\"Female\",\"Male\",\"Male\",\"Female\",\"Male\",\"Male\",\"Female\",\"Female\",\"Male\",\"Male\",\"Male\",\"Male\",\"Male\",\"Male\",\"Male\",\"Female\",\"Female\",\"Male\",\"Male\",\"Male\",\"Male\",\"Male\",\"Male\",\"Male\",\"Male\",\"Male\",\"Male\",\"Female\",\"Male\",\"Male\",\"Male\",\"Male\",\"Female\",\"Male\",\"Male\",\"Male\",\"Male\",\"Female\",\"Female\",\"Female\",\"Male\",\"Male\",\"Female\",\"Male\",\"Male\",\"Male\",\"Male\",\"Male\",\"Male\",\"Male\",\"Male\",\"Male\",\"Male\",\"Male\",\"Female\",\"Male\",\"Male\",\"Male\",\"Male\",\"Male\",\"Male\",\"Female\",\"Male\",\"Female\",\"Male\",\"Male\",\"Male\",\"Male\",\"Male\",\"Female\",\"Male\",\"Male\",\"Male\",\"Male\",\"Male\",\"Male\",\"Male\",\"Male\",\"Male\",\"Male\",\"Male\",\"Male\",\"Male\",\"Female\",\"Male\",\"Male\",\"Male\",\"Male\",\"Male\",\"Male\",\"Male\",\"Female\",\"Male\",\"Male\",\"Male\",\"Male\",\"Male\",\"Female\",\"Male\",\"Male\",\"Male\",\"Male\",\"Male\",\"Male\",\"Male\",\"Male\",\"Male\",\"Male\",\"Male\",\"Female\",\"Male\",\"Male\",\"Male\",\"Male\",\"Male\",\"Male\",\"Male\",\"Female\",\"Male\",\"Male\",\"Male\",\"Male\",\"Male\",\"Female\",\"Male\",\"Female\",\"Male\",\"Female\",\"Male\",\"Male\",\"Female\",\"Male\",\"Male\",\"Male\",\"Female\",\"Male\",\"Male\",\"Male\",\"Male\",\"Female\",\"Male\",\"Female\",\"Male\",\"Male\",\"Male\",\"Male\",\"Female\",\"Female\",\"Male\",\"Male\",\"Male\",\"Male\",\"Male\",\"Male\",\"Female\",\"Male\",\"Female\",\"Male\",\"Male\",\"Female\",\"Male\",\"Male\",\"Female\",\"Male\",\"Male\",\"Male\",\"Male\",\"Male\",\"Male\",\"Male\",\"Male\",\"Male\",\"Female\",\"Male\",\"Male\",\"Male\",\"Male\",\"Female\",\"Male\",\"Female\",\"Male\",\"Male\",\"Male\",\"Male\",\"Male\",\"Male\",\"Female\",\"Male\",\"Female\",\"Male\",\"Male\",\"Male\",\"Male\",\"Male\",\"Female\",\"Male\",\"Male\",\"Female\",\"Male\",\"Male\",\"Male\",\"Male\",\"Male\",\"Male\",\"Male\",\"Male\",\"Male\",\"Male\",\"Male\",\"Male\",\"Female\",\"Male\",\"Male\",\"Male\",\"Male\",\"Male\",\"Male\",\"Male\",\"Male\",\"Male\",\"Male\",\"Male\",\"Male\",\"Female\",\"Male\",\"Male\",\"Male\",\"Female\",\"Male\",\"Female\",\"Male\",\"Male\",\"Male\",\"Male\",\"Male\",\"Male\",\"Male\",\"Male\",\"Male\",\"Male\",\"Female\",\"Male\",\"Male\",\"Male\",\"Male\",\"Male\",\"Male\",\"Male\",\"Male\",\"Male\",\"Male\",\"Female\",\"Male\",\"Male\",\"Male\",\"Male\",\"Male\",\"Female\",\"Male\",\"Male\",\"Female\",\"Male\",\"Male\",\"Male\",\"Male\",\"Male\",\"Male\",\"Male\",\"Male\",\"Male\",\"Male\",\"Male\",\"Male\",\"Female\",\"Male\",\"Female\",\"Male\",\"Male\",\"Male\",\"Male\",\"Male\",\"Male\",\"Male\",\"Male\",\"Male\",\"Female\",\"Male\",\"Female\",\"Male\",\"Male\",\"Male\",\"Male\",\"Male\",\"Male\",\"Male\",\"Male\",\"Female\",\"Male\",\"Male\",\"Male\",\"Male\",\"Male\",\"Male\",\"Male\",\"Male\",\"Male\",\"Male\",\"Male\",\"Male\",\"Female\",\"Male\",\"Male\",\"Male\",\"Male\",\"Male\",\"Male\",\"Male\",\"Male\",\"Male\",\"Male\",\"Male\",\"Male\",\"Male\",\"Male\",\"Male\",\"Male\",\"Female\",\"Male\",\"Male\",\"Male\",\"Male\",\"Male\",\"Male\",\"Male\",\"Male\",\"Female\",\"Female\",\"Male\",\"Male\",\"Male\",\"Male\",\"Male\",\"Male\",\"Male\",\"Male\",\"Male\",\"Female\",\"Female\",\"Male\",\"Male\",\"Male\",\"Male\",\"Male\",\"Male\",\"Male\",\"Female\",\"Male\",\"Male\",\"Male\",\"Male\",\"Male\",\"Female\",\"Male\",\"Male\",\"Male\",\"Male\",\"Male\",\"Male\",\"Male\",\"Male\",\"Male\",\"Male\",\"Male\",\"Male\",\"Male\",\"Male\",\"Male\",\"Male\",\"Male\",\"Female\",\"Male\",\"Male\",\"Male\",\"Male\",\"Female\",\"Female\",\"Female\",\"Male\",\"Male\",\"Male\",\"Male\",\"Male\",\"Female\",\"Male\",\"Male\",\"Male\",\"Male\",\"Female\",\"Female\",\"Male\",\"Male\",\"Male\",\"Male\",\"Male\",\"Male\",\"Male\",\"Male\",\"Male\",\"Male\",\"Male\",\"Male\",\"Female\",\"Male\",\"Male\",\"Female\",\"Male\",\"Male\",\"Female\",\"Male\",\"Female\",\"Male\",\"Female\",\"Male\",\"Male\",\"Male\",\"Female\",\"Male\",\"Male\",\"Female\",\"Male\",\"Male\",\"Male\",\"Male\",\"Male\",\"Male\",\"Female\",\"Male\",\"Male\",\"Male\",\"Female\",\"Male\",\"Male\",\"Male\",\"Male\",\"Male\",\"Male\",\"Male\",\"Male\",\"Male\",\"Male\",\"Female\",\"Male\",\"Male\",\"Male\",\"Male\",\"Male\",\"Male\",\"Female\",\"Female\",\"Female\",\"Male\",\"Male\",\"Male\",\"Male\",\"Male\",\"Male\",\"Male\",\"Female\",\"Male\",\"Male\",\"Male\",\"Male\",\"Female\",\"Male\",\"Male\",\"Male\",\"Male\",\"Male\",\"Male\",\"Male\",\"Male\",\"Female\",\"Male\",\"Male\",\"Female\",\"Female\",\"Male\",\"Male\",\"Male\",\"Female\",\"Female\",\"Female\",\"Male\",\"Female\",\"Male\",\"Male\",\"Male\",\"Male\",\"Male\",\"Male\",\"Male\",\"Male\",\"Female\",\"Male\",\"Male\",\"Male\",\"Male\",\"Male\",\"Male\",\"Female\",\"Male\",\"Male\",\"Male\",\"Female\",\"Male\",\"Female\",\"Male\",\"Male\",\"Male\",\"Male\",\"Male\",\"Male\",\"Male\",\"Female\",\"Female\",\"Male\",\"Male\",\"Male\",\"Male\",\"Male\",\"Male\",\"Male\",\"Male\",\"Female\",\"Male\",\"Female\",\"Male\",\"Male\",\"Male\",\"Male\",\"Male\",\"Male\",\"Male\",\"Male\",\"Male\",\"Male\",\"Female\",\"Male\",\"Male\",\"Male\",\"Male\",\"Female\",\"Male\",\"Male\",\"Female\",\"Male\",\"Male\",\"Male\",\"Female\",\"Male\",\"Male\",\"Male\",\"Male\",\"Male\",\"Female\",\"Male\",\"Male\",\"Male\",\"Male\",\"Male\",\"Male\",\"Male\",\"Male\",\"Male\",\"Male\",\"Male\",\"Male\",\"Female\",\"Male\",\"Male\",\"Male\",\"Male\",\"Male\",\"Male\",\"Male\",\"Male\",\"Male\",\"Male\",\"Male\",\"Male\",\"Male\",\"Male\",\"Female\",\"Male\",\"Female\",\"Female\",\"Male\",\"Male\",\"Male\",\"Male\",\"Male\",\"Male\",\"Male\",\"Male\",\"Female\",\"Male\",\"Female\",\"Male\",\"Male\",\"Male\",\"Male\",\"Male\",\"Male\",\"Male\",\"Male\",\"Female\",\"Male\",\"Female\",\"Male\",\"Male\",\"Male\",\"Male\",\"Female\",\"Male\",\"Female\",\"Female\",\"Female\",\"Male\",\"Female\",\"Male\",\"Male\",\"Male\",\"Male\",\"Male\",\"Male\",\"Male\",\"Male\",\"Male\",\"Female\",\"Male\",\"Male\",\"Male\",\"Male\",\"Male\",\"Male\",\"Male\",\"Male\",\"Male\",\"Male\",\"Male\",\"Male\",\"Male\",\"Male\",\"Male\",\"Male\",\"Male\",\"Male\",\"Male\",\"Male\",\"Male\",\"Male\",\"Male\",\"Male\",\"Female\",\"Male\",\"Male\",\"Male\",\"Female\",\"Female\",\"Male\",\"Male\",\"Male\",\"Male\",\"Male\",\"Male\",\"Male\",\"Male\",\"Male\",\"Male\",\"Female\",\"Male\",\"Male\",\"Male\",\"Male\",\"Male\",\"Male\",\"Male\",\"Male\",\"Male\",\"Female\",\"Male\",\"Male\",\"Male\",\"Female\",\"Male\",\"Female\",\"Female\",\"Male\",\"Female\",\"Male\",\"Male\",\"Male\",\"Male\",\"Male\",\"Male\",\"Male\",\"Male\",\"Male\",\"Male\",\"Male\",\"Male\",\"Male\",\"Male\",\"Male\",\"Female\",\"Female\",\"Male\",\"Male\",\"Female\",\"Male\",\"Female\",\"Male\",\"Male\",\"Female\",\"Male\",\"Female\",\"Male\",\"Male\",\"Male\",\"Male\",\"Female\",\"Male\",\"Male\",\"Male\",\"Male\",\"Male\",\"Male\",\"Male\",\"Male\",\"Male\",\"Female\",\"Male\",\"Female\",\"Male\",\"Female\",\"Female\",\"Male\",\"Male\",\"Female\",\"Female\",\"Male\",\"Male\",\"Female\",\"Male\",\"Male\",\"Male\",\"Female\",\"Male\",\"Male\",\"Male\",\"Female\",\"Male\",\"Male\",\"Male\",\"Male\",\"Male\",\"Female\",\"Male\",\"Male\",\"Male\",\"Male\",\"Male\",\"Female\",\"Male\",\"Male\",\"Male\",\"Male\",\"Male\",\"Male\",\"Male\",\"Male\",\"Male\",\"Male\",\"Male\",\"Male\",\"Male\",\"Male\",\"Female\",\"Male\",\"Female\",\"Male\",\"Male\",\"Male\",\"Male\",\"Male\",\"Male\",\"Male\",\"Male\",\"Female\",\"Male\",\"Male\",\"Female\",\"Male\",\"Female\",\"Male\",\"Male\",\"Female\",\"Female\",\"Male\",\"Male\",\"Male\",\"Male\",\"Female\",\"Female\",\"Male\",\"Male\",\"Male\",\"Male\",\"Male\",\"Male\",\"Male\",\"Male\",\"Male\",\"Male\",\"Male\",\"Male\",\"Male\",\"Male\",\"Male\",\"Male\",\"Male\",\"Male\",\"Male\",\"Female\",\"Male\",\"Male\",\"Male\",\"Male\",\"Male\",\"Male\",\"Male\",\"Male\",\"Male\",\"Female\",\"Male\",\"Male\",\"Male\",\"Male\",\"Female\",\"Male\",\"Male\",\"Male\",\"Male\",\"Male\",\"Male\",\"Male\",\"Female\",\"Female\",\"Male\",\"Male\",\"Male\",\"Male\",\"Male\",\"Male\",\"Male\",\"Female\",\"Male\",\"Female\",\"Male\",\"Male\",\"Female\",\"Male\",\"Male\",\"Female\",\"Male\",\"Male\",\"Male\",\"Male\",\"Male\",\"Male\",\"Male\",\"Male\",\"Male\",\"Male\",\"Male\",\"Male\",\"Male\",\"Female\",\"Male\",\"Male\",\"Male\",\"Male\",\"Male\",\"Male\",\"Male\",\"Male\",\"Female\",\"Male\",\"Male\",\"Female\",\"Male\",\"Male\",\"Female\",\"Male\",\"Male\",\"Male\",\"Male\",\"Male\",\"Male\",\"Male\",\"Male\",\"Male\",\"Male\",\"Male\",\"Male\",\"Male\",\"Male\",\"Male\",\"Male\",\"Male\",\"Male\",\"Male\",\"Male\",\"Male\",\"Male\",\"Male\",\"Female\",\"Male\",\"Male\",\"Male\",\"Male\",\"Male\",\"Male\",\"Male\",\"Male\",\"Male\",\"Male\",\"Male\",\"Female\",\"Male\",\"Male\",\"Male\",\"Female\",\"Female\",\"Male\",\"Male\",\"Female\",\"Male\",\"Male\",\"Male\",\"Male\",\"Male\",\"Male\",\"Male\",\"Male\",\"Male\",\"Male\",\"Male\",\"Male\",\"Female\",\"Female\",\"Male\",\"Female\",\"Female\",\"Male\",\"Male\",\"Male\",\"Male\",\"Male\",\"Female\",\"Male\",\"Male\",\"Male\",\"Male\",\"Female\",\"Male\",\"Female\",\"Male\",\"Female\",\"Male\",\"Male\",\"Male\",\"Male\",\"Male\",\"Male\",\"Male\",\"Male\",\"Male\",\"Male\",\"Male\",\"Male\",\"Male\",\"Male\",\"Male\",\"Female\",\"Female\",\"Male\",\"Male\",\"Male\",\"Male\",\"Male\",\"Male\",\"Male\",\"Female\",\"Male\",\"Male\",\"Male\",\"Male\",\"Male\",\"Male\",\"Male\",\"Male\",\"Male\",\"Male\",\"Male\",\"Male\",\"Female\",\"Male\",\"Male\",\"Female\",\"Male\",\"Male\",\"Male\",\"Male\",\"Male\",\"Male\",\"Male\",\"Male\",\"Male\",\"Male\",\"Female\",\"Female\",\"Female\",\"Male\",\"Female\",\"Female\",\"Male\",\"Male\",\"Male\",\"Male\",\"Male\",\"Male\",\"Male\",\"Male\",\"Male\",\"Male\",\"Male\",\"Female\",\"Male\",\"Female\",\"Male\",\"Male\",\"Male\",\"Male\",\"Male\",\"Male\",\"Male\",\"Male\",\"Male\",\"Female\",\"Female\",\"Female\",\"Male\",\"Female\",\"Male\",\"Male\",\"Female\",\"Male\",\"Female\",\"Male\",\"Male\",\"Male\",\"Female\",\"Male\",\"Male\",\"Male\",\"Male\",\"Female\",\"Male\",\"Male\",\"Male\",\"Male\",\"Male\",\"Male\",\"Male\",\"Male\",\"Male\",\"Female\",\"Male\",\"Male\",\"Male\",\"Male\",\"Male\",\"Male\",\"Male\",\"Male\",\"Male\",\"Male\",\"Male\",\"Male\",\"Male\",\"Male\",\"Male\",\"Male\",\"Male\",\"Male\",\"Male\",\"Male\",\"Male\",\"Male\",\"Male\",\"Male\",\"Male\",\"Male\",\"Male\",\"Female\",\"Male\",\"Male\",\"Male\",\"Male\",\"Male\",\"Male\",\"Male\",\"Male\",\"Male\",\"Male\",\"Female\",\"Male\",\"Male\",\"Female\",\"Male\",\"Male\",\"Male\",\"Male\",\"Female\",\"Female\",\"Male\",\"Male\",\"Male\",\"Female\",\"Male\",\"Male\",\"Male\",\"Male\",\"Female\",\"Male\",\"Male\",\"Male\",\"Female\",\"Male\",\"Male\",\"Male\",\"Male\",\"Female\",\"Male\",\"Male\",\"Male\",\"Male\",\"Male\",\"Female\",\"Male\",\"Male\",\"Male\",\"Male\",\"Male\",\"Male\",\"Male\",\"Female\",\"Male\",\"Male\",\"Male\",\"Male\",\"Female\",\"Male\",\"Male\",\"Male\",\"Male\",\"Male\",\"Male\",\"Male\",\"Female\",\"Male\",\"Male\",\"Female\",\"Male\",\"Female\",\"Male\",\"Female\",\"Male\",\"Male\",\"Male\",\"Male\",\"Male\",\"Male\",\"Female\",\"Male\",\"Male\",\"Male\",\"Male\",\"Male\",\"Male\",\"Male\",\"Male\",\"Male\",\"Male\",\"Male\",\"Male\",\"Female\",\"Male\",\"Male\",\"Male\",\"Male\",\"Male\",\"Male\",\"Female\",\"Male\",\"Male\",\"Male\",\"Male\",\"Female\",\"Male\",\"Male\",\"Male\",\"Male\",\"Male\",\"Female\",\"Male\",\"Male\",\"Male\",\"Female\",\"Male\",\"Male\",\"Male\",\"Female\",\"Male\",\"Male\",\"Male\",\"Male\",\"Male\",\"Male\",\"Male\",\"Male\",\"Male\",\"Female\",\"Female\",\"Male\",\"Male\",\"Female\",\"Female\",\"Male\",\"Male\",\"Female\",\"Male\",\"Male\",\"Male\",\"Male\",\"Male\",\"Male\",\"Male\",\"Male\",\"Male\",\"Male\",\"Male\",\"Male\",\"Male\",\"Male\",\"Female\",\"Male\",\"Male\",\"Male\",\"Female\",\"Male\",\"Female\",\"Female\",\"Male\",\"Male\",\"Male\",\"Male\",\"Male\",\"Male\",\"Male\",\"Female\",\"Female\",\"Male\",\"Male\",\"Female\",\"Male\",\"Male\",\"Male\",\"Male\",\"Male\",\"Male\",\"Female\",\"Male\",\"Male\",\"Male\",\"Male\",\"Female\",\"Male\",\"Male\",\"Female\",\"Male\",\"Male\",\"Male\",\"Male\",\"Male\",\"Female\",\"Male\",\"Female\",\"Male\",\"Female\",\"Male\",\"Male\",\"Male\",\"Male\",\"Male\",\"Female\",\"Male\",\"Male\",\"Male\",\"Male\",\"Male\",\"Male\",\"Male\",\"Male\",\"Male\",\"Male\",\"Male\",\"Male\",\"Male\",\"Male\",\"Male\",\"Male\",\"Male\",\"Male\",\"Female\",\"Male\",\"Male\",\"Male\",\"Male\",\"Male\",\"Male\",\"Male\",\"Male\",\"Male\",\"Male\",\"Male\",\"Male\",\"Male\",\"Male\",\"Male\",\"Male\",\"Male\",\"Male\",\"Male\",\"Male\",\"Male\",\"Male\",\"Male\",\"Male\",\"Male\",\"Male\",\"Male\",\"Male\",\"Male\",\"Female\",\"Male\",\"Male\",\"Male\",\"Male\",\"Male\",\"Male\",\"Male\",\"Male\",\"Male\",\"Female\",\"Male\",\"Male\",\"Male\",\"Male\",\"Male\",\"Male\",\"Male\",\"Male\",\"Male\",\"Male\",\"Male\",\"Male\",\"Male\",\"Male\",\"Male\",\"Female\",\"Male\",\"Male\",\"Male\",\"Male\",\"Male\",\"Male\",\"Male\",\"Male\",\"Male\",\"Male\",\"Male\",\"Female\",\"Male\",\"Male\",\"Male\",\"Male\",\"Male\",\"Male\",\"Male\",\"Male\",\"Male\",\"Male\",\"Male\",\"Male\",\"Male\",\"Male\",\"Male\",\"Male\",\"Male\",\"Male\",\"Male\",\"Male\",\"Male\",\"Male\",\"Male\",\"Male\",\"Male\",\"Female\",\"Male\",\"Male\",\"Female\",\"Male\",\"Male\",\"Female\",\"Male\",\"Male\",\"Male\",\"Male\",\"Male\",\"Male\",\"Male\",\"Male\",\"Male\",\"Male\",\"Male\",\"Female\",\"Male\",\"Male\",\"Male\",\"Female\",\"Male\",\"Male\",\"Male\",\"Male\",\"Male\",\"Male\",\"Male\",\"Male\",\"Male\",\"Male\",\"Male\",\"Female\",\"Male\",\"Male\",\"Male\",\"Male\",\"Male\",\"Male\",\"Male\",\"Male\",\"Male\",\"Male\",\"Male\",\"Male\",\"Female\",\"Male\",\"Male\",\"Male\",\"Male\",\"Male\",\"Male\",\"Male\",\"Female\",\"Male\",\"Male\",\"Male\",\"Male\",\"Male\",\"Male\",\"Male\",\"Male\",\"Male\",\"Male\",\"Male\",\"Male\",\"Male\",\"Male\",\"Male\",\"Male\",\"Female\",\"Male\",\"Male\",\"Male\",\"Male\",\"Male\",\"Male\",\"Male\",\"Male\",\"Male\",\"Female\",\"Male\",\"Male\",\"Male\",\"Male\",\"Male\",\"Male\",\"Male\",\"Male\",\"Male\",\"Male\",\"Female\",\"Male\",\"Male\",\"Male\",\"Female\",\"Male\",\"Male\",\"Male\",\"Male\",\"Male\",\"Female\",\"Male\",\"Male\",\"Male\",\"Male\",\"Male\",\"Male\",\"Male\",\"Male\",\"Male\",\"Male\",\"Male\",\"Male\",\"Male\",\"Female\",\"Male\",\"Female\",\"Male\",\"Male\",\"Female\",\"Male\",\"Male\",\"Male\",\"Male\",\"Male\",\"Male\",\"Male\",\"Male\",\"Female\",\"Male\",\"Male\",\"Male\",\"Male\",\"Female\",\"Female\",\"Male\",\"Male\",\"Male\",\"Male\",\"Female\",\"Male\",\"Male\",\"Male\",\"Male\",\"Female\",\"Male\",\"Male\",\"Male\",\"Male\",\"Male\",\"Male\",\"Male\",\"Male\",\"Male\",\"Male\",\"Male\",\"Male\",\"Male\",\"Male\",\"Male\",\"Male\",\"Male\",\"Male\",\"Male\",\"Female\",\"Male\",\"Female\",\"Male\",\"Male\",\"Female\",\"Male\",\"Male\",\"Male\",\"Male\",\"Male\",\"Male\",\"Male\",\"Male\",\"Male\",\"Male\",\"Female\",\"Female\",\"Male\",\"Male\",\"Male\",\"Male\",\"Female\",\"Male\",\"Male\",\"Male\",\"Male\",\"Female\",\"Male\",\"Male\",\"Female\",\"Male\",\"Male\",\"Male\",\"Male\",\"Male\",\"Female\",\"Male\",\"Male\",\"Male\",\"Male\",\"Male\",\"Female\",\"Male\",\"Female\",\"Male\",\"Female\",\"Male\",\"Female\",\"Female\",\"Male\",\"Female\",\"Male\",\"Female\",\"Male\",\"Male\",\"Female\",\"Male\",\"Female\",\"Male\",\"Male\",\"Male\",\"Male\",\"Male\",\"Male\",\"Male\",\"Male\",\"Male\",\"Male\",\"Male\",\"Male\",\"Male\",\"Female\",\"Male\",\"Male\",\"Male\",\"Male\",\"Male\",\"Male\",\"Male\",\"Male\",\"Male\",\"Female\",\"Male\",\"Female\",\"Female\",\"Female\",\"Male\",\"Female\",\"Male\",\"Male\",\"Female\",\"Male\",\"Male\",\"Male\",\"Male\",\"Female\",\"Male\",\"Male\",\"Male\",\"Male\",\"Male\",\"Male\",\"Male\",\"Male\",\"Male\",\"Female\",\"Male\",\"Male\",\"Female\",\"Male\",\"Male\",\"Male\",\"Female\",\"Male\",\"Male\",\"Male\",\"Female\",\"Male\",\"Male\",\"Male\",\"Male\",\"Male\",\"Male\",\"Female\",\"Male\",\"Female\",\"Male\",\"Male\",\"Male\",\"Female\",\"Female\",\"Male\",\"Male\",\"Female\",\"Male\",\"Male\",\"Male\",\"Male\",\"Male\",\"Male\",\"Male\",\"Male\",\"Male\",\"Male\",\"Male\",\"Male\",\"Male\",\"Male\",\"Male\",\"Female\",\"Male\",\"Female\",\"Male\",\"Female\",\"Male\",\"Male\",\"Male\",\"Male\",\"Male\",\"Male\",\"Female\",\"Male\",\"Male\",\"Male\",\"Male\",\"Male\",\"Male\",\"Male\",\"Male\",\"Male\",\"Male\",\"Male\",\"Male\",\"Female\",\"Female\",\"Male\",\"Male\",\"Male\",\"Male\",\"Male\",\"Male\",\"Male\",\"Male\",\"Male\",\"Male\",\"Male\",\"Male\",\"Male\",\"Male\",\"Male\",\"Male\",\"Male\",\"Male\",\"Male\",\"Male\",\"Male\",\"Male\",\"Male\",\"Male\",\"Male\",\"Male\",\"Male\",\"Male\",\"Male\",\"Male\",\"Male\",\"Male\",\"Male\",\"Male\",\"Male\",\"Male\",\"Male\",\"Male\",\"Male\",\"Male\",\"Male\",\"Male\",\"Male\",\"Male\",\"Male\",\"Male\",\"Male\",\"Male\",\"Male\",\"Male\",\"Female\",\"Male\",\"Male\",\"Female\",\"Male\",\"Male\",\"Male\",\"Male\",\"Male\",\"Male\",\"Male\",\"Male\",\"Male\",\"Female\",\"Male\",\"Male\",\"Male\",\"Male\",\"Female\",\"Male\",\"Male\",\"Male\",\"Male\",\"Male\",\"Male\",\"Male\",\"Male\",\"Male\",\"Male\",\"Male\",\"Male\",\"Male\",\"Male\",\"Female\",\"Male\",\"Male\",\"Male\",\"Male\",\"Male\",\"Female\",\"Male\",\"Male\",\"Male\",\"Male\",\"Male\",\"Male\",\"Female\",\"Male\",\"Female\",\"Male\",\"Male\",\"Male\",\"Female\",\"Male\",\"Male\",\"Male\",\"Male\",\"Male\",\"Female\",\"Male\",\"Male\",\"Male\",\"Male\",\"Male\",\"Female\",\"Male\",\"Male\",\"Male\",\"Male\",\"Male\",\"Female\",\"Male\",\"Male\",\"Male\",\"Female\",\"Male\",\"Male\",\"Female\",\"Male\",\"Male\",\"Male\",\"Male\",\"Male\",\"Male\",\"Male\",\"Male\",\"Male\",\"Male\",\"Male\",\"Male\",\"Male\",\"Male\",\"Male\",\"Male\",\"Male\",\"Male\",\"Male\",\"Male\",\"Male\",\"Female\",\"Male\",\"Male\",\"Female\",\"Male\",\"Male\",\"Male\",\"Female\",\"Male\",\"Male\",\"Male\",\"Male\",\"Female\",\"Female\",\"Male\",\"Male\",\"Male\",\"Female\",\"Male\",\"Male\",\"Male\",\"Male\",\"Male\",\"Male\",\"Male\",\"Male\",\"Female\",\"Male\",\"Female\",\"Female\",\"Male\",\"Male\",\"Male\",\"Male\",\"Male\",\"Male\",\"Male\",\"Male\",\"Female\",\"Male\",\"Male\",\"Male\",\"Female\",\"Male\",\"Male\",\"Male\",\"Male\",\"Male\",\"Male\",\"Male\",\"Male\",\"Male\",\"Male\",\"Male\",\"Female\",\"Male\",\"Male\",\"Male\",\"Male\",\"Male\",\"Male\",\"Female\",\"Male\",\"Male\",\"Male\",\"Male\",\"Male\",\"Male\",\"Female\",\"Male\",\"Female\",\"Male\",\"Female\",\"Male\",\"Female\",\"Female\",\"Male\",\"Male\",\"Male\",\"Female\",\"Female\",\"Male\",\"Male\",\"Male\",\"Male\",\"Male\",\"Male\",\"Male\",\"Male\",\"Male\",\"Male\",\"Male\",\"Female\",\"Male\",\"Male\",\"Male\",\"Male\",\"Female\",\"Male\",\"Male\",\"Male\",\"Male\",\"Male\",\"Male\",\"Male\",\"Male\",\"Male\",\"Male\",\"Male\",\"Female\",\"Female\",\"Male\",\"Female\",\"Male\",\"Male\",\"Male\",\"Male\",\"Male\",\"Male\",\"Male\",\"Male\",\"Male\",\"Male\",\"Male\",\"Female\",\"Male\",\"Male\",\"Male\",\"Male\",\"Female\",\"Male\",\"Male\",\"Male\",\"Male\",\"Male\",\"Male\",\"Male\",\"Female\",\"Male\",\"Male\",\"Male\",\"Male\",\"Male\",\"Male\",\"Male\",\"Male\",\"Male\",\"Male\",\"Male\",\"Male\",\"Female\",\"Male\",\"Male\",\"Female\",\"Male\",\"Female\",\"Female\",\"Male\",\"Male\",\"Male\",\"Male\",\"Male\",\"Male\",\"Male\",\"Male\",\"Male\",\"Male\",\"Female\",\"Male\",\"Male\",\"Male\",\"Male\",\"Male\",\"Male\",\"Female\",\"Male\",\"Male\",\"Female\",\"Male\",\"Male\",\"Male\",\"Male\",\"Male\",\"Male\",\"Male\",\"Male\",\"Male\",\"Male\",\"Male\",\"Female\",\"Male\",\"Female\",\"Female\",\"Male\",\"Female\",\"Male\",\"Male\",\"Male\",\"Male\",\"Male\",\"Male\",\"Female\",\"Male\",\"Male\",\"Male\",\"Female\",\"Male\",\"Male\",\"Male\",\"Male\",\"Male\",\"Male\",\"Male\",\"Female\",\"Male\",\"Female\",\"Female\",\"Male\",\"Male\",\"Male\",\"Female\",\"Male\",\"Male\",\"Female\",\"Male\",\"Male\",\"Male\",\"Male\",\"Male\",\"Female\",\"Male\",\"Female\",\"Male\",\"Male\",\"Female\",\"Male\",\"Male\",\"Male\",\"Male\",\"Male\",\"Male\",\"Female\",\"Male\",\"Male\",\"Male\",\"Male\",\"Male\",\"Male\",\"Male\",\"Male\",\"Male\",\"Male\",\"Male\",\"Male\",\"Male\",\"Male\",\"Male\",\"Male\",\"Male\",\"Male\",\"Male\",\"Male\",\"Male\",\"Female\",\"Male\",\"Male\",\"Male\",\"Male\",\"Male\",\"Male\",\"Male\",\"Female\",\"Male\",\"Male\",\"Male\",\"Male\",\"Male\",\"Male\",\"Male\",\"Male\",\"Male\",\"Male\",\"Male\",\"Male\",\"Male\",\"Male\",\"Male\",\"Male\",\"Male\",\"Male\",\"Male\",\"Male\",\"Female\",\"Female\",\"Male\",\"Male\",\"Male\",\"Male\",\"Male\",\"Female\",\"Male\",\"Male\",\"Male\",\"Male\",\"Male\",\"Male\",\"Male\",\"Male\",\"Male\",\"Male\",\"Male\",\"Female\",\"Male\",\"Male\",\"Male\",\"Female\",\"Male\",\"Male\",\"Male\",\"Male\",\"Male\",\"Male\",\"Male\",\"Male\",\"Male\",\"Female\",\"Male\",\"Male\",\"Male\",\"Male\",\"Male\",\"Male\",\"Male\",\"Male\",\"Male\",\"Male\",\"Male\",\"Male\",\"Male\",\"Male\",\"Female\",\"Male\",\"Male\",\"Male\",\"Male\",\"Male\",\"Male\",\"Male\",\"Male\",\"Male\",\"Male\",\"Male\",\"Male\",\"Male\",\"Male\",\"Male\",\"Female\",\"Male\",\"Male\",\"Male\",\"Male\",\"Male\",\"Male\",\"Male\",\"Male\",\"Female\",\"Female\",\"Female\",\"Male\",\"Male\",\"Male\",\"Male\",\"Male\",\"Male\",\"Male\",\"Male\",\"Male\",\"Male\",\"Male\",\"Male\",\"Male\",\"Male\",\"Male\",\"Male\",\"Male\",\"Male\",\"Male\",\"Male\",\"Female\",\"Male\",\"Male\",\"Male\",\"Female\",\"Male\",\"Male\",\"Male\",\"Male\",\"Male\",\"Male\",\"Male\",\"Male\",\"Male\",\"Male\",\"Male\"],\"legendgroup\":\"\",\"marker\":{\"line\":{\"color\":\"#000000\",\"width\":1.5}},\"name\":\"\",\"showlegend\":true,\"textinfo\":\"percent+label\",\"textposition\":\"inside\",\"type\":\"pie\"}],                        {\"legend\":{\"tracegroupgap\":0},\"template\":{\"data\":{\"bar\":[{\"error_x\":{\"color\":\"#f2f5fa\"},\"error_y\":{\"color\":\"#f2f5fa\"},\"marker\":{\"line\":{\"color\":\"rgb(17,17,17)\",\"width\":0.5},\"pattern\":{\"fillmode\":\"overlay\",\"size\":10,\"solidity\":0.2}},\"type\":\"bar\"}],\"barpolar\":[{\"marker\":{\"line\":{\"color\":\"rgb(17,17,17)\",\"width\":0.5},\"pattern\":{\"fillmode\":\"overlay\",\"size\":10,\"solidity\":0.2}},\"type\":\"barpolar\"}],\"carpet\":[{\"aaxis\":{\"endlinecolor\":\"#A2B1C6\",\"gridcolor\":\"#506784\",\"linecolor\":\"#506784\",\"minorgridcolor\":\"#506784\",\"startlinecolor\":\"#A2B1C6\"},\"baxis\":{\"endlinecolor\":\"#A2B1C6\",\"gridcolor\":\"#506784\",\"linecolor\":\"#506784\",\"minorgridcolor\":\"#506784\",\"startlinecolor\":\"#A2B1C6\"},\"type\":\"carpet\"}],\"choropleth\":[{\"colorbar\":{\"outlinewidth\":0,\"ticks\":\"\"},\"type\":\"choropleth\"}],\"contour\":[{\"colorbar\":{\"outlinewidth\":0,\"ticks\":\"\"},\"colorscale\":[[0.0,\"#0d0887\"],[0.1111111111111111,\"#46039f\"],[0.2222222222222222,\"#7201a8\"],[0.3333333333333333,\"#9c179e\"],[0.4444444444444444,\"#bd3786\"],[0.5555555555555556,\"#d8576b\"],[0.6666666666666666,\"#ed7953\"],[0.7777777777777778,\"#fb9f3a\"],[0.8888888888888888,\"#fdca26\"],[1.0,\"#f0f921\"]],\"type\":\"contour\"}],\"contourcarpet\":[{\"colorbar\":{\"outlinewidth\":0,\"ticks\":\"\"},\"type\":\"contourcarpet\"}],\"heatmap\":[{\"colorbar\":{\"outlinewidth\":0,\"ticks\":\"\"},\"colorscale\":[[0.0,\"#0d0887\"],[0.1111111111111111,\"#46039f\"],[0.2222222222222222,\"#7201a8\"],[0.3333333333333333,\"#9c179e\"],[0.4444444444444444,\"#bd3786\"],[0.5555555555555556,\"#d8576b\"],[0.6666666666666666,\"#ed7953\"],[0.7777777777777778,\"#fb9f3a\"],[0.8888888888888888,\"#fdca26\"],[1.0,\"#f0f921\"]],\"type\":\"heatmap\"}],\"heatmapgl\":[{\"colorbar\":{\"outlinewidth\":0,\"ticks\":\"\"},\"colorscale\":[[0.0,\"#0d0887\"],[0.1111111111111111,\"#46039f\"],[0.2222222222222222,\"#7201a8\"],[0.3333333333333333,\"#9c179e\"],[0.4444444444444444,\"#bd3786\"],[0.5555555555555556,\"#d8576b\"],[0.6666666666666666,\"#ed7953\"],[0.7777777777777778,\"#fb9f3a\"],[0.8888888888888888,\"#fdca26\"],[1.0,\"#f0f921\"]],\"type\":\"heatmapgl\"}],\"histogram\":[{\"marker\":{\"pattern\":{\"fillmode\":\"overlay\",\"size\":10,\"solidity\":0.2}},\"type\":\"histogram\"}],\"histogram2d\":[{\"colorbar\":{\"outlinewidth\":0,\"ticks\":\"\"},\"colorscale\":[[0.0,\"#0d0887\"],[0.1111111111111111,\"#46039f\"],[0.2222222222222222,\"#7201a8\"],[0.3333333333333333,\"#9c179e\"],[0.4444444444444444,\"#bd3786\"],[0.5555555555555556,\"#d8576b\"],[0.6666666666666666,\"#ed7953\"],[0.7777777777777778,\"#fb9f3a\"],[0.8888888888888888,\"#fdca26\"],[1.0,\"#f0f921\"]],\"type\":\"histogram2d\"}],\"histogram2dcontour\":[{\"colorbar\":{\"outlinewidth\":0,\"ticks\":\"\"},\"colorscale\":[[0.0,\"#0d0887\"],[0.1111111111111111,\"#46039f\"],[0.2222222222222222,\"#7201a8\"],[0.3333333333333333,\"#9c179e\"],[0.4444444444444444,\"#bd3786\"],[0.5555555555555556,\"#d8576b\"],[0.6666666666666666,\"#ed7953\"],[0.7777777777777778,\"#fb9f3a\"],[0.8888888888888888,\"#fdca26\"],[1.0,\"#f0f921\"]],\"type\":\"histogram2dcontour\"}],\"mesh3d\":[{\"colorbar\":{\"outlinewidth\":0,\"ticks\":\"\"},\"type\":\"mesh3d\"}],\"parcoords\":[{\"line\":{\"colorbar\":{\"outlinewidth\":0,\"ticks\":\"\"}},\"type\":\"parcoords\"}],\"pie\":[{\"automargin\":true,\"type\":\"pie\"}],\"scatter\":[{\"marker\":{\"line\":{\"color\":\"#283442\"}},\"type\":\"scatter\"}],\"scatter3d\":[{\"line\":{\"colorbar\":{\"outlinewidth\":0,\"ticks\":\"\"}},\"marker\":{\"colorbar\":{\"outlinewidth\":0,\"ticks\":\"\"}},\"type\":\"scatter3d\"}],\"scattercarpet\":[{\"marker\":{\"colorbar\":{\"outlinewidth\":0,\"ticks\":\"\"}},\"type\":\"scattercarpet\"}],\"scattergeo\":[{\"marker\":{\"colorbar\":{\"outlinewidth\":0,\"ticks\":\"\"}},\"type\":\"scattergeo\"}],\"scattergl\":[{\"marker\":{\"line\":{\"color\":\"#283442\"}},\"type\":\"scattergl\"}],\"scattermapbox\":[{\"marker\":{\"colorbar\":{\"outlinewidth\":0,\"ticks\":\"\"}},\"type\":\"scattermapbox\"}],\"scatterpolar\":[{\"marker\":{\"colorbar\":{\"outlinewidth\":0,\"ticks\":\"\"}},\"type\":\"scatterpolar\"}],\"scatterpolargl\":[{\"marker\":{\"colorbar\":{\"outlinewidth\":0,\"ticks\":\"\"}},\"type\":\"scatterpolargl\"}],\"scatterternary\":[{\"marker\":{\"colorbar\":{\"outlinewidth\":0,\"ticks\":\"\"}},\"type\":\"scatterternary\"}],\"surface\":[{\"colorbar\":{\"outlinewidth\":0,\"ticks\":\"\"},\"colorscale\":[[0.0,\"#0d0887\"],[0.1111111111111111,\"#46039f\"],[0.2222222222222222,\"#7201a8\"],[0.3333333333333333,\"#9c179e\"],[0.4444444444444444,\"#bd3786\"],[0.5555555555555556,\"#d8576b\"],[0.6666666666666666,\"#ed7953\"],[0.7777777777777778,\"#fb9f3a\"],[0.8888888888888888,\"#fdca26\"],[1.0,\"#f0f921\"]],\"type\":\"surface\"}],\"table\":[{\"cells\":{\"fill\":{\"color\":\"#506784\"},\"line\":{\"color\":\"rgb(17,17,17)\"}},\"header\":{\"fill\":{\"color\":\"#2a3f5f\"},\"line\":{\"color\":\"rgb(17,17,17)\"}},\"type\":\"table\"}]},\"layout\":{\"annotationdefaults\":{\"arrowcolor\":\"#f2f5fa\",\"arrowhead\":0,\"arrowwidth\":1},\"autotypenumbers\":\"strict\",\"coloraxis\":{\"colorbar\":{\"outlinewidth\":0,\"ticks\":\"\"}},\"colorscale\":{\"diverging\":[[0,\"#8e0152\"],[0.1,\"#c51b7d\"],[0.2,\"#de77ae\"],[0.3,\"#f1b6da\"],[0.4,\"#fde0ef\"],[0.5,\"#f7f7f7\"],[0.6,\"#e6f5d0\"],[0.7,\"#b8e186\"],[0.8,\"#7fbc41\"],[0.9,\"#4d9221\"],[1,\"#276419\"]],\"sequential\":[[0.0,\"#0d0887\"],[0.1111111111111111,\"#46039f\"],[0.2222222222222222,\"#7201a8\"],[0.3333333333333333,\"#9c179e\"],[0.4444444444444444,\"#bd3786\"],[0.5555555555555556,\"#d8576b\"],[0.6666666666666666,\"#ed7953\"],[0.7777777777777778,\"#fb9f3a\"],[0.8888888888888888,\"#fdca26\"],[1.0,\"#f0f921\"]],\"sequentialminus\":[[0.0,\"#0d0887\"],[0.1111111111111111,\"#46039f\"],[0.2222222222222222,\"#7201a8\"],[0.3333333333333333,\"#9c179e\"],[0.4444444444444444,\"#bd3786\"],[0.5555555555555556,\"#d8576b\"],[0.6666666666666666,\"#ed7953\"],[0.7777777777777778,\"#fb9f3a\"],[0.8888888888888888,\"#fdca26\"],[1.0,\"#f0f921\"]]},\"colorway\":[\"#636efa\",\"#EF553B\",\"#00cc96\",\"#ab63fa\",\"#FFA15A\",\"#19d3f3\",\"#FF6692\",\"#B6E880\",\"#FF97FF\",\"#FECB52\"],\"font\":{\"color\":\"#f2f5fa\"},\"geo\":{\"bgcolor\":\"rgb(17,17,17)\",\"lakecolor\":\"rgb(17,17,17)\",\"landcolor\":\"rgb(17,17,17)\",\"showlakes\":true,\"showland\":true,\"subunitcolor\":\"#506784\"},\"hoverlabel\":{\"align\":\"left\"},\"hovermode\":\"closest\",\"mapbox\":{\"style\":\"dark\"},\"paper_bgcolor\":\"rgb(17,17,17)\",\"plot_bgcolor\":\"rgb(17,17,17)\",\"polar\":{\"angularaxis\":{\"gridcolor\":\"#506784\",\"linecolor\":\"#506784\",\"ticks\":\"\"},\"bgcolor\":\"rgb(17,17,17)\",\"radialaxis\":{\"gridcolor\":\"#506784\",\"linecolor\":\"#506784\",\"ticks\":\"\"}},\"scene\":{\"xaxis\":{\"backgroundcolor\":\"rgb(17,17,17)\",\"gridcolor\":\"#506784\",\"gridwidth\":2,\"linecolor\":\"#506784\",\"showbackground\":true,\"ticks\":\"\",\"zerolinecolor\":\"#C8D4E3\"},\"yaxis\":{\"backgroundcolor\":\"rgb(17,17,17)\",\"gridcolor\":\"#506784\",\"gridwidth\":2,\"linecolor\":\"#506784\",\"showbackground\":true,\"ticks\":\"\",\"zerolinecolor\":\"#C8D4E3\"},\"zaxis\":{\"backgroundcolor\":\"rgb(17,17,17)\",\"gridcolor\":\"#506784\",\"gridwidth\":2,\"linecolor\":\"#506784\",\"showbackground\":true,\"ticks\":\"\",\"zerolinecolor\":\"#C8D4E3\"}},\"shapedefaults\":{\"line\":{\"color\":\"#f2f5fa\"}},\"sliderdefaults\":{\"bgcolor\":\"#C8D4E3\",\"bordercolor\":\"rgb(17,17,17)\",\"borderwidth\":1,\"tickwidth\":0},\"ternary\":{\"aaxis\":{\"gridcolor\":\"#506784\",\"linecolor\":\"#506784\",\"ticks\":\"\"},\"baxis\":{\"gridcolor\":\"#506784\",\"linecolor\":\"#506784\",\"ticks\":\"\"},\"bgcolor\":\"rgb(17,17,17)\",\"caxis\":{\"gridcolor\":\"#506784\",\"linecolor\":\"#506784\",\"ticks\":\"\"}},\"title\":{\"x\":0.05},\"updatemenudefaults\":{\"bgcolor\":\"#506784\",\"borderwidth\":0},\"xaxis\":{\"automargin\":true,\"gridcolor\":\"#283442\",\"linecolor\":\"#506784\",\"ticks\":\"\",\"title\":{\"standoff\":15},\"zerolinecolor\":\"#283442\",\"zerolinewidth\":2},\"yaxis\":{\"automargin\":true,\"gridcolor\":\"#283442\",\"linecolor\":\"#506784\",\"ticks\":\"\",\"title\":{\"standoff\":15},\"zerolinecolor\":\"#283442\",\"zerolinewidth\":2}}},\"title\":{\"text\":\"<b>Counts in Gender</b>\"}},                        {\"responsive\": true}                    ).then(function(){\n",
       "                            \n",
       "var gd = document.getElementById('4b9a4749-e001-4b8d-822a-944fb87a4308');\n",
       "var x = new MutationObserver(function (mutations, observer) {{\n",
       "        var display = window.getComputedStyle(gd).display;\n",
       "        if (!display || display === 'none') {{\n",
       "            console.log([gd, 'removed!']);\n",
       "            Plotly.purge(gd);\n",
       "            observer.disconnect();\n",
       "        }}\n",
       "}});\n",
       "\n",
       "// Listen for the removal of the full notebook cells\n",
       "var notebookContainer = gd.closest('#notebook-container');\n",
       "if (notebookContainer) {{\n",
       "    x.observe(notebookContainer, {childList: true});\n",
       "}}\n",
       "\n",
       "// Listen for the clearing of the current output cell\n",
       "var outputEl = gd.closest('.output');\n",
       "if (outputEl) {{\n",
       "    x.observe(outputEl, {childList: true});\n",
       "}}\n",
       "\n",
       "                        })                };                });            </script>        </div>"
      ]
     },
     "metadata": {},
     "output_type": "display_data"
    }
   ],
   "source": [
    "fig = px.pie(data, names = \"Gender\",\n",
    "             title = \"<b>Counts in Gender</b>\",\n",
    "             hole = 0.5, template = \"plotly_dark\")\n",
    "\n",
    "fig.update_traces(textposition='inside',\n",
    "                  textinfo='percent+label',\n",
    "                  marker=dict(line=dict(color='#000000', width = 1.5)))\n",
    "\n",
    "\n",
    "fig.show()"
   ]
  },
  {
   "cell_type": "markdown",
   "id": "88182b65",
   "metadata": {
    "papermill": {
     "duration": 0.073288,
     "end_time": "2021-11-14T17:06:58.961412",
     "exception": false,
     "start_time": "2021-11-14T17:06:58.888124",
     "status": "completed"
    },
    "tags": []
   },
   "source": [
    "\n",
    "<a id=\"5.3\"></a>\n",
    "# <p style=\"background-color:#73d1ff;font-family:newtimeroman;color:#000000;font-size:120%;text-align:center;border-radius:20px 80px;\">✔️ Total Male and Female Pass Placement</p>\n",
    "\n",
    "\n"
   ]
  },
  {
   "cell_type": "code",
   "execution_count": 12,
   "id": "af414ea3",
   "metadata": {
    "execution": {
     "iopub.execute_input": "2021-11-14T17:06:59.112294Z",
     "iopub.status.busy": "2021-11-14T17:06:59.111315Z",
     "iopub.status.idle": "2021-11-14T17:06:59.117024Z",
     "shell.execute_reply": "2021-11-14T17:06:59.116543Z",
     "shell.execute_reply.started": "2021-11-14T16:29:54.743940Z"
    },
    "papermill": {
     "duration": 0.083111,
     "end_time": "2021-11-14T17:06:59.117186",
     "exception": false,
     "start_time": "2021-11-14T17:06:59.034075",
     "status": "completed"
    },
    "tags": []
   },
   "outputs": [],
   "source": [
    "male = data[data['Gender'] == \"Male\"]\n",
    "female = data[data['Gender'] == \"Female\"]"
   ]
  },
  {
   "cell_type": "code",
   "execution_count": 13,
   "id": "763e458a",
   "metadata": {
    "execution": {
     "iopub.execute_input": "2021-11-14T17:06:59.266170Z",
     "iopub.status.busy": "2021-11-14T17:06:59.265534Z",
     "iopub.status.idle": "2021-11-14T17:06:59.268259Z",
     "shell.execute_reply": "2021-11-14T17:06:59.267664Z",
     "shell.execute_reply.started": "2021-11-14T16:29:56.737167Z"
    },
    "papermill": {
     "duration": 0.078898,
     "end_time": "2021-11-14T17:06:59.268385",
     "exception": false,
     "start_time": "2021-11-14T17:06:59.189487",
     "status": "completed"
    },
    "tags": []
   },
   "outputs": [],
   "source": [
    "total_male = male.shape[0]\n",
    "total_female = female.shape[0]"
   ]
  },
  {
   "cell_type": "code",
   "execution_count": 14,
   "id": "6bd1d5fc",
   "metadata": {
    "execution": {
     "iopub.execute_input": "2021-11-14T17:06:59.417747Z",
     "iopub.status.busy": "2021-11-14T17:06:59.417057Z",
     "iopub.status.idle": "2021-11-14T17:06:59.434818Z",
     "shell.execute_reply": "2021-11-14T17:06:59.435328Z",
     "shell.execute_reply.started": "2021-11-14T16:29:59.826257Z"
    },
    "papermill": {
     "duration": 0.095469,
     "end_time": "2021-11-14T17:06:59.435532",
     "exception": false,
     "start_time": "2021-11-14T17:06:59.340063",
     "status": "completed"
    },
    "tags": []
   },
   "outputs": [],
   "source": [
    "total_male_pass = male[male['PlacedOrNot'] == 1].shape[0]\n",
    "total_female_pass = female[female['PlacedOrNot'] == 1].shape[0]"
   ]
  },
  {
   "cell_type": "code",
   "execution_count": 15,
   "id": "911bfcde",
   "metadata": {
    "execution": {
     "iopub.execute_input": "2021-11-14T17:06:59.585926Z",
     "iopub.status.busy": "2021-11-14T17:06:59.585313Z",
     "iopub.status.idle": "2021-11-14T17:06:59.589568Z",
     "shell.execute_reply": "2021-11-14T17:06:59.590166Z",
     "shell.execute_reply.started": "2021-11-14T16:30:02.387196Z"
    },
    "papermill": {
     "duration": 0.081613,
     "end_time": "2021-11-14T17:06:59.590321",
     "exception": false,
     "start_time": "2021-11-14T17:06:59.508708",
     "status": "completed"
    },
    "tags": []
   },
   "outputs": [],
   "source": [
    "pass_male_percentage = np.round((total_male_pass * 100) / total_male,2)\n",
    "pass_female_percentage = np.round((total_female_pass * 100) / total_female,2)"
   ]
  },
  {
   "cell_type": "code",
   "execution_count": 16,
   "id": "19229094",
   "metadata": {
    "execution": {
     "iopub.execute_input": "2021-11-14T17:06:59.736466Z",
     "iopub.status.busy": "2021-11-14T17:06:59.735839Z",
     "iopub.status.idle": "2021-11-14T17:06:59.739924Z",
     "shell.execute_reply": "2021-11-14T17:06:59.740485Z",
     "shell.execute_reply.started": "2021-11-14T16:30:05.396162Z"
    },
    "papermill": {
     "duration": 0.079071,
     "end_time": "2021-11-14T17:06:59.740646",
     "exception": false,
     "start_time": "2021-11-14T17:06:59.661575",
     "status": "completed"
    },
    "tags": []
   },
   "outputs": [],
   "source": [
    "details = {\"Total Male\": [total_male],\n",
    "             \"Total Female\": [total_female],\n",
    "             \"Total male pass\" : [total_male_pass],\n",
    "             \"Total female pass\" : [total_female_pass],\n",
    "             \"% of Passed Male\" : [pass_male_percentage],\n",
    "             \"% of Passed Female\" : [pass_female_percentage]}"
   ]
  },
  {
   "cell_type": "code",
   "execution_count": 17,
   "id": "6d4db4a9",
   "metadata": {
    "execution": {
     "iopub.execute_input": "2021-11-14T17:06:59.887858Z",
     "iopub.status.busy": "2021-11-14T17:06:59.887269Z",
     "iopub.status.idle": "2021-11-14T17:06:59.892614Z",
     "shell.execute_reply": "2021-11-14T17:06:59.893132Z",
     "shell.execute_reply.started": "2021-11-14T16:30:05.862060Z"
    },
    "papermill": {
     "duration": 0.080766,
     "end_time": "2021-11-14T17:06:59.893336",
     "exception": false,
     "start_time": "2021-11-14T17:06:59.812570",
     "status": "completed"
    },
    "tags": []
   },
   "outputs": [
    {
     "data": {
      "text/plain": [
       "{'Total Male': [2475],\n",
       " 'Total Female': [491],\n",
       " 'Total male pass': [1364],\n",
       " 'Total female pass': [275],\n",
       " '% of Passed Male': [55.11],\n",
       " '% of Passed Female': [56.01]}"
      ]
     },
     "execution_count": 17,
     "metadata": {},
     "output_type": "execute_result"
    }
   ],
   "source": [
    "details"
   ]
  },
  {
   "cell_type": "code",
   "execution_count": 18,
   "id": "0ecaa5b6",
   "metadata": {
    "execution": {
     "iopub.execute_input": "2021-11-14T17:07:00.043313Z",
     "iopub.status.busy": "2021-11-14T17:07:00.042638Z",
     "iopub.status.idle": "2021-11-14T17:07:00.053898Z",
     "shell.execute_reply": "2021-11-14T17:07:00.054454Z",
     "shell.execute_reply.started": "2021-11-14T16:30:06.886426Z"
    },
    "papermill": {
     "duration": 0.087389,
     "end_time": "2021-11-14T17:07:00.054627",
     "exception": false,
     "start_time": "2021-11-14T17:06:59.967238",
     "status": "completed"
    },
    "tags": []
   },
   "outputs": [
    {
     "data": {
      "text/html": [
       "<div>\n",
       "<style scoped>\n",
       "    .dataframe tbody tr th:only-of-type {\n",
       "        vertical-align: middle;\n",
       "    }\n",
       "\n",
       "    .dataframe tbody tr th {\n",
       "        vertical-align: top;\n",
       "    }\n",
       "\n",
       "    .dataframe thead th {\n",
       "        text-align: right;\n",
       "    }\n",
       "</style>\n",
       "<table border=\"1\" class=\"dataframe\">\n",
       "  <thead>\n",
       "    <tr style=\"text-align: right;\">\n",
       "      <th></th>\n",
       "      <th>Detail</th>\n",
       "    </tr>\n",
       "  </thead>\n",
       "  <tbody>\n",
       "    <tr>\n",
       "      <th>Total Male</th>\n",
       "      <td>2475.00</td>\n",
       "    </tr>\n",
       "    <tr>\n",
       "      <th>Total Female</th>\n",
       "      <td>491.00</td>\n",
       "    </tr>\n",
       "    <tr>\n",
       "      <th>Total male pass</th>\n",
       "      <td>1364.00</td>\n",
       "    </tr>\n",
       "    <tr>\n",
       "      <th>Total female pass</th>\n",
       "      <td>275.00</td>\n",
       "    </tr>\n",
       "    <tr>\n",
       "      <th>% of Passed Male</th>\n",
       "      <td>55.11</td>\n",
       "    </tr>\n",
       "    <tr>\n",
       "      <th>% of Passed Female</th>\n",
       "      <td>56.01</td>\n",
       "    </tr>\n",
       "  </tbody>\n",
       "</table>\n",
       "</div>"
      ],
      "text/plain": [
       "                     Detail\n",
       "Total Male          2475.00\n",
       "Total Female         491.00\n",
       "Total male pass     1364.00\n",
       "Total female pass    275.00\n",
       "% of Passed Male      55.11\n",
       "% of Passed Female    56.01"
      ]
     },
     "execution_count": 18,
     "metadata": {},
     "output_type": "execute_result"
    }
   ],
   "source": [
    "gender_wise = pd.DataFrame(details, index=[\"Detail\"])\n",
    "gender_wise.T"
   ]
  },
  {
   "cell_type": "code",
   "execution_count": 19,
   "id": "82509c5b",
   "metadata": {
    "execution": {
     "iopub.execute_input": "2021-11-14T17:07:00.206101Z",
     "iopub.status.busy": "2021-11-14T17:07:00.205465Z",
     "iopub.status.idle": "2021-11-14T17:07:00.324231Z",
     "shell.execute_reply": "2021-11-14T17:07:00.324750Z",
     "shell.execute_reply.started": "2021-11-14T16:30:50.197244Z"
    },
    "papermill": {
     "duration": 0.196009,
     "end_time": "2021-11-14T17:07:00.324936",
     "exception": false,
     "start_time": "2021-11-14T17:07:00.128927",
     "status": "completed"
    },
    "tags": []
   },
   "outputs": [
    {
     "data": {
      "text/html": [
       "<div>                            <div id=\"d9b2f41a-bf5a-491d-8817-152a4f6fad72\" class=\"plotly-graph-div\" style=\"height:525px; width:100%;\"></div>            <script type=\"text/javascript\">                require([\"plotly\"], function(Plotly) {                    window.PLOTLYENV=window.PLOTLYENV || {};                                    if (document.getElementById(\"d9b2f41a-bf5a-491d-8817-152a4f6fad72\")) {                    Plotly.newPlot(                        \"d9b2f41a-bf5a-491d-8817-152a4f6fad72\",                        [{\"alignmentgroup\":\"True\",\"bingroup\":\"x\",\"hovertemplate\":\"PlacedOrNot=1<br>Stream=%{x}<br>count=%{y}<extra></extra>\",\"legendgroup\":\"1\",\"marker\":{\"color\":\"#636efa\",\"pattern\":{\"shape\":\"x\"}},\"name\":\"1\",\"offsetgroup\":\"1\",\"orientation\":\"v\",\"showlegend\":true,\"type\":\"histogram\",\"x\":[\"Electronics And Communication\",\"Computer Science\",\"Information Technology\",\"Information Technology\",\"Mechanical\",\"Computer Science\",\"Electrical\",\"Computer Science\",\"Electronics And Communication\",\"Mechanical\",\"Civil\",\"Electrical\",\"Electrical\",\"Information Technology\",\"Information Technology\",\"Information Technology\",\"Mechanical\",\"Electrical\",\"Computer Science\",\"Civil\",\"Computer Science\",\"Electronics And Communication\",\"Civil\",\"Electrical\",\"Electrical\",\"Information Technology\",\"Electronics And Communication\",\"Computer Science\",\"Electronics And Communication\",\"Information Technology\",\"Electronics And Communication\",\"Electrical\",\"Computer Science\",\"Electronics And Communication\",\"Computer Science\",\"Electronics And Communication\",\"Civil\",\"Electronics And Communication\",\"Electrical\",\"Computer Science\",\"Computer Science\",\"Information Technology\",\"Information Technology\",\"Information Technology\",\"Mechanical\",\"Computer Science\",\"Information Technology\",\"Computer Science\",\"Mechanical\",\"Electrical\",\"Information Technology\",\"Computer Science\",\"Information Technology\",\"Information Technology\",\"Civil\",\"Mechanical\",\"Mechanical\",\"Information Technology\",\"Computer Science\",\"Civil\",\"Computer Science\",\"Mechanical\",\"Information Technology\",\"Mechanical\",\"Electronics And Communication\",\"Computer Science\",\"Civil\",\"Information Technology\",\"Electrical\",\"Computer Science\",\"Information Technology\",\"Computer Science\",\"Civil\",\"Information Technology\",\"Information Technology\",\"Information Technology\",\"Civil\",\"Information Technology\",\"Information Technology\",\"Electronics And Communication\",\"Computer Science\",\"Information Technology\",\"Information Technology\",\"Information Technology\",\"Mechanical\",\"Information Technology\",\"Information Technology\",\"Information Technology\",\"Mechanical\",\"Computer Science\",\"Information Technology\",\"Mechanical\",\"Computer Science\",\"Mechanical\",\"Computer Science\",\"Mechanical\",\"Information Technology\",\"Computer Science\",\"Electronics And Communication\",\"Information Technology\",\"Computer Science\",\"Computer Science\",\"Civil\",\"Information Technology\",\"Computer Science\",\"Computer Science\",\"Civil\",\"Electronics And Communication\",\"Computer Science\",\"Computer Science\",\"Electronics And Communication\",\"Computer Science\",\"Civil\",\"Computer Science\",\"Civil\",\"Information Technology\",\"Information Technology\",\"Electronics And Communication\",\"Electrical\",\"Computer Science\",\"Computer Science\",\"Computer Science\",\"Information Technology\",\"Mechanical\",\"Mechanical\",\"Mechanical\",\"Computer Science\",\"Information Technology\",\"Electrical\",\"Computer Science\",\"Electrical\",\"Computer Science\",\"Computer Science\",\"Electronics And Communication\",\"Computer Science\",\"Information Technology\",\"Information Technology\",\"Computer Science\",\"Information Technology\",\"Mechanical\",\"Information Technology\",\"Electronics And Communication\",\"Computer Science\",\"Computer Science\",\"Information Technology\",\"Information Technology\",\"Computer Science\",\"Mechanical\",\"Electrical\",\"Information Technology\",\"Information Technology\",\"Electrical\",\"Mechanical\",\"Information Technology\",\"Electronics And Communication\",\"Information Technology\",\"Computer Science\",\"Information Technology\",\"Electronics And Communication\",\"Mechanical\",\"Mechanical\",\"Civil\",\"Electronics And Communication\",\"Electronics And Communication\",\"Computer Science\",\"Electronics And Communication\",\"Civil\",\"Civil\",\"Computer Science\",\"Computer Science\",\"Electronics And Communication\",\"Information Technology\",\"Civil\",\"Information Technology\",\"Electronics And Communication\",\"Electrical\",\"Information Technology\",\"Computer Science\",\"Electrical\",\"Computer Science\",\"Information Technology\",\"Computer Science\",\"Civil\",\"Mechanical\",\"Information Technology\",\"Electrical\",\"Computer Science\",\"Computer Science\",\"Mechanical\",\"Computer Science\",\"Civil\",\"Computer Science\",\"Computer Science\",\"Information Technology\",\"Electrical\",\"Information Technology\",\"Mechanical\",\"Electronics And Communication\",\"Computer Science\",\"Electronics And Communication\",\"Information Technology\",\"Information Technology\",\"Electrical\",\"Information Technology\",\"Mechanical\",\"Mechanical\",\"Electronics And Communication\",\"Computer Science\",\"Information Technology\",\"Mechanical\",\"Electronics And Communication\",\"Computer Science\",\"Information Technology\",\"Electrical\",\"Mechanical\",\"Computer Science\",\"Electronics And Communication\",\"Computer Science\",\"Computer Science\",\"Computer Science\",\"Mechanical\",\"Information Technology\",\"Computer Science\",\"Mechanical\",\"Electronics And Communication\",\"Information Technology\",\"Electronics And Communication\",\"Electronics And Communication\",\"Electronics And Communication\",\"Information Technology\",\"Computer Science\",\"Mechanical\",\"Electrical\",\"Mechanical\",\"Computer Science\",\"Civil\",\"Civil\",\"Information Technology\",\"Civil\",\"Electronics And Communication\",\"Civil\",\"Information Technology\",\"Civil\",\"Computer Science\",\"Electronics And Communication\",\"Information Technology\",\"Mechanical\",\"Mechanical\",\"Electronics And Communication\",\"Mechanical\",\"Computer Science\",\"Computer Science\",\"Computer Science\",\"Computer Science\",\"Civil\",\"Information Technology\",\"Information Technology\",\"Mechanical\",\"Information Technology\",\"Mechanical\",\"Information Technology\",\"Computer Science\",\"Computer Science\",\"Computer Science\",\"Information Technology\",\"Computer Science\",\"Information Technology\",\"Electronics And Communication\",\"Information Technology\",\"Information Technology\",\"Information Technology\",\"Mechanical\",\"Civil\",\"Electronics And Communication\",\"Computer Science\",\"Mechanical\",\"Mechanical\",\"Computer Science\",\"Electrical\",\"Information Technology\",\"Electronics And Communication\",\"Information Technology\",\"Computer Science\",\"Mechanical\",\"Mechanical\",\"Computer Science\",\"Electrical\",\"Civil\",\"Computer Science\",\"Computer Science\",\"Mechanical\",\"Electronics And Communication\",\"Electrical\",\"Information Technology\",\"Mechanical\",\"Electronics And Communication\",\"Computer Science\",\"Civil\",\"Electronics And Communication\",\"Civil\",\"Mechanical\",\"Computer Science\",\"Information Technology\",\"Information Technology\",\"Information Technology\",\"Electrical\",\"Computer Science\",\"Computer Science\",\"Electronics And Communication\",\"Information Technology\",\"Electrical\",\"Civil\",\"Electronics And Communication\",\"Electronics And Communication\",\"Information Technology\",\"Electronics And Communication\",\"Information Technology\",\"Electronics And Communication\",\"Computer Science\",\"Electronics And Communication\",\"Information Technology\",\"Information Technology\",\"Computer Science\",\"Information Technology\",\"Computer Science\",\"Information Technology\",\"Computer Science\",\"Information Technology\",\"Computer Science\",\"Electrical\",\"Computer Science\",\"Information Technology\",\"Electrical\",\"Electrical\",\"Electronics And Communication\",\"Mechanical\",\"Civil\",\"Computer Science\",\"Electrical\",\"Electronics And Communication\",\"Electronics And Communication\",\"Mechanical\",\"Mechanical\",\"Information Technology\",\"Electronics And Communication\",\"Information Technology\",\"Information Technology\",\"Electrical\",\"Electronics And Communication\",\"Computer Science\",\"Computer Science\",\"Computer Science\",\"Computer Science\",\"Computer Science\",\"Information Technology\",\"Information Technology\",\"Information Technology\",\"Mechanical\",\"Electronics And Communication\",\"Information Technology\",\"Civil\",\"Information Technology\",\"Electronics And Communication\",\"Electrical\",\"Civil\",\"Information Technology\",\"Computer Science\",\"Information Technology\",\"Civil\",\"Electronics And Communication\",\"Mechanical\",\"Information Technology\",\"Computer Science\",\"Information Technology\",\"Computer Science\",\"Computer Science\",\"Mechanical\",\"Electrical\",\"Electronics And Communication\",\"Electrical\",\"Computer Science\",\"Electronics And Communication\",\"Computer Science\",\"Electronics And Communication\",\"Electrical\",\"Civil\",\"Computer Science\",\"Information Technology\",\"Information Technology\",\"Electrical\",\"Information Technology\",\"Information Technology\",\"Computer Science\",\"Computer Science\",\"Electronics And Communication\",\"Computer Science\",\"Computer Science\",\"Mechanical\",\"Mechanical\",\"Information Technology\",\"Computer Science\",\"Electrical\",\"Electrical\",\"Civil\",\"Mechanical\",\"Computer Science\",\"Electrical\",\"Mechanical\",\"Civil\",\"Mechanical\",\"Computer Science\",\"Information Technology\",\"Computer Science\",\"Information Technology\",\"Electrical\",\"Computer Science\",\"Information Technology\",\"Computer Science\",\"Information Technology\",\"Information Technology\",\"Computer Science\",\"Information Technology\",\"Computer Science\",\"Civil\",\"Mechanical\",\"Electrical\",\"Information Technology\",\"Computer Science\",\"Information Technology\",\"Information Technology\",\"Computer Science\",\"Electronics And Communication\",\"Computer Science\",\"Information Technology\",\"Electrical\",\"Computer Science\",\"Computer Science\",\"Computer Science\",\"Information Technology\",\"Computer Science\",\"Electrical\",\"Electrical\",\"Information Technology\",\"Mechanical\",\"Computer Science\",\"Electronics And Communication\",\"Information Technology\",\"Mechanical\",\"Civil\",\"Computer Science\",\"Electronics And Communication\",\"Computer Science\",\"Electrical\",\"Information Technology\",\"Computer Science\",\"Electronics And Communication\",\"Information Technology\",\"Computer Science\",\"Information Technology\",\"Computer Science\",\"Mechanical\",\"Computer Science\",\"Computer Science\",\"Computer Science\",\"Civil\",\"Mechanical\",\"Information Technology\",\"Mechanical\",\"Computer Science\",\"Information Technology\",\"Electronics And Communication\",\"Computer Science\",\"Civil\",\"Information Technology\",\"Electronics And Communication\",\"Information Technology\",\"Electronics And Communication\",\"Information Technology\",\"Mechanical\",\"Electrical\",\"Information Technology\",\"Information Technology\",\"Information Technology\",\"Computer Science\",\"Mechanical\",\"Computer Science\",\"Information Technology\",\"Electronics And Communication\",\"Electrical\",\"Computer Science\",\"Computer Science\",\"Computer Science\",\"Information Technology\",\"Information Technology\",\"Civil\",\"Computer Science\",\"Mechanical\",\"Electrical\",\"Computer Science\",\"Electronics And Communication\",\"Information Technology\",\"Information Technology\",\"Information Technology\",\"Information Technology\",\"Computer Science\",\"Computer Science\",\"Information Technology\",\"Electronics And Communication\",\"Information Technology\",\"Information Technology\",\"Computer Science\",\"Information Technology\",\"Information Technology\",\"Information Technology\",\"Electronics And Communication\",\"Information Technology\",\"Computer Science\",\"Information Technology\",\"Information Technology\",\"Electrical\",\"Information Technology\",\"Information Technology\",\"Mechanical\",\"Electrical\",\"Information Technology\",\"Mechanical\",\"Civil\",\"Information Technology\",\"Information Technology\",\"Computer Science\",\"Information Technology\",\"Civil\",\"Computer Science\",\"Information Technology\",\"Information Technology\",\"Civil\",\"Information Technology\",\"Computer Science\",\"Information Technology\",\"Computer Science\",\"Information Technology\",\"Computer Science\",\"Civil\",\"Information Technology\",\"Computer Science\",\"Electronics And Communication\",\"Computer Science\",\"Computer Science\",\"Computer Science\",\"Computer Science\",\"Information Technology\",\"Computer Science\",\"Information Technology\",\"Information Technology\",\"Computer Science\",\"Civil\",\"Information Technology\",\"Information Technology\",\"Computer Science\",\"Computer Science\",\"Mechanical\",\"Information Technology\",\"Information Technology\",\"Information Technology\",\"Information Technology\",\"Electrical\",\"Mechanical\",\"Civil\",\"Civil\",\"Computer Science\",\"Information Technology\",\"Computer Science\",\"Civil\",\"Computer Science\",\"Electronics And Communication\",\"Information Technology\",\"Computer Science\",\"Information Technology\",\"Computer Science\",\"Computer Science\",\"Computer Science\",\"Computer Science\",\"Information Technology\",\"Information Technology\",\"Information Technology\",\"Information Technology\",\"Information Technology\",\"Information Technology\",\"Information Technology\",\"Computer Science\",\"Computer Science\",\"Electrical\",\"Information Technology\",\"Information Technology\",\"Mechanical\",\"Information Technology\",\"Information Technology\",\"Information Technology\",\"Information Technology\",\"Information Technology\",\"Electrical\",\"Civil\",\"Information Technology\",\"Information Technology\",\"Information Technology\",\"Computer Science\",\"Electronics And Communication\",\"Information Technology\",\"Mechanical\",\"Mechanical\",\"Information Technology\",\"Computer Science\",\"Computer Science\",\"Civil\",\"Computer Science\",\"Information Technology\",\"Computer Science\",\"Information Technology\",\"Computer Science\",\"Computer Science\",\"Information Technology\",\"Computer Science\",\"Computer Science\",\"Civil\",\"Electrical\",\"Electronics And Communication\",\"Electrical\",\"Computer Science\",\"Electronics And Communication\",\"Electronics And Communication\",\"Mechanical\",\"Electronics And Communication\",\"Electrical\",\"Electronics And Communication\",\"Computer Science\",\"Electronics And Communication\",\"Computer Science\",\"Computer Science\",\"Mechanical\",\"Computer Science\",\"Mechanical\",\"Electronics And Communication\",\"Electrical\",\"Information Technology\",\"Mechanical\",\"Electronics And Communication\",\"Information Technology\",\"Information Technology\",\"Computer Science\",\"Information Technology\",\"Computer Science\",\"Mechanical\",\"Computer Science\",\"Electronics And Communication\",\"Electronics And Communication\",\"Computer Science\",\"Electrical\",\"Electronics And Communication\",\"Information Technology\",\"Mechanical\",\"Electrical\",\"Mechanical\",\"Electrical\",\"Civil\",\"Mechanical\",\"Information Technology\",\"Electronics And Communication\",\"Electronics And Communication\",\"Electronics And Communication\",\"Information Technology\",\"Civil\",\"Electrical\",\"Computer Science\",\"Information Technology\",\"Civil\",\"Civil\",\"Information Technology\",\"Computer Science\",\"Computer Science\",\"Civil\",\"Electronics And Communication\",\"Electrical\",\"Electrical\",\"Electrical\",\"Computer Science\",\"Information Technology\",\"Electrical\",\"Information Technology\",\"Electronics And Communication\",\"Computer Science\",\"Mechanical\",\"Mechanical\",\"Information Technology\",\"Civil\",\"Mechanical\",\"Computer Science\",\"Information Technology\",\"Mechanical\",\"Mechanical\",\"Electrical\",\"Information Technology\",\"Information Technology\",\"Computer Science\",\"Civil\",\"Information Technology\",\"Information Technology\",\"Civil\",\"Electrical\",\"Computer Science\",\"Electrical\",\"Electronics And Communication\",\"Electrical\",\"Civil\",\"Computer Science\",\"Civil\",\"Information Technology\",\"Computer Science\",\"Electronics And Communication\",\"Electrical\",\"Information Technology\",\"Information Technology\",\"Computer Science\",\"Computer Science\",\"Computer Science\",\"Information Technology\",\"Mechanical\",\"Computer Science\",\"Electronics And Communication\",\"Mechanical\",\"Information Technology\",\"Mechanical\",\"Civil\",\"Information Technology\",\"Information Technology\",\"Electronics And Communication\",\"Mechanical\",\"Computer Science\",\"Computer Science\",\"Information Technology\",\"Electronics And Communication\",\"Electronics And Communication\",\"Mechanical\",\"Computer Science\",\"Information Technology\",\"Mechanical\",\"Electrical\",\"Computer Science\",\"Computer Science\",\"Mechanical\",\"Information Technology\",\"Electrical\",\"Information Technology\",\"Electronics And Communication\",\"Information Technology\",\"Mechanical\",\"Mechanical\",\"Computer Science\",\"Electrical\",\"Computer Science\",\"Electrical\",\"Information Technology\",\"Information Technology\",\"Mechanical\",\"Computer Science\",\"Computer Science\",\"Mechanical\",\"Mechanical\",\"Civil\",\"Electrical\",\"Electrical\",\"Electronics And Communication\",\"Computer Science\",\"Computer Science\",\"Electrical\",\"Electrical\",\"Mechanical\",\"Electronics And Communication\",\"Electronics And Communication\",\"Electronics And Communication\",\"Computer Science\",\"Mechanical\",\"Mechanical\",\"Information Technology\",\"Information Technology\",\"Information Technology\",\"Information Technology\",\"Electronics And Communication\",\"Computer Science\",\"Computer Science\",\"Information Technology\",\"Information Technology\",\"Electronics And Communication\",\"Electrical\",\"Electronics And Communication\",\"Information Technology\",\"Mechanical\",\"Information Technology\",\"Computer Science\",\"Electronics And Communication\",\"Information Technology\",\"Information Technology\",\"Electronics And Communication\",\"Computer Science\",\"Computer Science\",\"Information Technology\",\"Civil\",\"Computer Science\",\"Electrical\",\"Mechanical\",\"Electronics And Communication\",\"Computer Science\",\"Computer Science\",\"Computer Science\",\"Electrical\",\"Computer Science\",\"Mechanical\",\"Computer Science\",\"Computer Science\",\"Computer Science\",\"Information Technology\",\"Computer Science\",\"Information Technology\",\"Computer Science\",\"Civil\",\"Electronics And Communication\",\"Mechanical\",\"Computer Science\",\"Computer Science\",\"Computer Science\",\"Computer Science\",\"Computer Science\",\"Electrical\",\"Information Technology\",\"Computer Science\",\"Computer Science\",\"Information Technology\",\"Computer Science\",\"Mechanical\",\"Computer Science\",\"Electronics And Communication\",\"Electrical\",\"Electronics And Communication\",\"Computer Science\",\"Information Technology\",\"Information Technology\",\"Information Technology\",\"Mechanical\",\"Information Technology\",\"Information Technology\",\"Electrical\",\"Information Technology\",\"Civil\",\"Computer Science\",\"Computer Science\",\"Information Technology\",\"Mechanical\",\"Electronics And Communication\",\"Information Technology\",\"Computer Science\",\"Electronics And Communication\",\"Mechanical\",\"Electronics And Communication\",\"Electrical\",\"Electronics And Communication\",\"Information Technology\",\"Civil\",\"Electrical\",\"Computer Science\",\"Electronics And Communication\",\"Electrical\",\"Information Technology\",\"Computer Science\",\"Electrical\",\"Computer Science\",\"Civil\",\"Computer Science\",\"Information Technology\",\"Information Technology\",\"Electrical\",\"Mechanical\",\"Computer Science\",\"Computer Science\",\"Information Technology\",\"Civil\",\"Civil\",\"Information Technology\",\"Information Technology\",\"Electrical\",\"Electrical\",\"Information Technology\",\"Computer Science\",\"Computer Science\",\"Information Technology\",\"Computer Science\",\"Computer Science\",\"Computer Science\",\"Information Technology\",\"Computer Science\",\"Computer Science\",\"Computer Science\",\"Computer Science\",\"Computer Science\",\"Computer Science\",\"Computer Science\",\"Electronics And Communication\",\"Electrical\",\"Electrical\",\"Computer Science\",\"Mechanical\",\"Electronics And Communication\",\"Computer Science\",\"Computer Science\",\"Computer Science\",\"Electrical\",\"Information Technology\",\"Civil\",\"Electronics And Communication\",\"Electrical\",\"Computer Science\",\"Information Technology\",\"Information Technology\",\"Mechanical\",\"Information Technology\",\"Computer Science\",\"Mechanical\",\"Information Technology\",\"Computer Science\",\"Mechanical\",\"Civil\",\"Mechanical\",\"Computer Science\",\"Electronics And Communication\",\"Computer Science\",\"Computer Science\",\"Electronics And Communication\",\"Information Technology\",\"Civil\",\"Information Technology\",\"Electrical\",\"Information Technology\",\"Civil\",\"Computer Science\",\"Computer Science\",\"Computer Science\",\"Civil\",\"Mechanical\",\"Mechanical\",\"Mechanical\",\"Information Technology\",\"Information Technology\",\"Computer Science\",\"Information Technology\",\"Electronics And Communication\",\"Electronics And Communication\",\"Information Technology\",\"Civil\",\"Mechanical\",\"Computer Science\",\"Civil\",\"Information Technology\",\"Civil\",\"Computer Science\",\"Civil\",\"Information Technology\",\"Electrical\",\"Information Technology\",\"Computer Science\",\"Mechanical\",\"Information Technology\",\"Electrical\",\"Civil\",\"Mechanical\",\"Electronics And Communication\",\"Electronics And Communication\",\"Civil\",\"Electrical\",\"Mechanical\",\"Mechanical\",\"Information Technology\",\"Information Technology\",\"Mechanical\",\"Mechanical\",\"Information Technology\",\"Electronics And Communication\",\"Computer Science\",\"Information Technology\",\"Information Technology\",\"Computer Science\",\"Electronics And Communication\",\"Computer Science\",\"Electronics And Communication\",\"Electronics And Communication\",\"Electronics And Communication\",\"Electrical\",\"Computer Science\",\"Information Technology\",\"Information Technology\",\"Electronics And Communication\",\"Electronics And Communication\",\"Computer Science\",\"Electronics And Communication\",\"Computer Science\",\"Information Technology\",\"Electronics And Communication\",\"Information Technology\",\"Civil\",\"Computer Science\",\"Information Technology\",\"Computer Science\",\"Electrical\",\"Information Technology\",\"Computer Science\",\"Information Technology\",\"Electronics And Communication\",\"Mechanical\",\"Civil\",\"Computer Science\",\"Electronics And Communication\",\"Information Technology\",\"Computer Science\",\"Electrical\",\"Computer Science\",\"Civil\",\"Civil\",\"Mechanical\",\"Information Technology\",\"Electronics And Communication\",\"Information Technology\",\"Information Technology\",\"Computer Science\",\"Computer Science\",\"Mechanical\",\"Civil\",\"Information Technology\",\"Electronics And Communication\",\"Computer Science\",\"Computer Science\",\"Computer Science\",\"Information Technology\",\"Civil\",\"Mechanical\",\"Electronics And Communication\",\"Computer Science\",\"Electronics And Communication\",\"Mechanical\",\"Computer Science\",\"Computer Science\",\"Electronics And Communication\",\"Mechanical\",\"Electronics And Communication\",\"Mechanical\",\"Information Technology\",\"Computer Science\",\"Information Technology\",\"Mechanical\",\"Computer Science\",\"Electrical\",\"Information Technology\",\"Electrical\",\"Electrical\",\"Electronics And Communication\",\"Electronics And Communication\",\"Electronics And Communication\",\"Information Technology\",\"Information Technology\",\"Electrical\",\"Electronics And Communication\",\"Civil\",\"Electrical\",\"Information Technology\",\"Information Technology\",\"Information Technology\",\"Mechanical\",\"Information Technology\",\"Mechanical\",\"Information Technology\",\"Computer Science\",\"Information Technology\",\"Information Technology\",\"Computer Science\",\"Electrical\",\"Information Technology\",\"Electrical\",\"Computer Science\",\"Computer Science\",\"Computer Science\",\"Electrical\",\"Civil\",\"Computer Science\",\"Electronics And Communication\",\"Computer Science\",\"Computer Science\",\"Information Technology\",\"Mechanical\",\"Computer Science\",\"Electrical\",\"Mechanical\",\"Computer Science\",\"Computer Science\",\"Computer Science\",\"Information Technology\",\"Information Technology\",\"Electronics And Communication\",\"Computer Science\",\"Computer Science\",\"Computer Science\",\"Electrical\",\"Electronics And Communication\",\"Electrical\",\"Information Technology\",\"Information Technology\",\"Computer Science\",\"Electronics And Communication\",\"Civil\",\"Electronics And Communication\",\"Information Technology\",\"Mechanical\",\"Information Technology\",\"Computer Science\",\"Computer Science\",\"Electronics And Communication\",\"Information Technology\",\"Civil\",\"Computer Science\",\"Information Technology\",\"Information Technology\",\"Mechanical\",\"Civil\",\"Information Technology\",\"Computer Science\",\"Computer Science\",\"Electronics And Communication\",\"Computer Science\",\"Mechanical\",\"Computer Science\",\"Computer Science\",\"Electronics And Communication\",\"Mechanical\",\"Computer Science\",\"Mechanical\",\"Electronics And Communication\",\"Information Technology\",\"Computer Science\",\"Electronics And Communication\",\"Electronics And Communication\",\"Electrical\",\"Computer Science\",\"Computer Science\",\"Electronics And Communication\",\"Computer Science\",\"Electronics And Communication\",\"Mechanical\",\"Electrical\",\"Computer Science\",\"Electrical\",\"Information Technology\",\"Computer Science\",\"Computer Science\",\"Electronics And Communication\",\"Mechanical\",\"Electronics And Communication\",\"Information Technology\",\"Computer Science\",\"Civil\",\"Computer Science\",\"Electrical\",\"Mechanical\",\"Information Technology\",\"Electronics And Communication\",\"Information Technology\",\"Electronics And Communication\",\"Computer Science\",\"Electrical\",\"Electronics And Communication\",\"Electrical\",\"Information Technology\",\"Information Technology\",\"Computer Science\",\"Electronics And Communication\",\"Electrical\",\"Electrical\",\"Information Technology\",\"Computer Science\",\"Computer Science\",\"Electrical\",\"Civil\",\"Computer Science\",\"Computer Science\",\"Electronics And Communication\",\"Mechanical\",\"Information Technology\",\"Electronics And Communication\",\"Information Technology\",\"Information Technology\",\"Information Technology\",\"Computer Science\",\"Computer Science\",\"Electronics And Communication\",\"Mechanical\",\"Electronics And Communication\",\"Electronics And Communication\",\"Computer Science\",\"Information Technology\",\"Computer Science\",\"Computer Science\",\"Electronics And Communication\",\"Computer Science\",\"Civil\",\"Computer Science\",\"Computer Science\",\"Information Technology\",\"Mechanical\",\"Information Technology\",\"Electronics And Communication\",\"Computer Science\",\"Computer Science\",\"Electronics And Communication\",\"Electronics And Communication\",\"Computer Science\",\"Computer Science\",\"Information Technology\",\"Mechanical\",\"Computer Science\",\"Information Technology\",\"Electrical\",\"Civil\",\"Computer Science\",\"Information Technology\",\"Electrical\",\"Information Technology\",\"Civil\",\"Mechanical\",\"Computer Science\",\"Information Technology\",\"Electrical\",\"Computer Science\",\"Civil\",\"Mechanical\",\"Computer Science\",\"Information Technology\",\"Mechanical\",\"Computer Science\",\"Computer Science\",\"Information Technology\",\"Information Technology\",\"Mechanical\",\"Electronics And Communication\",\"Mechanical\",\"Civil\",\"Mechanical\",\"Electronics And Communication\",\"Information Technology\",\"Computer Science\",\"Information Technology\",\"Information Technology\",\"Information Technology\",\"Information Technology\",\"Computer Science\",\"Computer Science\",\"Computer Science\",\"Electronics And Communication\",\"Computer Science\",\"Computer Science\",\"Computer Science\",\"Electrical\",\"Computer Science\",\"Computer Science\",\"Information Technology\",\"Information Technology\",\"Computer Science\",\"Civil\",\"Computer Science\",\"Electrical\",\"Electronics And Communication\",\"Computer Science\",\"Computer Science\",\"Mechanical\",\"Mechanical\",\"Computer Science\",\"Electronics And Communication\",\"Electronics And Communication\",\"Electronics And Communication\",\"Mechanical\",\"Electronics And Communication\",\"Civil\",\"Electrical\",\"Civil\",\"Computer Science\",\"Information Technology\",\"Computer Science\",\"Civil\",\"Civil\",\"Electronics And Communication\",\"Electrical\",\"Computer Science\",\"Computer Science\",\"Information Technology\",\"Mechanical\",\"Electrical\",\"Information Technology\",\"Information Technology\",\"Mechanical\",\"Electrical\",\"Computer Science\",\"Electronics And Communication\",\"Electrical\",\"Information Technology\",\"Civil\",\"Electrical\",\"Information Technology\",\"Electronics And Communication\",\"Computer Science\",\"Computer Science\",\"Electrical\",\"Civil\",\"Electronics And Communication\",\"Electronics And Communication\",\"Electronics And Communication\",\"Computer Science\",\"Mechanical\",\"Mechanical\",\"Civil\",\"Computer Science\",\"Information Technology\",\"Information Technology\",\"Electrical\",\"Electrical\",\"Computer Science\",\"Information Technology\",\"Electronics And Communication\",\"Information Technology\",\"Electronics And Communication\",\"Information Technology\",\"Electrical\",\"Civil\",\"Computer Science\",\"Computer Science\",\"Computer Science\",\"Civil\",\"Mechanical\",\"Mechanical\",\"Computer Science\",\"Mechanical\",\"Computer Science\",\"Electronics And Communication\",\"Electronics And Communication\",\"Civil\",\"Information Technology\",\"Computer Science\",\"Information Technology\",\"Electrical\",\"Information Technology\",\"Computer Science\",\"Computer Science\",\"Electronics And Communication\",\"Mechanical\",\"Civil\",\"Computer Science\",\"Civil\",\"Electrical\",\"Information Technology\",\"Mechanical\",\"Electronics And Communication\",\"Civil\",\"Mechanical\",\"Electronics And Communication\",\"Computer Science\",\"Mechanical\",\"Electrical\",\"Mechanical\",\"Mechanical\",\"Information Technology\",\"Electrical\",\"Electrical\",\"Mechanical\",\"Computer Science\",\"Civil\",\"Electrical\",\"Electronics And Communication\",\"Civil\",\"Electronics And Communication\",\"Computer Science\",\"Mechanical\",\"Electrical\",\"Electrical\",\"Civil\",\"Mechanical\",\"Information Technology\",\"Computer Science\",\"Electrical\",\"Information Technology\",\"Computer Science\",\"Civil\",\"Computer Science\",\"Mechanical\",\"Civil\",\"Computer Science\",\"Computer Science\",\"Electrical\",\"Mechanical\",\"Electronics And Communication\",\"Electronics And Communication\",\"Electronics And Communication\",\"Civil\",\"Electronics And Communication\",\"Information Technology\",\"Mechanical\",\"Information Technology\",\"Computer Science\",\"Mechanical\",\"Information Technology\",\"Mechanical\",\"Civil\",\"Electrical\",\"Civil\",\"Mechanical\",\"Electrical\",\"Electronics And Communication\",\"Computer Science\",\"Information Technology\",\"Information Technology\",\"Information Technology\",\"Computer Science\",\"Electronics And Communication\",\"Information Technology\",\"Computer Science\",\"Civil\",\"Computer Science\",\"Civil\",\"Computer Science\",\"Electrical\",\"Civil\",\"Information Technology\",\"Computer Science\",\"Information Technology\",\"Electronics And Communication\",\"Computer Science\",\"Electrical\",\"Civil\",\"Electronics And Communication\",\"Computer Science\",\"Computer Science\",\"Computer Science\",\"Information Technology\",\"Computer Science\",\"Electrical\",\"Electrical\",\"Computer Science\",\"Mechanical\",\"Computer Science\",\"Electronics And Communication\",\"Mechanical\",\"Computer Science\",\"Information Technology\",\"Civil\",\"Electronics And Communication\",\"Information Technology\",\"Electrical\",\"Electrical\",\"Computer Science\",\"Mechanical\",\"Civil\",\"Electronics And Communication\",\"Mechanical\",\"Electronics And Communication\",\"Electronics And Communication\",\"Civil\",\"Electrical\",\"Information Technology\",\"Electronics And Communication\",\"Electrical\",\"Electronics And Communication\",\"Electronics And Communication\",\"Electrical\",\"Civil\",\"Computer Science\",\"Mechanical\",\"Computer Science\",\"Electronics And Communication\",\"Information Technology\",\"Electrical\",\"Electrical\",\"Mechanical\",\"Civil\",\"Electrical\",\"Information Technology\",\"Electronics And Communication\",\"Electrical\",\"Information Technology\",\"Electrical\",\"Electronics And Communication\",\"Electronics And Communication\",\"Computer Science\",\"Civil\",\"Computer Science\",\"Electrical\",\"Electronics And Communication\",\"Information Technology\",\"Computer Science\",\"Electronics And Communication\",\"Information Technology\",\"Electronics And Communication\",\"Information Technology\",\"Computer Science\",\"Information Technology\",\"Information Technology\",\"Information Technology\",\"Electronics And Communication\",\"Computer Science\",\"Electronics And Communication\",\"Computer Science\",\"Electrical\",\"Electrical\",\"Computer Science\",\"Information Technology\",\"Electrical\",\"Mechanical\",\"Information Technology\",\"Computer Science\",\"Mechanical\",\"Electrical\",\"Computer Science\",\"Information Technology\",\"Civil\",\"Electronics And Communication\",\"Electronics And Communication\",\"Electronics And Communication\",\"Information Technology\",\"Information Technology\",\"Computer Science\",\"Electronics And Communication\",\"Civil\",\"Computer Science\",\"Computer Science\",\"Electrical\",\"Electronics And Communication\",\"Information Technology\",\"Computer Science\",\"Mechanical\",\"Mechanical\",\"Information Technology\",\"Information Technology\",\"Computer Science\",\"Electronics And Communication\",\"Civil\",\"Electrical\",\"Electrical\",\"Computer Science\",\"Electrical\",\"Electrical\",\"Electrical\",\"Electronics And Communication\",\"Information Technology\",\"Electrical\",\"Electronics And Communication\",\"Electronics And Communication\",\"Computer Science\",\"Electrical\",\"Computer Science\",\"Electronics And Communication\",\"Information Technology\",\"Mechanical\",\"Information Technology\",\"Civil\",\"Electrical\",\"Civil\",\"Electronics And Communication\",\"Computer Science\",\"Computer Science\",\"Computer Science\",\"Information Technology\",\"Civil\",\"Mechanical\",\"Electronics And Communication\",\"Electronics And Communication\",\"Electronics And Communication\",\"Information Technology\",\"Electronics And Communication\",\"Information Technology\",\"Mechanical\",\"Electronics And Communication\",\"Mechanical\",\"Civil\",\"Computer Science\",\"Information Technology\",\"Information Technology\",\"Computer Science\",\"Civil\",\"Information Technology\",\"Civil\",\"Electronics And Communication\",\"Electronics And Communication\",\"Electronics And Communication\",\"Electronics And Communication\",\"Mechanical\",\"Computer Science\",\"Information Technology\",\"Electronics And Communication\",\"Computer Science\",\"Computer Science\",\"Computer Science\",\"Electronics And Communication\",\"Electronics And Communication\",\"Computer Science\",\"Information Technology\",\"Civil\",\"Mechanical\",\"Mechanical\",\"Electronics And Communication\",\"Electronics And Communication\",\"Electrical\",\"Information Technology\",\"Electronics And Communication\",\"Electronics And Communication\",\"Information Technology\",\"Mechanical\",\"Information Technology\",\"Information Technology\",\"Electrical\",\"Computer Science\",\"Civil\",\"Electronics And Communication\",\"Computer Science\",\"Information Technology\",\"Computer Science\",\"Computer Science\",\"Computer Science\",\"Electrical\",\"Electronics And Communication\",\"Mechanical\",\"Electronics And Communication\",\"Computer Science\",\"Civil\",\"Computer Science\",\"Computer Science\",\"Mechanical\",\"Computer Science\",\"Computer Science\",\"Civil\"],\"xaxis\":\"x\",\"yaxis\":\"y\"},{\"alignmentgroup\":\"True\",\"bingroup\":\"x\",\"hovertemplate\":\"PlacedOrNot=0<br>Stream=%{x}<br>count=%{y}<extra></extra>\",\"legendgroup\":\"0\",\"marker\":{\"color\":\"#EF553B\",\"pattern\":{\"shape\":\"x\"}},\"name\":\"0\",\"offsetgroup\":\"0\",\"orientation\":\"v\",\"showlegend\":true,\"type\":\"histogram\",\"x\":[\"Electronics And Communication\",\"Computer Science\",\"Information Technology\",\"Computer Science\",\"Computer Science\",\"Computer Science\",\"Computer Science\",\"Civil\",\"Computer Science\",\"Computer Science\",\"Computer Science\",\"Civil\",\"Electronics And Communication\",\"Electronics And Communication\",\"Civil\",\"Electrical\",\"Information Technology\",\"Information Technology\",\"Electrical\",\"Electronics And Communication\",\"Electrical\",\"Computer Science\",\"Civil\",\"Mechanical\",\"Information Technology\",\"Electronics And Communication\",\"Computer Science\",\"Information Technology\",\"Mechanical\",\"Mechanical\",\"Electrical\",\"Information Technology\",\"Electrical\",\"Information Technology\",\"Electrical\",\"Electronics And Communication\",\"Information Technology\",\"Information Technology\",\"Electronics And Communication\",\"Computer Science\",\"Mechanical\",\"Electrical\",\"Electrical\",\"Mechanical\",\"Electrical\",\"Electrical\",\"Information Technology\",\"Electronics And Communication\",\"Information Technology\",\"Computer Science\",\"Mechanical\",\"Computer Science\",\"Electrical\",\"Information Technology\",\"Computer Science\",\"Computer Science\",\"Information Technology\",\"Civil\",\"Civil\",\"Information Technology\",\"Mechanical\",\"Information Technology\",\"Electronics And Communication\",\"Civil\",\"Electrical\",\"Civil\",\"Computer Science\",\"Computer Science\",\"Electronics And Communication\",\"Information Technology\",\"Computer Science\",\"Computer Science\",\"Mechanical\",\"Computer Science\",\"Information Technology\",\"Computer Science\",\"Electronics And Communication\",\"Information Technology\",\"Computer Science\",\"Computer Science\",\"Electronics And Communication\",\"Computer Science\",\"Information Technology\",\"Electrical\",\"Information Technology\",\"Information Technology\",\"Civil\",\"Civil\",\"Electrical\",\"Electronics And Communication\",\"Mechanical\",\"Computer Science\",\"Civil\",\"Civil\",\"Computer Science\",\"Mechanical\",\"Mechanical\",\"Information Technology\",\"Computer Science\",\"Computer Science\",\"Information Technology\",\"Computer Science\",\"Civil\",\"Electrical\",\"Mechanical\",\"Civil\",\"Electrical\",\"Electronics And Communication\",\"Civil\",\"Electronics And Communication\",\"Computer Science\",\"Civil\",\"Information Technology\",\"Civil\",\"Electrical\",\"Information Technology\",\"Electronics And Communication\",\"Electronics And Communication\",\"Mechanical\",\"Civil\",\"Civil\",\"Computer Science\",\"Mechanical\",\"Civil\",\"Information Technology\",\"Computer Science\",\"Civil\",\"Computer Science\",\"Civil\",\"Electronics And Communication\",\"Computer Science\",\"Civil\",\"Computer Science\",\"Mechanical\",\"Electronics And Communication\",\"Electronics And Communication\",\"Computer Science\",\"Electronics And Communication\",\"Mechanical\",\"Information Technology\",\"Electronics And Communication\",\"Civil\",\"Mechanical\",\"Electrical\",\"Electronics And Communication\",\"Electronics And Communication\",\"Information Technology\",\"Electronics And Communication\",\"Computer Science\",\"Electrical\",\"Information Technology\",\"Computer Science\",\"Information Technology\",\"Information Technology\",\"Civil\",\"Mechanical\",\"Information Technology\",\"Mechanical\",\"Computer Science\",\"Computer Science\",\"Computer Science\",\"Information Technology\",\"Electronics And Communication\",\"Information Technology\",\"Mechanical\",\"Electronics And Communication\",\"Information Technology\",\"Civil\",\"Computer Science\",\"Mechanical\",\"Information Technology\",\"Electrical\",\"Mechanical\",\"Electronics And Communication\",\"Information Technology\",\"Computer Science\",\"Information Technology\",\"Mechanical\",\"Computer Science\",\"Electrical\",\"Information Technology\",\"Electronics And Communication\",\"Electrical\",\"Electronics And Communication\",\"Computer Science\",\"Mechanical\",\"Electrical\",\"Civil\",\"Information Technology\",\"Computer Science\",\"Electrical\",\"Computer Science\",\"Computer Science\",\"Electrical\",\"Computer Science\",\"Electrical\",\"Information Technology\",\"Computer Science\",\"Mechanical\",\"Civil\",\"Computer Science\",\"Electrical\",\"Electrical\",\"Computer Science\",\"Computer Science\",\"Electronics And Communication\",\"Information Technology\",\"Mechanical\",\"Electrical\",\"Mechanical\",\"Electronics And Communication\",\"Information Technology\",\"Electronics And Communication\",\"Civil\",\"Electrical\",\"Mechanical\",\"Information Technology\",\"Mechanical\",\"Electrical\",\"Mechanical\",\"Civil\",\"Electronics And Communication\",\"Electrical\",\"Mechanical\",\"Computer Science\",\"Civil\",\"Information Technology\",\"Computer Science\",\"Electrical\",\"Information Technology\",\"Electronics And Communication\",\"Computer Science\",\"Civil\",\"Electronics And Communication\",\"Electrical\",\"Mechanical\",\"Civil\",\"Mechanical\",\"Electronics And Communication\",\"Mechanical\",\"Computer Science\",\"Mechanical\",\"Information Technology\",\"Mechanical\",\"Information Technology\",\"Computer Science\",\"Computer Science\",\"Civil\",\"Computer Science\",\"Information Technology\",\"Electronics And Communication\",\"Civil\",\"Electrical\",\"Civil\",\"Computer Science\",\"Electrical\",\"Computer Science\",\"Electrical\",\"Electrical\",\"Computer Science\",\"Computer Science\",\"Electrical\",\"Electrical\",\"Information Technology\",\"Computer Science\",\"Electronics And Communication\",\"Information Technology\",\"Civil\",\"Computer Science\",\"Information Technology\",\"Computer Science\",\"Civil\",\"Computer Science\",\"Computer Science\",\"Computer Science\",\"Computer Science\",\"Computer Science\",\"Information Technology\",\"Information Technology\",\"Computer Science\",\"Civil\",\"Electrical\",\"Electronics And Communication\",\"Mechanical\",\"Electronics And Communication\",\"Mechanical\",\"Civil\",\"Computer Science\",\"Mechanical\",\"Mechanical\",\"Electronics And Communication\",\"Electrical\",\"Mechanical\",\"Electrical\",\"Electronics And Communication\",\"Electrical\",\"Mechanical\",\"Electronics And Communication\",\"Information Technology\",\"Computer Science\",\"Computer Science\",\"Information Technology\",\"Electronics And Communication\",\"Mechanical\",\"Computer Science\",\"Electrical\",\"Civil\",\"Civil\",\"Electrical\",\"Computer Science\",\"Information Technology\",\"Mechanical\",\"Computer Science\",\"Computer Science\",\"Information Technology\",\"Electronics And Communication\",\"Mechanical\",\"Electrical\",\"Civil\",\"Computer Science\",\"Information Technology\",\"Civil\",\"Computer Science\",\"Civil\",\"Civil\",\"Mechanical\",\"Information Technology\",\"Electrical\",\"Mechanical\",\"Civil\",\"Civil\",\"Electronics And Communication\",\"Civil\",\"Electrical\",\"Computer Science\",\"Mechanical\",\"Electronics And Communication\",\"Electrical\",\"Mechanical\",\"Electrical\",\"Civil\",\"Information Technology\",\"Civil\",\"Electrical\",\"Civil\",\"Civil\",\"Civil\",\"Electronics And Communication\",\"Civil\",\"Electronics And Communication\",\"Electrical\",\"Civil\",\"Electronics And Communication\",\"Mechanical\",\"Electronics And Communication\",\"Mechanical\",\"Mechanical\",\"Computer Science\",\"Electrical\",\"Electronics And Communication\",\"Electrical\",\"Electronics And Communication\",\"Mechanical\",\"Information Technology\",\"Electronics And Communication\",\"Mechanical\",\"Mechanical\",\"Civil\",\"Electronics And Communication\",\"Mechanical\",\"Mechanical\",\"Electrical\",\"Computer Science\",\"Electrical\",\"Mechanical\",\"Electrical\",\"Civil\",\"Information Technology\",\"Mechanical\",\"Information Technology\",\"Mechanical\",\"Information Technology\",\"Computer Science\",\"Information Technology\",\"Information Technology\",\"Electrical\",\"Electronics And Communication\",\"Civil\",\"Civil\",\"Civil\",\"Civil\",\"Civil\",\"Mechanical\",\"Electronics And Communication\",\"Mechanical\",\"Computer Science\",\"Mechanical\",\"Mechanical\",\"Mechanical\",\"Mechanical\",\"Mechanical\",\"Electronics And Communication\",\"Electrical\",\"Electronics And Communication\",\"Mechanical\",\"Computer Science\",\"Civil\",\"Mechanical\",\"Electronics And Communication\",\"Electrical\",\"Mechanical\",\"Mechanical\",\"Civil\",\"Civil\",\"Electronics And Communication\",\"Computer Science\",\"Civil\",\"Electrical\",\"Civil\",\"Civil\",\"Electrical\",\"Mechanical\",\"Mechanical\",\"Mechanical\",\"Computer Science\",\"Mechanical\",\"Civil\",\"Computer Science\",\"Computer Science\",\"Electrical\",\"Electronics And Communication\",\"Civil\",\"Computer Science\",\"Electronics And Communication\",\"Electrical\",\"Civil\",\"Information Technology\",\"Computer Science\",\"Information Technology\",\"Information Technology\",\"Computer Science\",\"Information Technology\",\"Civil\",\"Mechanical\",\"Mechanical\",\"Information Technology\",\"Electrical\",\"Mechanical\",\"Electrical\",\"Information Technology\",\"Civil\",\"Information Technology\",\"Electronics And Communication\",\"Electronics And Communication\",\"Computer Science\",\"Electronics And Communication\",\"Computer Science\",\"Civil\",\"Civil\",\"Computer Science\",\"Civil\",\"Mechanical\",\"Information Technology\",\"Computer Science\",\"Civil\",\"Mechanical\",\"Mechanical\",\"Information Technology\",\"Information Technology\",\"Mechanical\",\"Electrical\",\"Information Technology\",\"Civil\",\"Electronics And Communication\",\"Electrical\",\"Computer Science\",\"Civil\",\"Mechanical\",\"Electronics And Communication\",\"Mechanical\",\"Mechanical\",\"Mechanical\",\"Civil\",\"Information Technology\",\"Civil\",\"Computer Science\",\"Information Technology\",\"Electronics And Communication\",\"Computer Science\",\"Electronics And Communication\",\"Mechanical\",\"Computer Science\",\"Information Technology\",\"Mechanical\",\"Mechanical\",\"Civil\",\"Mechanical\",\"Civil\",\"Computer Science\",\"Information Technology\",\"Electrical\",\"Electrical\",\"Computer Science\",\"Computer Science\",\"Computer Science\",\"Information Technology\",\"Mechanical\",\"Information Technology\",\"Electronics And Communication\",\"Mechanical\",\"Computer Science\",\"Computer Science\",\"Electronics And Communication\",\"Computer Science\",\"Mechanical\",\"Civil\",\"Information Technology\",\"Information Technology\",\"Mechanical\",\"Mechanical\",\"Civil\",\"Electrical\",\"Computer Science\",\"Mechanical\",\"Information Technology\",\"Computer Science\",\"Information Technology\",\"Electrical\",\"Information Technology\",\"Information Technology\",\"Information Technology\",\"Information Technology\",\"Electronics And Communication\",\"Electronics And Communication\",\"Information Technology\",\"Computer Science\",\"Information Technology\",\"Information Technology\",\"Information Technology\",\"Electrical\",\"Computer Science\",\"Information Technology\",\"Electronics And Communication\",\"Information Technology\",\"Computer Science\",\"Mechanical\",\"Electronics And Communication\",\"Information Technology\",\"Mechanical\",\"Computer Science\",\"Civil\",\"Civil\",\"Electronics And Communication\",\"Mechanical\",\"Civil\",\"Information Technology\",\"Mechanical\",\"Civil\",\"Civil\",\"Mechanical\",\"Information Technology\",\"Mechanical\",\"Information Technology\",\"Electronics And Communication\",\"Computer Science\",\"Computer Science\",\"Electronics And Communication\",\"Electrical\",\"Electrical\",\"Computer Science\",\"Electronics And Communication\",\"Computer Science\",\"Information Technology\",\"Information Technology\",\"Information Technology\",\"Information Technology\",\"Computer Science\",\"Computer Science\",\"Information Technology\",\"Computer Science\",\"Computer Science\",\"Computer Science\",\"Computer Science\",\"Electronics And Communication\",\"Electronics And Communication\",\"Computer Science\",\"Mechanical\",\"Information Technology\",\"Mechanical\",\"Information Technology\",\"Electrical\",\"Information Technology\",\"Information Technology\",\"Mechanical\",\"Electronics And Communication\",\"Information Technology\",\"Electronics And Communication\",\"Electronics And Communication\",\"Electrical\",\"Computer Science\",\"Electronics And Communication\",\"Computer Science\",\"Information Technology\",\"Electronics And Communication\",\"Civil\",\"Computer Science\",\"Computer Science\",\"Information Technology\",\"Computer Science\",\"Computer Science\",\"Electrical\",\"Electronics And Communication\",\"Electrical\",\"Information Technology\",\"Information Technology\",\"Mechanical\",\"Electrical\",\"Mechanical\",\"Computer Science\",\"Electrical\",\"Civil\",\"Mechanical\",\"Computer Science\",\"Mechanical\",\"Computer Science\",\"Computer Science\",\"Mechanical\",\"Computer Science\",\"Electronics And Communication\",\"Electronics And Communication\",\"Computer Science\",\"Computer Science\",\"Information Technology\",\"Computer Science\",\"Electronics And Communication\",\"Mechanical\",\"Electronics And Communication\",\"Computer Science\",\"Electrical\",\"Computer Science\",\"Information Technology\",\"Computer Science\",\"Civil\",\"Mechanical\",\"Information Technology\",\"Electronics And Communication\",\"Civil\",\"Computer Science\",\"Computer Science\",\"Information Technology\",\"Information Technology\",\"Civil\",\"Computer Science\",\"Computer Science\",\"Mechanical\",\"Civil\",\"Information Technology\",\"Electrical\",\"Information Technology\",\"Civil\",\"Electronics And Communication\",\"Information Technology\",\"Electronics And Communication\",\"Information Technology\",\"Electronics And Communication\",\"Information Technology\",\"Electronics And Communication\",\"Computer Science\",\"Mechanical\",\"Computer Science\",\"Electronics And Communication\",\"Civil\",\"Civil\",\"Electrical\",\"Information Technology\",\"Computer Science\",\"Mechanical\",\"Electronics And Communication\",\"Computer Science\",\"Electronics And Communication\",\"Information Technology\",\"Computer Science\",\"Civil\",\"Mechanical\",\"Mechanical\",\"Mechanical\",\"Electrical\",\"Information Technology\",\"Information Technology\",\"Information Technology\",\"Information Technology\",\"Civil\",\"Mechanical\",\"Computer Science\",\"Computer Science\",\"Electronics And Communication\",\"Electronics And Communication\",\"Information Technology\",\"Computer Science\",\"Computer Science\",\"Mechanical\",\"Computer Science\",\"Information Technology\",\"Electronics And Communication\",\"Mechanical\",\"Mechanical\",\"Mechanical\",\"Mechanical\",\"Civil\",\"Electrical\",\"Computer Science\",\"Computer Science\",\"Civil\",\"Information Technology\",\"Information Technology\",\"Electrical\",\"Information Technology\",\"Electronics And Communication\",\"Computer Science\",\"Information Technology\",\"Mechanical\",\"Civil\",\"Mechanical\",\"Electrical\",\"Mechanical\",\"Mechanical\",\"Civil\",\"Computer Science\",\"Information Technology\",\"Computer Science\",\"Electronics And Communication\",\"Electrical\",\"Civil\",\"Mechanical\",\"Information Technology\",\"Civil\",\"Computer Science\",\"Mechanical\",\"Mechanical\",\"Computer Science\",\"Computer Science\",\"Computer Science\",\"Computer Science\",\"Civil\",\"Electronics And Communication\",\"Electrical\",\"Information Technology\",\"Civil\",\"Civil\",\"Electrical\",\"Computer Science\",\"Computer Science\",\"Computer Science\",\"Computer Science\",\"Computer Science\",\"Information Technology\",\"Information Technology\",\"Information Technology\",\"Information Technology\",\"Electronics And Communication\",\"Information Technology\",\"Civil\",\"Information Technology\",\"Civil\",\"Information Technology\",\"Information Technology\",\"Electronics And Communication\",\"Information Technology\",\"Mechanical\",\"Computer Science\",\"Computer Science\",\"Electrical\",\"Computer Science\",\"Mechanical\",\"Electronics And Communication\",\"Computer Science\",\"Electronics And Communication\",\"Electronics And Communication\",\"Information Technology\",\"Civil\",\"Electronics And Communication\",\"Civil\",\"Information Technology\",\"Mechanical\",\"Civil\",\"Mechanical\",\"Computer Science\",\"Computer Science\",\"Electronics And Communication\",\"Mechanical\",\"Electronics And Communication\",\"Electrical\",\"Information Technology\",\"Mechanical\",\"Computer Science\",\"Electrical\",\"Civil\",\"Information Technology\",\"Computer Science\",\"Computer Science\",\"Computer Science\",\"Information Technology\",\"Computer Science\",\"Information Technology\",\"Mechanical\",\"Mechanical\",\"Information Technology\",\"Civil\",\"Electronics And Communication\",\"Computer Science\",\"Computer Science\",\"Information Technology\",\"Information Technology\",\"Information Technology\",\"Computer Science\",\"Computer Science\",\"Computer Science\",\"Mechanical\",\"Information Technology\",\"Electrical\",\"Mechanical\",\"Computer Science\",\"Computer Science\",\"Electronics And Communication\",\"Information Technology\",\"Information Technology\",\"Information Technology\",\"Electronics And Communication\",\"Computer Science\",\"Computer Science\",\"Information Technology\",\"Information Technology\",\"Civil\",\"Information Technology\",\"Computer Science\",\"Computer Science\",\"Mechanical\",\"Electronics And Communication\",\"Mechanical\",\"Computer Science\",\"Civil\",\"Civil\",\"Electrical\",\"Civil\",\"Computer Science\",\"Computer Science\",\"Computer Science\",\"Information Technology\",\"Electrical\",\"Computer Science\",\"Civil\",\"Information Technology\",\"Computer Science\",\"Computer Science\",\"Information Technology\",\"Information Technology\",\"Computer Science\",\"Computer Science\",\"Electrical\",\"Computer Science\",\"Computer Science\",\"Electrical\",\"Information Technology\",\"Electronics And Communication\",\"Computer Science\",\"Information Technology\",\"Civil\",\"Electrical\",\"Electronics And Communication\",\"Electronics And Communication\",\"Computer Science\",\"Computer Science\",\"Mechanical\",\"Information Technology\",\"Computer Science\",\"Information Technology\",\"Civil\",\"Electrical\",\"Electrical\",\"Electrical\",\"Computer Science\",\"Mechanical\",\"Computer Science\",\"Computer Science\",\"Information Technology\",\"Mechanical\",\"Information Technology\",\"Information Technology\",\"Information Technology\",\"Electrical\",\"Information Technology\",\"Mechanical\",\"Electrical\",\"Computer Science\",\"Computer Science\",\"Mechanical\",\"Electrical\",\"Computer Science\",\"Civil\",\"Information Technology\",\"Civil\",\"Electronics And Communication\",\"Computer Science\",\"Information Technology\",\"Computer Science\",\"Computer Science\",\"Information Technology\",\"Civil\",\"Information Technology\",\"Electronics And Communication\",\"Computer Science\",\"Electrical\",\"Information Technology\",\"Electrical\",\"Mechanical\",\"Mechanical\",\"Electrical\",\"Electrical\",\"Information Technology\",\"Mechanical\",\"Civil\",\"Electronics And Communication\",\"Electrical\",\"Computer Science\",\"Information Technology\",\"Civil\",\"Mechanical\",\"Computer Science\",\"Electronics And Communication\",\"Information Technology\",\"Information Technology\",\"Electrical\",\"Information Technology\",\"Electronics And Communication\",\"Mechanical\",\"Computer Science\",\"Computer Science\",\"Computer Science\",\"Information Technology\",\"Computer Science\",\"Electrical\",\"Civil\",\"Electronics And Communication\",\"Mechanical\",\"Electrical\",\"Civil\",\"Mechanical\",\"Electrical\",\"Electrical\",\"Electrical\",\"Mechanical\",\"Computer Science\",\"Electrical\",\"Electronics And Communication\",\"Mechanical\",\"Mechanical\",\"Civil\",\"Electronics And Communication\",\"Electrical\",\"Information Technology\",\"Information Technology\",\"Electrical\",\"Mechanical\",\"Civil\",\"Mechanical\",\"Mechanical\",\"Information Technology\",\"Computer Science\",\"Civil\",\"Electrical\",\"Computer Science\",\"Computer Science\",\"Computer Science\",\"Information Technology\",\"Mechanical\",\"Electronics And Communication\",\"Computer Science\",\"Information Technology\",\"Civil\",\"Information Technology\",\"Information Technology\",\"Electrical\",\"Information Technology\",\"Electronics And Communication\",\"Information Technology\",\"Information Technology\",\"Electronics And Communication\",\"Civil\",\"Electronics And Communication\",\"Information Technology\",\"Information Technology\",\"Computer Science\",\"Civil\",\"Information Technology\",\"Electrical\",\"Civil\",\"Civil\",\"Information Technology\",\"Computer Science\",\"Electronics And Communication\",\"Computer Science\",\"Electronics And Communication\",\"Mechanical\",\"Information Technology\",\"Electronics And Communication\",\"Computer Science\",\"Mechanical\",\"Electronics And Communication\",\"Electrical\",\"Computer Science\",\"Computer Science\",\"Mechanical\",\"Electrical\",\"Information Technology\",\"Information Technology\",\"Information Technology\",\"Electronics And Communication\",\"Computer Science\",\"Electronics And Communication\",\"Information Technology\",\"Electrical\",\"Civil\",\"Civil\",\"Information Technology\",\"Electronics And Communication\",\"Information Technology\",\"Computer Science\",\"Computer Science\",\"Civil\",\"Computer Science\",\"Computer Science\",\"Mechanical\",\"Information Technology\",\"Electrical\",\"Mechanical\",\"Computer Science\",\"Electrical\",\"Computer Science\",\"Mechanical\",\"Computer Science\",\"Computer Science\",\"Computer Science\",\"Electronics And Communication\",\"Civil\",\"Electronics And Communication\",\"Information Technology\",\"Electrical\",\"Mechanical\",\"Mechanical\",\"Information Technology\",\"Mechanical\",\"Electronics And Communication\",\"Mechanical\",\"Electronics And Communication\",\"Civil\",\"Electronics And Communication\",\"Civil\",\"Civil\",\"Mechanical\",\"Mechanical\",\"Computer Science\",\"Mechanical\",\"Civil\",\"Computer Science\",\"Computer Science\",\"Electrical\",\"Mechanical\",\"Electrical\",\"Electrical\",\"Electronics And Communication\",\"Computer Science\",\"Civil\",\"Civil\",\"Computer Science\",\"Civil\",\"Computer Science\",\"Computer Science\",\"Computer Science\",\"Civil\",\"Information Technology\",\"Computer Science\",\"Information Technology\",\"Electronics And Communication\",\"Computer Science\",\"Computer Science\",\"Mechanical\",\"Electronics And Communication\",\"Civil\",\"Mechanical\",\"Information Technology\",\"Computer Science\",\"Civil\",\"Computer Science\",\"Mechanical\",\"Electrical\",\"Information Technology\",\"Information Technology\",\"Computer Science\",\"Information Technology\",\"Electronics And Communication\",\"Information Technology\",\"Civil\",\"Electronics And Communication\",\"Computer Science\",\"Computer Science\",\"Information Technology\",\"Electrical\",\"Computer Science\",\"Electrical\",\"Computer Science\",\"Electronics And Communication\",\"Information Technology\",\"Information Technology\",\"Information Technology\",\"Computer Science\",\"Electronics And Communication\",\"Information Technology\",\"Computer Science\",\"Information Technology\",\"Electrical\",\"Computer Science\",\"Computer Science\",\"Computer Science\",\"Civil\",\"Civil\",\"Information Technology\",\"Electronics And Communication\",\"Computer Science\",\"Mechanical\",\"Mechanical\",\"Electronics And Communication\",\"Computer Science\",\"Mechanical\",\"Civil\",\"Electronics And Communication\",\"Information Technology\",\"Computer Science\",\"Mechanical\",\"Civil\",\"Information Technology\",\"Electronics And Communication\",\"Information Technology\",\"Mechanical\",\"Electronics And Communication\",\"Mechanical\",\"Civil\",\"Computer Science\",\"Computer Science\",\"Computer Science\",\"Electronics And Communication\",\"Mechanical\",\"Computer Science\",\"Information Technology\",\"Civil\",\"Mechanical\",\"Mechanical\",\"Computer Science\",\"Mechanical\",\"Information Technology\",\"Civil\",\"Mechanical\",\"Computer Science\",\"Information Technology\",\"Civil\",\"Mechanical\",\"Information Technology\",\"Mechanical\",\"Information Technology\",\"Information Technology\",\"Mechanical\",\"Electrical\",\"Electrical\",\"Computer Science\",\"Computer Science\",\"Civil\",\"Mechanical\",\"Computer Science\",\"Civil\",\"Information Technology\",\"Computer Science\",\"Information Technology\",\"Mechanical\",\"Information Technology\",\"Computer Science\",\"Information Technology\",\"Information Technology\",\"Computer Science\",\"Computer Science\",\"Computer Science\",\"Civil\",\"Electronics And Communication\",\"Mechanical\",\"Mechanical\",\"Information Technology\",\"Mechanical\",\"Information Technology\",\"Computer Science\",\"Computer Science\",\"Mechanical\",\"Computer Science\",\"Information Technology\",\"Information Technology\",\"Information Technology\",\"Computer Science\",\"Computer Science\",\"Computer Science\",\"Mechanical\",\"Computer Science\",\"Electronics And Communication\",\"Electronics And Communication\",\"Electrical\",\"Information Technology\",\"Electronics And Communication\",\"Information Technology\",\"Electrical\",\"Computer Science\",\"Mechanical\",\"Information Technology\",\"Information Technology\",\"Mechanical\",\"Computer Science\",\"Information Technology\",\"Computer Science\",\"Computer Science\",\"Computer Science\",\"Electronics And Communication\",\"Electrical\",\"Computer Science\",\"Civil\",\"Electrical\",\"Computer Science\",\"Electronics And Communication\",\"Mechanical\",\"Electronics And Communication\",\"Mechanical\",\"Electronics And Communication\",\"Information Technology\",\"Computer Science\",\"Computer Science\",\"Mechanical\",\"Computer Science\",\"Mechanical\",\"Electrical\",\"Computer Science\",\"Electrical\",\"Civil\",\"Information Technology\",\"Computer Science\",\"Mechanical\",\"Computer Science\",\"Mechanical\",\"Civil\",\"Civil\",\"Information Technology\",\"Mechanical\",\"Electronics And Communication\",\"Computer Science\",\"Information Technology\",\"Electronics And Communication\",\"Information Technology\",\"Information Technology\",\"Mechanical\",\"Information Technology\",\"Computer Science\",\"Information Technology\",\"Mechanical\",\"Mechanical\",\"Mechanical\",\"Computer Science\",\"Information Technology\",\"Mechanical\",\"Electrical\",\"Mechanical\",\"Information Technology\",\"Electrical\",\"Information Technology\",\"Computer Science\",\"Mechanical\",\"Information Technology\",\"Electronics And Communication\",\"Information Technology\",\"Electrical\",\"Information Technology\",\"Computer Science\",\"Information Technology\",\"Information Technology\",\"Mechanical\",\"Information Technology\",\"Information Technology\",\"Information Technology\",\"Civil\",\"Computer Science\",\"Computer Science\",\"Computer Science\",\"Electronics And Communication\",\"Information Technology\",\"Information Technology\",\"Electrical\",\"Mechanical\",\"Information Technology\",\"Electrical\",\"Mechanical\",\"Computer Science\",\"Computer Science\",\"Computer Science\",\"Mechanical\",\"Computer Science\",\"Information Technology\",\"Mechanical\",\"Computer Science\",\"Electronics And Communication\",\"Electrical\",\"Mechanical\",\"Information Technology\",\"Computer Science\",\"Information Technology\",\"Electrical\",\"Electronics And Communication\",\"Information Technology\",\"Electrical\",\"Computer Science\",\"Information Technology\",\"Mechanical\",\"Information Technology\",\"Mechanical\",\"Information Technology\",\"Computer Science\"],\"xaxis\":\"x\",\"yaxis\":\"y\"}],                        {\"barmode\":\"relative\",\"legend\":{\"title\":{\"text\":\"PlacedOrNot\"},\"tracegroupgap\":0},\"template\":{\"data\":{\"bar\":[{\"error_x\":{\"color\":\"#f2f5fa\"},\"error_y\":{\"color\":\"#f2f5fa\"},\"marker\":{\"line\":{\"color\":\"rgb(17,17,17)\",\"width\":0.5},\"pattern\":{\"fillmode\":\"overlay\",\"size\":10,\"solidity\":0.2}},\"type\":\"bar\"}],\"barpolar\":[{\"marker\":{\"line\":{\"color\":\"rgb(17,17,17)\",\"width\":0.5},\"pattern\":{\"fillmode\":\"overlay\",\"size\":10,\"solidity\":0.2}},\"type\":\"barpolar\"}],\"carpet\":[{\"aaxis\":{\"endlinecolor\":\"#A2B1C6\",\"gridcolor\":\"#506784\",\"linecolor\":\"#506784\",\"minorgridcolor\":\"#506784\",\"startlinecolor\":\"#A2B1C6\"},\"baxis\":{\"endlinecolor\":\"#A2B1C6\",\"gridcolor\":\"#506784\",\"linecolor\":\"#506784\",\"minorgridcolor\":\"#506784\",\"startlinecolor\":\"#A2B1C6\"},\"type\":\"carpet\"}],\"choropleth\":[{\"colorbar\":{\"outlinewidth\":0,\"ticks\":\"\"},\"type\":\"choropleth\"}],\"contour\":[{\"colorbar\":{\"outlinewidth\":0,\"ticks\":\"\"},\"colorscale\":[[0.0,\"#0d0887\"],[0.1111111111111111,\"#46039f\"],[0.2222222222222222,\"#7201a8\"],[0.3333333333333333,\"#9c179e\"],[0.4444444444444444,\"#bd3786\"],[0.5555555555555556,\"#d8576b\"],[0.6666666666666666,\"#ed7953\"],[0.7777777777777778,\"#fb9f3a\"],[0.8888888888888888,\"#fdca26\"],[1.0,\"#f0f921\"]],\"type\":\"contour\"}],\"contourcarpet\":[{\"colorbar\":{\"outlinewidth\":0,\"ticks\":\"\"},\"type\":\"contourcarpet\"}],\"heatmap\":[{\"colorbar\":{\"outlinewidth\":0,\"ticks\":\"\"},\"colorscale\":[[0.0,\"#0d0887\"],[0.1111111111111111,\"#46039f\"],[0.2222222222222222,\"#7201a8\"],[0.3333333333333333,\"#9c179e\"],[0.4444444444444444,\"#bd3786\"],[0.5555555555555556,\"#d8576b\"],[0.6666666666666666,\"#ed7953\"],[0.7777777777777778,\"#fb9f3a\"],[0.8888888888888888,\"#fdca26\"],[1.0,\"#f0f921\"]],\"type\":\"heatmap\"}],\"heatmapgl\":[{\"colorbar\":{\"outlinewidth\":0,\"ticks\":\"\"},\"colorscale\":[[0.0,\"#0d0887\"],[0.1111111111111111,\"#46039f\"],[0.2222222222222222,\"#7201a8\"],[0.3333333333333333,\"#9c179e\"],[0.4444444444444444,\"#bd3786\"],[0.5555555555555556,\"#d8576b\"],[0.6666666666666666,\"#ed7953\"],[0.7777777777777778,\"#fb9f3a\"],[0.8888888888888888,\"#fdca26\"],[1.0,\"#f0f921\"]],\"type\":\"heatmapgl\"}],\"histogram\":[{\"marker\":{\"pattern\":{\"fillmode\":\"overlay\",\"size\":10,\"solidity\":0.2}},\"type\":\"histogram\"}],\"histogram2d\":[{\"colorbar\":{\"outlinewidth\":0,\"ticks\":\"\"},\"colorscale\":[[0.0,\"#0d0887\"],[0.1111111111111111,\"#46039f\"],[0.2222222222222222,\"#7201a8\"],[0.3333333333333333,\"#9c179e\"],[0.4444444444444444,\"#bd3786\"],[0.5555555555555556,\"#d8576b\"],[0.6666666666666666,\"#ed7953\"],[0.7777777777777778,\"#fb9f3a\"],[0.8888888888888888,\"#fdca26\"],[1.0,\"#f0f921\"]],\"type\":\"histogram2d\"}],\"histogram2dcontour\":[{\"colorbar\":{\"outlinewidth\":0,\"ticks\":\"\"},\"colorscale\":[[0.0,\"#0d0887\"],[0.1111111111111111,\"#46039f\"],[0.2222222222222222,\"#7201a8\"],[0.3333333333333333,\"#9c179e\"],[0.4444444444444444,\"#bd3786\"],[0.5555555555555556,\"#d8576b\"],[0.6666666666666666,\"#ed7953\"],[0.7777777777777778,\"#fb9f3a\"],[0.8888888888888888,\"#fdca26\"],[1.0,\"#f0f921\"]],\"type\":\"histogram2dcontour\"}],\"mesh3d\":[{\"colorbar\":{\"outlinewidth\":0,\"ticks\":\"\"},\"type\":\"mesh3d\"}],\"parcoords\":[{\"line\":{\"colorbar\":{\"outlinewidth\":0,\"ticks\":\"\"}},\"type\":\"parcoords\"}],\"pie\":[{\"automargin\":true,\"type\":\"pie\"}],\"scatter\":[{\"marker\":{\"line\":{\"color\":\"#283442\"}},\"type\":\"scatter\"}],\"scatter3d\":[{\"line\":{\"colorbar\":{\"outlinewidth\":0,\"ticks\":\"\"}},\"marker\":{\"colorbar\":{\"outlinewidth\":0,\"ticks\":\"\"}},\"type\":\"scatter3d\"}],\"scattercarpet\":[{\"marker\":{\"colorbar\":{\"outlinewidth\":0,\"ticks\":\"\"}},\"type\":\"scattercarpet\"}],\"scattergeo\":[{\"marker\":{\"colorbar\":{\"outlinewidth\":0,\"ticks\":\"\"}},\"type\":\"scattergeo\"}],\"scattergl\":[{\"marker\":{\"line\":{\"color\":\"#283442\"}},\"type\":\"scattergl\"}],\"scattermapbox\":[{\"marker\":{\"colorbar\":{\"outlinewidth\":0,\"ticks\":\"\"}},\"type\":\"scattermapbox\"}],\"scatterpolar\":[{\"marker\":{\"colorbar\":{\"outlinewidth\":0,\"ticks\":\"\"}},\"type\":\"scatterpolar\"}],\"scatterpolargl\":[{\"marker\":{\"colorbar\":{\"outlinewidth\":0,\"ticks\":\"\"}},\"type\":\"scatterpolargl\"}],\"scatterternary\":[{\"marker\":{\"colorbar\":{\"outlinewidth\":0,\"ticks\":\"\"}},\"type\":\"scatterternary\"}],\"surface\":[{\"colorbar\":{\"outlinewidth\":0,\"ticks\":\"\"},\"colorscale\":[[0.0,\"#0d0887\"],[0.1111111111111111,\"#46039f\"],[0.2222222222222222,\"#7201a8\"],[0.3333333333333333,\"#9c179e\"],[0.4444444444444444,\"#bd3786\"],[0.5555555555555556,\"#d8576b\"],[0.6666666666666666,\"#ed7953\"],[0.7777777777777778,\"#fb9f3a\"],[0.8888888888888888,\"#fdca26\"],[1.0,\"#f0f921\"]],\"type\":\"surface\"}],\"table\":[{\"cells\":{\"fill\":{\"color\":\"#506784\"},\"line\":{\"color\":\"rgb(17,17,17)\"}},\"header\":{\"fill\":{\"color\":\"#2a3f5f\"},\"line\":{\"color\":\"rgb(17,17,17)\"}},\"type\":\"table\"}]},\"layout\":{\"annotationdefaults\":{\"arrowcolor\":\"#f2f5fa\",\"arrowhead\":0,\"arrowwidth\":1},\"autotypenumbers\":\"strict\",\"coloraxis\":{\"colorbar\":{\"outlinewidth\":0,\"ticks\":\"\"}},\"colorscale\":{\"diverging\":[[0,\"#8e0152\"],[0.1,\"#c51b7d\"],[0.2,\"#de77ae\"],[0.3,\"#f1b6da\"],[0.4,\"#fde0ef\"],[0.5,\"#f7f7f7\"],[0.6,\"#e6f5d0\"],[0.7,\"#b8e186\"],[0.8,\"#7fbc41\"],[0.9,\"#4d9221\"],[1,\"#276419\"]],\"sequential\":[[0.0,\"#0d0887\"],[0.1111111111111111,\"#46039f\"],[0.2222222222222222,\"#7201a8\"],[0.3333333333333333,\"#9c179e\"],[0.4444444444444444,\"#bd3786\"],[0.5555555555555556,\"#d8576b\"],[0.6666666666666666,\"#ed7953\"],[0.7777777777777778,\"#fb9f3a\"],[0.8888888888888888,\"#fdca26\"],[1.0,\"#f0f921\"]],\"sequentialminus\":[[0.0,\"#0d0887\"],[0.1111111111111111,\"#46039f\"],[0.2222222222222222,\"#7201a8\"],[0.3333333333333333,\"#9c179e\"],[0.4444444444444444,\"#bd3786\"],[0.5555555555555556,\"#d8576b\"],[0.6666666666666666,\"#ed7953\"],[0.7777777777777778,\"#fb9f3a\"],[0.8888888888888888,\"#fdca26\"],[1.0,\"#f0f921\"]]},\"colorway\":[\"#636efa\",\"#EF553B\",\"#00cc96\",\"#ab63fa\",\"#FFA15A\",\"#19d3f3\",\"#FF6692\",\"#B6E880\",\"#FF97FF\",\"#FECB52\"],\"font\":{\"color\":\"#f2f5fa\"},\"geo\":{\"bgcolor\":\"rgb(17,17,17)\",\"lakecolor\":\"rgb(17,17,17)\",\"landcolor\":\"rgb(17,17,17)\",\"showlakes\":true,\"showland\":true,\"subunitcolor\":\"#506784\"},\"hoverlabel\":{\"align\":\"left\"},\"hovermode\":\"closest\",\"mapbox\":{\"style\":\"dark\"},\"paper_bgcolor\":\"rgb(17,17,17)\",\"plot_bgcolor\":\"rgb(17,17,17)\",\"polar\":{\"angularaxis\":{\"gridcolor\":\"#506784\",\"linecolor\":\"#506784\",\"ticks\":\"\"},\"bgcolor\":\"rgb(17,17,17)\",\"radialaxis\":{\"gridcolor\":\"#506784\",\"linecolor\":\"#506784\",\"ticks\":\"\"}},\"scene\":{\"xaxis\":{\"backgroundcolor\":\"rgb(17,17,17)\",\"gridcolor\":\"#506784\",\"gridwidth\":2,\"linecolor\":\"#506784\",\"showbackground\":true,\"ticks\":\"\",\"zerolinecolor\":\"#C8D4E3\"},\"yaxis\":{\"backgroundcolor\":\"rgb(17,17,17)\",\"gridcolor\":\"#506784\",\"gridwidth\":2,\"linecolor\":\"#506784\",\"showbackground\":true,\"ticks\":\"\",\"zerolinecolor\":\"#C8D4E3\"},\"zaxis\":{\"backgroundcolor\":\"rgb(17,17,17)\",\"gridcolor\":\"#506784\",\"gridwidth\":2,\"linecolor\":\"#506784\",\"showbackground\":true,\"ticks\":\"\",\"zerolinecolor\":\"#C8D4E3\"}},\"shapedefaults\":{\"line\":{\"color\":\"#f2f5fa\"}},\"sliderdefaults\":{\"bgcolor\":\"#C8D4E3\",\"bordercolor\":\"rgb(17,17,17)\",\"borderwidth\":1,\"tickwidth\":0},\"ternary\":{\"aaxis\":{\"gridcolor\":\"#506784\",\"linecolor\":\"#506784\",\"ticks\":\"\"},\"baxis\":{\"gridcolor\":\"#506784\",\"linecolor\":\"#506784\",\"ticks\":\"\"},\"bgcolor\":\"rgb(17,17,17)\",\"caxis\":{\"gridcolor\":\"#506784\",\"linecolor\":\"#506784\",\"ticks\":\"\"}},\"title\":{\"x\":0.05},\"updatemenudefaults\":{\"bgcolor\":\"#506784\",\"borderwidth\":0},\"xaxis\":{\"automargin\":true,\"gridcolor\":\"#283442\",\"linecolor\":\"#506784\",\"ticks\":\"\",\"title\":{\"standoff\":15},\"zerolinecolor\":\"#283442\",\"zerolinewidth\":2},\"yaxis\":{\"automargin\":true,\"gridcolor\":\"#283442\",\"linecolor\":\"#506784\",\"ticks\":\"\",\"title\":{\"standoff\":15},\"zerolinecolor\":\"#283442\",\"zerolinewidth\":2}}},\"title\":{\"font\":{\"size\":20},\"text\":\"<b>Counts of Stream</b>\",\"x\":0.5},\"uniformtext\":{\"minsize\":15},\"xaxis\":{\"anchor\":\"y\",\"domain\":[0.0,1.0],\"title\":{\"text\":\"Stream\"}},\"yaxis\":{\"anchor\":\"x\",\"domain\":[0.0,1.0],\"title\":{\"text\":\"count\"}}},                        {\"responsive\": true}                    ).then(function(){\n",
       "                            \n",
       "var gd = document.getElementById('d9b2f41a-bf5a-491d-8817-152a4f6fad72');\n",
       "var x = new MutationObserver(function (mutations, observer) {{\n",
       "        var display = window.getComputedStyle(gd).display;\n",
       "        if (!display || display === 'none') {{\n",
       "            console.log([gd, 'removed!']);\n",
       "            Plotly.purge(gd);\n",
       "            observer.disconnect();\n",
       "        }}\n",
       "}});\n",
       "\n",
       "// Listen for the removal of the full notebook cells\n",
       "var notebookContainer = gd.closest('#notebook-container');\n",
       "if (notebookContainer) {{\n",
       "    x.observe(notebookContainer, {childList: true});\n",
       "}}\n",
       "\n",
       "// Listen for the clearing of the current output cell\n",
       "var outputEl = gd.closest('.output');\n",
       "if (outputEl) {{\n",
       "    x.observe(outputEl, {childList: true});\n",
       "}}\n",
       "\n",
       "                        })                };                });            </script>        </div>"
      ]
     },
     "metadata": {},
     "output_type": "display_data"
    }
   ],
   "source": [
    "fig = px.histogram(data_frame = data,\n",
    "             x = \"Stream\",\n",
    "             color=\"PlacedOrNot\", title=\"<b>Counts of Stream</b>\",\n",
    "             pattern_shape_sequence=['x'],\n",
    "             template='plotly_dark')\n",
    "\n",
    "fig.update_layout(title_x = 0.5,\n",
    "                  title_font = dict(size = 20),\n",
    "                  uniformtext_minsize = 15)\n",
    "\n",
    "\n",
    "fig.show()"
   ]
  },
  {
   "cell_type": "markdown",
   "id": "b4253e39",
   "metadata": {
    "papermill": {
     "duration": 0.076829,
     "end_time": "2021-11-14T17:07:00.477003",
     "exception": false,
     "start_time": "2021-11-14T17:07:00.400174",
     "status": "completed"
    },
    "tags": []
   },
   "source": [
    "**Majority of candidate are Computer Science Student and they are also large in number who got placement as compare to other Streams**"
   ]
  },
  {
   "cell_type": "markdown",
   "id": "6cfe3da4",
   "metadata": {
    "papermill": {
     "duration": 0.075566,
     "end_time": "2021-11-14T17:07:00.628017",
     "exception": false,
     "start_time": "2021-11-14T17:07:00.552451",
     "status": "completed"
    },
    "tags": []
   },
   "source": [
    "<a id=\"5.4\"></a>\n",
    "# <p style=\"background-color:#73d1ff;font-family:newtimeroman;color:#000000;font-size:120%;text-align:center;border-radius:20px 80px;\">✔️ Higher CGPA Vs Placement</p>\n",
    "\n",
    "\n"
   ]
  },
  {
   "cell_type": "markdown",
   "id": "47e8697a",
   "metadata": {
    "papermill": {
     "duration": 0.075269,
     "end_time": "2021-11-14T17:07:00.781609",
     "exception": false,
     "start_time": "2021-11-14T17:07:00.706340",
     "status": "completed"
    },
    "tags": []
   },
   "source": [
    "## **Displaying all those records whose CGPA is above average**"
   ]
  },
  {
   "cell_type": "code",
   "execution_count": 20,
   "id": "c092b226",
   "metadata": {
    "execution": {
     "iopub.execute_input": "2021-11-14T17:07:00.937568Z",
     "iopub.status.busy": "2021-11-14T17:07:00.936906Z",
     "iopub.status.idle": "2021-11-14T17:07:00.955767Z",
     "shell.execute_reply": "2021-11-14T17:07:00.956262Z",
     "shell.execute_reply.started": "2021-11-14T16:31:10.644030Z"
    },
    "papermill": {
     "duration": 0.098566,
     "end_time": "2021-11-14T17:07:00.956434",
     "exception": false,
     "start_time": "2021-11-14T17:07:00.857868",
     "status": "completed"
    },
    "tags": []
   },
   "outputs": [
    {
     "data": {
      "text/html": [
       "<div>\n",
       "<style scoped>\n",
       "    .dataframe tbody tr th:only-of-type {\n",
       "        vertical-align: middle;\n",
       "    }\n",
       "\n",
       "    .dataframe tbody tr th {\n",
       "        vertical-align: top;\n",
       "    }\n",
       "\n",
       "    .dataframe thead th {\n",
       "        text-align: right;\n",
       "    }\n",
       "</style>\n",
       "<table border=\"1\" class=\"dataframe\">\n",
       "  <thead>\n",
       "    <tr style=\"text-align: right;\">\n",
       "      <th></th>\n",
       "      <th>Age</th>\n",
       "      <th>Gender</th>\n",
       "      <th>Stream</th>\n",
       "      <th>Internships</th>\n",
       "      <th>CGPA</th>\n",
       "      <th>Hostel</th>\n",
       "      <th>HistoryOfBacklogs</th>\n",
       "      <th>PlacedOrNot</th>\n",
       "    </tr>\n",
       "  </thead>\n",
       "  <tbody>\n",
       "    <tr>\n",
       "      <th>0</th>\n",
       "      <td>22</td>\n",
       "      <td>Male</td>\n",
       "      <td>Electronics And Communication</td>\n",
       "      <td>1</td>\n",
       "      <td>8</td>\n",
       "      <td>1</td>\n",
       "      <td>1</td>\n",
       "      <td>1</td>\n",
       "    </tr>\n",
       "    <tr>\n",
       "      <th>3</th>\n",
       "      <td>21</td>\n",
       "      <td>Male</td>\n",
       "      <td>Information Technology</td>\n",
       "      <td>0</td>\n",
       "      <td>8</td>\n",
       "      <td>0</td>\n",
       "      <td>1</td>\n",
       "      <td>1</td>\n",
       "    </tr>\n",
       "    <tr>\n",
       "      <th>4</th>\n",
       "      <td>22</td>\n",
       "      <td>Male</td>\n",
       "      <td>Mechanical</td>\n",
       "      <td>0</td>\n",
       "      <td>8</td>\n",
       "      <td>1</td>\n",
       "      <td>0</td>\n",
       "      <td>1</td>\n",
       "    </tr>\n",
       "    <tr>\n",
       "      <th>11</th>\n",
       "      <td>22</td>\n",
       "      <td>Female</td>\n",
       "      <td>Electrical</td>\n",
       "      <td>1</td>\n",
       "      <td>8</td>\n",
       "      <td>0</td>\n",
       "      <td>1</td>\n",
       "      <td>1</td>\n",
       "    </tr>\n",
       "    <tr>\n",
       "      <th>13</th>\n",
       "      <td>21</td>\n",
       "      <td>Male</td>\n",
       "      <td>Computer Science</td>\n",
       "      <td>1</td>\n",
       "      <td>8</td>\n",
       "      <td>0</td>\n",
       "      <td>1</td>\n",
       "      <td>1</td>\n",
       "    </tr>\n",
       "    <tr>\n",
       "      <th>...</th>\n",
       "      <td>...</td>\n",
       "      <td>...</td>\n",
       "      <td>...</td>\n",
       "      <td>...</td>\n",
       "      <td>...</td>\n",
       "      <td>...</td>\n",
       "      <td>...</td>\n",
       "      <td>...</td>\n",
       "    </tr>\n",
       "    <tr>\n",
       "      <th>2951</th>\n",
       "      <td>21</td>\n",
       "      <td>Male</td>\n",
       "      <td>Computer Science</td>\n",
       "      <td>3</td>\n",
       "      <td>8</td>\n",
       "      <td>0</td>\n",
       "      <td>0</td>\n",
       "      <td>1</td>\n",
       "    </tr>\n",
       "    <tr>\n",
       "      <th>2952</th>\n",
       "      <td>23</td>\n",
       "      <td>Male</td>\n",
       "      <td>Mechanical</td>\n",
       "      <td>0</td>\n",
       "      <td>8</td>\n",
       "      <td>1</td>\n",
       "      <td>0</td>\n",
       "      <td>1</td>\n",
       "    </tr>\n",
       "    <tr>\n",
       "      <th>2954</th>\n",
       "      <td>23</td>\n",
       "      <td>Female</td>\n",
       "      <td>Computer Science</td>\n",
       "      <td>1</td>\n",
       "      <td>8</td>\n",
       "      <td>0</td>\n",
       "      <td>1</td>\n",
       "      <td>1</td>\n",
       "    </tr>\n",
       "    <tr>\n",
       "      <th>2956</th>\n",
       "      <td>22</td>\n",
       "      <td>Male</td>\n",
       "      <td>Computer Science</td>\n",
       "      <td>0</td>\n",
       "      <td>8</td>\n",
       "      <td>0</td>\n",
       "      <td>0</td>\n",
       "      <td>1</td>\n",
       "    </tr>\n",
       "    <tr>\n",
       "      <th>2965</th>\n",
       "      <td>23</td>\n",
       "      <td>Male</td>\n",
       "      <td>Civil</td>\n",
       "      <td>0</td>\n",
       "      <td>8</td>\n",
       "      <td>0</td>\n",
       "      <td>0</td>\n",
       "      <td>1</td>\n",
       "    </tr>\n",
       "  </tbody>\n",
       "</table>\n",
       "<p>1080 rows × 8 columns</p>\n",
       "</div>"
      ],
      "text/plain": [
       "      Age  Gender                         Stream  Internships  CGPA  Hostel  \\\n",
       "0      22    Male  Electronics And Communication            1     8       1   \n",
       "3      21    Male         Information Technology            0     8       0   \n",
       "4      22    Male                     Mechanical            0     8       1   \n",
       "11     22  Female                     Electrical            1     8       0   \n",
       "13     21    Male               Computer Science            1     8       0   \n",
       "...   ...     ...                            ...          ...   ...     ...   \n",
       "2951   21    Male               Computer Science            3     8       0   \n",
       "2952   23    Male                     Mechanical            0     8       1   \n",
       "2954   23  Female               Computer Science            1     8       0   \n",
       "2956   22    Male               Computer Science            0     8       0   \n",
       "2965   23    Male                          Civil            0     8       0   \n",
       "\n",
       "      HistoryOfBacklogs  PlacedOrNot  \n",
       "0                     1            1  \n",
       "3                     1            1  \n",
       "4                     0            1  \n",
       "11                    1            1  \n",
       "13                    1            1  \n",
       "...                 ...          ...  \n",
       "2951                  0            1  \n",
       "2952                  0            1  \n",
       "2954                  1            1  \n",
       "2956                  0            1  \n",
       "2965                  0            1  \n",
       "\n",
       "[1080 rows x 8 columns]"
      ]
     },
     "execution_count": 20,
     "metadata": {},
     "output_type": "execute_result"
    }
   ],
   "source": [
    "cgpa_above_avg = data[data['CGPA'] > data['CGPA'].mean()]\n",
    "\n",
    "cgpa_above_avg"
   ]
  },
  {
   "cell_type": "code",
   "execution_count": 21,
   "id": "d1a96f54",
   "metadata": {
    "execution": {
     "iopub.execute_input": "2021-11-14T17:07:01.128414Z",
     "iopub.status.busy": "2021-11-14T17:07:01.127323Z",
     "iopub.status.idle": "2021-11-14T17:07:01.187332Z",
     "shell.execute_reply": "2021-11-14T17:07:01.186803Z",
     "shell.execute_reply.started": "2021-11-14T16:45:21.937131Z"
    },
    "papermill": {
     "duration": 0.154513,
     "end_time": "2021-11-14T17:07:01.187481",
     "exception": false,
     "start_time": "2021-11-14T17:07:01.032968",
     "status": "completed"
    },
    "tags": []
   },
   "outputs": [
    {
     "data": {
      "text/html": [
       "<div>                            <div id=\"9b0f4441-f95c-4dbc-b30a-4ac187a2b6cf\" class=\"plotly-graph-div\" style=\"height:525px; width:100%;\"></div>            <script type=\"text/javascript\">                require([\"plotly\"], function(Plotly) {                    window.PLOTLYENV=window.PLOTLYENV || {};                                    if (document.getElementById(\"9b0f4441-f95c-4dbc-b30a-4ac187a2b6cf\")) {                    Plotly.newPlot(                        \"9b0f4441-f95c-4dbc-b30a-4ac187a2b6cf\",                        [{\"alignmentgroup\":\"True\",\"bingroup\":\"x\",\"hovertemplate\":\"PlacedOrNot=1<br>CGPA=%{x}<br>count=%{y}<extra></extra>\",\"legendgroup\":\"1\",\"marker\":{\"color\":\"#636efa\",\"pattern\":{\"shape\":\"\"}},\"name\":\"1\",\"offsetgroup\":\"1\",\"orientation\":\"v\",\"showlegend\":true,\"type\":\"histogram\",\"x\":[8,8,8,8,8,8,8,8,8,8,8,8,8,8,8,8,8,8,8,8,8,8,8,8,8,9,8,8,9,8,9,9,8,9,8,8,9,9,8,9,8,9,8,8,8,9,9,8,8,8,8,8,8,8,8,8,8,8,8,8,8,8,8,8,8,8,8,8,8,8,8,8,8,8,8,8,8,8,8,8,8,8,8,8,8,8,8,8,8,8,8,8,8,8,8,8,8,8,8,8,8,8,8,8,8,8,8,8,8,8,8,8,8,8,8,8,8,8,8,8,8,8,8,8,8,8,8,8,8,8,8,8,8,8,8,8,8,8,8,8,8,8,8,8,8,8,8,8,8,8,8,8,8,8,8,8,8,8,8,8,8,8,8,8,8,8,8,8,8,8,8,8,8,8,8,8,8,8,8,8,8,8,8,8,8,8,8,8,8,8,8,8,8,8,8,8,8,8,8,8,8,8,8,8,8,8,8,8,8,8,8,8,8,8,8,9,9,8,8,8,8,8,9,8,8,8,8,9,8,9,9,8,8,9,9,8,8,8,8,8,8,8,8,8,8,8,8,8,8,8,8,8,8,8,8,8,8,8,8,8,8,8,8,8,8,8,8,8,8,8,8,8,8,8,8,8,8,8,8,8,8,8,8,8,8,8,8,8,8,8,8,8,8,8,8,8,8,8,8,8,8,8,8,8,8,8,8,8,8,8,8,8,8,8,8,8,8,8,8,8,8,8,8,8,8,8,8,8,8,8,8,8,8,8,8,8,8,8,8,8,8,8,8,8,8,8,8,8,8,8,8,8,8,8,8,8,8,8,8,9,8,9,9,9,8,9,9,9,8,9,8,8,8,9,9,8,9,9,9,8,8,9,8,8,9,9,8,9,8,9,8,8,8,8,8,8,9,9,9,8,9,8,9,8,8,8,9,8,9,9,8,8,9,9,9,8,9,9,8,9,8,8,8,9,9,9,8,9,9,8,8,8,9,9,9,8,8,8,9,9,9,9,9,9,8,9,8,8,9,8,9,9,9,9,9,9,9,9,9,8,9,9,8,9,8,9,9,9,8,8,9,9,9,8,8,8,8,8,9,8,8,8,8,9,9,8,9,8,8,8,8,8,8,9,9,9,8,8,9,8,9,9,8,8,9,8,8,8,8,8,8,8,8,8,8,8,8,8,8,8,8,8,8,8,8,8,8,8,8,8,8,8,8,8,8,8,8,8,8,8,8,8,8,8,8,8,8,8,8,8,8,8,8,8,8,8,8,8,8,8,8,8,8,8,8,8,8,8,8,8,8,8,8,8,8,8,8,8,8,8,8,8,8,8,8,8,8,8,8,8,8,8,8,8,8,8,8,8,8,8,8,8,8,8,8,8,8,8,8,8,8,8,8,8,8,8,8,8,8,8,8,8,8,8,8,8,8,8,8,8,8,8,8,8,8,8,8,8,8,8,8,8,8,8,8,8,8,8,8,8,8,8,8,8,8,8,8,8,8,8,8,8,8,8,8,8,8,8,8,8,8,8,8,8,8,8,8,8,8,8,8,8,8,8,8,8,8,8,8,8,8,8,8,8,8,8,8,8,8,8,8,8,8,8,8,8,8,8,8,8,8,8,8,8,8,8,8,8,8,8,8,8,8,8,8,8,8,8,8,8,8,8,8,8,8,8,8,9,9,8,9,8,9,9,9,8,8,8,9,9,9,8,8,9,9,9,9,8,9,8,8,9,9,8,8,8,9,9,9,9,9,9,8,9,9,8,8,8,8,8,8,8,8,8,8,8,8,8,8,8,8,8,8,8,8,8,8,8,8,8,8,8,8,8,8,8,8,8,8,8,8,8,8,8,8,8,8,8,8,8,8,8,8,8,8,8,8,8,8,8,8,8,8,8,8,8,8,8,8,8,8,8,8,8,8,8,8,8,8,8,8,8,8,8,8,8,8,8,8,8,8,8,8,8,8,8,8,8,8,8,8,8,8,8,8,8,8,8,8,8,8,8,8,8,8,8,8,8,8,8,8,8,8,8,8,8,8,8,8,8,8,9,9,9,9,8,8,8,9,8,8,8,8,9,8,9,9,9,9,8,9,8,8,8,9,9,8,9,8,9,9,9,9,9,8,9,8,8,9,9,8,8,9,9,8,9,8,9,9,9,8,9,8,8,8,9,8,9,8,9,8,8,8,8,8,9,8,9,9,9,8,8,9,8,8,8,9,8,9,8,9,9,9,8,8,8,9,8,9,9,8,8,8,8,8,8,8,8,8,8,8,8,8,8,8,8,8,8,8,8,8,8,8,8,8,8,8,8,8,8,8,8,8,8,8,8,8,8,8,8,8,8,8,8,8,8,8,8,8,8,8,8,8,8,8,8,8,8,8,8,8,8,8,8,8,8,8,8,8,8,8,8,8,8,8,8,8,8,8,8,8,8,8,8,8,8,8,8,8,8],\"xaxis\":\"x\",\"yaxis\":\"y\"}],                        {\"bargap\":0.2,\"barmode\":\"relative\",\"legend\":{\"title\":{\"text\":\"PlacedOrNot\"},\"tracegroupgap\":0},\"template\":{\"data\":{\"bar\":[{\"error_x\":{\"color\":\"#2a3f5f\"},\"error_y\":{\"color\":\"#2a3f5f\"},\"marker\":{\"line\":{\"color\":\"#E5ECF6\",\"width\":0.5},\"pattern\":{\"fillmode\":\"overlay\",\"size\":10,\"solidity\":0.2}},\"type\":\"bar\"}],\"barpolar\":[{\"marker\":{\"line\":{\"color\":\"#E5ECF6\",\"width\":0.5},\"pattern\":{\"fillmode\":\"overlay\",\"size\":10,\"solidity\":0.2}},\"type\":\"barpolar\"}],\"carpet\":[{\"aaxis\":{\"endlinecolor\":\"#2a3f5f\",\"gridcolor\":\"white\",\"linecolor\":\"white\",\"minorgridcolor\":\"white\",\"startlinecolor\":\"#2a3f5f\"},\"baxis\":{\"endlinecolor\":\"#2a3f5f\",\"gridcolor\":\"white\",\"linecolor\":\"white\",\"minorgridcolor\":\"white\",\"startlinecolor\":\"#2a3f5f\"},\"type\":\"carpet\"}],\"choropleth\":[{\"colorbar\":{\"outlinewidth\":0,\"ticks\":\"\"},\"type\":\"choropleth\"}],\"contour\":[{\"colorbar\":{\"outlinewidth\":0,\"ticks\":\"\"},\"colorscale\":[[0.0,\"#0d0887\"],[0.1111111111111111,\"#46039f\"],[0.2222222222222222,\"#7201a8\"],[0.3333333333333333,\"#9c179e\"],[0.4444444444444444,\"#bd3786\"],[0.5555555555555556,\"#d8576b\"],[0.6666666666666666,\"#ed7953\"],[0.7777777777777778,\"#fb9f3a\"],[0.8888888888888888,\"#fdca26\"],[1.0,\"#f0f921\"]],\"type\":\"contour\"}],\"contourcarpet\":[{\"colorbar\":{\"outlinewidth\":0,\"ticks\":\"\"},\"type\":\"contourcarpet\"}],\"heatmap\":[{\"colorbar\":{\"outlinewidth\":0,\"ticks\":\"\"},\"colorscale\":[[0.0,\"#0d0887\"],[0.1111111111111111,\"#46039f\"],[0.2222222222222222,\"#7201a8\"],[0.3333333333333333,\"#9c179e\"],[0.4444444444444444,\"#bd3786\"],[0.5555555555555556,\"#d8576b\"],[0.6666666666666666,\"#ed7953\"],[0.7777777777777778,\"#fb9f3a\"],[0.8888888888888888,\"#fdca26\"],[1.0,\"#f0f921\"]],\"type\":\"heatmap\"}],\"heatmapgl\":[{\"colorbar\":{\"outlinewidth\":0,\"ticks\":\"\"},\"colorscale\":[[0.0,\"#0d0887\"],[0.1111111111111111,\"#46039f\"],[0.2222222222222222,\"#7201a8\"],[0.3333333333333333,\"#9c179e\"],[0.4444444444444444,\"#bd3786\"],[0.5555555555555556,\"#d8576b\"],[0.6666666666666666,\"#ed7953\"],[0.7777777777777778,\"#fb9f3a\"],[0.8888888888888888,\"#fdca26\"],[1.0,\"#f0f921\"]],\"type\":\"heatmapgl\"}],\"histogram\":[{\"marker\":{\"pattern\":{\"fillmode\":\"overlay\",\"size\":10,\"solidity\":0.2}},\"type\":\"histogram\"}],\"histogram2d\":[{\"colorbar\":{\"outlinewidth\":0,\"ticks\":\"\"},\"colorscale\":[[0.0,\"#0d0887\"],[0.1111111111111111,\"#46039f\"],[0.2222222222222222,\"#7201a8\"],[0.3333333333333333,\"#9c179e\"],[0.4444444444444444,\"#bd3786\"],[0.5555555555555556,\"#d8576b\"],[0.6666666666666666,\"#ed7953\"],[0.7777777777777778,\"#fb9f3a\"],[0.8888888888888888,\"#fdca26\"],[1.0,\"#f0f921\"]],\"type\":\"histogram2d\"}],\"histogram2dcontour\":[{\"colorbar\":{\"outlinewidth\":0,\"ticks\":\"\"},\"colorscale\":[[0.0,\"#0d0887\"],[0.1111111111111111,\"#46039f\"],[0.2222222222222222,\"#7201a8\"],[0.3333333333333333,\"#9c179e\"],[0.4444444444444444,\"#bd3786\"],[0.5555555555555556,\"#d8576b\"],[0.6666666666666666,\"#ed7953\"],[0.7777777777777778,\"#fb9f3a\"],[0.8888888888888888,\"#fdca26\"],[1.0,\"#f0f921\"]],\"type\":\"histogram2dcontour\"}],\"mesh3d\":[{\"colorbar\":{\"outlinewidth\":0,\"ticks\":\"\"},\"type\":\"mesh3d\"}],\"parcoords\":[{\"line\":{\"colorbar\":{\"outlinewidth\":0,\"ticks\":\"\"}},\"type\":\"parcoords\"}],\"pie\":[{\"automargin\":true,\"type\":\"pie\"}],\"scatter\":[{\"marker\":{\"colorbar\":{\"outlinewidth\":0,\"ticks\":\"\"}},\"type\":\"scatter\"}],\"scatter3d\":[{\"line\":{\"colorbar\":{\"outlinewidth\":0,\"ticks\":\"\"}},\"marker\":{\"colorbar\":{\"outlinewidth\":0,\"ticks\":\"\"}},\"type\":\"scatter3d\"}],\"scattercarpet\":[{\"marker\":{\"colorbar\":{\"outlinewidth\":0,\"ticks\":\"\"}},\"type\":\"scattercarpet\"}],\"scattergeo\":[{\"marker\":{\"colorbar\":{\"outlinewidth\":0,\"ticks\":\"\"}},\"type\":\"scattergeo\"}],\"scattergl\":[{\"marker\":{\"colorbar\":{\"outlinewidth\":0,\"ticks\":\"\"}},\"type\":\"scattergl\"}],\"scattermapbox\":[{\"marker\":{\"colorbar\":{\"outlinewidth\":0,\"ticks\":\"\"}},\"type\":\"scattermapbox\"}],\"scatterpolar\":[{\"marker\":{\"colorbar\":{\"outlinewidth\":0,\"ticks\":\"\"}},\"type\":\"scatterpolar\"}],\"scatterpolargl\":[{\"marker\":{\"colorbar\":{\"outlinewidth\":0,\"ticks\":\"\"}},\"type\":\"scatterpolargl\"}],\"scatterternary\":[{\"marker\":{\"colorbar\":{\"outlinewidth\":0,\"ticks\":\"\"}},\"type\":\"scatterternary\"}],\"surface\":[{\"colorbar\":{\"outlinewidth\":0,\"ticks\":\"\"},\"colorscale\":[[0.0,\"#0d0887\"],[0.1111111111111111,\"#46039f\"],[0.2222222222222222,\"#7201a8\"],[0.3333333333333333,\"#9c179e\"],[0.4444444444444444,\"#bd3786\"],[0.5555555555555556,\"#d8576b\"],[0.6666666666666666,\"#ed7953\"],[0.7777777777777778,\"#fb9f3a\"],[0.8888888888888888,\"#fdca26\"],[1.0,\"#f0f921\"]],\"type\":\"surface\"}],\"table\":[{\"cells\":{\"fill\":{\"color\":\"#EBF0F8\"},\"line\":{\"color\":\"white\"}},\"header\":{\"fill\":{\"color\":\"#C8D4E3\"},\"line\":{\"color\":\"white\"}},\"type\":\"table\"}]},\"layout\":{\"annotationdefaults\":{\"arrowcolor\":\"#2a3f5f\",\"arrowhead\":0,\"arrowwidth\":1},\"autotypenumbers\":\"strict\",\"coloraxis\":{\"colorbar\":{\"outlinewidth\":0,\"ticks\":\"\"}},\"colorscale\":{\"diverging\":[[0,\"#8e0152\"],[0.1,\"#c51b7d\"],[0.2,\"#de77ae\"],[0.3,\"#f1b6da\"],[0.4,\"#fde0ef\"],[0.5,\"#f7f7f7\"],[0.6,\"#e6f5d0\"],[0.7,\"#b8e186\"],[0.8,\"#7fbc41\"],[0.9,\"#4d9221\"],[1,\"#276419\"]],\"sequential\":[[0.0,\"#0d0887\"],[0.1111111111111111,\"#46039f\"],[0.2222222222222222,\"#7201a8\"],[0.3333333333333333,\"#9c179e\"],[0.4444444444444444,\"#bd3786\"],[0.5555555555555556,\"#d8576b\"],[0.6666666666666666,\"#ed7953\"],[0.7777777777777778,\"#fb9f3a\"],[0.8888888888888888,\"#fdca26\"],[1.0,\"#f0f921\"]],\"sequentialminus\":[[0.0,\"#0d0887\"],[0.1111111111111111,\"#46039f\"],[0.2222222222222222,\"#7201a8\"],[0.3333333333333333,\"#9c179e\"],[0.4444444444444444,\"#bd3786\"],[0.5555555555555556,\"#d8576b\"],[0.6666666666666666,\"#ed7953\"],[0.7777777777777778,\"#fb9f3a\"],[0.8888888888888888,\"#fdca26\"],[1.0,\"#f0f921\"]]},\"colorway\":[\"#636efa\",\"#EF553B\",\"#00cc96\",\"#ab63fa\",\"#FFA15A\",\"#19d3f3\",\"#FF6692\",\"#B6E880\",\"#FF97FF\",\"#FECB52\"],\"font\":{\"color\":\"#2a3f5f\"},\"geo\":{\"bgcolor\":\"white\",\"lakecolor\":\"white\",\"landcolor\":\"#E5ECF6\",\"showlakes\":true,\"showland\":true,\"subunitcolor\":\"white\"},\"hoverlabel\":{\"align\":\"left\"},\"hovermode\":\"closest\",\"mapbox\":{\"style\":\"light\"},\"paper_bgcolor\":\"white\",\"plot_bgcolor\":\"#E5ECF6\",\"polar\":{\"angularaxis\":{\"gridcolor\":\"white\",\"linecolor\":\"white\",\"ticks\":\"\"},\"bgcolor\":\"#E5ECF6\",\"radialaxis\":{\"gridcolor\":\"white\",\"linecolor\":\"white\",\"ticks\":\"\"}},\"scene\":{\"xaxis\":{\"backgroundcolor\":\"#E5ECF6\",\"gridcolor\":\"white\",\"gridwidth\":2,\"linecolor\":\"white\",\"showbackground\":true,\"ticks\":\"\",\"zerolinecolor\":\"white\"},\"yaxis\":{\"backgroundcolor\":\"#E5ECF6\",\"gridcolor\":\"white\",\"gridwidth\":2,\"linecolor\":\"white\",\"showbackground\":true,\"ticks\":\"\",\"zerolinecolor\":\"white\"},\"zaxis\":{\"backgroundcolor\":\"#E5ECF6\",\"gridcolor\":\"white\",\"gridwidth\":2,\"linecolor\":\"white\",\"showbackground\":true,\"ticks\":\"\",\"zerolinecolor\":\"white\"}},\"shapedefaults\":{\"line\":{\"color\":\"#2a3f5f\"}},\"ternary\":{\"aaxis\":{\"gridcolor\":\"white\",\"linecolor\":\"white\",\"ticks\":\"\"},\"baxis\":{\"gridcolor\":\"white\",\"linecolor\":\"white\",\"ticks\":\"\"},\"bgcolor\":\"#E5ECF6\",\"caxis\":{\"gridcolor\":\"white\",\"linecolor\":\"white\",\"ticks\":\"\"}},\"title\":{\"x\":0.05},\"xaxis\":{\"automargin\":true,\"gridcolor\":\"white\",\"linecolor\":\"white\",\"ticks\":\"\",\"title\":{\"standoff\":15},\"zerolinecolor\":\"white\",\"zerolinewidth\":2},\"yaxis\":{\"automargin\":true,\"gridcolor\":\"white\",\"linecolor\":\"white\",\"ticks\":\"\",\"title\":{\"standoff\":15},\"zerolinecolor\":\"white\",\"zerolinewidth\":2}}},\"title\":{\"text\":\"<b>Above Average CGPA Vs Placement</b>\"},\"xaxis\":{\"anchor\":\"y\",\"domain\":[0.0,1.0],\"title\":{\"text\":\"CGPA\"}},\"yaxis\":{\"anchor\":\"x\",\"domain\":[0.0,1.0],\"title\":{\"text\":\"count\"}}},                        {\"responsive\": true}                    ).then(function(){\n",
       "                            \n",
       "var gd = document.getElementById('9b0f4441-f95c-4dbc-b30a-4ac187a2b6cf');\n",
       "var x = new MutationObserver(function (mutations, observer) {{\n",
       "        var display = window.getComputedStyle(gd).display;\n",
       "        if (!display || display === 'none') {{\n",
       "            console.log([gd, 'removed!']);\n",
       "            Plotly.purge(gd);\n",
       "            observer.disconnect();\n",
       "        }}\n",
       "}});\n",
       "\n",
       "// Listen for the removal of the full notebook cells\n",
       "var notebookContainer = gd.closest('#notebook-container');\n",
       "if (notebookContainer) {{\n",
       "    x.observe(notebookContainer, {childList: true});\n",
       "}}\n",
       "\n",
       "// Listen for the clearing of the current output cell\n",
       "var outputEl = gd.closest('.output');\n",
       "if (outputEl) {{\n",
       "    x.observe(outputEl, {childList: true});\n",
       "}}\n",
       "\n",
       "                        })                };                });            </script>        </div>"
      ]
     },
     "metadata": {},
     "output_type": "display_data"
    }
   ],
   "source": [
    "fig = px.histogram(data_frame = cgpa_above_avg,\n",
    "                   x = 'CGPA',\n",
    "                   color='PlacedOrNot',\n",
    "                   title = \"<b>Above Average CGPA Vs Placement</b>\",\n",
    "                   template='plotly')\n",
    "\n",
    "fig.update_layout(bargap=0.2)\n",
    "\n",
    "fig.show()"
   ]
  },
  {
   "cell_type": "markdown",
   "id": "c06adff9",
   "metadata": {
    "papermill": {
     "duration": 0.075936,
     "end_time": "2021-11-14T17:07:01.341414",
     "exception": false,
     "start_time": "2021-11-14T17:07:01.265478",
     "status": "completed"
    },
    "tags": []
   },
   "source": [
    "**Above graph represents that all those students whose CGPA is above average has successfully pass placement test, So we can say that if a person has higher CGPA it will increase his/her chance of placement.**\n"
   ]
  },
  {
   "cell_type": "markdown",
   "id": "26546611",
   "metadata": {
    "papermill": {
     "duration": 0.077726,
     "end_time": "2021-11-14T17:07:01.495864",
     "exception": false,
     "start_time": "2021-11-14T17:07:01.418138",
     "status": "completed"
    },
    "tags": []
   },
   "source": [
    "<a id=\"5.5\"></a>\n",
    "# <p style=\"background-color:#73d1ff;font-family:newtimeroman;color:#000000;font-size:120%;text-align:center;border-radius:20px 80px;\">✔️ Lower CGPA Vs Placement</p>\n",
    "\n",
    "\n"
   ]
  },
  {
   "cell_type": "markdown",
   "id": "5c51f633",
   "metadata": {
    "papermill": {
     "duration": 0.076922,
     "end_time": "2021-11-14T17:07:01.650369",
     "exception": false,
     "start_time": "2021-11-14T17:07:01.573447",
     "status": "completed"
    },
    "tags": []
   },
   "source": [
    "## **Candidates whose CGPA is below average**"
   ]
  },
  {
   "cell_type": "code",
   "execution_count": 22,
   "id": "4cbedf53",
   "metadata": {
    "execution": {
     "iopub.execute_input": "2021-11-14T17:07:01.811263Z",
     "iopub.status.busy": "2021-11-14T17:07:01.810593Z",
     "iopub.status.idle": "2021-11-14T17:07:01.828140Z",
     "shell.execute_reply": "2021-11-14T17:07:01.828633Z",
     "shell.execute_reply.started": "2021-11-14T16:45:38.403449Z"
    },
    "papermill": {
     "duration": 0.098004,
     "end_time": "2021-11-14T17:07:01.828801",
     "exception": false,
     "start_time": "2021-11-14T17:07:01.730797",
     "status": "completed"
    },
    "tags": []
   },
   "outputs": [
    {
     "data": {
      "text/html": [
       "<div>\n",
       "<style scoped>\n",
       "    .dataframe tbody tr th:only-of-type {\n",
       "        vertical-align: middle;\n",
       "    }\n",
       "\n",
       "    .dataframe tbody tr th {\n",
       "        vertical-align: top;\n",
       "    }\n",
       "\n",
       "    .dataframe thead th {\n",
       "        text-align: right;\n",
       "    }\n",
       "</style>\n",
       "<table border=\"1\" class=\"dataframe\">\n",
       "  <thead>\n",
       "    <tr style=\"text-align: right;\">\n",
       "      <th></th>\n",
       "      <th>Age</th>\n",
       "      <th>Gender</th>\n",
       "      <th>Stream</th>\n",
       "      <th>Internships</th>\n",
       "      <th>CGPA</th>\n",
       "      <th>Hostel</th>\n",
       "      <th>HistoryOfBacklogs</th>\n",
       "      <th>PlacedOrNot</th>\n",
       "    </tr>\n",
       "  </thead>\n",
       "  <tbody>\n",
       "    <tr>\n",
       "      <th>1</th>\n",
       "      <td>21</td>\n",
       "      <td>Female</td>\n",
       "      <td>Computer Science</td>\n",
       "      <td>0</td>\n",
       "      <td>7</td>\n",
       "      <td>1</td>\n",
       "      <td>1</td>\n",
       "      <td>1</td>\n",
       "    </tr>\n",
       "    <tr>\n",
       "      <th>2</th>\n",
       "      <td>22</td>\n",
       "      <td>Female</td>\n",
       "      <td>Information Technology</td>\n",
       "      <td>1</td>\n",
       "      <td>6</td>\n",
       "      <td>0</td>\n",
       "      <td>0</td>\n",
       "      <td>1</td>\n",
       "    </tr>\n",
       "    <tr>\n",
       "      <th>5</th>\n",
       "      <td>22</td>\n",
       "      <td>Male</td>\n",
       "      <td>Electronics And Communication</td>\n",
       "      <td>0</td>\n",
       "      <td>6</td>\n",
       "      <td>0</td>\n",
       "      <td>0</td>\n",
       "      <td>0</td>\n",
       "    </tr>\n",
       "    <tr>\n",
       "      <th>6</th>\n",
       "      <td>21</td>\n",
       "      <td>Male</td>\n",
       "      <td>Computer Science</td>\n",
       "      <td>0</td>\n",
       "      <td>7</td>\n",
       "      <td>0</td>\n",
       "      <td>1</td>\n",
       "      <td>0</td>\n",
       "    </tr>\n",
       "    <tr>\n",
       "      <th>7</th>\n",
       "      <td>21</td>\n",
       "      <td>Male</td>\n",
       "      <td>Information Technology</td>\n",
       "      <td>1</td>\n",
       "      <td>7</td>\n",
       "      <td>0</td>\n",
       "      <td>0</td>\n",
       "      <td>0</td>\n",
       "    </tr>\n",
       "    <tr>\n",
       "      <th>...</th>\n",
       "      <td>...</td>\n",
       "      <td>...</td>\n",
       "      <td>...</td>\n",
       "      <td>...</td>\n",
       "      <td>...</td>\n",
       "      <td>...</td>\n",
       "      <td>...</td>\n",
       "      <td>...</td>\n",
       "    </tr>\n",
       "    <tr>\n",
       "      <th>2960</th>\n",
       "      <td>23</td>\n",
       "      <td>Male</td>\n",
       "      <td>Mechanical</td>\n",
       "      <td>1</td>\n",
       "      <td>7</td>\n",
       "      <td>1</td>\n",
       "      <td>0</td>\n",
       "      <td>0</td>\n",
       "    </tr>\n",
       "    <tr>\n",
       "      <th>2961</th>\n",
       "      <td>23</td>\n",
       "      <td>Male</td>\n",
       "      <td>Information Technology</td>\n",
       "      <td>0</td>\n",
       "      <td>7</td>\n",
       "      <td>0</td>\n",
       "      <td>0</td>\n",
       "      <td>0</td>\n",
       "    </tr>\n",
       "    <tr>\n",
       "      <th>2962</th>\n",
       "      <td>23</td>\n",
       "      <td>Male</td>\n",
       "      <td>Mechanical</td>\n",
       "      <td>1</td>\n",
       "      <td>7</td>\n",
       "      <td>1</td>\n",
       "      <td>0</td>\n",
       "      <td>0</td>\n",
       "    </tr>\n",
       "    <tr>\n",
       "      <th>2963</th>\n",
       "      <td>22</td>\n",
       "      <td>Male</td>\n",
       "      <td>Information Technology</td>\n",
       "      <td>1</td>\n",
       "      <td>7</td>\n",
       "      <td>0</td>\n",
       "      <td>0</td>\n",
       "      <td>0</td>\n",
       "    </tr>\n",
       "    <tr>\n",
       "      <th>2964</th>\n",
       "      <td>22</td>\n",
       "      <td>Male</td>\n",
       "      <td>Computer Science</td>\n",
       "      <td>1</td>\n",
       "      <td>7</td>\n",
       "      <td>0</td>\n",
       "      <td>0</td>\n",
       "      <td>0</td>\n",
       "    </tr>\n",
       "  </tbody>\n",
       "</table>\n",
       "<p>1886 rows × 8 columns</p>\n",
       "</div>"
      ],
      "text/plain": [
       "      Age  Gender                         Stream  Internships  CGPA  Hostel  \\\n",
       "1      21  Female               Computer Science            0     7       1   \n",
       "2      22  Female         Information Technology            1     6       0   \n",
       "5      22    Male  Electronics And Communication            0     6       0   \n",
       "6      21    Male               Computer Science            0     7       0   \n",
       "7      21    Male         Information Technology            1     7       0   \n",
       "...   ...     ...                            ...          ...   ...     ...   \n",
       "2960   23    Male                     Mechanical            1     7       1   \n",
       "2961   23    Male         Information Technology            0     7       0   \n",
       "2962   23    Male                     Mechanical            1     7       1   \n",
       "2963   22    Male         Information Technology            1     7       0   \n",
       "2964   22    Male               Computer Science            1     7       0   \n",
       "\n",
       "      HistoryOfBacklogs  PlacedOrNot  \n",
       "1                     1            1  \n",
       "2                     0            1  \n",
       "5                     0            0  \n",
       "6                     1            0  \n",
       "7                     0            0  \n",
       "...                 ...          ...  \n",
       "2960                  0            0  \n",
       "2961                  0            0  \n",
       "2962                  0            0  \n",
       "2963                  0            0  \n",
       "2964                  0            0  \n",
       "\n",
       "[1886 rows x 8 columns]"
      ]
     },
     "execution_count": 22,
     "metadata": {},
     "output_type": "execute_result"
    }
   ],
   "source": [
    "cgpa_below_avg = data[data['CGPA'] < data['CGPA'].mean()]\n",
    "\n",
    "cgpa_below_avg"
   ]
  },
  {
   "cell_type": "code",
   "execution_count": 23,
   "id": "1d3ddd0c",
   "metadata": {
    "execution": {
     "iopub.execute_input": "2021-11-14T17:07:01.991440Z",
     "iopub.status.busy": "2021-11-14T17:07:01.990721Z",
     "iopub.status.idle": "2021-11-14T17:07:02.062211Z",
     "shell.execute_reply": "2021-11-14T17:07:02.062782Z",
     "shell.execute_reply.started": "2021-11-14T16:45:40.816947Z"
    },
    "papermill": {
     "duration": 0.156366,
     "end_time": "2021-11-14T17:07:02.062951",
     "exception": false,
     "start_time": "2021-11-14T17:07:01.906585",
     "status": "completed"
    },
    "tags": []
   },
   "outputs": [
    {
     "data": {
      "text/html": [
       "<div>                            <div id=\"9c130a5c-bb0e-456f-b6a1-8e4acb928a58\" class=\"plotly-graph-div\" style=\"height:525px; width:100%;\"></div>            <script type=\"text/javascript\">                require([\"plotly\"], function(Plotly) {                    window.PLOTLYENV=window.PLOTLYENV || {};                                    if (document.getElementById(\"9c130a5c-bb0e-456f-b6a1-8e4acb928a58\")) {                    Plotly.newPlot(                        \"9c130a5c-bb0e-456f-b6a1-8e4acb928a58\",                        [{\"alignmentgroup\":\"True\",\"bingroup\":\"x\",\"hovertemplate\":\"PlacedOrNot=1<br>CGPA=%{x}<br>count=%{y}<extra></extra>\",\"legendgroup\":\"1\",\"marker\":{\"color\":\"#636efa\",\"pattern\":{\"shape\":\"\"}},\"name\":\"1\",\"offsetgroup\":\"1\",\"orientation\":\"v\",\"showlegend\":true,\"type\":\"histogram\",\"x\":[7,6,6,6,7,6,7,7,7,6,7,7,6,7,7,6,6,7,6,6,6,7,7,7,6,6,6,7,7,5,6,6,5,7,7,7,7,6,6,6,6,6,5,5,7,7,5,5,7,6,7,5,7,6,6,7,7,6,6,6,6,6,7,7,6,6,7,6,7,6,7,7,6,6,7,6,6,7,6,7,6,7,6,7,7,7,6,7,6,6,7,7,6,6,6,6,7,6,7,7,6,6,7,7,6,7,7,6,6,7,7,6,6,6,7,7,6,6,6,6,7,6,6,6,6,6,6,7,7,7,7,6,7,6,7,7,6,7,7,6,7,6,6,7,7,7,7,7,7,6,6,6,6,6,7,6,6,6,7,6,6,7,6,6,6,6,6,6,7,6,6,6,7,6,7,7,6,6,7,7,6,6,6,6,6,6,6,6,6,6,7,6,7,7,7,7,6,6,7,6,7,7,6,7,6,6,6,7,7,7,7,7,6,6,7,6,7,6,7,6,6,7,6,7,7,6,6,6,7,6,7,7,7,7,7,6,6,7,7,7,7,6,7,7,6,7,7,6,7,6,7,7,7,6,6,7,6,7,6,7,7,6,7,7,6,6,6,7,7,6,6,7,7,6,6,7,7,7,7,6,6,6,6,6,7,7,7,7,7,7,7,7,7,7,7,6,6,7,6,7,6,6,6,6,6,6,6,6,7,6,6,6,6,7,6,7,7,6,6,6,6,7,7,7,7,6,6,7,7,7,6,6,6,6,6,7,7,6,6,6,7,7,6,7,6,6,7,7,7,6,7,7,7,6,6,6,6,6,6,7,7,7,6,7,7,7,7,6,7,7,6,6,6,6,7,7,6,7,7,7,7,7,7,6,7,6,6,7,6,7,6,7,6,6,6,6,7,6,6,6,6,6,6,6,6,6,6,6,6,6,7,6,6,6,7,6,6,6,7,6,6,7,7,7,7,7,6,6,6,6,7,7,7,7,7,7,7,7,7,7,7,7,7,7,6,7,6,7,6,6,6,7,6,7,7,7,7,6,6,6,7,6,7,6,6,6,7,7,7,6,7,7,6,6,7,6,7,7,6,7,7,7,6,6,6,7,6,7,7,7,6,7,6,7,7,7,6,7,7,7,7,7,7,7,7,7,7,6,7,6,6,6,7,6,7,7,6,6,7,6,7,7,6,7,6,6,7,7,7,7,7,7,7,7,7,7,7,7,7,7,7,7,7,7,7,6,7,6,7,7,6,7,6,6,6,7,7,7,6],\"xaxis\":\"x\",\"yaxis\":\"y\"},{\"alignmentgroup\":\"True\",\"bingroup\":\"x\",\"hovertemplate\":\"PlacedOrNot=0<br>CGPA=%{x}<br>count=%{y}<extra></extra>\",\"legendgroup\":\"0\",\"marker\":{\"color\":\"#EF553B\",\"pattern\":{\"shape\":\"\"}},\"name\":\"0\",\"offsetgroup\":\"0\",\"orientation\":\"v\",\"showlegend\":true,\"type\":\"histogram\",\"x\":[6,7,7,6,7,6,7,6,7,7,6,7,7,7,7,7,6,6,6,7,6,6,6,7,7,6,7,7,7,5,5,6,7,6,6,7,5,7,5,6,7,5,5,5,6,5,5,6,5,6,5,5,5,6,5,5,5,6,7,7,5,6,6,5,5,7,7,6,5,6,5,5,7,5,5,5,6,5,7,6,7,7,6,7,7,6,6,7,7,6,6,7,6,6,7,6,6,7,7,6,7,6,7,6,7,7,6,6,7,6,7,6,6,7,6,7,6,7,6,7,7,7,6,7,7,7,6,6,6,7,6,7,6,6,6,6,6,7,7,6,7,7,6,6,7,7,7,7,6,6,6,7,6,6,6,7,6,6,7,7,6,6,6,6,6,7,7,6,6,6,6,6,6,6,5,6,5,5,5,5,5,7,7,6,6,6,6,6,7,6,6,6,7,6,7,6,6,6,6,7,7,6,6,7,7,6,6,7,6,7,6,6,6,6,7,6,7,7,6,7,6,7,7,7,7,6,7,7,7,7,6,6,7,7,7,7,6,6,7,7,7,7,7,7,7,6,6,6,7,7,7,7,6,7,6,7,7,7,7,7,7,7,7,6,7,7,6,7,6,7,7,7,7,7,6,7,6,7,7,7,6,6,7,7,7,6,6,7,7,6,7,7,6,7,7,6,7,7,7,7,6,7,6,7,7,7,6,6,7,7,6,7,6,7,7,6,7,7,6,7,7,6,7,7,7,7,7,7,7,7,7,6,7,6,6,7,6,6,7,7,6,6,6,7,6,6,6,6,6,6,7,7,7,7,7,6,6,6,7,6,6,6,7,6,7,7,6,6,6,7,6,6,6,6,6,7,6,7,7,6,7,6,6,7,7,6,7,7,7,6,7,6,6,7,7,7,7,7,7,7,7,6,7,6,6,7,6,7,7,6,6,7,6,7,6,6,7,7,7,6,6,6,6,7,7,7,6,6,6,7,7,7,7,7,7,7,7,6,7,7,7,7,7,6,7,6,6,6,6,7,6,7,7,7,6,7,7,7,7,7,7,7,7,7,7,7,7,7,7,7,7,7,7,7,7,7,7,7,7,7,7,7,7,7,7,7,7,7,7,7,7,7,7,7,7,7,7,7,7,7,7,7,7,7,7,7,7,7,7,7,7,7,7,7,7,7,7,7,7,7,6,6,7,6,7,7,7,6,7,7,7,7,7,6,6,6,6,7,6,6,7,7,6,7,6,7,7,6,7,6,7,6,7,6,7,6,6,6,7,7,6,6,7,7,7,7,7,7,6,7,7,6,6,6,7,6,6,7,7,6,6,6,6,6,6,7,6,7,7,6,6,7,7,7,6,7,6,7,6,6,6,6,6,6,6,7,7,7,6,7,7,7,7,7,6,7,7,7,6,7,6,6,6,7,7,7,6,7,7,6,6,7,6,7,6,6,7,6,6,7,6,6,5,5,6,5,6,5,5,5,5,6,5,5,5,5,5,6,7,7,6,7,7,7,7,7,7,7,7,7,6,6,7,7,6,7,7,7,6,7,6,6,6,6,6,6,6,6,7,6,6,7,7,6,6,7,6,5,5,5,5,5,6,5,6,5,5,5,5,5,5,5,5,6,5,6,5,6,5,6,5,6,5,6,5,5,5,6,6,5,5,6,6,6,6,6,6,6,5,5,5,6,6,5,6,6,5,6,6,6,6,7,7,7,6,6,6,6,7,7,6,7,6,7,6,7,6,6,6,6,7,6,6,6,7,6,7,7,6,7,6,7,6,7,7,7,7,6,7,7,6,7,6,6,6,6,7,7,6,7,6,7,6,6,7,7,7,7,7,7,7,6,7,7,6,6,6,6,7,6,6,6,6,7,7,7,7,7,7,7,7,7,7,7,7,7,7,7,7,7,7,7,7,7,7,7,7,7,7,7,7,7,7,7,7,7,7,7,6,6,7,6,6,6,7,7,7,6,7,6,7,6,6,6,7,6,7,6,6,7,6,7,6,7,6,6,6,7,6,7,7,6,7,7,6,6,6,6,7,6,6,6,6,7,7,7,6,7,6,7,5,7,5,5,5,5,5,5,5,6,7,5,5,5,7,6,7,5,7,6,5,5,5,7,5,7,6,6,7,6,7,6,6,6,7,7,7,6,6,7,6,7,7,6,6,7,6,6,6,6,6,6,6,6,7,7,6,7,6,7,7,6,7,6,6,7,6,6,6,7,6,7,7,6,7,7,7,7,6,6,7,6,7,6,6,7,7,7,7,6,6,6,6,7,7,7,6,7,6,7,6,6,6,6,6,6,6,6,6,7,6,6,6,6,7,7,6,7,7,6,7,7,6,6,7,6,6,6,6,7,6,6,6,7,7,6,7,6,6,7,7,6,7,6,6,6,7,7,6,6,7,6,6,7,7,6,6,7,7,6,6,6,6,6,6,6,7,6,6,6,7,6,6,7,7,6,7,7,7,6,7,6,6,6,7,6,7,7,7,7,6,6,6,7,6,7,7,6,7,7,6,6,6,6,6,7,7,7,7,7,7,6,7,7,7,6,6,7,6,7,6,6,6,6,6,7,7,7,6,7,6,6,6,7,7,6,6,7,6,6,6,6,6,7,7,7,7,6,7,6,7,7,7,7,6,7,7,7,7,6,6,7,7,7,7,7,7,7,7,7,7,7,7,7,7,7,7,7,7,7,7,7,7,7,7,7,7,7,7,7,7,7,7,6,6,6,6,6,6,7,6,7,7,7,7,7,7,6,6,6,6,7,6,7,7,6,6,7,6,6,6,6,6,6,7,6,6,7,6,6,7,7,7,7,6,7,6,7,6,7,7,7,6,7,6,6,6,6,6,6,7,6,6,7,7,6,7,7,7,7,7,7,7,7,7,6,7,6,6,6,7,7,7,7,6,7,7,6,6,7,6,6,7,7,7,7,6,6,7,6,6,7,7,6,6,6,7,6,6,7,7,7,6,7,7,7,7,7,7,6,6,7,7,7,7,7,7],\"xaxis\":\"x\",\"yaxis\":\"y\"}],                        {\"bargap\":0.2,\"barmode\":\"group\",\"legend\":{\"title\":{\"text\":\"PlacedOrNot\"},\"tracegroupgap\":0},\"template\":{\"data\":{\"bar\":[{\"error_x\":{\"color\":\"#f2f5fa\"},\"error_y\":{\"color\":\"#f2f5fa\"},\"marker\":{\"line\":{\"color\":\"rgb(17,17,17)\",\"width\":0.5},\"pattern\":{\"fillmode\":\"overlay\",\"size\":10,\"solidity\":0.2}},\"type\":\"bar\"}],\"barpolar\":[{\"marker\":{\"line\":{\"color\":\"rgb(17,17,17)\",\"width\":0.5},\"pattern\":{\"fillmode\":\"overlay\",\"size\":10,\"solidity\":0.2}},\"type\":\"barpolar\"}],\"carpet\":[{\"aaxis\":{\"endlinecolor\":\"#A2B1C6\",\"gridcolor\":\"#506784\",\"linecolor\":\"#506784\",\"minorgridcolor\":\"#506784\",\"startlinecolor\":\"#A2B1C6\"},\"baxis\":{\"endlinecolor\":\"#A2B1C6\",\"gridcolor\":\"#506784\",\"linecolor\":\"#506784\",\"minorgridcolor\":\"#506784\",\"startlinecolor\":\"#A2B1C6\"},\"type\":\"carpet\"}],\"choropleth\":[{\"colorbar\":{\"outlinewidth\":0,\"ticks\":\"\"},\"type\":\"choropleth\"}],\"contour\":[{\"colorbar\":{\"outlinewidth\":0,\"ticks\":\"\"},\"colorscale\":[[0.0,\"#0d0887\"],[0.1111111111111111,\"#46039f\"],[0.2222222222222222,\"#7201a8\"],[0.3333333333333333,\"#9c179e\"],[0.4444444444444444,\"#bd3786\"],[0.5555555555555556,\"#d8576b\"],[0.6666666666666666,\"#ed7953\"],[0.7777777777777778,\"#fb9f3a\"],[0.8888888888888888,\"#fdca26\"],[1.0,\"#f0f921\"]],\"type\":\"contour\"}],\"contourcarpet\":[{\"colorbar\":{\"outlinewidth\":0,\"ticks\":\"\"},\"type\":\"contourcarpet\"}],\"heatmap\":[{\"colorbar\":{\"outlinewidth\":0,\"ticks\":\"\"},\"colorscale\":[[0.0,\"#0d0887\"],[0.1111111111111111,\"#46039f\"],[0.2222222222222222,\"#7201a8\"],[0.3333333333333333,\"#9c179e\"],[0.4444444444444444,\"#bd3786\"],[0.5555555555555556,\"#d8576b\"],[0.6666666666666666,\"#ed7953\"],[0.7777777777777778,\"#fb9f3a\"],[0.8888888888888888,\"#fdca26\"],[1.0,\"#f0f921\"]],\"type\":\"heatmap\"}],\"heatmapgl\":[{\"colorbar\":{\"outlinewidth\":0,\"ticks\":\"\"},\"colorscale\":[[0.0,\"#0d0887\"],[0.1111111111111111,\"#46039f\"],[0.2222222222222222,\"#7201a8\"],[0.3333333333333333,\"#9c179e\"],[0.4444444444444444,\"#bd3786\"],[0.5555555555555556,\"#d8576b\"],[0.6666666666666666,\"#ed7953\"],[0.7777777777777778,\"#fb9f3a\"],[0.8888888888888888,\"#fdca26\"],[1.0,\"#f0f921\"]],\"type\":\"heatmapgl\"}],\"histogram\":[{\"marker\":{\"pattern\":{\"fillmode\":\"overlay\",\"size\":10,\"solidity\":0.2}},\"type\":\"histogram\"}],\"histogram2d\":[{\"colorbar\":{\"outlinewidth\":0,\"ticks\":\"\"},\"colorscale\":[[0.0,\"#0d0887\"],[0.1111111111111111,\"#46039f\"],[0.2222222222222222,\"#7201a8\"],[0.3333333333333333,\"#9c179e\"],[0.4444444444444444,\"#bd3786\"],[0.5555555555555556,\"#d8576b\"],[0.6666666666666666,\"#ed7953\"],[0.7777777777777778,\"#fb9f3a\"],[0.8888888888888888,\"#fdca26\"],[1.0,\"#f0f921\"]],\"type\":\"histogram2d\"}],\"histogram2dcontour\":[{\"colorbar\":{\"outlinewidth\":0,\"ticks\":\"\"},\"colorscale\":[[0.0,\"#0d0887\"],[0.1111111111111111,\"#46039f\"],[0.2222222222222222,\"#7201a8\"],[0.3333333333333333,\"#9c179e\"],[0.4444444444444444,\"#bd3786\"],[0.5555555555555556,\"#d8576b\"],[0.6666666666666666,\"#ed7953\"],[0.7777777777777778,\"#fb9f3a\"],[0.8888888888888888,\"#fdca26\"],[1.0,\"#f0f921\"]],\"type\":\"histogram2dcontour\"}],\"mesh3d\":[{\"colorbar\":{\"outlinewidth\":0,\"ticks\":\"\"},\"type\":\"mesh3d\"}],\"parcoords\":[{\"line\":{\"colorbar\":{\"outlinewidth\":0,\"ticks\":\"\"}},\"type\":\"parcoords\"}],\"pie\":[{\"automargin\":true,\"type\":\"pie\"}],\"scatter\":[{\"marker\":{\"line\":{\"color\":\"#283442\"}},\"type\":\"scatter\"}],\"scatter3d\":[{\"line\":{\"colorbar\":{\"outlinewidth\":0,\"ticks\":\"\"}},\"marker\":{\"colorbar\":{\"outlinewidth\":0,\"ticks\":\"\"}},\"type\":\"scatter3d\"}],\"scattercarpet\":[{\"marker\":{\"colorbar\":{\"outlinewidth\":0,\"ticks\":\"\"}},\"type\":\"scattercarpet\"}],\"scattergeo\":[{\"marker\":{\"colorbar\":{\"outlinewidth\":0,\"ticks\":\"\"}},\"type\":\"scattergeo\"}],\"scattergl\":[{\"marker\":{\"line\":{\"color\":\"#283442\"}},\"type\":\"scattergl\"}],\"scattermapbox\":[{\"marker\":{\"colorbar\":{\"outlinewidth\":0,\"ticks\":\"\"}},\"type\":\"scattermapbox\"}],\"scatterpolar\":[{\"marker\":{\"colorbar\":{\"outlinewidth\":0,\"ticks\":\"\"}},\"type\":\"scatterpolar\"}],\"scatterpolargl\":[{\"marker\":{\"colorbar\":{\"outlinewidth\":0,\"ticks\":\"\"}},\"type\":\"scatterpolargl\"}],\"scatterternary\":[{\"marker\":{\"colorbar\":{\"outlinewidth\":0,\"ticks\":\"\"}},\"type\":\"scatterternary\"}],\"surface\":[{\"colorbar\":{\"outlinewidth\":0,\"ticks\":\"\"},\"colorscale\":[[0.0,\"#0d0887\"],[0.1111111111111111,\"#46039f\"],[0.2222222222222222,\"#7201a8\"],[0.3333333333333333,\"#9c179e\"],[0.4444444444444444,\"#bd3786\"],[0.5555555555555556,\"#d8576b\"],[0.6666666666666666,\"#ed7953\"],[0.7777777777777778,\"#fb9f3a\"],[0.8888888888888888,\"#fdca26\"],[1.0,\"#f0f921\"]],\"type\":\"surface\"}],\"table\":[{\"cells\":{\"fill\":{\"color\":\"#506784\"},\"line\":{\"color\":\"rgb(17,17,17)\"}},\"header\":{\"fill\":{\"color\":\"#2a3f5f\"},\"line\":{\"color\":\"rgb(17,17,17)\"}},\"type\":\"table\"}]},\"layout\":{\"annotationdefaults\":{\"arrowcolor\":\"#f2f5fa\",\"arrowhead\":0,\"arrowwidth\":1},\"autotypenumbers\":\"strict\",\"coloraxis\":{\"colorbar\":{\"outlinewidth\":0,\"ticks\":\"\"}},\"colorscale\":{\"diverging\":[[0,\"#8e0152\"],[0.1,\"#c51b7d\"],[0.2,\"#de77ae\"],[0.3,\"#f1b6da\"],[0.4,\"#fde0ef\"],[0.5,\"#f7f7f7\"],[0.6,\"#e6f5d0\"],[0.7,\"#b8e186\"],[0.8,\"#7fbc41\"],[0.9,\"#4d9221\"],[1,\"#276419\"]],\"sequential\":[[0.0,\"#0d0887\"],[0.1111111111111111,\"#46039f\"],[0.2222222222222222,\"#7201a8\"],[0.3333333333333333,\"#9c179e\"],[0.4444444444444444,\"#bd3786\"],[0.5555555555555556,\"#d8576b\"],[0.6666666666666666,\"#ed7953\"],[0.7777777777777778,\"#fb9f3a\"],[0.8888888888888888,\"#fdca26\"],[1.0,\"#f0f921\"]],\"sequentialminus\":[[0.0,\"#0d0887\"],[0.1111111111111111,\"#46039f\"],[0.2222222222222222,\"#7201a8\"],[0.3333333333333333,\"#9c179e\"],[0.4444444444444444,\"#bd3786\"],[0.5555555555555556,\"#d8576b\"],[0.6666666666666666,\"#ed7953\"],[0.7777777777777778,\"#fb9f3a\"],[0.8888888888888888,\"#fdca26\"],[1.0,\"#f0f921\"]]},\"colorway\":[\"#636efa\",\"#EF553B\",\"#00cc96\",\"#ab63fa\",\"#FFA15A\",\"#19d3f3\",\"#FF6692\",\"#B6E880\",\"#FF97FF\",\"#FECB52\"],\"font\":{\"color\":\"#f2f5fa\"},\"geo\":{\"bgcolor\":\"rgb(17,17,17)\",\"lakecolor\":\"rgb(17,17,17)\",\"landcolor\":\"rgb(17,17,17)\",\"showlakes\":true,\"showland\":true,\"subunitcolor\":\"#506784\"},\"hoverlabel\":{\"align\":\"left\"},\"hovermode\":\"closest\",\"mapbox\":{\"style\":\"dark\"},\"paper_bgcolor\":\"rgb(17,17,17)\",\"plot_bgcolor\":\"rgb(17,17,17)\",\"polar\":{\"angularaxis\":{\"gridcolor\":\"#506784\",\"linecolor\":\"#506784\",\"ticks\":\"\"},\"bgcolor\":\"rgb(17,17,17)\",\"radialaxis\":{\"gridcolor\":\"#506784\",\"linecolor\":\"#506784\",\"ticks\":\"\"}},\"scene\":{\"xaxis\":{\"backgroundcolor\":\"rgb(17,17,17)\",\"gridcolor\":\"#506784\",\"gridwidth\":2,\"linecolor\":\"#506784\",\"showbackground\":true,\"ticks\":\"\",\"zerolinecolor\":\"#C8D4E3\"},\"yaxis\":{\"backgroundcolor\":\"rgb(17,17,17)\",\"gridcolor\":\"#506784\",\"gridwidth\":2,\"linecolor\":\"#506784\",\"showbackground\":true,\"ticks\":\"\",\"zerolinecolor\":\"#C8D4E3\"},\"zaxis\":{\"backgroundcolor\":\"rgb(17,17,17)\",\"gridcolor\":\"#506784\",\"gridwidth\":2,\"linecolor\":\"#506784\",\"showbackground\":true,\"ticks\":\"\",\"zerolinecolor\":\"#C8D4E3\"}},\"shapedefaults\":{\"line\":{\"color\":\"#f2f5fa\"}},\"sliderdefaults\":{\"bgcolor\":\"#C8D4E3\",\"bordercolor\":\"rgb(17,17,17)\",\"borderwidth\":1,\"tickwidth\":0},\"ternary\":{\"aaxis\":{\"gridcolor\":\"#506784\",\"linecolor\":\"#506784\",\"ticks\":\"\"},\"baxis\":{\"gridcolor\":\"#506784\",\"linecolor\":\"#506784\",\"ticks\":\"\"},\"bgcolor\":\"rgb(17,17,17)\",\"caxis\":{\"gridcolor\":\"#506784\",\"linecolor\":\"#506784\",\"ticks\":\"\"}},\"title\":{\"x\":0.05},\"updatemenudefaults\":{\"bgcolor\":\"#506784\",\"borderwidth\":0},\"xaxis\":{\"automargin\":true,\"gridcolor\":\"#283442\",\"linecolor\":\"#506784\",\"ticks\":\"\",\"title\":{\"standoff\":15},\"zerolinecolor\":\"#283442\",\"zerolinewidth\":2},\"yaxis\":{\"automargin\":true,\"gridcolor\":\"#283442\",\"linecolor\":\"#506784\",\"ticks\":\"\",\"title\":{\"standoff\":15},\"zerolinecolor\":\"#283442\",\"zerolinewidth\":2}}},\"title\":{\"text\":\"<b>Below Average CGPA Vs Placement</b>\"},\"xaxis\":{\"anchor\":\"y\",\"domain\":[0.0,1.0],\"title\":{\"text\":\"CGPA\"}},\"yaxis\":{\"anchor\":\"x\",\"domain\":[0.0,1.0],\"title\":{\"text\":\"count\"}}},                        {\"responsive\": true}                    ).then(function(){\n",
       "                            \n",
       "var gd = document.getElementById('9c130a5c-bb0e-456f-b6a1-8e4acb928a58');\n",
       "var x = new MutationObserver(function (mutations, observer) {{\n",
       "        var display = window.getComputedStyle(gd).display;\n",
       "        if (!display || display === 'none') {{\n",
       "            console.log([gd, 'removed!']);\n",
       "            Plotly.purge(gd);\n",
       "            observer.disconnect();\n",
       "        }}\n",
       "}});\n",
       "\n",
       "// Listen for the removal of the full notebook cells\n",
       "var notebookContainer = gd.closest('#notebook-container');\n",
       "if (notebookContainer) {{\n",
       "    x.observe(notebookContainer, {childList: true});\n",
       "}}\n",
       "\n",
       "// Listen for the clearing of the current output cell\n",
       "var outputEl = gd.closest('.output');\n",
       "if (outputEl) {{\n",
       "    x.observe(outputEl, {childList: true});\n",
       "}}\n",
       "\n",
       "                        })                };                });            </script>        </div>"
      ]
     },
     "metadata": {},
     "output_type": "display_data"
    }
   ],
   "source": [
    "fig = px.histogram(data_frame = cgpa_below_avg,\n",
    "                   x = 'CGPA',\n",
    "                   color='PlacedOrNot',\n",
    "                   title = \"<b>Below Average CGPA Vs Placement</b>\",\n",
    "                   template='plotly_dark', barmode='group')\n",
    "\n",
    "fig.update_layout(bargap=0.2)\n",
    "\n",
    "fig.show()"
   ]
  },
  {
   "cell_type": "markdown",
   "id": "41a79b2d",
   "metadata": {
    "papermill": {
     "duration": 0.078923,
     "end_time": "2021-11-14T17:07:02.220447",
     "exception": false,
     "start_time": "2021-11-14T17:07:02.141524",
     "status": "completed"
    },
    "tags": []
   },
   "source": [
    "**From above above, if some student has CGPA below average it will reduce his/her chances of placement**\n"
   ]
  },
  {
   "cell_type": "markdown",
   "id": "15fe049b",
   "metadata": {
    "papermill": {
     "duration": 0.07883,
     "end_time": "2021-11-14T17:07:02.378512",
     "exception": false,
     "start_time": "2021-11-14T17:07:02.299682",
     "status": "completed"
    },
    "tags": []
   },
   "source": [
    "<a id=\"5.6\"></a>\n",
    "# <p style=\"background-color:#73d1ff;font-family:newtimeroman;color:#000000;font-size:120%;text-align:center;border-radius:20px 80px;\">✔️ Analyze important features stream wise</p>\n",
    "\n",
    "\n"
   ]
  },
  {
   "cell_type": "code",
   "execution_count": 24,
   "id": "952392be",
   "metadata": {
    "execution": {
     "iopub.execute_input": "2021-11-14T17:07:02.539708Z",
     "iopub.status.busy": "2021-11-14T17:07:02.539012Z",
     "iopub.status.idle": "2021-11-14T17:07:02.563116Z",
     "shell.execute_reply": "2021-11-14T17:07:02.563661Z",
     "shell.execute_reply.started": "2021-11-14T16:45:50.733696Z"
    },
    "papermill": {
     "duration": 0.106501,
     "end_time": "2021-11-14T17:07:02.563833",
     "exception": false,
     "start_time": "2021-11-14T17:07:02.457332",
     "status": "completed"
    },
    "tags": []
   },
   "outputs": [
    {
     "data": {
      "text/html": [
       "<style  type=\"text/css\" >\n",
       "#T_dfb1e_row1_col0,#T_dfb1e_row1_col1,#T_dfb1e_row1_col3,#T_dfb1e_row3_col2{\n",
       "            background-color:  yellow;\n",
       "        }</style><table id=\"T_dfb1e_\" ><thead>    <tr>        <th class=\"blank level0\" ></th>        <th class=\"col_heading level0 col0\" >Age</th>        <th class=\"col_heading level0 col1\" >Internships</th>        <th class=\"col_heading level0 col2\" >CGPA</th>        <th class=\"col_heading level0 col3\" >PlacedOrNot</th>    </tr>    <tr>        <th class=\"index_name level0\" >Stream</th>        <th class=\"blank\" ></th>        <th class=\"blank\" ></th>        <th class=\"blank\" ></th>        <th class=\"blank\" ></th>    </tr></thead><tbody>\n",
       "                <tr>\n",
       "                        <th id=\"T_dfb1e_level0_row0\" class=\"row_heading level0 row0\" >Civil</th>\n",
       "                        <td id=\"T_dfb1e_row0_col0\" class=\"data row0 col0\" >21.441640</td>\n",
       "                        <td id=\"T_dfb1e_row0_col1\" class=\"data row0 col1\" >173</td>\n",
       "                        <td id=\"T_dfb1e_row0_col2\" class=\"data row0 col2\" >7.094637</td>\n",
       "                        <td id=\"T_dfb1e_row0_col3\" class=\"data row0 col3\" >146</td>\n",
       "            </tr>\n",
       "            <tr>\n",
       "                        <th id=\"T_dfb1e_level0_row1\" class=\"row_heading level0 row1\" >Computer Science</th>\n",
       "                        <td id=\"T_dfb1e_row1_col0\" class=\"data row1 col0\" >21.559278</td>\n",
       "                        <td id=\"T_dfb1e_row1_col1\" class=\"data row1 col1\" >676</td>\n",
       "                        <td id=\"T_dfb1e_row1_col2\" class=\"data row1 col2\" >7.039948</td>\n",
       "                        <td id=\"T_dfb1e_row1_col3\" class=\"data row1 col3\" >452</td>\n",
       "            </tr>\n",
       "            <tr>\n",
       "                        <th id=\"T_dfb1e_level0_row2\" class=\"row_heading level0 row2\" >Electrical</th>\n",
       "                        <td id=\"T_dfb1e_row2_col0\" class=\"data row2 col0\" >21.299401</td>\n",
       "                        <td id=\"T_dfb1e_row2_col1\" class=\"data row2 col1\" >203</td>\n",
       "                        <td id=\"T_dfb1e_row2_col2\" class=\"data row2 col2\" >7.080838</td>\n",
       "                        <td id=\"T_dfb1e_row2_col3\" class=\"data row2 col3\" >181</td>\n",
       "            </tr>\n",
       "            <tr>\n",
       "                        <th id=\"T_dfb1e_level0_row3\" class=\"row_heading level0 row3\" >Electronics And Communication</th>\n",
       "                        <td id=\"T_dfb1e_row3_col0\" class=\"data row3 col0\" >21.410377</td>\n",
       "                        <td id=\"T_dfb1e_row3_col1\" class=\"data row3 col1\" >306</td>\n",
       "                        <td id=\"T_dfb1e_row3_col2\" class=\"data row3 col2\" >7.125000</td>\n",
       "                        <td id=\"T_dfb1e_row3_col3\" class=\"data row3 col3\" >251</td>\n",
       "            </tr>\n",
       "            <tr>\n",
       "                        <th id=\"T_dfb1e_level0_row4\" class=\"row_heading level0 row4\" >Information Technology</th>\n",
       "                        <td id=\"T_dfb1e_row4_col0\" class=\"data row4 col0\" >21.539797</td>\n",
       "                        <td id=\"T_dfb1e_row4_col1\" class=\"data row4 col1\" >509</td>\n",
       "                        <td id=\"T_dfb1e_row4_col2\" class=\"data row4 col2\" >7.073806</td>\n",
       "                        <td id=\"T_dfb1e_row4_col3\" class=\"data row4 col3\" >409</td>\n",
       "            </tr>\n",
       "            <tr>\n",
       "                        <th id=\"T_dfb1e_level0_row5\" class=\"row_heading level0 row5\" >Mechanical</th>\n",
       "                        <td id=\"T_dfb1e_row5_col0\" class=\"data row5 col0\" >21.518868</td>\n",
       "                        <td id=\"T_dfb1e_row5_col1\" class=\"data row5 col1\" >220</td>\n",
       "                        <td id=\"T_dfb1e_row5_col2\" class=\"data row5 col2\" >7.063679</td>\n",
       "                        <td id=\"T_dfb1e_row5_col3\" class=\"data row5 col3\" >200</td>\n",
       "            </tr>\n",
       "    </tbody></table>"
      ],
      "text/plain": [
       "<pandas.io.formats.style.Styler at 0x7f01c9f3c810>"
      ]
     },
     "execution_count": 24,
     "metadata": {},
     "output_type": "execute_result"
    }
   ],
   "source": [
    "stream_wise = data.groupby('Stream').agg({'Age':'mean',\n",
    "                                          'Internships' : 'sum',                            \n",
    "                                           \"CGPA\":'mean',\n",
    "                                           'PlacedOrNot':'sum'})\n",
    "\n",
    "stream_wise.style.highlight_max()"
   ]
  },
  {
   "cell_type": "code",
   "execution_count": 25,
   "id": "d36a3a19",
   "metadata": {
    "execution": {
     "iopub.execute_input": "2021-11-14T17:07:02.728585Z",
     "iopub.status.busy": "2021-11-14T17:07:02.727925Z",
     "iopub.status.idle": "2021-11-14T17:07:02.823741Z",
     "shell.execute_reply": "2021-11-14T17:07:02.823093Z",
     "shell.execute_reply.started": "2021-11-14T16:45:53.638379Z"
    },
    "papermill": {
     "duration": 0.177872,
     "end_time": "2021-11-14T17:07:02.823877",
     "exception": false,
     "start_time": "2021-11-14T17:07:02.646005",
     "status": "completed"
    },
    "tags": []
   },
   "outputs": [
    {
     "data": {
      "text/html": [
       "<div>                            <div id=\"c2a994dd-4482-450f-a898-04c7f0acf46e\" class=\"plotly-graph-div\" style=\"height:525px; width:100%;\"></div>            <script type=\"text/javascript\">                require([\"plotly\"], function(Plotly) {                    window.PLOTLYENV=window.PLOTLYENV || {};                                    if (document.getElementById(\"c2a994dd-4482-450f-a898-04c7f0acf46e\")) {                    Plotly.newPlot(                        \"c2a994dd-4482-450f-a898-04c7f0acf46e\",                        [{\"alignmentgroup\":\"True\",\"hovertemplate\":\"variable=Age<br>Stream=%{x}<br>value=%{y}<extra></extra>\",\"legendgroup\":\"Age\",\"marker\":{\"color\":\"#636efa\",\"pattern\":{\"shape\":\"\"}},\"name\":\"Age\",\"offsetgroup\":\"Age\",\"orientation\":\"v\",\"showlegend\":true,\"textposition\":\"auto\",\"type\":\"bar\",\"x\":[\"Civil\",\"Computer Science\",\"Electrical\",\"Electronics And Communication\",\"Information Technology\",\"Mechanical\"],\"xaxis\":\"x\",\"y\":[21.441640378548897,21.559278350515463,21.29940119760479,21.410377358490567,21.539797395079596,21.5188679245283],\"yaxis\":\"y\"},{\"alignmentgroup\":\"True\",\"hovertemplate\":\"variable=Internships<br>Stream=%{x}<br>value=%{y}<extra></extra>\",\"legendgroup\":\"Internships\",\"marker\":{\"color\":\"#EF553B\",\"pattern\":{\"shape\":\"\"}},\"name\":\"Internships\",\"offsetgroup\":\"Internships\",\"orientation\":\"v\",\"showlegend\":true,\"textposition\":\"auto\",\"type\":\"bar\",\"x\":[\"Civil\",\"Computer Science\",\"Electrical\",\"Electronics And Communication\",\"Information Technology\",\"Mechanical\"],\"xaxis\":\"x\",\"y\":[173.0,676.0,203.0,306.0,509.0,220.0],\"yaxis\":\"y\"},{\"alignmentgroup\":\"True\",\"hovertemplate\":\"variable=CGPA<br>Stream=%{x}<br>value=%{y}<extra></extra>\",\"legendgroup\":\"CGPA\",\"marker\":{\"color\":\"#00cc96\",\"pattern\":{\"shape\":\"\"}},\"name\":\"CGPA\",\"offsetgroup\":\"CGPA\",\"orientation\":\"v\",\"showlegend\":true,\"textposition\":\"auto\",\"type\":\"bar\",\"x\":[\"Civil\",\"Computer Science\",\"Electrical\",\"Electronics And Communication\",\"Information Technology\",\"Mechanical\"],\"xaxis\":\"x\",\"y\":[7.094637223974764,7.039948453608248,7.080838323353293,7.125,7.073806078147612,7.063679245283019],\"yaxis\":\"y\"},{\"alignmentgroup\":\"True\",\"hovertemplate\":\"variable=PlacedOrNot<br>Stream=%{x}<br>value=%{y}<extra></extra>\",\"legendgroup\":\"PlacedOrNot\",\"marker\":{\"color\":\"#ab63fa\",\"pattern\":{\"shape\":\"\"}},\"name\":\"PlacedOrNot\",\"offsetgroup\":\"PlacedOrNot\",\"orientation\":\"v\",\"showlegend\":true,\"textposition\":\"auto\",\"type\":\"bar\",\"x\":[\"Civil\",\"Computer Science\",\"Electrical\",\"Electronics And Communication\",\"Information Technology\",\"Mechanical\"],\"xaxis\":\"x\",\"y\":[146.0,452.0,181.0,251.0,409.0,200.0],\"yaxis\":\"y\"}],                        {\"barmode\":\"group\",\"legend\":{\"title\":{\"text\":\"variable\"},\"tracegroupgap\":0},\"template\":{\"data\":{\"bar\":[{\"error_x\":{\"color\":\"#f2f5fa\"},\"error_y\":{\"color\":\"#f2f5fa\"},\"marker\":{\"line\":{\"color\":\"rgb(17,17,17)\",\"width\":0.5},\"pattern\":{\"fillmode\":\"overlay\",\"size\":10,\"solidity\":0.2}},\"type\":\"bar\"}],\"barpolar\":[{\"marker\":{\"line\":{\"color\":\"rgb(17,17,17)\",\"width\":0.5},\"pattern\":{\"fillmode\":\"overlay\",\"size\":10,\"solidity\":0.2}},\"type\":\"barpolar\"}],\"carpet\":[{\"aaxis\":{\"endlinecolor\":\"#A2B1C6\",\"gridcolor\":\"#506784\",\"linecolor\":\"#506784\",\"minorgridcolor\":\"#506784\",\"startlinecolor\":\"#A2B1C6\"},\"baxis\":{\"endlinecolor\":\"#A2B1C6\",\"gridcolor\":\"#506784\",\"linecolor\":\"#506784\",\"minorgridcolor\":\"#506784\",\"startlinecolor\":\"#A2B1C6\"},\"type\":\"carpet\"}],\"choropleth\":[{\"colorbar\":{\"outlinewidth\":0,\"ticks\":\"\"},\"type\":\"choropleth\"}],\"contour\":[{\"colorbar\":{\"outlinewidth\":0,\"ticks\":\"\"},\"colorscale\":[[0.0,\"#0d0887\"],[0.1111111111111111,\"#46039f\"],[0.2222222222222222,\"#7201a8\"],[0.3333333333333333,\"#9c179e\"],[0.4444444444444444,\"#bd3786\"],[0.5555555555555556,\"#d8576b\"],[0.6666666666666666,\"#ed7953\"],[0.7777777777777778,\"#fb9f3a\"],[0.8888888888888888,\"#fdca26\"],[1.0,\"#f0f921\"]],\"type\":\"contour\"}],\"contourcarpet\":[{\"colorbar\":{\"outlinewidth\":0,\"ticks\":\"\"},\"type\":\"contourcarpet\"}],\"heatmap\":[{\"colorbar\":{\"outlinewidth\":0,\"ticks\":\"\"},\"colorscale\":[[0.0,\"#0d0887\"],[0.1111111111111111,\"#46039f\"],[0.2222222222222222,\"#7201a8\"],[0.3333333333333333,\"#9c179e\"],[0.4444444444444444,\"#bd3786\"],[0.5555555555555556,\"#d8576b\"],[0.6666666666666666,\"#ed7953\"],[0.7777777777777778,\"#fb9f3a\"],[0.8888888888888888,\"#fdca26\"],[1.0,\"#f0f921\"]],\"type\":\"heatmap\"}],\"heatmapgl\":[{\"colorbar\":{\"outlinewidth\":0,\"ticks\":\"\"},\"colorscale\":[[0.0,\"#0d0887\"],[0.1111111111111111,\"#46039f\"],[0.2222222222222222,\"#7201a8\"],[0.3333333333333333,\"#9c179e\"],[0.4444444444444444,\"#bd3786\"],[0.5555555555555556,\"#d8576b\"],[0.6666666666666666,\"#ed7953\"],[0.7777777777777778,\"#fb9f3a\"],[0.8888888888888888,\"#fdca26\"],[1.0,\"#f0f921\"]],\"type\":\"heatmapgl\"}],\"histogram\":[{\"marker\":{\"pattern\":{\"fillmode\":\"overlay\",\"size\":10,\"solidity\":0.2}},\"type\":\"histogram\"}],\"histogram2d\":[{\"colorbar\":{\"outlinewidth\":0,\"ticks\":\"\"},\"colorscale\":[[0.0,\"#0d0887\"],[0.1111111111111111,\"#46039f\"],[0.2222222222222222,\"#7201a8\"],[0.3333333333333333,\"#9c179e\"],[0.4444444444444444,\"#bd3786\"],[0.5555555555555556,\"#d8576b\"],[0.6666666666666666,\"#ed7953\"],[0.7777777777777778,\"#fb9f3a\"],[0.8888888888888888,\"#fdca26\"],[1.0,\"#f0f921\"]],\"type\":\"histogram2d\"}],\"histogram2dcontour\":[{\"colorbar\":{\"outlinewidth\":0,\"ticks\":\"\"},\"colorscale\":[[0.0,\"#0d0887\"],[0.1111111111111111,\"#46039f\"],[0.2222222222222222,\"#7201a8\"],[0.3333333333333333,\"#9c179e\"],[0.4444444444444444,\"#bd3786\"],[0.5555555555555556,\"#d8576b\"],[0.6666666666666666,\"#ed7953\"],[0.7777777777777778,\"#fb9f3a\"],[0.8888888888888888,\"#fdca26\"],[1.0,\"#f0f921\"]],\"type\":\"histogram2dcontour\"}],\"mesh3d\":[{\"colorbar\":{\"outlinewidth\":0,\"ticks\":\"\"},\"type\":\"mesh3d\"}],\"parcoords\":[{\"line\":{\"colorbar\":{\"outlinewidth\":0,\"ticks\":\"\"}},\"type\":\"parcoords\"}],\"pie\":[{\"automargin\":true,\"type\":\"pie\"}],\"scatter\":[{\"marker\":{\"line\":{\"color\":\"#283442\"}},\"type\":\"scatter\"}],\"scatter3d\":[{\"line\":{\"colorbar\":{\"outlinewidth\":0,\"ticks\":\"\"}},\"marker\":{\"colorbar\":{\"outlinewidth\":0,\"ticks\":\"\"}},\"type\":\"scatter3d\"}],\"scattercarpet\":[{\"marker\":{\"colorbar\":{\"outlinewidth\":0,\"ticks\":\"\"}},\"type\":\"scattercarpet\"}],\"scattergeo\":[{\"marker\":{\"colorbar\":{\"outlinewidth\":0,\"ticks\":\"\"}},\"type\":\"scattergeo\"}],\"scattergl\":[{\"marker\":{\"line\":{\"color\":\"#283442\"}},\"type\":\"scattergl\"}],\"scattermapbox\":[{\"marker\":{\"colorbar\":{\"outlinewidth\":0,\"ticks\":\"\"}},\"type\":\"scattermapbox\"}],\"scatterpolar\":[{\"marker\":{\"colorbar\":{\"outlinewidth\":0,\"ticks\":\"\"}},\"type\":\"scatterpolar\"}],\"scatterpolargl\":[{\"marker\":{\"colorbar\":{\"outlinewidth\":0,\"ticks\":\"\"}},\"type\":\"scatterpolargl\"}],\"scatterternary\":[{\"marker\":{\"colorbar\":{\"outlinewidth\":0,\"ticks\":\"\"}},\"type\":\"scatterternary\"}],\"surface\":[{\"colorbar\":{\"outlinewidth\":0,\"ticks\":\"\"},\"colorscale\":[[0.0,\"#0d0887\"],[0.1111111111111111,\"#46039f\"],[0.2222222222222222,\"#7201a8\"],[0.3333333333333333,\"#9c179e\"],[0.4444444444444444,\"#bd3786\"],[0.5555555555555556,\"#d8576b\"],[0.6666666666666666,\"#ed7953\"],[0.7777777777777778,\"#fb9f3a\"],[0.8888888888888888,\"#fdca26\"],[1.0,\"#f0f921\"]],\"type\":\"surface\"}],\"table\":[{\"cells\":{\"fill\":{\"color\":\"#506784\"},\"line\":{\"color\":\"rgb(17,17,17)\"}},\"header\":{\"fill\":{\"color\":\"#2a3f5f\"},\"line\":{\"color\":\"rgb(17,17,17)\"}},\"type\":\"table\"}]},\"layout\":{\"annotationdefaults\":{\"arrowcolor\":\"#f2f5fa\",\"arrowhead\":0,\"arrowwidth\":1},\"autotypenumbers\":\"strict\",\"coloraxis\":{\"colorbar\":{\"outlinewidth\":0,\"ticks\":\"\"}},\"colorscale\":{\"diverging\":[[0,\"#8e0152\"],[0.1,\"#c51b7d\"],[0.2,\"#de77ae\"],[0.3,\"#f1b6da\"],[0.4,\"#fde0ef\"],[0.5,\"#f7f7f7\"],[0.6,\"#e6f5d0\"],[0.7,\"#b8e186\"],[0.8,\"#7fbc41\"],[0.9,\"#4d9221\"],[1,\"#276419\"]],\"sequential\":[[0.0,\"#0d0887\"],[0.1111111111111111,\"#46039f\"],[0.2222222222222222,\"#7201a8\"],[0.3333333333333333,\"#9c179e\"],[0.4444444444444444,\"#bd3786\"],[0.5555555555555556,\"#d8576b\"],[0.6666666666666666,\"#ed7953\"],[0.7777777777777778,\"#fb9f3a\"],[0.8888888888888888,\"#fdca26\"],[1.0,\"#f0f921\"]],\"sequentialminus\":[[0.0,\"#0d0887\"],[0.1111111111111111,\"#46039f\"],[0.2222222222222222,\"#7201a8\"],[0.3333333333333333,\"#9c179e\"],[0.4444444444444444,\"#bd3786\"],[0.5555555555555556,\"#d8576b\"],[0.6666666666666666,\"#ed7953\"],[0.7777777777777778,\"#fb9f3a\"],[0.8888888888888888,\"#fdca26\"],[1.0,\"#f0f921\"]]},\"colorway\":[\"#636efa\",\"#EF553B\",\"#00cc96\",\"#ab63fa\",\"#FFA15A\",\"#19d3f3\",\"#FF6692\",\"#B6E880\",\"#FF97FF\",\"#FECB52\"],\"font\":{\"color\":\"#f2f5fa\"},\"geo\":{\"bgcolor\":\"rgb(17,17,17)\",\"lakecolor\":\"rgb(17,17,17)\",\"landcolor\":\"rgb(17,17,17)\",\"showlakes\":true,\"showland\":true,\"subunitcolor\":\"#506784\"},\"hoverlabel\":{\"align\":\"left\"},\"hovermode\":\"closest\",\"mapbox\":{\"style\":\"dark\"},\"paper_bgcolor\":\"rgb(17,17,17)\",\"plot_bgcolor\":\"rgb(17,17,17)\",\"polar\":{\"angularaxis\":{\"gridcolor\":\"#506784\",\"linecolor\":\"#506784\",\"ticks\":\"\"},\"bgcolor\":\"rgb(17,17,17)\",\"radialaxis\":{\"gridcolor\":\"#506784\",\"linecolor\":\"#506784\",\"ticks\":\"\"}},\"scene\":{\"xaxis\":{\"backgroundcolor\":\"rgb(17,17,17)\",\"gridcolor\":\"#506784\",\"gridwidth\":2,\"linecolor\":\"#506784\",\"showbackground\":true,\"ticks\":\"\",\"zerolinecolor\":\"#C8D4E3\"},\"yaxis\":{\"backgroundcolor\":\"rgb(17,17,17)\",\"gridcolor\":\"#506784\",\"gridwidth\":2,\"linecolor\":\"#506784\",\"showbackground\":true,\"ticks\":\"\",\"zerolinecolor\":\"#C8D4E3\"},\"zaxis\":{\"backgroundcolor\":\"rgb(17,17,17)\",\"gridcolor\":\"#506784\",\"gridwidth\":2,\"linecolor\":\"#506784\",\"showbackground\":true,\"ticks\":\"\",\"zerolinecolor\":\"#C8D4E3\"}},\"shapedefaults\":{\"line\":{\"color\":\"#f2f5fa\"}},\"sliderdefaults\":{\"bgcolor\":\"#C8D4E3\",\"bordercolor\":\"rgb(17,17,17)\",\"borderwidth\":1,\"tickwidth\":0},\"ternary\":{\"aaxis\":{\"gridcolor\":\"#506784\",\"linecolor\":\"#506784\",\"ticks\":\"\"},\"baxis\":{\"gridcolor\":\"#506784\",\"linecolor\":\"#506784\",\"ticks\":\"\"},\"bgcolor\":\"rgb(17,17,17)\",\"caxis\":{\"gridcolor\":\"#506784\",\"linecolor\":\"#506784\",\"ticks\":\"\"}},\"title\":{\"x\":0.05},\"updatemenudefaults\":{\"bgcolor\":\"#506784\",\"borderwidth\":0},\"xaxis\":{\"automargin\":true,\"gridcolor\":\"#283442\",\"linecolor\":\"#506784\",\"ticks\":\"\",\"title\":{\"standoff\":15},\"zerolinecolor\":\"#283442\",\"zerolinewidth\":2},\"yaxis\":{\"automargin\":true,\"gridcolor\":\"#283442\",\"linecolor\":\"#506784\",\"ticks\":\"\",\"title\":{\"standoff\":15},\"zerolinecolor\":\"#283442\",\"zerolinewidth\":2}}},\"title\":{\"text\":\"<b>Stream wise Analyzing</b>\"},\"xaxis\":{\"anchor\":\"y\",\"domain\":[0.0,1.0],\"title\":{\"text\":\"Stream\"}},\"yaxis\":{\"anchor\":\"x\",\"domain\":[0.0,1.0],\"title\":{\"text\":\"value\"}}},                        {\"responsive\": true}                    ).then(function(){\n",
       "                            \n",
       "var gd = document.getElementById('c2a994dd-4482-450f-a898-04c7f0acf46e');\n",
       "var x = new MutationObserver(function (mutations, observer) {{\n",
       "        var display = window.getComputedStyle(gd).display;\n",
       "        if (!display || display === 'none') {{\n",
       "            console.log([gd, 'removed!']);\n",
       "            Plotly.purge(gd);\n",
       "            observer.disconnect();\n",
       "        }}\n",
       "}});\n",
       "\n",
       "// Listen for the removal of the full notebook cells\n",
       "var notebookContainer = gd.closest('#notebook-container');\n",
       "if (notebookContainer) {{\n",
       "    x.observe(notebookContainer, {childList: true});\n",
       "}}\n",
       "\n",
       "// Listen for the clearing of the current output cell\n",
       "var outputEl = gd.closest('.output');\n",
       "if (outputEl) {{\n",
       "    x.observe(outputEl, {childList: true});\n",
       "}}\n",
       "\n",
       "                        })                };                });            </script>        </div>"
      ]
     },
     "metadata": {},
     "output_type": "display_data"
    }
   ],
   "source": [
    "px.bar(data_frame=stream_wise, barmode='group',\n",
    "       title = \"<b>Stream wise Analyzing</b>\",template=\"plotly_dark\")"
   ]
  },
  {
   "cell_type": "markdown",
   "id": "dda0cb10",
   "metadata": {
    "papermill": {
     "duration": 0.080478,
     "end_time": "2021-11-14T17:07:02.984753",
     "exception": false,
     "start_time": "2021-11-14T17:07:02.904275",
     "status": "completed"
    },
    "tags": []
   },
   "source": [
    "**From Computer Science degree most of the student placed...**"
   ]
  },
  {
   "cell_type": "markdown",
   "id": "a5743d39",
   "metadata": {
    "papermill": {
     "duration": 0.079572,
     "end_time": "2021-11-14T17:07:03.146841",
     "exception": false,
     "start_time": "2021-11-14T17:07:03.067269",
     "status": "completed"
    },
    "tags": []
   },
   "source": [
    "<a id=\"5.7\"></a>\n",
    "# <p style=\"background-color:#73d1ff;font-family:newtimeroman;color:#000000;font-size:120%;text-align:center;border-radius:20px 80px;\">✔️ Effect of No Internship Experience on Placement</p>\n",
    "\n",
    "\n"
   ]
  },
  {
   "cell_type": "code",
   "execution_count": 26,
   "id": "6ca1b02e",
   "metadata": {
    "execution": {
     "iopub.execute_input": "2021-11-14T17:07:03.314199Z",
     "iopub.status.busy": "2021-11-14T17:07:03.310585Z",
     "iopub.status.idle": "2021-11-14T17:07:03.326855Z",
     "shell.execute_reply": "2021-11-14T17:07:03.327449Z",
     "shell.execute_reply.started": "2021-11-14T16:46:02.227145Z"
    },
    "papermill": {
     "duration": 0.100975,
     "end_time": "2021-11-14T17:07:03.327610",
     "exception": false,
     "start_time": "2021-11-14T17:07:03.226635",
     "status": "completed"
    },
    "tags": []
   },
   "outputs": [
    {
     "data": {
      "text/html": [
       "<div>\n",
       "<style scoped>\n",
       "    .dataframe tbody tr th:only-of-type {\n",
       "        vertical-align: middle;\n",
       "    }\n",
       "\n",
       "    .dataframe tbody tr th {\n",
       "        vertical-align: top;\n",
       "    }\n",
       "\n",
       "    .dataframe thead th {\n",
       "        text-align: right;\n",
       "    }\n",
       "</style>\n",
       "<table border=\"1\" class=\"dataframe\">\n",
       "  <thead>\n",
       "    <tr style=\"text-align: right;\">\n",
       "      <th></th>\n",
       "      <th>Age</th>\n",
       "      <th>Gender</th>\n",
       "      <th>Stream</th>\n",
       "      <th>Internships</th>\n",
       "      <th>CGPA</th>\n",
       "      <th>Hostel</th>\n",
       "      <th>HistoryOfBacklogs</th>\n",
       "      <th>PlacedOrNot</th>\n",
       "    </tr>\n",
       "  </thead>\n",
       "  <tbody>\n",
       "    <tr>\n",
       "      <th>1</th>\n",
       "      <td>21</td>\n",
       "      <td>Female</td>\n",
       "      <td>Computer Science</td>\n",
       "      <td>0</td>\n",
       "      <td>7</td>\n",
       "      <td>1</td>\n",
       "      <td>1</td>\n",
       "      <td>1</td>\n",
       "    </tr>\n",
       "    <tr>\n",
       "      <th>3</th>\n",
       "      <td>21</td>\n",
       "      <td>Male</td>\n",
       "      <td>Information Technology</td>\n",
       "      <td>0</td>\n",
       "      <td>8</td>\n",
       "      <td>0</td>\n",
       "      <td>1</td>\n",
       "      <td>1</td>\n",
       "    </tr>\n",
       "    <tr>\n",
       "      <th>4</th>\n",
       "      <td>22</td>\n",
       "      <td>Male</td>\n",
       "      <td>Mechanical</td>\n",
       "      <td>0</td>\n",
       "      <td>8</td>\n",
       "      <td>1</td>\n",
       "      <td>0</td>\n",
       "      <td>1</td>\n",
       "    </tr>\n",
       "    <tr>\n",
       "      <th>5</th>\n",
       "      <td>22</td>\n",
       "      <td>Male</td>\n",
       "      <td>Electronics And Communication</td>\n",
       "      <td>0</td>\n",
       "      <td>6</td>\n",
       "      <td>0</td>\n",
       "      <td>0</td>\n",
       "      <td>0</td>\n",
       "    </tr>\n",
       "    <tr>\n",
       "      <th>6</th>\n",
       "      <td>21</td>\n",
       "      <td>Male</td>\n",
       "      <td>Computer Science</td>\n",
       "      <td>0</td>\n",
       "      <td>7</td>\n",
       "      <td>0</td>\n",
       "      <td>1</td>\n",
       "      <td>0</td>\n",
       "    </tr>\n",
       "    <tr>\n",
       "      <th>...</th>\n",
       "      <td>...</td>\n",
       "      <td>...</td>\n",
       "      <td>...</td>\n",
       "      <td>...</td>\n",
       "      <td>...</td>\n",
       "      <td>...</td>\n",
       "      <td>...</td>\n",
       "      <td>...</td>\n",
       "    </tr>\n",
       "    <tr>\n",
       "      <th>2956</th>\n",
       "      <td>22</td>\n",
       "      <td>Male</td>\n",
       "      <td>Computer Science</td>\n",
       "      <td>0</td>\n",
       "      <td>8</td>\n",
       "      <td>0</td>\n",
       "      <td>0</td>\n",
       "      <td>1</td>\n",
       "    </tr>\n",
       "    <tr>\n",
       "      <th>2958</th>\n",
       "      <td>23</td>\n",
       "      <td>Male</td>\n",
       "      <td>Computer Science</td>\n",
       "      <td>0</td>\n",
       "      <td>6</td>\n",
       "      <td>0</td>\n",
       "      <td>1</td>\n",
       "      <td>0</td>\n",
       "    </tr>\n",
       "    <tr>\n",
       "      <th>2959</th>\n",
       "      <td>23</td>\n",
       "      <td>Male</td>\n",
       "      <td>Information Technology</td>\n",
       "      <td>0</td>\n",
       "      <td>7</td>\n",
       "      <td>0</td>\n",
       "      <td>0</td>\n",
       "      <td>0</td>\n",
       "    </tr>\n",
       "    <tr>\n",
       "      <th>2961</th>\n",
       "      <td>23</td>\n",
       "      <td>Male</td>\n",
       "      <td>Information Technology</td>\n",
       "      <td>0</td>\n",
       "      <td>7</td>\n",
       "      <td>0</td>\n",
       "      <td>0</td>\n",
       "      <td>0</td>\n",
       "    </tr>\n",
       "    <tr>\n",
       "      <th>2965</th>\n",
       "      <td>23</td>\n",
       "      <td>Male</td>\n",
       "      <td>Civil</td>\n",
       "      <td>0</td>\n",
       "      <td>8</td>\n",
       "      <td>0</td>\n",
       "      <td>0</td>\n",
       "      <td>1</td>\n",
       "    </tr>\n",
       "  </tbody>\n",
       "</table>\n",
       "<p>1331 rows × 8 columns</p>\n",
       "</div>"
      ],
      "text/plain": [
       "      Age  Gender                         Stream  Internships  CGPA  Hostel  \\\n",
       "1      21  Female               Computer Science            0     7       1   \n",
       "3      21    Male         Information Technology            0     8       0   \n",
       "4      22    Male                     Mechanical            0     8       1   \n",
       "5      22    Male  Electronics And Communication            0     6       0   \n",
       "6      21    Male               Computer Science            0     7       0   \n",
       "...   ...     ...                            ...          ...   ...     ...   \n",
       "2956   22    Male               Computer Science            0     8       0   \n",
       "2958   23    Male               Computer Science            0     6       0   \n",
       "2959   23    Male         Information Technology            0     7       0   \n",
       "2961   23    Male         Information Technology            0     7       0   \n",
       "2965   23    Male                          Civil            0     8       0   \n",
       "\n",
       "      HistoryOfBacklogs  PlacedOrNot  \n",
       "1                     1            1  \n",
       "3                     1            1  \n",
       "4                     0            1  \n",
       "5                     0            0  \n",
       "6                     1            0  \n",
       "...                 ...          ...  \n",
       "2956                  0            1  \n",
       "2958                  1            0  \n",
       "2959                  0            0  \n",
       "2961                  0            0  \n",
       "2965                  0            1  \n",
       "\n",
       "[1331 rows x 8 columns]"
      ]
     },
     "execution_count": 26,
     "metadata": {},
     "output_type": "execute_result"
    }
   ],
   "source": [
    "no_internship = data[data['Internships'] == 0]\n",
    "\n",
    "no_internship"
   ]
  },
  {
   "cell_type": "code",
   "execution_count": 27,
   "id": "fbfa78af",
   "metadata": {
    "execution": {
     "iopub.execute_input": "2021-11-14T17:07:03.491531Z",
     "iopub.status.busy": "2021-11-14T17:07:03.490961Z",
     "iopub.status.idle": "2021-11-14T17:07:03.563989Z",
     "shell.execute_reply": "2021-11-14T17:07:03.563469Z",
     "shell.execute_reply.started": "2021-11-14T16:46:47.554485Z"
    },
    "papermill": {
     "duration": 0.156446,
     "end_time": "2021-11-14T17:07:03.564133",
     "exception": false,
     "start_time": "2021-11-14T17:07:03.407687",
     "status": "completed"
    },
    "tags": []
   },
   "outputs": [
    {
     "data": {
      "text/html": [
       "<div>                            <div id=\"35efa688-dbcd-4d6a-bcdf-daa6395cc98f\" class=\"plotly-graph-div\" style=\"height:525px; width:100%;\"></div>            <script type=\"text/javascript\">                require([\"plotly\"], function(Plotly) {                    window.PLOTLYENV=window.PLOTLYENV || {};                                    if (document.getElementById(\"35efa688-dbcd-4d6a-bcdf-daa6395cc98f\")) {                    Plotly.newPlot(                        \"35efa688-dbcd-4d6a-bcdf-daa6395cc98f\",                        [{\"alignmentgroup\":\"True\",\"bingroup\":\"x\",\"hovertemplate\":\"PlacedOrNot=%{x}<br>count=%{y}<extra></extra>\",\"legendgroup\":\"1\",\"marker\":{\"color\":\"#636efa\",\"pattern\":{\"shape\":\"\"}},\"name\":\"1\",\"offsetgroup\":\"1\",\"orientation\":\"v\",\"showlegend\":true,\"type\":\"histogram\",\"x\":[1,1,1,1,1,1,1,1,1,1,1,1,1,1,1,1,1,1,1,1,1,1,1,1,1,1,1,1,1,1,1,1,1,1,1,1,1,1,1,1,1,1,1,1,1,1,1,1,1,1,1,1,1,1,1,1,1,1,1,1,1,1,1,1,1,1,1,1,1,1,1,1,1,1,1,1,1,1,1,1,1,1,1,1,1,1,1,1,1,1,1,1,1,1,1,1,1,1,1,1,1,1,1,1,1,1,1,1,1,1,1,1,1,1,1,1,1,1,1,1,1,1,1,1,1,1,1,1,1,1,1,1,1,1,1,1,1,1,1,1,1,1,1,1,1,1,1,1,1,1,1,1,1,1,1,1,1,1,1,1,1,1,1,1,1,1,1,1,1,1,1,1,1,1,1,1,1,1,1,1,1,1,1,1,1,1,1,1,1,1,1,1,1,1,1,1,1,1,1,1,1,1,1,1,1,1,1,1,1,1,1,1,1,1,1,1,1,1,1,1,1,1,1,1,1,1,1,1,1,1,1,1,1,1,1,1,1,1,1,1,1,1,1,1,1,1,1,1,1,1,1,1,1,1,1,1,1,1,1,1,1,1,1,1,1,1,1,1,1,1,1,1,1,1,1,1,1,1,1,1,1,1,1,1,1,1,1,1,1,1,1,1,1,1,1,1,1,1,1,1,1,1,1,1,1,1,1,1,1,1,1,1,1,1,1,1,1,1,1,1,1,1,1,1,1,1,1,1,1,1,1,1,1,1,1,1,1,1,1,1,1,1,1,1,1,1,1,1,1,1,1,1,1,1,1,1,1,1,1,1,1,1,1,1,1,1,1,1,1,1,1,1,1,1,1,1,1,1,1,1,1,1,1,1,1,1,1,1,1,1,1,1,1,1,1,1,1,1,1,1,1,1,1,1,1,1,1,1,1,1,1,1,1,1,1,1,1,1,1,1,1,1,1,1,1,1,1,1,1,1,1,1,1,1,1,1,1,1,1,1,1,1,1,1,1,1,1,1,1,1,1,1,1,1,1,1,1,1,1,1,1,1,1,1,1,1,1,1,1,1,1,1,1,1,1,1,1,1,1,1,1,1,1,1,1,1,1,1,1,1,1,1,1,1,1,1,1,1,1,1,1,1,1,1,1,1,1,1,1,1,1,1,1,1,1,1,1,1,1,1,1,1,1,1,1,1,1,1,1,1,1,1,1,1,1,1,1,1,1,1,1,1,1,1,1,1,1,1,1,1,1,1,1,1,1,1,1,1,1,1,1,1,1,1,1,1,1,1,1,1,1,1,1,1,1,1,1,1,1,1,1,1,1,1,1,1,1,1,1,1,1,1,1,1,1,1,1,1,1,1,1,1,1,1,1,1,1,1,1,1,1,1,1,1,1,1,1,1,1,1,1,1,1,1,1,1,1,1,1,1,1,1,1,1,1,1,1,1,1,1,1,1,1,1,1,1,1,1,1,1,1,1,1,1],\"xaxis\":\"x\",\"yaxis\":\"y\"},{\"alignmentgroup\":\"True\",\"bingroup\":\"x\",\"hovertemplate\":\"PlacedOrNot=%{x}<br>count=%{y}<extra></extra>\",\"legendgroup\":\"0\",\"marker\":{\"color\":\"#EF553B\",\"pattern\":{\"shape\":\"\"}},\"name\":\"0\",\"offsetgroup\":\"0\",\"orientation\":\"v\",\"showlegend\":true,\"type\":\"histogram\",\"x\":[0,0,0,0,0,0,0,0,0,0,0,0,0,0,0,0,0,0,0,0,0,0,0,0,0,0,0,0,0,0,0,0,0,0,0,0,0,0,0,0,0,0,0,0,0,0,0,0,0,0,0,0,0,0,0,0,0,0,0,0,0,0,0,0,0,0,0,0,0,0,0,0,0,0,0,0,0,0,0,0,0,0,0,0,0,0,0,0,0,0,0,0,0,0,0,0,0,0,0,0,0,0,0,0,0,0,0,0,0,0,0,0,0,0,0,0,0,0,0,0,0,0,0,0,0,0,0,0,0,0,0,0,0,0,0,0,0,0,0,0,0,0,0,0,0,0,0,0,0,0,0,0,0,0,0,0,0,0,0,0,0,0,0,0,0,0,0,0,0,0,0,0,0,0,0,0,0,0,0,0,0,0,0,0,0,0,0,0,0,0,0,0,0,0,0,0,0,0,0,0,0,0,0,0,0,0,0,0,0,0,0,0,0,0,0,0,0,0,0,0,0,0,0,0,0,0,0,0,0,0,0,0,0,0,0,0,0,0,0,0,0,0,0,0,0,0,0,0,0,0,0,0,0,0,0,0,0,0,0,0,0,0,0,0,0,0,0,0,0,0,0,0,0,0,0,0,0,0,0,0,0,0,0,0,0,0,0,0,0,0,0,0,0,0,0,0,0,0,0,0,0,0,0,0,0,0,0,0,0,0,0,0,0,0,0,0,0,0,0,0,0,0,0,0,0,0,0,0,0,0,0,0,0,0,0,0,0,0,0,0,0,0,0,0,0,0,0,0,0,0,0,0,0,0,0,0,0,0,0,0,0,0,0,0,0,0,0,0,0,0,0,0,0,0,0,0,0,0,0,0,0,0,0,0,0,0,0,0,0,0,0,0,0,0,0,0,0,0,0,0,0,0,0,0,0,0,0,0,0,0,0,0,0,0,0,0,0,0,0,0,0,0,0,0,0,0,0,0,0,0,0,0,0,0,0,0,0,0,0,0,0,0,0,0,0,0,0,0,0,0,0,0,0,0,0,0,0,0,0,0,0,0,0,0,0,0,0,0,0,0,0,0,0,0,0,0,0,0,0,0,0,0,0,0,0,0,0,0,0,0,0,0,0,0,0,0,0,0,0,0,0,0,0,0,0,0,0,0,0,0,0,0,0,0,0,0,0,0,0,0,0,0,0,0,0,0,0,0,0,0,0,0,0,0,0,0,0,0,0,0,0,0,0,0,0,0,0,0,0,0,0,0,0,0,0,0,0,0,0,0,0,0,0,0,0,0,0,0,0,0,0,0,0,0,0,0,0,0,0,0,0,0,0,0,0,0,0,0,0,0,0,0,0,0,0,0,0,0,0,0,0,0,0,0,0,0,0,0,0,0,0,0,0,0,0,0,0,0,0,0,0,0,0,0,0,0,0,0,0,0,0,0,0,0,0,0,0,0,0,0,0,0,0,0,0,0,0,0,0,0,0,0,0,0,0,0,0,0,0,0,0,0,0,0,0,0,0,0,0,0,0,0,0,0,0,0,0],\"xaxis\":\"x\",\"yaxis\":\"y\"}],                        {\"bargap\":0.2,\"barmode\":\"relative\",\"legend\":{\"title\":{\"text\":\"PlacedOrNot\"},\"tracegroupgap\":0},\"template\":{\"data\":{\"bar\":[{\"error_x\":{\"color\":\"#f2f5fa\"},\"error_y\":{\"color\":\"#f2f5fa\"},\"marker\":{\"line\":{\"color\":\"rgb(17,17,17)\",\"width\":0.5},\"pattern\":{\"fillmode\":\"overlay\",\"size\":10,\"solidity\":0.2}},\"type\":\"bar\"}],\"barpolar\":[{\"marker\":{\"line\":{\"color\":\"rgb(17,17,17)\",\"width\":0.5},\"pattern\":{\"fillmode\":\"overlay\",\"size\":10,\"solidity\":0.2}},\"type\":\"barpolar\"}],\"carpet\":[{\"aaxis\":{\"endlinecolor\":\"#A2B1C6\",\"gridcolor\":\"#506784\",\"linecolor\":\"#506784\",\"minorgridcolor\":\"#506784\",\"startlinecolor\":\"#A2B1C6\"},\"baxis\":{\"endlinecolor\":\"#A2B1C6\",\"gridcolor\":\"#506784\",\"linecolor\":\"#506784\",\"minorgridcolor\":\"#506784\",\"startlinecolor\":\"#A2B1C6\"},\"type\":\"carpet\"}],\"choropleth\":[{\"colorbar\":{\"outlinewidth\":0,\"ticks\":\"\"},\"type\":\"choropleth\"}],\"contour\":[{\"colorbar\":{\"outlinewidth\":0,\"ticks\":\"\"},\"colorscale\":[[0.0,\"#0d0887\"],[0.1111111111111111,\"#46039f\"],[0.2222222222222222,\"#7201a8\"],[0.3333333333333333,\"#9c179e\"],[0.4444444444444444,\"#bd3786\"],[0.5555555555555556,\"#d8576b\"],[0.6666666666666666,\"#ed7953\"],[0.7777777777777778,\"#fb9f3a\"],[0.8888888888888888,\"#fdca26\"],[1.0,\"#f0f921\"]],\"type\":\"contour\"}],\"contourcarpet\":[{\"colorbar\":{\"outlinewidth\":0,\"ticks\":\"\"},\"type\":\"contourcarpet\"}],\"heatmap\":[{\"colorbar\":{\"outlinewidth\":0,\"ticks\":\"\"},\"colorscale\":[[0.0,\"#0d0887\"],[0.1111111111111111,\"#46039f\"],[0.2222222222222222,\"#7201a8\"],[0.3333333333333333,\"#9c179e\"],[0.4444444444444444,\"#bd3786\"],[0.5555555555555556,\"#d8576b\"],[0.6666666666666666,\"#ed7953\"],[0.7777777777777778,\"#fb9f3a\"],[0.8888888888888888,\"#fdca26\"],[1.0,\"#f0f921\"]],\"type\":\"heatmap\"}],\"heatmapgl\":[{\"colorbar\":{\"outlinewidth\":0,\"ticks\":\"\"},\"colorscale\":[[0.0,\"#0d0887\"],[0.1111111111111111,\"#46039f\"],[0.2222222222222222,\"#7201a8\"],[0.3333333333333333,\"#9c179e\"],[0.4444444444444444,\"#bd3786\"],[0.5555555555555556,\"#d8576b\"],[0.6666666666666666,\"#ed7953\"],[0.7777777777777778,\"#fb9f3a\"],[0.8888888888888888,\"#fdca26\"],[1.0,\"#f0f921\"]],\"type\":\"heatmapgl\"}],\"histogram\":[{\"marker\":{\"pattern\":{\"fillmode\":\"overlay\",\"size\":10,\"solidity\":0.2}},\"type\":\"histogram\"}],\"histogram2d\":[{\"colorbar\":{\"outlinewidth\":0,\"ticks\":\"\"},\"colorscale\":[[0.0,\"#0d0887\"],[0.1111111111111111,\"#46039f\"],[0.2222222222222222,\"#7201a8\"],[0.3333333333333333,\"#9c179e\"],[0.4444444444444444,\"#bd3786\"],[0.5555555555555556,\"#d8576b\"],[0.6666666666666666,\"#ed7953\"],[0.7777777777777778,\"#fb9f3a\"],[0.8888888888888888,\"#fdca26\"],[1.0,\"#f0f921\"]],\"type\":\"histogram2d\"}],\"histogram2dcontour\":[{\"colorbar\":{\"outlinewidth\":0,\"ticks\":\"\"},\"colorscale\":[[0.0,\"#0d0887\"],[0.1111111111111111,\"#46039f\"],[0.2222222222222222,\"#7201a8\"],[0.3333333333333333,\"#9c179e\"],[0.4444444444444444,\"#bd3786\"],[0.5555555555555556,\"#d8576b\"],[0.6666666666666666,\"#ed7953\"],[0.7777777777777778,\"#fb9f3a\"],[0.8888888888888888,\"#fdca26\"],[1.0,\"#f0f921\"]],\"type\":\"histogram2dcontour\"}],\"mesh3d\":[{\"colorbar\":{\"outlinewidth\":0,\"ticks\":\"\"},\"type\":\"mesh3d\"}],\"parcoords\":[{\"line\":{\"colorbar\":{\"outlinewidth\":0,\"ticks\":\"\"}},\"type\":\"parcoords\"}],\"pie\":[{\"automargin\":true,\"type\":\"pie\"}],\"scatter\":[{\"marker\":{\"line\":{\"color\":\"#283442\"}},\"type\":\"scatter\"}],\"scatter3d\":[{\"line\":{\"colorbar\":{\"outlinewidth\":0,\"ticks\":\"\"}},\"marker\":{\"colorbar\":{\"outlinewidth\":0,\"ticks\":\"\"}},\"type\":\"scatter3d\"}],\"scattercarpet\":[{\"marker\":{\"colorbar\":{\"outlinewidth\":0,\"ticks\":\"\"}},\"type\":\"scattercarpet\"}],\"scattergeo\":[{\"marker\":{\"colorbar\":{\"outlinewidth\":0,\"ticks\":\"\"}},\"type\":\"scattergeo\"}],\"scattergl\":[{\"marker\":{\"line\":{\"color\":\"#283442\"}},\"type\":\"scattergl\"}],\"scattermapbox\":[{\"marker\":{\"colorbar\":{\"outlinewidth\":0,\"ticks\":\"\"}},\"type\":\"scattermapbox\"}],\"scatterpolar\":[{\"marker\":{\"colorbar\":{\"outlinewidth\":0,\"ticks\":\"\"}},\"type\":\"scatterpolar\"}],\"scatterpolargl\":[{\"marker\":{\"colorbar\":{\"outlinewidth\":0,\"ticks\":\"\"}},\"type\":\"scatterpolargl\"}],\"scatterternary\":[{\"marker\":{\"colorbar\":{\"outlinewidth\":0,\"ticks\":\"\"}},\"type\":\"scatterternary\"}],\"surface\":[{\"colorbar\":{\"outlinewidth\":0,\"ticks\":\"\"},\"colorscale\":[[0.0,\"#0d0887\"],[0.1111111111111111,\"#46039f\"],[0.2222222222222222,\"#7201a8\"],[0.3333333333333333,\"#9c179e\"],[0.4444444444444444,\"#bd3786\"],[0.5555555555555556,\"#d8576b\"],[0.6666666666666666,\"#ed7953\"],[0.7777777777777778,\"#fb9f3a\"],[0.8888888888888888,\"#fdca26\"],[1.0,\"#f0f921\"]],\"type\":\"surface\"}],\"table\":[{\"cells\":{\"fill\":{\"color\":\"#506784\"},\"line\":{\"color\":\"rgb(17,17,17)\"}},\"header\":{\"fill\":{\"color\":\"#2a3f5f\"},\"line\":{\"color\":\"rgb(17,17,17)\"}},\"type\":\"table\"}]},\"layout\":{\"annotationdefaults\":{\"arrowcolor\":\"#f2f5fa\",\"arrowhead\":0,\"arrowwidth\":1},\"autotypenumbers\":\"strict\",\"coloraxis\":{\"colorbar\":{\"outlinewidth\":0,\"ticks\":\"\"}},\"colorscale\":{\"diverging\":[[0,\"#8e0152\"],[0.1,\"#c51b7d\"],[0.2,\"#de77ae\"],[0.3,\"#f1b6da\"],[0.4,\"#fde0ef\"],[0.5,\"#f7f7f7\"],[0.6,\"#e6f5d0\"],[0.7,\"#b8e186\"],[0.8,\"#7fbc41\"],[0.9,\"#4d9221\"],[1,\"#276419\"]],\"sequential\":[[0.0,\"#0d0887\"],[0.1111111111111111,\"#46039f\"],[0.2222222222222222,\"#7201a8\"],[0.3333333333333333,\"#9c179e\"],[0.4444444444444444,\"#bd3786\"],[0.5555555555555556,\"#d8576b\"],[0.6666666666666666,\"#ed7953\"],[0.7777777777777778,\"#fb9f3a\"],[0.8888888888888888,\"#fdca26\"],[1.0,\"#f0f921\"]],\"sequentialminus\":[[0.0,\"#0d0887\"],[0.1111111111111111,\"#46039f\"],[0.2222222222222222,\"#7201a8\"],[0.3333333333333333,\"#9c179e\"],[0.4444444444444444,\"#bd3786\"],[0.5555555555555556,\"#d8576b\"],[0.6666666666666666,\"#ed7953\"],[0.7777777777777778,\"#fb9f3a\"],[0.8888888888888888,\"#fdca26\"],[1.0,\"#f0f921\"]]},\"colorway\":[\"#636efa\",\"#EF553B\",\"#00cc96\",\"#ab63fa\",\"#FFA15A\",\"#19d3f3\",\"#FF6692\",\"#B6E880\",\"#FF97FF\",\"#FECB52\"],\"font\":{\"color\":\"#f2f5fa\"},\"geo\":{\"bgcolor\":\"rgb(17,17,17)\",\"lakecolor\":\"rgb(17,17,17)\",\"landcolor\":\"rgb(17,17,17)\",\"showlakes\":true,\"showland\":true,\"subunitcolor\":\"#506784\"},\"hoverlabel\":{\"align\":\"left\"},\"hovermode\":\"closest\",\"mapbox\":{\"style\":\"dark\"},\"paper_bgcolor\":\"rgb(17,17,17)\",\"plot_bgcolor\":\"rgb(17,17,17)\",\"polar\":{\"angularaxis\":{\"gridcolor\":\"#506784\",\"linecolor\":\"#506784\",\"ticks\":\"\"},\"bgcolor\":\"rgb(17,17,17)\",\"radialaxis\":{\"gridcolor\":\"#506784\",\"linecolor\":\"#506784\",\"ticks\":\"\"}},\"scene\":{\"xaxis\":{\"backgroundcolor\":\"rgb(17,17,17)\",\"gridcolor\":\"#506784\",\"gridwidth\":2,\"linecolor\":\"#506784\",\"showbackground\":true,\"ticks\":\"\",\"zerolinecolor\":\"#C8D4E3\"},\"yaxis\":{\"backgroundcolor\":\"rgb(17,17,17)\",\"gridcolor\":\"#506784\",\"gridwidth\":2,\"linecolor\":\"#506784\",\"showbackground\":true,\"ticks\":\"\",\"zerolinecolor\":\"#C8D4E3\"},\"zaxis\":{\"backgroundcolor\":\"rgb(17,17,17)\",\"gridcolor\":\"#506784\",\"gridwidth\":2,\"linecolor\":\"#506784\",\"showbackground\":true,\"ticks\":\"\",\"zerolinecolor\":\"#C8D4E3\"}},\"shapedefaults\":{\"line\":{\"color\":\"#f2f5fa\"}},\"sliderdefaults\":{\"bgcolor\":\"#C8D4E3\",\"bordercolor\":\"rgb(17,17,17)\",\"borderwidth\":1,\"tickwidth\":0},\"ternary\":{\"aaxis\":{\"gridcolor\":\"#506784\",\"linecolor\":\"#506784\",\"ticks\":\"\"},\"baxis\":{\"gridcolor\":\"#506784\",\"linecolor\":\"#506784\",\"ticks\":\"\"},\"bgcolor\":\"rgb(17,17,17)\",\"caxis\":{\"gridcolor\":\"#506784\",\"linecolor\":\"#506784\",\"ticks\":\"\"}},\"title\":{\"x\":0.05},\"updatemenudefaults\":{\"bgcolor\":\"#506784\",\"borderwidth\":0},\"xaxis\":{\"automargin\":true,\"gridcolor\":\"#283442\",\"linecolor\":\"#506784\",\"ticks\":\"\",\"title\":{\"standoff\":15},\"zerolinecolor\":\"#283442\",\"zerolinewidth\":2},\"yaxis\":{\"automargin\":true,\"gridcolor\":\"#283442\",\"linecolor\":\"#506784\",\"ticks\":\"\",\"title\":{\"standoff\":15},\"zerolinecolor\":\"#283442\",\"zerolinewidth\":2}}},\"title\":{\"text\":\"<b>No Internship Experience Vs Placement</b>\"},\"xaxis\":{\"anchor\":\"y\",\"categoryarray\":[1,0],\"categoryorder\":\"array\",\"domain\":[0.0,1.0],\"title\":{\"text\":\"PlacedOrNot\"}},\"yaxis\":{\"anchor\":\"x\",\"domain\":[0.0,1.0],\"title\":{\"text\":\"count\"}}},                        {\"responsive\": true}                    ).then(function(){\n",
       "                            \n",
       "var gd = document.getElementById('35efa688-dbcd-4d6a-bcdf-daa6395cc98f');\n",
       "var x = new MutationObserver(function (mutations, observer) {{\n",
       "        var display = window.getComputedStyle(gd).display;\n",
       "        if (!display || display === 'none') {{\n",
       "            console.log([gd, 'removed!']);\n",
       "            Plotly.purge(gd);\n",
       "            observer.disconnect();\n",
       "        }}\n",
       "}});\n",
       "\n",
       "// Listen for the removal of the full notebook cells\n",
       "var notebookContainer = gd.closest('#notebook-container');\n",
       "if (notebookContainer) {{\n",
       "    x.observe(notebookContainer, {childList: true});\n",
       "}}\n",
       "\n",
       "// Listen for the clearing of the current output cell\n",
       "var outputEl = gd.closest('.output');\n",
       "if (outputEl) {{\n",
       "    x.observe(outputEl, {childList: true});\n",
       "}}\n",
       "\n",
       "                        })                };                });            </script>        </div>"
      ]
     },
     "metadata": {},
     "output_type": "display_data"
    }
   ],
   "source": [
    "fig = px.histogram(data_frame = no_internship,\n",
    "                   x = \"PlacedOrNot\",\n",
    "                   color=\"PlacedOrNot\",\n",
    "                   title = \"<b>No Internship Experience Vs Placement</b>\",\n",
    "                   template = 'plotly_dark')\n",
    "\n",
    "fig.update_layout(bargap = 0.2)\n",
    "\n",
    "fig.show()"
   ]
  },
  {
   "cell_type": "code",
   "execution_count": 28,
   "id": "2fe9868e",
   "metadata": {
    "_kg_hide-input": true,
    "execution": {
     "iopub.execute_input": "2021-11-14T17:07:03.748544Z",
     "iopub.status.busy": "2021-11-14T17:07:03.747568Z",
     "iopub.status.idle": "2021-11-14T17:07:03.808112Z",
     "shell.execute_reply": "2021-11-14T17:07:03.807328Z",
     "shell.execute_reply.started": "2021-11-14T16:47:23.044668Z"
    },
    "papermill": {
     "duration": 0.161408,
     "end_time": "2021-11-14T17:07:03.808291",
     "exception": false,
     "start_time": "2021-11-14T17:07:03.646883",
     "status": "completed"
    },
    "tags": []
   },
   "outputs": [
    {
     "data": {
      "text/html": [
       "<div>                            <div id=\"e6e59ecb-a63e-436d-abef-cdd9579c9ac7\" class=\"plotly-graph-div\" style=\"height:525px; width:100%;\"></div>            <script type=\"text/javascript\">                require([\"plotly\"], function(Plotly) {                    window.PLOTLYENV=window.PLOTLYENV || {};                                    if (document.getElementById(\"e6e59ecb-a63e-436d-abef-cdd9579c9ac7\")) {                    Plotly.newPlot(                        \"e6e59ecb-a63e-436d-abef-cdd9579c9ac7\",                        [{\"domain\":{\"x\":[0.0,1.0],\"y\":[0.0,1.0]},\"hole\":0.5,\"hovertemplate\":\"PlacedOrNot=%{label}<extra></extra>\",\"labels\":[1,1,1,0,0,1,0,1,0,0,1,1,0,1,1,1,0,1,1,1,1,1,1,1,1,1,1,1,1,1,1,1,1,1,1,1,1,1,0,0,1,0,0,1,1,0,1,0,1,0,1,0,1,0,1,1,1,0,0,1,1,0,0,0,0,1,0,1,1,0,1,0,0,0,1,1,0,0,0,0,0,0,0,1,1,1,0,1,0,0,0,0,0,1,1,0,0,0,1,1,0,1,1,0,0,0,1,0,0,1,1,1,1,1,0,0,0,1,1,1,0,0,1,0,1,1,1,1,0,1,0,1,1,1,1,0,1,1,0,1,1,0,1,0,1,1,1,1,0,1,1,1,0,1,1,0,1,1,0,1,0,0,0,0,0,1,0,0,0,1,0,0,0,0,0,1,1,0,0,0,0,0,0,0,0,0,0,0,0,1,1,0,1,0,1,0,0,1,0,0,0,0,1,0,1,1,1,1,0,1,0,1,1,1,0,1,1,1,0,0,1,1,1,1,1,1,0,0,0,1,1,1,1,0,1,0,1,0,1,0,1,1,0,0,1,0,1,0,0,1,0,1,0,1,0,0,1,1,0,0,1,0,0,1,0,0,0,0,0,1,0,1,1,1,1,1,0,0,0,0,0,0,0,0,0,1,0,0,1,0,0,0,1,0,1,1,1,0,1,1,1,1,1,1,0,1,1,1,1,1,1,1,1,0,1,0,0,1,0,1,1,1,1,1,1,0,1,0,1,0,1,0,0,1,0,1,1,0,1,1,1,1,0,0,1,0,1,0,1,0,0,1,0,1,1,1,0,0,1,1,1,1,0,1,0,1,0,1,0,1,1,1,0,1,0,1,1,1,1,1,1,0,0,0,1,1,1,1,0,0,1,1,0,0,1,0,0,1,0,1,0,1,1,1,0,0,1,0,1,1,1,1,1,1,1,0,0,1,1,1,0,1,0,1,1,1,1,0,1,0,0,1,1,0,0,0,0,1,1,1,1,1,0,1,1,1,1,0,0,1,1,1,1,1,1,1,1,1,1,1,1,1,1,1,1,0,1,1,0,1,0,1,1,1,1,0,1,1,1,1,1,1,0,0,0,1,1,1,0,1,1,1,1,0,1,1,1,0,1,1,0,1,1,1,0,1,1,1,1,0,0,0,1,1,0,1,0,1,0,1,1,1,1,1,1,0,1,0,1,0,0,0,1,1,0,1,0,1,1,1,1,1,1,0,0,0,0,0,0,0,0,0,1,0,0,1,1,0,0,1,0,1,0,1,0,1,0,0,0,0,0,1,1,0,0,1,0,0,0,0,0,0,0,0,0,1,1,1,0,0,0,0,1,0,0,0,1,0,0,0,0,0,0,0,1,1,0,1,0,1,0,1,0,0,1,0,1,0,0,1,1,0,1,0,1,1,0,1,0,1,0,1,1,1,1,0,1,1,1,1,0,1,0,1,1,1,0,0,0,0,0,1,1,0,0,0,1,0,0,1,1,0,1,0,0,1,1,0,1,1,1,1,1,1,0,0,1,1,1,1,1,1,0,1,1,1,0,1,0,1,0,0,0,0,0,1,1,1,0,1,1,0,1,0,1,0,0,1,0,0,0,0,0,0,0,0,0,0,1,0,0,0,0,0,1,1,0,0,0,0,0,0,1,0,0,0,0,1,0,0,0,1,0,0,0,0,0,0,0,0,0,1,0,0,1,1,1,1,0,1,1,0,0,1,1,1,0,1,0,1,1,0,0,0,1,0,1,0,0,1,0,1,0,0,0,0,1,0,0,1,0,0,0,0,0,0,0,0,0,0,1,0,1,0,0,1,0,1,1,0,0,0,1,1,1,0,1,1,1,0,1,1,0,1,1,1,1,0,0,1,1,0,0,1,1,0,0,1,0,1,1,0,0,1,1,1,0,1,1,0,0,1,1,1,1,1,1,1,0,1,1,0,1,1,0,0,1,0,0,0,1,1,0,0,0,0,0,0,0,0,0,1,0,0,1,1,1,0,0,0,0,1,1,1,1,0,0,0,1,1,0,0,1,0,0,0,0,1,0,0,0,1,1,0,0,1,1,0,1,0,1,0,1,1,0,1,1,1,1,1,0,1,1,0,0,0,1,1,0,0,0,0,1,0,0,1,0,0,0,1,0,0,0,1,0,1,0,1,0,0,0,1,1,0,0,1,1,1,0,0,1,1,0,1,1,1,0,1,0,0,0,1,0,1,0,1,1,0,0,1,0,0,0,0,0,0,0,1,1,1,0,0,0,0,0,1,1,0,0,0,0,0,1,0,1,1,0,0,0,0,0,0,1,1,1,1,0,1,0,0,1,0,1,0,1,0,1,1,0,0,0,0,1,0,0,0,1,0,0,0,0,1,0,0,1,0,0,0,0,0,1,0,0,1,0,0,1,1,0,1,1,1,0,1,0,0,1,0,1,0,0,0,1,0,0,0,0,0,0,0,1,1,0,0,0,0,0,0,0,0,1,1,1,0,1,0,1,0,0,0,1,1,1,0,0,0,0,1,0,0,0,1,0,0,0,0,0,0,1,0,1,0,1,0,0,0,0,1,0,0,0,0,0,1,0,0,1,0,0,0,0,0,1,1,1,0,1,0,1,0,0,1,1,1,1,0,1,0,1,0,1,1,1,1,1,1,1,1,1,1,1,0,1,1,1,1,1,1,1,1,1,1,1,1,1,1,0,1,0,1,1,0,1,0,1,1,0,0,1,1,1,0,1,1,1,1,0,0,1,0,0,1,1,0,1,1,1,1,0,0,0,1,0,1,0,0,0,0,0,0,0,1,1,1,1,1,0,0,0,0,0,0,0,0,0,0,0,0,0,0,0,0,0,0,1,0,0,1,0,0,0,0,0,1,0,0,1,0,1,1,0,1,1,1,1,0,0,1,0,0,1,1,0,0,1,0,1,1,1,0,0,1,1,1,1,0,1,0,1,0,0,0,1,0,0,0,1,0,0,0,1,0,1,1,0,0,1,0,0,0,1],\"legendgroup\":\"\",\"marker\":{\"line\":{\"color\":\"#000000\",\"width\":1.5}},\"name\":\"\",\"showlegend\":true,\"textinfo\":\"percent+label\",\"textposition\":\"inside\",\"type\":\"pie\"}],                        {\"legend\":{\"tracegroupgap\":0},\"margin\":{\"t\":60},\"template\":{\"data\":{\"bar\":[{\"error_x\":{\"color\":\"#2a3f5f\"},\"error_y\":{\"color\":\"#2a3f5f\"},\"marker\":{\"line\":{\"color\":\"#E5ECF6\",\"width\":0.5},\"pattern\":{\"fillmode\":\"overlay\",\"size\":10,\"solidity\":0.2}},\"type\":\"bar\"}],\"barpolar\":[{\"marker\":{\"line\":{\"color\":\"#E5ECF6\",\"width\":0.5},\"pattern\":{\"fillmode\":\"overlay\",\"size\":10,\"solidity\":0.2}},\"type\":\"barpolar\"}],\"carpet\":[{\"aaxis\":{\"endlinecolor\":\"#2a3f5f\",\"gridcolor\":\"white\",\"linecolor\":\"white\",\"minorgridcolor\":\"white\",\"startlinecolor\":\"#2a3f5f\"},\"baxis\":{\"endlinecolor\":\"#2a3f5f\",\"gridcolor\":\"white\",\"linecolor\":\"white\",\"minorgridcolor\":\"white\",\"startlinecolor\":\"#2a3f5f\"},\"type\":\"carpet\"}],\"choropleth\":[{\"colorbar\":{\"outlinewidth\":0,\"ticks\":\"\"},\"type\":\"choropleth\"}],\"contour\":[{\"colorbar\":{\"outlinewidth\":0,\"ticks\":\"\"},\"colorscale\":[[0.0,\"#0d0887\"],[0.1111111111111111,\"#46039f\"],[0.2222222222222222,\"#7201a8\"],[0.3333333333333333,\"#9c179e\"],[0.4444444444444444,\"#bd3786\"],[0.5555555555555556,\"#d8576b\"],[0.6666666666666666,\"#ed7953\"],[0.7777777777777778,\"#fb9f3a\"],[0.8888888888888888,\"#fdca26\"],[1.0,\"#f0f921\"]],\"type\":\"contour\"}],\"contourcarpet\":[{\"colorbar\":{\"outlinewidth\":0,\"ticks\":\"\"},\"type\":\"contourcarpet\"}],\"heatmap\":[{\"colorbar\":{\"outlinewidth\":0,\"ticks\":\"\"},\"colorscale\":[[0.0,\"#0d0887\"],[0.1111111111111111,\"#46039f\"],[0.2222222222222222,\"#7201a8\"],[0.3333333333333333,\"#9c179e\"],[0.4444444444444444,\"#bd3786\"],[0.5555555555555556,\"#d8576b\"],[0.6666666666666666,\"#ed7953\"],[0.7777777777777778,\"#fb9f3a\"],[0.8888888888888888,\"#fdca26\"],[1.0,\"#f0f921\"]],\"type\":\"heatmap\"}],\"heatmapgl\":[{\"colorbar\":{\"outlinewidth\":0,\"ticks\":\"\"},\"colorscale\":[[0.0,\"#0d0887\"],[0.1111111111111111,\"#46039f\"],[0.2222222222222222,\"#7201a8\"],[0.3333333333333333,\"#9c179e\"],[0.4444444444444444,\"#bd3786\"],[0.5555555555555556,\"#d8576b\"],[0.6666666666666666,\"#ed7953\"],[0.7777777777777778,\"#fb9f3a\"],[0.8888888888888888,\"#fdca26\"],[1.0,\"#f0f921\"]],\"type\":\"heatmapgl\"}],\"histogram\":[{\"marker\":{\"pattern\":{\"fillmode\":\"overlay\",\"size\":10,\"solidity\":0.2}},\"type\":\"histogram\"}],\"histogram2d\":[{\"colorbar\":{\"outlinewidth\":0,\"ticks\":\"\"},\"colorscale\":[[0.0,\"#0d0887\"],[0.1111111111111111,\"#46039f\"],[0.2222222222222222,\"#7201a8\"],[0.3333333333333333,\"#9c179e\"],[0.4444444444444444,\"#bd3786\"],[0.5555555555555556,\"#d8576b\"],[0.6666666666666666,\"#ed7953\"],[0.7777777777777778,\"#fb9f3a\"],[0.8888888888888888,\"#fdca26\"],[1.0,\"#f0f921\"]],\"type\":\"histogram2d\"}],\"histogram2dcontour\":[{\"colorbar\":{\"outlinewidth\":0,\"ticks\":\"\"},\"colorscale\":[[0.0,\"#0d0887\"],[0.1111111111111111,\"#46039f\"],[0.2222222222222222,\"#7201a8\"],[0.3333333333333333,\"#9c179e\"],[0.4444444444444444,\"#bd3786\"],[0.5555555555555556,\"#d8576b\"],[0.6666666666666666,\"#ed7953\"],[0.7777777777777778,\"#fb9f3a\"],[0.8888888888888888,\"#fdca26\"],[1.0,\"#f0f921\"]],\"type\":\"histogram2dcontour\"}],\"mesh3d\":[{\"colorbar\":{\"outlinewidth\":0,\"ticks\":\"\"},\"type\":\"mesh3d\"}],\"parcoords\":[{\"line\":{\"colorbar\":{\"outlinewidth\":0,\"ticks\":\"\"}},\"type\":\"parcoords\"}],\"pie\":[{\"automargin\":true,\"type\":\"pie\"}],\"scatter\":[{\"marker\":{\"colorbar\":{\"outlinewidth\":0,\"ticks\":\"\"}},\"type\":\"scatter\"}],\"scatter3d\":[{\"line\":{\"colorbar\":{\"outlinewidth\":0,\"ticks\":\"\"}},\"marker\":{\"colorbar\":{\"outlinewidth\":0,\"ticks\":\"\"}},\"type\":\"scatter3d\"}],\"scattercarpet\":[{\"marker\":{\"colorbar\":{\"outlinewidth\":0,\"ticks\":\"\"}},\"type\":\"scattercarpet\"}],\"scattergeo\":[{\"marker\":{\"colorbar\":{\"outlinewidth\":0,\"ticks\":\"\"}},\"type\":\"scattergeo\"}],\"scattergl\":[{\"marker\":{\"colorbar\":{\"outlinewidth\":0,\"ticks\":\"\"}},\"type\":\"scattergl\"}],\"scattermapbox\":[{\"marker\":{\"colorbar\":{\"outlinewidth\":0,\"ticks\":\"\"}},\"type\":\"scattermapbox\"}],\"scatterpolar\":[{\"marker\":{\"colorbar\":{\"outlinewidth\":0,\"ticks\":\"\"}},\"type\":\"scatterpolar\"}],\"scatterpolargl\":[{\"marker\":{\"colorbar\":{\"outlinewidth\":0,\"ticks\":\"\"}},\"type\":\"scatterpolargl\"}],\"scatterternary\":[{\"marker\":{\"colorbar\":{\"outlinewidth\":0,\"ticks\":\"\"}},\"type\":\"scatterternary\"}],\"surface\":[{\"colorbar\":{\"outlinewidth\":0,\"ticks\":\"\"},\"colorscale\":[[0.0,\"#0d0887\"],[0.1111111111111111,\"#46039f\"],[0.2222222222222222,\"#7201a8\"],[0.3333333333333333,\"#9c179e\"],[0.4444444444444444,\"#bd3786\"],[0.5555555555555556,\"#d8576b\"],[0.6666666666666666,\"#ed7953\"],[0.7777777777777778,\"#fb9f3a\"],[0.8888888888888888,\"#fdca26\"],[1.0,\"#f0f921\"]],\"type\":\"surface\"}],\"table\":[{\"cells\":{\"fill\":{\"color\":\"#EBF0F8\"},\"line\":{\"color\":\"white\"}},\"header\":{\"fill\":{\"color\":\"#C8D4E3\"},\"line\":{\"color\":\"white\"}},\"type\":\"table\"}]},\"layout\":{\"annotationdefaults\":{\"arrowcolor\":\"#2a3f5f\",\"arrowhead\":0,\"arrowwidth\":1},\"autotypenumbers\":\"strict\",\"coloraxis\":{\"colorbar\":{\"outlinewidth\":0,\"ticks\":\"\"}},\"colorscale\":{\"diverging\":[[0,\"#8e0152\"],[0.1,\"#c51b7d\"],[0.2,\"#de77ae\"],[0.3,\"#f1b6da\"],[0.4,\"#fde0ef\"],[0.5,\"#f7f7f7\"],[0.6,\"#e6f5d0\"],[0.7,\"#b8e186\"],[0.8,\"#7fbc41\"],[0.9,\"#4d9221\"],[1,\"#276419\"]],\"sequential\":[[0.0,\"#0d0887\"],[0.1111111111111111,\"#46039f\"],[0.2222222222222222,\"#7201a8\"],[0.3333333333333333,\"#9c179e\"],[0.4444444444444444,\"#bd3786\"],[0.5555555555555556,\"#d8576b\"],[0.6666666666666666,\"#ed7953\"],[0.7777777777777778,\"#fb9f3a\"],[0.8888888888888888,\"#fdca26\"],[1.0,\"#f0f921\"]],\"sequentialminus\":[[0.0,\"#0d0887\"],[0.1111111111111111,\"#46039f\"],[0.2222222222222222,\"#7201a8\"],[0.3333333333333333,\"#9c179e\"],[0.4444444444444444,\"#bd3786\"],[0.5555555555555556,\"#d8576b\"],[0.6666666666666666,\"#ed7953\"],[0.7777777777777778,\"#fb9f3a\"],[0.8888888888888888,\"#fdca26\"],[1.0,\"#f0f921\"]]},\"colorway\":[\"#636efa\",\"#EF553B\",\"#00cc96\",\"#ab63fa\",\"#FFA15A\",\"#19d3f3\",\"#FF6692\",\"#B6E880\",\"#FF97FF\",\"#FECB52\"],\"font\":{\"color\":\"#2a3f5f\"},\"geo\":{\"bgcolor\":\"white\",\"lakecolor\":\"white\",\"landcolor\":\"#E5ECF6\",\"showlakes\":true,\"showland\":true,\"subunitcolor\":\"white\"},\"hoverlabel\":{\"align\":\"left\"},\"hovermode\":\"closest\",\"mapbox\":{\"style\":\"light\"},\"paper_bgcolor\":\"white\",\"plot_bgcolor\":\"#E5ECF6\",\"polar\":{\"angularaxis\":{\"gridcolor\":\"white\",\"linecolor\":\"white\",\"ticks\":\"\"},\"bgcolor\":\"#E5ECF6\",\"radialaxis\":{\"gridcolor\":\"white\",\"linecolor\":\"white\",\"ticks\":\"\"}},\"scene\":{\"xaxis\":{\"backgroundcolor\":\"#E5ECF6\",\"gridcolor\":\"white\",\"gridwidth\":2,\"linecolor\":\"white\",\"showbackground\":true,\"ticks\":\"\",\"zerolinecolor\":\"white\"},\"yaxis\":{\"backgroundcolor\":\"#E5ECF6\",\"gridcolor\":\"white\",\"gridwidth\":2,\"linecolor\":\"white\",\"showbackground\":true,\"ticks\":\"\",\"zerolinecolor\":\"white\"},\"zaxis\":{\"backgroundcolor\":\"#E5ECF6\",\"gridcolor\":\"white\",\"gridwidth\":2,\"linecolor\":\"white\",\"showbackground\":true,\"ticks\":\"\",\"zerolinecolor\":\"white\"}},\"shapedefaults\":{\"line\":{\"color\":\"#2a3f5f\"}},\"ternary\":{\"aaxis\":{\"gridcolor\":\"white\",\"linecolor\":\"white\",\"ticks\":\"\"},\"baxis\":{\"gridcolor\":\"white\",\"linecolor\":\"white\",\"ticks\":\"\"},\"bgcolor\":\"#E5ECF6\",\"caxis\":{\"gridcolor\":\"white\",\"linecolor\":\"white\",\"ticks\":\"\"}},\"title\":{\"x\":0.05},\"xaxis\":{\"automargin\":true,\"gridcolor\":\"white\",\"linecolor\":\"white\",\"ticks\":\"\",\"title\":{\"standoff\":15},\"zerolinecolor\":\"white\",\"zerolinewidth\":2},\"yaxis\":{\"automargin\":true,\"gridcolor\":\"white\",\"linecolor\":\"white\",\"ticks\":\"\",\"title\":{\"standoff\":15},\"zerolinecolor\":\"white\",\"zerolinewidth\":2}}}},                        {\"responsive\": true}                    ).then(function(){\n",
       "                            \n",
       "var gd = document.getElementById('e6e59ecb-a63e-436d-abef-cdd9579c9ac7');\n",
       "var x = new MutationObserver(function (mutations, observer) {{\n",
       "        var display = window.getComputedStyle(gd).display;\n",
       "        if (!display || display === 'none') {{\n",
       "            console.log([gd, 'removed!']);\n",
       "            Plotly.purge(gd);\n",
       "            observer.disconnect();\n",
       "        }}\n",
       "}});\n",
       "\n",
       "// Listen for the removal of the full notebook cells\n",
       "var notebookContainer = gd.closest('#notebook-container');\n",
       "if (notebookContainer) {{\n",
       "    x.observe(notebookContainer, {childList: true});\n",
       "}}\n",
       "\n",
       "// Listen for the clearing of the current output cell\n",
       "var outputEl = gd.closest('.output');\n",
       "if (outputEl) {{\n",
       "    x.observe(outputEl, {childList: true});\n",
       "}}\n",
       "\n",
       "                        })                };                });            </script>        </div>"
      ]
     },
     "metadata": {},
     "output_type": "display_data"
    }
   ],
   "source": [
    "fig = px.pie(no_internship, names = \"PlacedOrNot\",\n",
    "             hole = 0.5)\n",
    "\n",
    "fig.update_traces(textposition='inside',\n",
    "                  textinfo='percent+label',\n",
    "                  marker=dict(line=dict(color='#000000', width = 1.5)))\n",
    "\n",
    "\n",
    "fig.show()"
   ]
  },
  {
   "cell_type": "markdown",
   "id": "92d91509",
   "metadata": {
    "papermill": {
     "duration": 0.083055,
     "end_time": "2021-11-14T17:07:03.978901",
     "exception": false,
     "start_time": "2021-11-14T17:07:03.895846",
     "status": "completed"
    },
    "tags": []
   },
   "source": [
    "**So from above graph, if person don't have any Internship Experience, it will not much effect on his/her placement. Majority of the student who don't have any Internship Experience has passed the placement exam**"
   ]
  },
  {
   "cell_type": "markdown",
   "id": "e1d2d99b",
   "metadata": {
    "papermill": {
     "duration": 0.08253,
     "end_time": "2021-11-14T17:07:04.145468",
     "exception": false,
     "start_time": "2021-11-14T17:07:04.062938",
     "status": "completed"
    },
    "tags": []
   },
   "source": [
    "<a id=\"5.8\"></a>\n",
    "# <p style=\"background-color:#73d1ff;font-family:newtimeroman;color:#000000;font-size:120%;text-align:center;border-radius:20px 80px;\">✔️ Top words in Stream</p>\n",
    "\n",
    "\n"
   ]
  },
  {
   "cell_type": "code",
   "execution_count": 29,
   "id": "1db91d96",
   "metadata": {
    "_kg_hide-input": true,
    "execution": {
     "iopub.execute_input": "2021-11-14T17:07:04.313762Z",
     "iopub.status.busy": "2021-11-14T17:07:04.313126Z",
     "iopub.status.idle": "2021-11-14T17:07:04.319799Z",
     "shell.execute_reply": "2021-11-14T17:07:04.319324Z",
     "shell.execute_reply.started": "2021-11-14T16:47:38.850769Z"
    },
    "papermill": {
     "duration": 0.091459,
     "end_time": "2021-11-14T17:07:04.319949",
     "exception": false,
     "start_time": "2021-11-14T17:07:04.228490",
     "status": "completed"
    },
    "tags": []
   },
   "outputs": [],
   "source": [
    "def plot_word_cloud(df, col_name):    \n",
    "    text = ' '.join(df[col_name].str.lower())\n",
    "\n",
    "    wordcloud = WordCloud(width = 2000, height = 900,\n",
    "                          background_color ='black',\n",
    "                          collocations=False,\n",
    "                          max_words=500,\n",
    "                          min_font_size = 15).generate(text)\n",
    "\n",
    "    plt.figure(figsize=(12, 8), facecolor = 'k', edgecolor = 'k' )\n",
    "    plt.imshow(wordcloud)\n",
    "    plt.axis(\"off\")\n",
    "    plt.tight_layout(pad = 0) \n",
    "    plt.show()"
   ]
  },
  {
   "cell_type": "code",
   "execution_count": 30,
   "id": "84f58433",
   "metadata": {
    "execution": {
     "iopub.execute_input": "2021-11-14T17:07:04.486935Z",
     "iopub.status.busy": "2021-11-14T17:07:04.486328Z",
     "iopub.status.idle": "2021-11-14T17:07:05.603232Z",
     "shell.execute_reply": "2021-11-14T17:07:05.603777Z",
     "shell.execute_reply.started": "2021-11-14T16:47:41.524455Z"
    },
    "papermill": {
     "duration": 1.202115,
     "end_time": "2021-11-14T17:07:05.603961",
     "exception": false,
     "start_time": "2021-11-14T17:07:04.401846",
     "status": "completed"
    },
    "tags": []
   },
   "outputs": [
    {
     "data": {
      "image/png": "[encoded data removed]",
      "text/plain": [
       "<Figure size 864x576 with 1 Axes>"
      ]
     },
     "metadata": {},
     "output_type": "display_data"
    }
   ],
   "source": [
    "plot_word_cloud(data, \"Stream\")"
   ]
  },
  {
   "cell_type": "markdown",
   "id": "0f427d6e",
   "metadata": {
    "papermill": {
     "duration": 0.085739,
     "end_time": "2021-11-14T17:07:05.775792",
     "exception": false,
     "start_time": "2021-11-14T17:07:05.690053",
     "status": "completed"
    },
    "tags": []
   },
   "source": [
    "<a id=\"6\"></a>\n",
    "# <p style=\"background-color:#47b7ed;font-family:newtimeroman;color:#000000;font-size:120%;text-align:center;border-radius:20px 80px;\">⚙️ Preprocessing data for Machine Learning</p>\n",
    "\n",
    "\n"
   ]
  },
  {
   "cell_type": "markdown",
   "id": "ba1b547f",
   "metadata": {
    "papermill": {
     "duration": 0.085924,
     "end_time": "2021-11-14T17:07:05.948505",
     "exception": false,
     "start_time": "2021-11-14T17:07:05.862581",
     "status": "completed"
    },
    "tags": []
   },
   "source": [
    "<a id=\"6.1\"></a>\n",
    "# <p style=\"background-color:#73d1ff;font-family:newtimeroman;color:#000000;font-size:120%;text-align:center;border-radius:20px 80px;\">✔️ One-Hot Encoding</p>\n",
    "\n",
    "\n"
   ]
  },
  {
   "cell_type": "code",
   "execution_count": 31,
   "id": "8334b7e5",
   "metadata": {
    "execution": {
     "iopub.execute_input": "2021-11-14T17:07:06.125664Z",
     "iopub.status.busy": "2021-11-14T17:07:06.125051Z",
     "iopub.status.idle": "2021-11-14T17:07:06.132447Z",
     "shell.execute_reply": "2021-11-14T17:07:06.133004Z",
     "shell.execute_reply.started": "2021-11-14T16:47:49.324207Z"
    },
    "papermill": {
     "duration": 0.097345,
     "end_time": "2021-11-14T17:07:06.133177",
     "exception": false,
     "start_time": "2021-11-14T17:07:06.035832",
     "status": "completed"
    },
    "tags": []
   },
   "outputs": [],
   "source": [
    "dummy_gender = pd.get_dummies(data['Gender'])\n",
    "dummy_stream = pd.get_dummies(data['Stream'])"
   ]
  },
  {
   "cell_type": "code",
   "execution_count": 32,
   "id": "ed6282dc",
   "metadata": {
    "execution": {
     "iopub.execute_input": "2021-11-14T17:07:06.307473Z",
     "iopub.status.busy": "2021-11-14T17:07:06.306906Z",
     "iopub.status.idle": "2021-11-14T17:07:06.326685Z",
     "shell.execute_reply": "2021-11-14T17:07:06.327287Z",
     "shell.execute_reply.started": "2021-11-14T16:47:49.830696Z"
    },
    "papermill": {
     "duration": 0.108356,
     "end_time": "2021-11-14T17:07:06.327443",
     "exception": false,
     "start_time": "2021-11-14T17:07:06.219087",
     "status": "completed"
    },
    "tags": []
   },
   "outputs": [
    {
     "data": {
      "text/html": [
       "<div>\n",
       "<style scoped>\n",
       "    .dataframe tbody tr th:only-of-type {\n",
       "        vertical-align: middle;\n",
       "    }\n",
       "\n",
       "    .dataframe tbody tr th {\n",
       "        vertical-align: top;\n",
       "    }\n",
       "\n",
       "    .dataframe thead th {\n",
       "        text-align: right;\n",
       "    }\n",
       "</style>\n",
       "<table border=\"1\" class=\"dataframe\">\n",
       "  <thead>\n",
       "    <tr style=\"text-align: right;\">\n",
       "      <th></th>\n",
       "      <th>Age</th>\n",
       "      <th>Internships</th>\n",
       "      <th>CGPA</th>\n",
       "      <th>Hostel</th>\n",
       "      <th>HistoryOfBacklogs</th>\n",
       "      <th>PlacedOrNot</th>\n",
       "      <th>Female</th>\n",
       "      <th>Male</th>\n",
       "      <th>Civil</th>\n",
       "      <th>Computer Science</th>\n",
       "      <th>Electrical</th>\n",
       "      <th>Electronics And Communication</th>\n",
       "      <th>Information Technology</th>\n",
       "      <th>Mechanical</th>\n",
       "    </tr>\n",
       "  </thead>\n",
       "  <tbody>\n",
       "    <tr>\n",
       "      <th>0</th>\n",
       "      <td>22</td>\n",
       "      <td>1</td>\n",
       "      <td>8</td>\n",
       "      <td>1</td>\n",
       "      <td>1</td>\n",
       "      <td>1</td>\n",
       "      <td>0</td>\n",
       "      <td>1</td>\n",
       "      <td>0</td>\n",
       "      <td>0</td>\n",
       "      <td>0</td>\n",
       "      <td>1</td>\n",
       "      <td>0</td>\n",
       "      <td>0</td>\n",
       "    </tr>\n",
       "    <tr>\n",
       "      <th>1</th>\n",
       "      <td>21</td>\n",
       "      <td>0</td>\n",
       "      <td>7</td>\n",
       "      <td>1</td>\n",
       "      <td>1</td>\n",
       "      <td>1</td>\n",
       "      <td>1</td>\n",
       "      <td>0</td>\n",
       "      <td>0</td>\n",
       "      <td>1</td>\n",
       "      <td>0</td>\n",
       "      <td>0</td>\n",
       "      <td>0</td>\n",
       "      <td>0</td>\n",
       "    </tr>\n",
       "    <tr>\n",
       "      <th>2</th>\n",
       "      <td>22</td>\n",
       "      <td>1</td>\n",
       "      <td>6</td>\n",
       "      <td>0</td>\n",
       "      <td>0</td>\n",
       "      <td>1</td>\n",
       "      <td>1</td>\n",
       "      <td>0</td>\n",
       "      <td>0</td>\n",
       "      <td>0</td>\n",
       "      <td>0</td>\n",
       "      <td>0</td>\n",
       "      <td>1</td>\n",
       "      <td>0</td>\n",
       "    </tr>\n",
       "    <tr>\n",
       "      <th>3</th>\n",
       "      <td>21</td>\n",
       "      <td>0</td>\n",
       "      <td>8</td>\n",
       "      <td>0</td>\n",
       "      <td>1</td>\n",
       "      <td>1</td>\n",
       "      <td>0</td>\n",
       "      <td>1</td>\n",
       "      <td>0</td>\n",
       "      <td>0</td>\n",
       "      <td>0</td>\n",
       "      <td>0</td>\n",
       "      <td>1</td>\n",
       "      <td>0</td>\n",
       "    </tr>\n",
       "    <tr>\n",
       "      <th>4</th>\n",
       "      <td>22</td>\n",
       "      <td>0</td>\n",
       "      <td>8</td>\n",
       "      <td>1</td>\n",
       "      <td>0</td>\n",
       "      <td>1</td>\n",
       "      <td>0</td>\n",
       "      <td>1</td>\n",
       "      <td>0</td>\n",
       "      <td>0</td>\n",
       "      <td>0</td>\n",
       "      <td>0</td>\n",
       "      <td>0</td>\n",
       "      <td>1</td>\n",
       "    </tr>\n",
       "    <tr>\n",
       "      <th>...</th>\n",
       "      <td>...</td>\n",
       "      <td>...</td>\n",
       "      <td>...</td>\n",
       "      <td>...</td>\n",
       "      <td>...</td>\n",
       "      <td>...</td>\n",
       "      <td>...</td>\n",
       "      <td>...</td>\n",
       "      <td>...</td>\n",
       "      <td>...</td>\n",
       "      <td>...</td>\n",
       "      <td>...</td>\n",
       "      <td>...</td>\n",
       "      <td>...</td>\n",
       "    </tr>\n",
       "    <tr>\n",
       "      <th>2961</th>\n",
       "      <td>23</td>\n",
       "      <td>0</td>\n",
       "      <td>7</td>\n",
       "      <td>0</td>\n",
       "      <td>0</td>\n",
       "      <td>0</td>\n",
       "      <td>0</td>\n",
       "      <td>1</td>\n",
       "      <td>0</td>\n",
       "      <td>0</td>\n",
       "      <td>0</td>\n",
       "      <td>0</td>\n",
       "      <td>1</td>\n",
       "      <td>0</td>\n",
       "    </tr>\n",
       "    <tr>\n",
       "      <th>2962</th>\n",
       "      <td>23</td>\n",
       "      <td>1</td>\n",
       "      <td>7</td>\n",
       "      <td>1</td>\n",
       "      <td>0</td>\n",
       "      <td>0</td>\n",
       "      <td>0</td>\n",
       "      <td>1</td>\n",
       "      <td>0</td>\n",
       "      <td>0</td>\n",
       "      <td>0</td>\n",
       "      <td>0</td>\n",
       "      <td>0</td>\n",
       "      <td>1</td>\n",
       "    </tr>\n",
       "    <tr>\n",
       "      <th>2963</th>\n",
       "      <td>22</td>\n",
       "      <td>1</td>\n",
       "      <td>7</td>\n",
       "      <td>0</td>\n",
       "      <td>0</td>\n",
       "      <td>0</td>\n",
       "      <td>0</td>\n",
       "      <td>1</td>\n",
       "      <td>0</td>\n",
       "      <td>0</td>\n",
       "      <td>0</td>\n",
       "      <td>0</td>\n",
       "      <td>1</td>\n",
       "      <td>0</td>\n",
       "    </tr>\n",
       "    <tr>\n",
       "      <th>2964</th>\n",
       "      <td>22</td>\n",
       "      <td>1</td>\n",
       "      <td>7</td>\n",
       "      <td>0</td>\n",
       "      <td>0</td>\n",
       "      <td>0</td>\n",
       "      <td>0</td>\n",
       "      <td>1</td>\n",
       "      <td>0</td>\n",
       "      <td>1</td>\n",
       "      <td>0</td>\n",
       "      <td>0</td>\n",
       "      <td>0</td>\n",
       "      <td>0</td>\n",
       "    </tr>\n",
       "    <tr>\n",
       "      <th>2965</th>\n",
       "      <td>23</td>\n",
       "      <td>0</td>\n",
       "      <td>8</td>\n",
       "      <td>0</td>\n",
       "      <td>0</td>\n",
       "      <td>1</td>\n",
       "      <td>0</td>\n",
       "      <td>1</td>\n",
       "      <td>1</td>\n",
       "      <td>0</td>\n",
       "      <td>0</td>\n",
       "      <td>0</td>\n",
       "      <td>0</td>\n",
       "      <td>0</td>\n",
       "    </tr>\n",
       "  </tbody>\n",
       "</table>\n",
       "<p>2966 rows × 14 columns</p>\n",
       "</div>"
      ],
      "text/plain": [
       "      Age  Internships  CGPA  Hostel  HistoryOfBacklogs  PlacedOrNot  Female  \\\n",
       "0      22            1     8       1                  1            1       0   \n",
       "1      21            0     7       1                  1            1       1   \n",
       "2      22            1     6       0                  0            1       1   \n",
       "3      21            0     8       0                  1            1       0   \n",
       "4      22            0     8       1                  0            1       0   \n",
       "...   ...          ...   ...     ...                ...          ...     ...   \n",
       "2961   23            0     7       0                  0            0       0   \n",
       "2962   23            1     7       1                  0            0       0   \n",
       "2963   22            1     7       0                  0            0       0   \n",
       "2964   22            1     7       0                  0            0       0   \n",
       "2965   23            0     8       0                  0            1       0   \n",
       "\n",
       "      Male  Civil  Computer Science  Electrical  \\\n",
       "0        1      0                 0           0   \n",
       "1        0      0                 1           0   \n",
       "2        0      0                 0           0   \n",
       "3        1      0                 0           0   \n",
       "4        1      0                 0           0   \n",
       "...    ...    ...               ...         ...   \n",
       "2961     1      0                 0           0   \n",
       "2962     1      0                 0           0   \n",
       "2963     1      0                 0           0   \n",
       "2964     1      0                 1           0   \n",
       "2965     1      1                 0           0   \n",
       "\n",
       "      Electronics And Communication  Information Technology  Mechanical  \n",
       "0                                 1                       0           0  \n",
       "1                                 0                       0           0  \n",
       "2                                 0                       1           0  \n",
       "3                                 0                       1           0  \n",
       "4                                 0                       0           1  \n",
       "...                             ...                     ...         ...  \n",
       "2961                              0                       1           0  \n",
       "2962                              0                       0           1  \n",
       "2963                              0                       1           0  \n",
       "2964                              0                       0           0  \n",
       "2965                              0                       0           0  \n",
       "\n",
       "[2966 rows x 14 columns]"
      ]
     },
     "execution_count": 32,
     "metadata": {},
     "output_type": "execute_result"
    }
   ],
   "source": [
    "data = pd.concat([data.drop([\"Gender\", \"Stream\"], axis = 1), dummy_gender, dummy_stream], axis = 1)\n",
    "\n",
    "data"
   ]
  },
  {
   "cell_type": "markdown",
   "id": "2bb61a2b",
   "metadata": {
    "papermill": {
     "duration": 0.085991,
     "end_time": "2021-11-14T17:07:06.499287",
     "exception": false,
     "start_time": "2021-11-14T17:07:06.413296",
     "status": "completed"
    },
    "tags": []
   },
   "source": [
    "## **Rearrange columns**"
   ]
  },
  {
   "cell_type": "code",
   "execution_count": 33,
   "id": "1fe6f188",
   "metadata": {
    "execution": {
     "iopub.execute_input": "2021-11-14T17:07:06.674595Z",
     "iopub.status.busy": "2021-11-14T17:07:06.673865Z",
     "iopub.status.idle": "2021-11-14T17:07:06.695761Z",
     "shell.execute_reply": "2021-11-14T17:07:06.696286Z",
     "shell.execute_reply.started": "2021-11-14T16:47:50.950469Z"
    },
    "papermill": {
     "duration": 0.111413,
     "end_time": "2021-11-14T17:07:06.696460",
     "exception": false,
     "start_time": "2021-11-14T17:07:06.585047",
     "status": "completed"
    },
    "tags": []
   },
   "outputs": [
    {
     "data": {
      "text/html": [
       "<div>\n",
       "<style scoped>\n",
       "    .dataframe tbody tr th:only-of-type {\n",
       "        vertical-align: middle;\n",
       "    }\n",
       "\n",
       "    .dataframe tbody tr th {\n",
       "        vertical-align: top;\n",
       "    }\n",
       "\n",
       "    .dataframe thead th {\n",
       "        text-align: right;\n",
       "    }\n",
       "</style>\n",
       "<table border=\"1\" class=\"dataframe\">\n",
       "  <thead>\n",
       "    <tr style=\"text-align: right;\">\n",
       "      <th></th>\n",
       "      <th>Age</th>\n",
       "      <th>Male</th>\n",
       "      <th>Female</th>\n",
       "      <th>Electronics And Communication</th>\n",
       "      <th>Computer Science</th>\n",
       "      <th>Information Technology</th>\n",
       "      <th>Mechanical</th>\n",
       "      <th>Electrical</th>\n",
       "      <th>Civil</th>\n",
       "      <th>Internships</th>\n",
       "      <th>CGPA</th>\n",
       "      <th>Hostel</th>\n",
       "      <th>HistoryOfBacklogs</th>\n",
       "      <th>PlacedOrNot</th>\n",
       "    </tr>\n",
       "  </thead>\n",
       "  <tbody>\n",
       "    <tr>\n",
       "      <th>0</th>\n",
       "      <td>22</td>\n",
       "      <td>1</td>\n",
       "      <td>0</td>\n",
       "      <td>1</td>\n",
       "      <td>0</td>\n",
       "      <td>0</td>\n",
       "      <td>0</td>\n",
       "      <td>0</td>\n",
       "      <td>0</td>\n",
       "      <td>1</td>\n",
       "      <td>8</td>\n",
       "      <td>1</td>\n",
       "      <td>1</td>\n",
       "      <td>1</td>\n",
       "    </tr>\n",
       "    <tr>\n",
       "      <th>1</th>\n",
       "      <td>21</td>\n",
       "      <td>0</td>\n",
       "      <td>1</td>\n",
       "      <td>0</td>\n",
       "      <td>1</td>\n",
       "      <td>0</td>\n",
       "      <td>0</td>\n",
       "      <td>0</td>\n",
       "      <td>0</td>\n",
       "      <td>0</td>\n",
       "      <td>7</td>\n",
       "      <td>1</td>\n",
       "      <td>1</td>\n",
       "      <td>1</td>\n",
       "    </tr>\n",
       "    <tr>\n",
       "      <th>2</th>\n",
       "      <td>22</td>\n",
       "      <td>0</td>\n",
       "      <td>1</td>\n",
       "      <td>0</td>\n",
       "      <td>0</td>\n",
       "      <td>1</td>\n",
       "      <td>0</td>\n",
       "      <td>0</td>\n",
       "      <td>0</td>\n",
       "      <td>1</td>\n",
       "      <td>6</td>\n",
       "      <td>0</td>\n",
       "      <td>0</td>\n",
       "      <td>1</td>\n",
       "    </tr>\n",
       "    <tr>\n",
       "      <th>3</th>\n",
       "      <td>21</td>\n",
       "      <td>1</td>\n",
       "      <td>0</td>\n",
       "      <td>0</td>\n",
       "      <td>0</td>\n",
       "      <td>1</td>\n",
       "      <td>0</td>\n",
       "      <td>0</td>\n",
       "      <td>0</td>\n",
       "      <td>0</td>\n",
       "      <td>8</td>\n",
       "      <td>0</td>\n",
       "      <td>1</td>\n",
       "      <td>1</td>\n",
       "    </tr>\n",
       "    <tr>\n",
       "      <th>4</th>\n",
       "      <td>22</td>\n",
       "      <td>1</td>\n",
       "      <td>0</td>\n",
       "      <td>0</td>\n",
       "      <td>0</td>\n",
       "      <td>0</td>\n",
       "      <td>1</td>\n",
       "      <td>0</td>\n",
       "      <td>0</td>\n",
       "      <td>0</td>\n",
       "      <td>8</td>\n",
       "      <td>1</td>\n",
       "      <td>0</td>\n",
       "      <td>1</td>\n",
       "    </tr>\n",
       "    <tr>\n",
       "      <th>...</th>\n",
       "      <td>...</td>\n",
       "      <td>...</td>\n",
       "      <td>...</td>\n",
       "      <td>...</td>\n",
       "      <td>...</td>\n",
       "      <td>...</td>\n",
       "      <td>...</td>\n",
       "      <td>...</td>\n",
       "      <td>...</td>\n",
       "      <td>...</td>\n",
       "      <td>...</td>\n",
       "      <td>...</td>\n",
       "      <td>...</td>\n",
       "      <td>...</td>\n",
       "    </tr>\n",
       "    <tr>\n",
       "      <th>2961</th>\n",
       "      <td>23</td>\n",
       "      <td>1</td>\n",
       "      <td>0</td>\n",
       "      <td>0</td>\n",
       "      <td>0</td>\n",
       "      <td>1</td>\n",
       "      <td>0</td>\n",
       "      <td>0</td>\n",
       "      <td>0</td>\n",
       "      <td>0</td>\n",
       "      <td>7</td>\n",
       "      <td>0</td>\n",
       "      <td>0</td>\n",
       "      <td>0</td>\n",
       "    </tr>\n",
       "    <tr>\n",
       "      <th>2962</th>\n",
       "      <td>23</td>\n",
       "      <td>1</td>\n",
       "      <td>0</td>\n",
       "      <td>0</td>\n",
       "      <td>0</td>\n",
       "      <td>0</td>\n",
       "      <td>1</td>\n",
       "      <td>0</td>\n",
       "      <td>0</td>\n",
       "      <td>1</td>\n",
       "      <td>7</td>\n",
       "      <td>1</td>\n",
       "      <td>0</td>\n",
       "      <td>0</td>\n",
       "    </tr>\n",
       "    <tr>\n",
       "      <th>2963</th>\n",
       "      <td>22</td>\n",
       "      <td>1</td>\n",
       "      <td>0</td>\n",
       "      <td>0</td>\n",
       "      <td>0</td>\n",
       "      <td>1</td>\n",
       "      <td>0</td>\n",
       "      <td>0</td>\n",
       "      <td>0</td>\n",
       "      <td>1</td>\n",
       "      <td>7</td>\n",
       "      <td>0</td>\n",
       "      <td>0</td>\n",
       "      <td>0</td>\n",
       "    </tr>\n",
       "    <tr>\n",
       "      <th>2964</th>\n",
       "      <td>22</td>\n",
       "      <td>1</td>\n",
       "      <td>0</td>\n",
       "      <td>0</td>\n",
       "      <td>1</td>\n",
       "      <td>0</td>\n",
       "      <td>0</td>\n",
       "      <td>0</td>\n",
       "      <td>0</td>\n",
       "      <td>1</td>\n",
       "      <td>7</td>\n",
       "      <td>0</td>\n",
       "      <td>0</td>\n",
       "      <td>0</td>\n",
       "    </tr>\n",
       "    <tr>\n",
       "      <th>2965</th>\n",
       "      <td>23</td>\n",
       "      <td>1</td>\n",
       "      <td>0</td>\n",
       "      <td>0</td>\n",
       "      <td>0</td>\n",
       "      <td>0</td>\n",
       "      <td>0</td>\n",
       "      <td>0</td>\n",
       "      <td>1</td>\n",
       "      <td>0</td>\n",
       "      <td>8</td>\n",
       "      <td>0</td>\n",
       "      <td>0</td>\n",
       "      <td>1</td>\n",
       "    </tr>\n",
       "  </tbody>\n",
       "</table>\n",
       "<p>2966 rows × 14 columns</p>\n",
       "</div>"
      ],
      "text/plain": [
       "      Age  Male  Female  Electronics And Communication  Computer Science  \\\n",
       "0      22     1       0                              1                 0   \n",
       "1      21     0       1                              0                 1   \n",
       "2      22     0       1                              0                 0   \n",
       "3      21     1       0                              0                 0   \n",
       "4      22     1       0                              0                 0   \n",
       "...   ...   ...     ...                            ...               ...   \n",
       "2961   23     1       0                              0                 0   \n",
       "2962   23     1       0                              0                 0   \n",
       "2963   22     1       0                              0                 0   \n",
       "2964   22     1       0                              0                 1   \n",
       "2965   23     1       0                              0                 0   \n",
       "\n",
       "      Information Technology  Mechanical  Electrical  Civil  Internships  \\\n",
       "0                          0           0           0      0            1   \n",
       "1                          0           0           0      0            0   \n",
       "2                          1           0           0      0            1   \n",
       "3                          1           0           0      0            0   \n",
       "4                          0           1           0      0            0   \n",
       "...                      ...         ...         ...    ...          ...   \n",
       "2961                       1           0           0      0            0   \n",
       "2962                       0           1           0      0            1   \n",
       "2963                       1           0           0      0            1   \n",
       "2964                       0           0           0      0            1   \n",
       "2965                       0           0           0      1            0   \n",
       "\n",
       "      CGPA  Hostel  HistoryOfBacklogs  PlacedOrNot  \n",
       "0        8       1                  1            1  \n",
       "1        7       1                  1            1  \n",
       "2        6       0                  0            1  \n",
       "3        8       0                  1            1  \n",
       "4        8       1                  0            1  \n",
       "...    ...     ...                ...          ...  \n",
       "2961     7       0                  0            0  \n",
       "2962     7       1                  0            0  \n",
       "2963     7       0                  0            0  \n",
       "2964     7       0                  0            0  \n",
       "2965     8       0                  0            1  \n",
       "\n",
       "[2966 rows x 14 columns]"
      ]
     },
     "execution_count": 33,
     "metadata": {},
     "output_type": "execute_result"
    }
   ],
   "source": [
    "data = data[['Age', 'Male', 'Female',\n",
    "             'Electronics And Communication',\n",
    "             'Computer Science', 'Information Technology',\n",
    "             'Mechanical', 'Electrical', \"Civil\",\n",
    "             \"Internships\",\"CGPA\",'Hostel',\n",
    "             'HistoryOfBacklogs', 'PlacedOrNot']]\n",
    "\n",
    "data"
   ]
  },
  {
   "cell_type": "markdown",
   "id": "7acbe038",
   "metadata": {
    "papermill": {
     "duration": 0.088009,
     "end_time": "2021-11-14T17:07:06.871476",
     "exception": false,
     "start_time": "2021-11-14T17:07:06.783467",
     "status": "completed"
    },
    "tags": []
   },
   "source": [
    "<a id=\"6.2\"></a>\n",
    "# <p style=\"background-color:#73d1ff;font-family:newtimeroman;color:#000000;font-size:120%;text-align:center;border-radius:20px 80px;\">✔️ Scaling features</p>\n",
    "\n",
    "\n"
   ]
  },
  {
   "cell_type": "code",
   "execution_count": 34,
   "id": "95511146",
   "metadata": {
    "execution": {
     "iopub.execute_input": "2021-11-14T17:07:07.055318Z",
     "iopub.status.busy": "2021-11-14T17:07:07.054646Z",
     "iopub.status.idle": "2021-11-14T17:07:07.065406Z",
     "shell.execute_reply": "2021-11-14T17:07:07.065844Z",
     "shell.execute_reply.started": "2021-11-14T16:47:54.604249Z"
    },
    "papermill": {
     "duration": 0.105094,
     "end_time": "2021-11-14T17:07:07.066008",
     "exception": false,
     "start_time": "2021-11-14T17:07:06.960914",
     "status": "completed"
    },
    "tags": []
   },
   "outputs": [],
   "source": [
    "scaler = StandardScaler()\n",
    "\n",
    "scaler.fit(data.drop('PlacedOrNot',axis=1))\n",
    "\n",
    "scaled_features = scaler.transform(data.drop('PlacedOrNot',axis=1))"
   ]
  },
  {
   "cell_type": "code",
   "execution_count": 35,
   "id": "ec83a10a",
   "metadata": {
    "execution": {
     "iopub.execute_input": "2021-11-14T17:07:07.242479Z",
     "iopub.status.busy": "2021-11-14T17:07:07.241826Z",
     "iopub.status.idle": "2021-11-14T17:07:07.260265Z",
     "shell.execute_reply": "2021-11-14T17:07:07.260776Z",
     "shell.execute_reply.started": "2021-11-14T16:47:55.663665Z"
    },
    "papermill": {
     "duration": 0.108154,
     "end_time": "2021-11-14T17:07:07.260929",
     "exception": false,
     "start_time": "2021-11-14T17:07:07.152775",
     "status": "completed"
    },
    "tags": []
   },
   "outputs": [
    {
     "data": {
      "text/html": [
       "<div>\n",
       "<style scoped>\n",
       "    .dataframe tbody tr th:only-of-type {\n",
       "        vertical-align: middle;\n",
       "    }\n",
       "\n",
       "    .dataframe tbody tr th {\n",
       "        vertical-align: top;\n",
       "    }\n",
       "\n",
       "    .dataframe thead th {\n",
       "        text-align: right;\n",
       "    }\n",
       "</style>\n",
       "<table border=\"1\" class=\"dataframe\">\n",
       "  <thead>\n",
       "    <tr style=\"text-align: right;\">\n",
       "      <th></th>\n",
       "      <th>Age</th>\n",
       "      <th>Male</th>\n",
       "      <th>Female</th>\n",
       "      <th>Electronics And Communication</th>\n",
       "      <th>Computer Science</th>\n",
       "      <th>Information Technology</th>\n",
       "      <th>Mechanical</th>\n",
       "      <th>Electrical</th>\n",
       "      <th>Civil</th>\n",
       "      <th>Internships</th>\n",
       "      <th>CGPA</th>\n",
       "      <th>Hostel</th>\n",
       "      <th>HistoryOfBacklogs</th>\n",
       "    </tr>\n",
       "  </thead>\n",
       "  <tbody>\n",
       "    <tr>\n",
       "      <th>0</th>\n",
       "      <td>0.388131</td>\n",
       "      <td>0.445403</td>\n",
       "      <td>-0.445403</td>\n",
       "      <td>2.448527</td>\n",
       "      <td>-0.595263</td>\n",
       "      <td>-0.551123</td>\n",
       "      <td>-0.408409</td>\n",
       "      <td>-0.35623</td>\n",
       "      <td>-0.34593</td>\n",
       "      <td>0.400445</td>\n",
       "      <td>0.957191</td>\n",
       "      <td>1.648269</td>\n",
       "      <td>2.050246</td>\n",
       "    </tr>\n",
       "    <tr>\n",
       "      <th>1</th>\n",
       "      <td>-0.366752</td>\n",
       "      <td>-2.245158</td>\n",
       "      <td>2.245158</td>\n",
       "      <td>-0.408409</td>\n",
       "      <td>1.679930</td>\n",
       "      <td>-0.551123</td>\n",
       "      <td>-0.408409</td>\n",
       "      <td>-0.35623</td>\n",
       "      <td>-0.34593</td>\n",
       "      <td>-0.950773</td>\n",
       "      <td>-0.076310</td>\n",
       "      <td>1.648269</td>\n",
       "      <td>2.050246</td>\n",
       "    </tr>\n",
       "    <tr>\n",
       "      <th>2</th>\n",
       "      <td>0.388131</td>\n",
       "      <td>-2.245158</td>\n",
       "      <td>2.245158</td>\n",
       "      <td>-0.408409</td>\n",
       "      <td>-0.595263</td>\n",
       "      <td>1.814478</td>\n",
       "      <td>-0.408409</td>\n",
       "      <td>-0.35623</td>\n",
       "      <td>-0.34593</td>\n",
       "      <td>0.400445</td>\n",
       "      <td>-1.109812</td>\n",
       "      <td>-0.606697</td>\n",
       "      <td>-0.487746</td>\n",
       "    </tr>\n",
       "    <tr>\n",
       "      <th>3</th>\n",
       "      <td>-0.366752</td>\n",
       "      <td>0.445403</td>\n",
       "      <td>-0.445403</td>\n",
       "      <td>-0.408409</td>\n",
       "      <td>-0.595263</td>\n",
       "      <td>1.814478</td>\n",
       "      <td>-0.408409</td>\n",
       "      <td>-0.35623</td>\n",
       "      <td>-0.34593</td>\n",
       "      <td>-0.950773</td>\n",
       "      <td>0.957191</td>\n",
       "      <td>-0.606697</td>\n",
       "      <td>2.050246</td>\n",
       "    </tr>\n",
       "    <tr>\n",
       "      <th>4</th>\n",
       "      <td>0.388131</td>\n",
       "      <td>0.445403</td>\n",
       "      <td>-0.445403</td>\n",
       "      <td>-0.408409</td>\n",
       "      <td>-0.595263</td>\n",
       "      <td>-0.551123</td>\n",
       "      <td>2.448527</td>\n",
       "      <td>-0.35623</td>\n",
       "      <td>-0.34593</td>\n",
       "      <td>-0.950773</td>\n",
       "      <td>0.957191</td>\n",
       "      <td>1.648269</td>\n",
       "      <td>-0.487746</td>\n",
       "    </tr>\n",
       "  </tbody>\n",
       "</table>\n",
       "</div>"
      ],
      "text/plain": [
       "        Age      Male    Female  Electronics And Communication  \\\n",
       "0  0.388131  0.445403 -0.445403                       2.448527   \n",
       "1 -0.366752 -2.245158  2.245158                      -0.408409   \n",
       "2  0.388131 -2.245158  2.245158                      -0.408409   \n",
       "3 -0.366752  0.445403 -0.445403                      -0.408409   \n",
       "4  0.388131  0.445403 -0.445403                      -0.408409   \n",
       "\n",
       "   Computer Science  Information Technology  Mechanical  Electrical    Civil  \\\n",
       "0         -0.595263               -0.551123   -0.408409    -0.35623 -0.34593   \n",
       "1          1.679930               -0.551123   -0.408409    -0.35623 -0.34593   \n",
       "2         -0.595263                1.814478   -0.408409    -0.35623 -0.34593   \n",
       "3         -0.595263                1.814478   -0.408409    -0.35623 -0.34593   \n",
       "4         -0.595263               -0.551123    2.448527    -0.35623 -0.34593   \n",
       "\n",
       "   Internships      CGPA    Hostel  HistoryOfBacklogs  \n",
       "0     0.400445  0.957191  1.648269           2.050246  \n",
       "1    -0.950773 -0.076310  1.648269           2.050246  \n",
       "2     0.400445 -1.109812 -0.606697          -0.487746  \n",
       "3    -0.950773  0.957191 -0.606697           2.050246  \n",
       "4    -0.950773  0.957191  1.648269          -0.487746  "
      ]
     },
     "execution_count": 35,
     "metadata": {},
     "output_type": "execute_result"
    }
   ],
   "source": [
    "scaled_features = pd.DataFrame(scaled_features, columns = data.columns[:-1])\n",
    "scaled_features.head()"
   ]
  },
  {
   "cell_type": "markdown",
   "id": "1107c6d1",
   "metadata": {
    "papermill": {
     "duration": 0.08647,
     "end_time": "2021-11-14T17:07:07.434817",
     "exception": false,
     "start_time": "2021-11-14T17:07:07.348347",
     "status": "completed"
    },
    "tags": []
   },
   "source": [
    "\n",
    "<a id=\"7\"></a>\n",
    "# <p style=\"background-color:#47b7ed;font-family:newtimeroman;color:#000000;font-size:120%;text-align:center;border-radius:20px 80px;\">🎰 Visualize coorelation of independent feature with dependent</p>\n",
    "\n",
    "\n"
   ]
  },
  {
   "cell_type": "code",
   "execution_count": 36,
   "id": "77dfaa69",
   "metadata": {
    "execution": {
     "iopub.execute_input": "2021-11-14T17:07:07.613426Z",
     "iopub.status.busy": "2021-11-14T17:07:07.612793Z",
     "iopub.status.idle": "2021-11-14T17:07:09.143753Z",
     "shell.execute_reply": "2021-11-14T17:07:09.144237Z",
     "shell.execute_reply.started": "2021-11-14T16:47:59.731806Z"
    },
    "papermill": {
     "duration": 1.621897,
     "end_time": "2021-11-14T17:07:09.144420",
     "exception": false,
     "start_time": "2021-11-14T17:07:07.522523",
     "status": "completed"
    },
    "tags": []
   },
   "outputs": [
    {
     "data": {
      "image/png": "[encoded data removed]",
      "text/plain": [
       "<Figure size 1440x1080 with 2 Axes>"
      ]
     },
     "metadata": {},
     "output_type": "display_data"
    }
   ],
   "source": [
    "corrmat = data.corr()\n",
    "top_corr_features = corrmat.index\n",
    "\n",
    "plt.figure(figsize=(20,15))\n",
    "\n",
    "#plot heat map\n",
    "g = sns.heatmap(data[top_corr_features].corr(),annot=True,cmap=\"RdYlGn\")"
   ]
  },
  {
   "cell_type": "markdown",
   "id": "f0658e13",
   "metadata": {
    "papermill": {
     "duration": 0.0955,
     "end_time": "2021-11-14T17:07:09.334612",
     "exception": false,
     "start_time": "2021-11-14T17:07:09.239112",
     "status": "completed"
    },
    "tags": []
   },
   "source": [
    "**Internship and CGPA is highly coorelated with dependent feature i.e PlacedOrNot**"
   ]
  },
  {
   "cell_type": "markdown",
   "id": "91f7b9ea",
   "metadata": {
    "papermill": {
     "duration": 0.094234,
     "end_time": "2021-11-14T17:07:09.522699",
     "exception": false,
     "start_time": "2021-11-14T17:07:09.428465",
     "status": "completed"
    },
    "tags": []
   },
   "source": [
    "\n",
    "\n",
    "\n",
    "<a id=\"8\"></a>\n",
    "# <p style=\"background-color:#47b7ed;font-family:newtimeroman;color:#000000;font-size:120%;text-align:center;border-radius:20px 80px;\">🧾 Train test split</p>\n",
    "\n",
    "\n"
   ]
  },
  {
   "cell_type": "code",
   "execution_count": 37,
   "id": "221be5b9",
   "metadata": {
    "execution": {
     "iopub.execute_input": "2021-11-14T17:07:09.713468Z",
     "iopub.status.busy": "2021-11-14T17:07:09.712834Z",
     "iopub.status.idle": "2021-11-14T17:07:09.720208Z",
     "shell.execute_reply": "2021-11-14T17:07:09.719562Z",
     "shell.execute_reply.started": "2021-11-14T16:48:12.805145Z"
    },
    "papermill": {
     "duration": 0.104029,
     "end_time": "2021-11-14T17:07:09.720337",
     "exception": false,
     "start_time": "2021-11-14T17:07:09.616308",
     "status": "completed"
    },
    "tags": []
   },
   "outputs": [],
   "source": [
    "from sklearn.model_selection import train_test_split\n",
    "\n",
    "X_train, X_test, y_train, y_test = train_test_split(scaled_features,\n",
    "                                                    data['PlacedOrNot'],\n",
    "                                                    test_size = 0.25,\n",
    "                                                    random_state = 0)\n"
   ]
  },
  {
   "cell_type": "code",
   "execution_count": 38,
   "id": "7578cc73",
   "metadata": {
    "execution": {
     "iopub.execute_input": "2021-11-14T17:07:09.913422Z",
     "iopub.status.busy": "2021-11-14T17:07:09.912788Z",
     "iopub.status.idle": "2021-11-14T17:07:09.919251Z",
     "shell.execute_reply": "2021-11-14T17:07:09.919744Z",
     "shell.execute_reply.started": "2021-11-14T16:48:14.495427Z"
    },
    "papermill": {
     "duration": 0.105273,
     "end_time": "2021-11-14T17:07:09.919903",
     "exception": false,
     "start_time": "2021-11-14T17:07:09.814630",
     "status": "completed"
    },
    "tags": []
   },
   "outputs": [
    {
     "name": "stdout",
     "output_type": "stream",
     "text": [
      "Shape of X_train is: (2224, 13)\n",
      "Shape of X_test is: (742, 13)\n",
      "\n",
      "Shape of y_train is: (2224,)\n",
      "Shape of y_test is: (742,)\n"
     ]
    }
   ],
   "source": [
    "print(f\"Shape of X_train is: {X_train.shape}\")\n",
    "print(f\"Shape of X_test is: {X_test.shape}\\n\")\n",
    "\n",
    "print(f\"Shape of y_train is: {y_train.shape}\")\n",
    "print(f\"Shape of y_test is: {y_test.shape}\")"
   ]
  },
  {
   "cell_type": "markdown",
   "id": "18045014",
   "metadata": {
    "papermill": {
     "duration": 0.095248,
     "end_time": "2021-11-14T17:07:10.110765",
     "exception": false,
     "start_time": "2021-11-14T17:07:10.015517",
     "status": "completed"
    },
    "tags": []
   },
   "source": [
    " "
   ]
  },
  {
   "cell_type": "markdown",
   "id": "820335df",
   "metadata": {
    "papermill": {
     "duration": 0.09337,
     "end_time": "2021-11-14T17:07:10.298731",
     "exception": false,
     "start_time": "2021-11-14T17:07:10.205361",
     "status": "completed"
    },
    "tags": []
   },
   "source": [
    "\n",
    "<a id=\"9\"></a>\n",
    "# <p style=\"background-color:#47b7ed;font-family:newtimeroman;color:#000000;font-size:120%;text-align:center;border-radius:20px 80px;\">🤖 Create & Train Model</p>\n",
    "\n",
    "\n"
   ]
  },
  {
   "cell_type": "code",
   "execution_count": 39,
   "id": "727767e9",
   "metadata": {
    "_kg_hide-input": true,
    "execution": {
     "iopub.execute_input": "2021-11-14T17:07:10.488059Z",
     "iopub.status.busy": "2021-11-14T17:07:10.487505Z",
     "iopub.status.idle": "2021-11-14T17:07:10.493909Z",
     "shell.execute_reply": "2021-11-14T17:07:10.493315Z",
     "shell.execute_reply.started": "2021-11-14T16:48:33.260307Z"
    },
    "papermill": {
     "duration": 0.101974,
     "end_time": "2021-11-14T17:07:10.494036",
     "exception": false,
     "start_time": "2021-11-14T17:07:10.392062",
     "status": "completed"
    },
    "tags": []
   },
   "outputs": [],
   "source": [
    "def models_score(models, X_train, X_test, y_train, y_test):    \n",
    "    \n",
    "    scores = {}\n",
    "    \n",
    "    for name, model in models.items():\n",
    "        model.fit(X_train, y_train)\n",
    "        scores[name] = model.score(X_test,y_test)\n",
    "\n",
    "    model_scores = pd.DataFrame(scores, index=['Score']).transpose()\n",
    "    model_scores = model_scores.sort_values('Score')\n",
    "        \n",
    "    return model_scores"
   ]
  },
  {
   "cell_type": "code",
   "execution_count": 40,
   "id": "92adc76b",
   "metadata": {
    "execution": {
     "iopub.execute_input": "2021-11-14T17:07:10.689748Z",
     "iopub.status.busy": "2021-11-14T17:07:10.689066Z",
     "iopub.status.idle": "2021-11-14T17:07:10.692946Z",
     "shell.execute_reply": "2021-11-14T17:07:10.693459Z",
     "shell.execute_reply.started": "2021-11-14T16:48:33.834878Z"
    },
    "papermill": {
     "duration": 0.105375,
     "end_time": "2021-11-14T17:07:10.693618",
     "exception": false,
     "start_time": "2021-11-14T17:07:10.588243",
     "status": "completed"
    },
    "tags": []
   },
   "outputs": [],
   "source": [
    "models = {\"DecisionTree\":DecisionTreeClassifier(),\n",
    "         \"RandomForest\":RandomForestClassifier(),\n",
    "         \"XgBoost\": XGBClassifier(),\n",
    "         \"KNeighborsClassifier\":KNeighborsClassifier()}"
   ]
  },
  {
   "cell_type": "markdown",
   "id": "56711b5d",
   "metadata": {
    "papermill": {
     "duration": 0.094504,
     "end_time": "2021-11-14T17:07:10.884455",
     "exception": false,
     "start_time": "2021-11-14T17:07:10.789951",
     "status": "completed"
    },
    "tags": []
   },
   "source": [
    "\n",
    "<a id=\"10\"></a>\n",
    "# <p style=\"background-color:#47b7ed;font-family:newtimeroman;color:#000000;font-size:120%;text-align:center;border-radius:20px 80px;\">📊 Visualize Model Score</p>\n",
    "\n",
    "\n"
   ]
  },
  {
   "cell_type": "code",
   "execution_count": 41,
   "id": "e3f30b2b",
   "metadata": {
    "_kg_hide-output": true,
    "execution": {
     "iopub.execute_input": "2021-11-14T17:07:11.079292Z",
     "iopub.status.busy": "2021-11-14T17:07:11.078609Z",
     "iopub.status.idle": "2021-11-14T17:07:11.602754Z",
     "shell.execute_reply": "2021-11-14T17:07:11.603294Z",
     "shell.execute_reply.started": "2021-11-14T16:52:56.550313Z"
    },
    "papermill": {
     "duration": 0.623278,
     "end_time": "2021-11-14T17:07:11.603475",
     "exception": false,
     "start_time": "2021-11-14T17:07:10.980197",
     "status": "completed"
    },
    "tags": []
   },
   "outputs": [
    {
     "name": "stderr",
     "output_type": "stream",
     "text": [
      "/opt/conda/lib/python3.7/site-packages/xgboost/sklearn.py:1146: UserWarning:\n",
      "\n",
      "The use of label encoder in XGBClassifier is deprecated and will be removed in a future release. To remove this warning, do the following: 1) Pass option use_label_encoder=False when constructing XGBClassifier object; and 2) Encode your labels (y) as integers starting with 0, i.e. 0, 1, 2, ..., [num_class - 1].\n",
      "\n"
     ]
    },
    {
     "name": "stdout",
     "output_type": "stream",
     "text": [
      "[17:07:11] WARNING: ../src/learner.cc:1095: Starting in XGBoost 1.3.0, the default evaluation metric used with the objective 'binary:logistic' was changed from 'error' to 'logloss'. Explicitly set eval_metric if you'd like to restore the old behavior.\n"
     ]
    }
   ],
   "source": [
    "model_scores = models_score(models, X_train, X_test, y_train, y_test)"
   ]
  },
  {
   "cell_type": "code",
   "execution_count": 42,
   "id": "a3001c7c",
   "metadata": {
    "execution": {
     "iopub.execute_input": "2021-11-14T17:07:11.843739Z",
     "iopub.status.busy": "2021-11-14T17:07:11.842804Z",
     "iopub.status.idle": "2021-11-14T17:07:11.854403Z",
     "shell.execute_reply": "2021-11-14T17:07:11.854960Z",
     "shell.execute_reply.started": "2021-11-14T16:53:00.027864Z"
    },
    "papermill": {
     "duration": 0.110196,
     "end_time": "2021-11-14T17:07:11.855116",
     "exception": false,
     "start_time": "2021-11-14T17:07:11.744920",
     "status": "completed"
    },
    "tags": []
   },
   "outputs": [
    {
     "data": {
      "text/html": [
       "<style  type=\"text/css\" >\n",
       "#T_d2537_row2_col0,#T_d2537_row3_col0{\n",
       "            background-color:  yellow;\n",
       "        }</style><table id=\"T_d2537_\" ><thead>    <tr>        <th class=\"blank level0\" ></th>        <th class=\"col_heading level0 col0\" >Score</th>    </tr></thead><tbody>\n",
       "                <tr>\n",
       "                        <th id=\"T_d2537_level0_row0\" class=\"row_heading level0 row0\" >KNeighborsClassifier</th>\n",
       "                        <td id=\"T_d2537_row0_col0\" class=\"data row0 col0\" >0.851752</td>\n",
       "            </tr>\n",
       "            <tr>\n",
       "                        <th id=\"T_d2537_level0_row1\" class=\"row_heading level0 row1\" >RandomForest</th>\n",
       "                        <td id=\"T_d2537_row1_col0\" class=\"data row1 col0\" >0.871968</td>\n",
       "            </tr>\n",
       "            <tr>\n",
       "                        <th id=\"T_d2537_level0_row2\" class=\"row_heading level0 row2\" >DecisionTree</th>\n",
       "                        <td id=\"T_d2537_row2_col0\" class=\"data row2 col0\" >0.876011</td>\n",
       "            </tr>\n",
       "            <tr>\n",
       "                        <th id=\"T_d2537_level0_row3\" class=\"row_heading level0 row3\" >XgBoost</th>\n",
       "                        <td id=\"T_d2537_row3_col0\" class=\"data row3 col0\" >0.876011</td>\n",
       "            </tr>\n",
       "    </tbody></table>"
      ],
      "text/plain": [
       "<pandas.io.formats.style.Styler at 0x7f01c837dd90>"
      ]
     },
     "execution_count": 42,
     "metadata": {},
     "output_type": "execute_result"
    }
   ],
   "source": [
    "model_scores.style.highlight_max()"
   ]
  },
  {
   "cell_type": "code",
   "execution_count": 43,
   "id": "5549204f",
   "metadata": {
    "execution": {
     "iopub.execute_input": "2021-11-14T17:07:12.049389Z",
     "iopub.status.busy": "2021-11-14T17:07:12.048436Z",
     "iopub.status.idle": "2021-11-14T17:07:12.054486Z",
     "shell.execute_reply": "2021-11-14T17:07:12.054986Z",
     "shell.execute_reply.started": "2021-11-14T16:53:09.868092Z"
    },
    "papermill": {
     "duration": 0.105022,
     "end_time": "2021-11-14T17:07:12.055157",
     "exception": false,
     "start_time": "2021-11-14T17:07:11.950135",
     "status": "completed"
    },
    "tags": []
   },
   "outputs": [],
   "source": [
    "model_scores = model_scores.reset_index().rename({\"index\":\"Algorithms\"}, axis = 1)"
   ]
  },
  {
   "cell_type": "code",
   "execution_count": 44,
   "id": "20ad0ccd",
   "metadata": {
    "execution": {
     "iopub.execute_input": "2021-11-14T17:07:12.251923Z",
     "iopub.status.busy": "2021-11-14T17:07:12.250950Z",
     "iopub.status.idle": "2021-11-14T17:07:12.262390Z",
     "shell.execute_reply": "2021-11-14T17:07:12.262861Z",
     "shell.execute_reply.started": "2021-11-14T16:53:49.212218Z"
    },
    "papermill": {
     "duration": 0.11175,
     "end_time": "2021-11-14T17:07:12.263044",
     "exception": false,
     "start_time": "2021-11-14T17:07:12.151294",
     "status": "completed"
    },
    "tags": []
   },
   "outputs": [
    {
     "data": {
      "text/html": [
       "<style  type=\"text/css\" >\n",
       "#T_240bc_row0_col1{\n",
       "            width:  10em;\n",
       "             height:  80%;\n",
       "        }#T_240bc_row1_col1{\n",
       "            width:  10em;\n",
       "             height:  80%;\n",
       "            background:  linear-gradient(90deg,#47b7ed 83.3%, transparent 83.3%);\n",
       "        }#T_240bc_row2_col1,#T_240bc_row3_col1{\n",
       "            width:  10em;\n",
       "             height:  80%;\n",
       "            background:  linear-gradient(90deg,#47b7ed 100.0%, transparent 100.0%);\n",
       "        }</style><table id=\"T_240bc_\" ><thead>    <tr>        <th class=\"blank level0\" ></th>        <th class=\"col_heading level0 col0\" >Algorithms</th>        <th class=\"col_heading level0 col1\" >Score</th>    </tr></thead><tbody>\n",
       "                <tr>\n",
       "                        <th id=\"T_240bc_level0_row0\" class=\"row_heading level0 row0\" >0</th>\n",
       "                        <td id=\"T_240bc_row0_col0\" class=\"data row0 col0\" >KNeighborsClassifier</td>\n",
       "                        <td id=\"T_240bc_row0_col1\" class=\"data row0 col1\" >0.851752</td>\n",
       "            </tr>\n",
       "            <tr>\n",
       "                        <th id=\"T_240bc_level0_row1\" class=\"row_heading level0 row1\" >1</th>\n",
       "                        <td id=\"T_240bc_row1_col0\" class=\"data row1 col0\" >RandomForest</td>\n",
       "                        <td id=\"T_240bc_row1_col1\" class=\"data row1 col1\" >0.871968</td>\n",
       "            </tr>\n",
       "            <tr>\n",
       "                        <th id=\"T_240bc_level0_row2\" class=\"row_heading level0 row2\" >2</th>\n",
       "                        <td id=\"T_240bc_row2_col0\" class=\"data row2 col0\" >DecisionTree</td>\n",
       "                        <td id=\"T_240bc_row2_col1\" class=\"data row2 col1\" >0.876011</td>\n",
       "            </tr>\n",
       "            <tr>\n",
       "                        <th id=\"T_240bc_level0_row3\" class=\"row_heading level0 row3\" >3</th>\n",
       "                        <td id=\"T_240bc_row3_col0\" class=\"data row3 col0\" >XgBoost</td>\n",
       "                        <td id=\"T_240bc_row3_col1\" class=\"data row3 col1\" >0.876011</td>\n",
       "            </tr>\n",
       "    </tbody></table>"
      ],
      "text/plain": [
       "<pandas.io.formats.style.Styler at 0x7f01c868fd50>"
      ]
     },
     "execution_count": 44,
     "metadata": {},
     "output_type": "execute_result"
    }
   ],
   "source": [
    "model_scores.style.bar(color = '#47b7ed')"
   ]
  },
  {
   "cell_type": "code",
   "execution_count": 45,
   "id": "5964c328",
   "metadata": {
    "execution": {
     "iopub.execute_input": "2021-11-14T17:07:12.458281Z",
     "iopub.status.busy": "2021-11-14T17:07:12.457342Z",
     "iopub.status.idle": "2021-11-14T17:07:12.539188Z",
     "shell.execute_reply": "2021-11-14T17:07:12.538542Z",
     "shell.execute_reply.started": "2021-11-14T16:55:56.668394Z"
    },
    "papermill": {
     "duration": 0.180472,
     "end_time": "2021-11-14T17:07:12.539325",
     "exception": false,
     "start_time": "2021-11-14T17:07:12.358853",
     "status": "completed"
    },
    "tags": []
   },
   "outputs": [
    {
     "data": {
      "text/html": [
       "<div>                            <div id=\"fd019281-b8d6-4c06-b54c-f7ae7afb5631\" class=\"plotly-graph-div\" style=\"height:525px; width:100%;\"></div>            <script type=\"text/javascript\">                require([\"plotly\"], function(Plotly) {                    window.PLOTLYENV=window.PLOTLYENV || {};                                    if (document.getElementById(\"fd019281-b8d6-4c06-b54c-f7ae7afb5631\")) {                    Plotly.newPlot(                        \"fd019281-b8d6-4c06-b54c-f7ae7afb5631\",                        [{\"alignmentgroup\":\"True\",\"hovertemplate\":\"Algorithms=%{x}<br>Score=%{y}<extra></extra>\",\"legendgroup\":\"KNeighborsClassifier\",\"marker\":{\"color\":\"#636efa\",\"pattern\":{\"shape\":\"\"}},\"name\":\"KNeighborsClassifier\",\"offsetgroup\":\"KNeighborsClassifier\",\"orientation\":\"v\",\"showlegend\":true,\"textposition\":\"auto\",\"type\":\"bar\",\"x\":[\"KNeighborsClassifier\"],\"xaxis\":\"x\",\"y\":[0.8517520215633423],\"yaxis\":\"y\"},{\"alignmentgroup\":\"True\",\"hovertemplate\":\"Algorithms=%{x}<br>Score=%{y}<extra></extra>\",\"legendgroup\":\"RandomForest\",\"marker\":{\"color\":\"#EF553B\",\"pattern\":{\"shape\":\"\"}},\"name\":\"RandomForest\",\"offsetgroup\":\"RandomForest\",\"orientation\":\"v\",\"showlegend\":true,\"textposition\":\"auto\",\"type\":\"bar\",\"x\":[\"RandomForest\"],\"xaxis\":\"x\",\"y\":[0.871967654986523],\"yaxis\":\"y\"},{\"alignmentgroup\":\"True\",\"hovertemplate\":\"Algorithms=%{x}<br>Score=%{y}<extra></extra>\",\"legendgroup\":\"DecisionTree\",\"marker\":{\"color\":\"#00cc96\",\"pattern\":{\"shape\":\"\"}},\"name\":\"DecisionTree\",\"offsetgroup\":\"DecisionTree\",\"orientation\":\"v\",\"showlegend\":true,\"textposition\":\"auto\",\"type\":\"bar\",\"x\":[\"DecisionTree\"],\"xaxis\":\"x\",\"y\":[0.876010781671159],\"yaxis\":\"y\"},{\"alignmentgroup\":\"True\",\"hovertemplate\":\"Algorithms=%{x}<br>Score=%{y}<extra></extra>\",\"legendgroup\":\"XgBoost\",\"marker\":{\"color\":\"#ab63fa\",\"pattern\":{\"shape\":\"\"}},\"name\":\"XgBoost\",\"offsetgroup\":\"XgBoost\",\"orientation\":\"v\",\"showlegend\":true,\"textposition\":\"auto\",\"type\":\"bar\",\"x\":[\"XgBoost\"],\"xaxis\":\"x\",\"y\":[0.876010781671159],\"yaxis\":\"y\"}],                        {\"bargap\":0.2,\"barmode\":\"relative\",\"legend\":{\"title\":{\"text\":\"Algorithms\"},\"tracegroupgap\":0},\"template\":{\"data\":{\"bar\":[{\"error_x\":{\"color\":\"#f2f5fa\"},\"error_y\":{\"color\":\"#f2f5fa\"},\"marker\":{\"line\":{\"color\":\"rgb(17,17,17)\",\"width\":0.5},\"pattern\":{\"fillmode\":\"overlay\",\"size\":10,\"solidity\":0.2}},\"type\":\"bar\"}],\"barpolar\":[{\"marker\":{\"line\":{\"color\":\"rgb(17,17,17)\",\"width\":0.5},\"pattern\":{\"fillmode\":\"overlay\",\"size\":10,\"solidity\":0.2}},\"type\":\"barpolar\"}],\"carpet\":[{\"aaxis\":{\"endlinecolor\":\"#A2B1C6\",\"gridcolor\":\"#506784\",\"linecolor\":\"#506784\",\"minorgridcolor\":\"#506784\",\"startlinecolor\":\"#A2B1C6\"},\"baxis\":{\"endlinecolor\":\"#A2B1C6\",\"gridcolor\":\"#506784\",\"linecolor\":\"#506784\",\"minorgridcolor\":\"#506784\",\"startlinecolor\":\"#A2B1C6\"},\"type\":\"carpet\"}],\"choropleth\":[{\"colorbar\":{\"outlinewidth\":0,\"ticks\":\"\"},\"type\":\"choropleth\"}],\"contour\":[{\"colorbar\":{\"outlinewidth\":0,\"ticks\":\"\"},\"colorscale\":[[0.0,\"#0d0887\"],[0.1111111111111111,\"#46039f\"],[0.2222222222222222,\"#7201a8\"],[0.3333333333333333,\"#9c179e\"],[0.4444444444444444,\"#bd3786\"],[0.5555555555555556,\"#d8576b\"],[0.6666666666666666,\"#ed7953\"],[0.7777777777777778,\"#fb9f3a\"],[0.8888888888888888,\"#fdca26\"],[1.0,\"#f0f921\"]],\"type\":\"contour\"}],\"contourcarpet\":[{\"colorbar\":{\"outlinewidth\":0,\"ticks\":\"\"},\"type\":\"contourcarpet\"}],\"heatmap\":[{\"colorbar\":{\"outlinewidth\":0,\"ticks\":\"\"},\"colorscale\":[[0.0,\"#0d0887\"],[0.1111111111111111,\"#46039f\"],[0.2222222222222222,\"#7201a8\"],[0.3333333333333333,\"#9c179e\"],[0.4444444444444444,\"#bd3786\"],[0.5555555555555556,\"#d8576b\"],[0.6666666666666666,\"#ed7953\"],[0.7777777777777778,\"#fb9f3a\"],[0.8888888888888888,\"#fdca26\"],[1.0,\"#f0f921\"]],\"type\":\"heatmap\"}],\"heatmapgl\":[{\"colorbar\":{\"outlinewidth\":0,\"ticks\":\"\"},\"colorscale\":[[0.0,\"#0d0887\"],[0.1111111111111111,\"#46039f\"],[0.2222222222222222,\"#7201a8\"],[0.3333333333333333,\"#9c179e\"],[0.4444444444444444,\"#bd3786\"],[0.5555555555555556,\"#d8576b\"],[0.6666666666666666,\"#ed7953\"],[0.7777777777777778,\"#fb9f3a\"],[0.8888888888888888,\"#fdca26\"],[1.0,\"#f0f921\"]],\"type\":\"heatmapgl\"}],\"histogram\":[{\"marker\":{\"pattern\":{\"fillmode\":\"overlay\",\"size\":10,\"solidity\":0.2}},\"type\":\"histogram\"}],\"histogram2d\":[{\"colorbar\":{\"outlinewidth\":0,\"ticks\":\"\"},\"colorscale\":[[0.0,\"#0d0887\"],[0.1111111111111111,\"#46039f\"],[0.2222222222222222,\"#7201a8\"],[0.3333333333333333,\"#9c179e\"],[0.4444444444444444,\"#bd3786\"],[0.5555555555555556,\"#d8576b\"],[0.6666666666666666,\"#ed7953\"],[0.7777777777777778,\"#fb9f3a\"],[0.8888888888888888,\"#fdca26\"],[1.0,\"#f0f921\"]],\"type\":\"histogram2d\"}],\"histogram2dcontour\":[{\"colorbar\":{\"outlinewidth\":0,\"ticks\":\"\"},\"colorscale\":[[0.0,\"#0d0887\"],[0.1111111111111111,\"#46039f\"],[0.2222222222222222,\"#7201a8\"],[0.3333333333333333,\"#9c179e\"],[0.4444444444444444,\"#bd3786\"],[0.5555555555555556,\"#d8576b\"],[0.6666666666666666,\"#ed7953\"],[0.7777777777777778,\"#fb9f3a\"],[0.8888888888888888,\"#fdca26\"],[1.0,\"#f0f921\"]],\"type\":\"histogram2dcontour\"}],\"mesh3d\":[{\"colorbar\":{\"outlinewidth\":0,\"ticks\":\"\"},\"type\":\"mesh3d\"}],\"parcoords\":[{\"line\":{\"colorbar\":{\"outlinewidth\":0,\"ticks\":\"\"}},\"type\":\"parcoords\"}],\"pie\":[{\"automargin\":true,\"type\":\"pie\"}],\"scatter\":[{\"marker\":{\"line\":{\"color\":\"#283442\"}},\"type\":\"scatter\"}],\"scatter3d\":[{\"line\":{\"colorbar\":{\"outlinewidth\":0,\"ticks\":\"\"}},\"marker\":{\"colorbar\":{\"outlinewidth\":0,\"ticks\":\"\"}},\"type\":\"scatter3d\"}],\"scattercarpet\":[{\"marker\":{\"colorbar\":{\"outlinewidth\":0,\"ticks\":\"\"}},\"type\":\"scattercarpet\"}],\"scattergeo\":[{\"marker\":{\"colorbar\":{\"outlinewidth\":0,\"ticks\":\"\"}},\"type\":\"scattergeo\"}],\"scattergl\":[{\"marker\":{\"line\":{\"color\":\"#283442\"}},\"type\":\"scattergl\"}],\"scattermapbox\":[{\"marker\":{\"colorbar\":{\"outlinewidth\":0,\"ticks\":\"\"}},\"type\":\"scattermapbox\"}],\"scatterpolar\":[{\"marker\":{\"colorbar\":{\"outlinewidth\":0,\"ticks\":\"\"}},\"type\":\"scatterpolar\"}],\"scatterpolargl\":[{\"marker\":{\"colorbar\":{\"outlinewidth\":0,\"ticks\":\"\"}},\"type\":\"scatterpolargl\"}],\"scatterternary\":[{\"marker\":{\"colorbar\":{\"outlinewidth\":0,\"ticks\":\"\"}},\"type\":\"scatterternary\"}],\"surface\":[{\"colorbar\":{\"outlinewidth\":0,\"ticks\":\"\"},\"colorscale\":[[0.0,\"#0d0887\"],[0.1111111111111111,\"#46039f\"],[0.2222222222222222,\"#7201a8\"],[0.3333333333333333,\"#9c179e\"],[0.4444444444444444,\"#bd3786\"],[0.5555555555555556,\"#d8576b\"],[0.6666666666666666,\"#ed7953\"],[0.7777777777777778,\"#fb9f3a\"],[0.8888888888888888,\"#fdca26\"],[1.0,\"#f0f921\"]],\"type\":\"surface\"}],\"table\":[{\"cells\":{\"fill\":{\"color\":\"#506784\"},\"line\":{\"color\":\"rgb(17,17,17)\"}},\"header\":{\"fill\":{\"color\":\"#2a3f5f\"},\"line\":{\"color\":\"rgb(17,17,17)\"}},\"type\":\"table\"}]},\"layout\":{\"annotationdefaults\":{\"arrowcolor\":\"#f2f5fa\",\"arrowhead\":0,\"arrowwidth\":1},\"autotypenumbers\":\"strict\",\"coloraxis\":{\"colorbar\":{\"outlinewidth\":0,\"ticks\":\"\"}},\"colorscale\":{\"diverging\":[[0,\"#8e0152\"],[0.1,\"#c51b7d\"],[0.2,\"#de77ae\"],[0.3,\"#f1b6da\"],[0.4,\"#fde0ef\"],[0.5,\"#f7f7f7\"],[0.6,\"#e6f5d0\"],[0.7,\"#b8e186\"],[0.8,\"#7fbc41\"],[0.9,\"#4d9221\"],[1,\"#276419\"]],\"sequential\":[[0.0,\"#0d0887\"],[0.1111111111111111,\"#46039f\"],[0.2222222222222222,\"#7201a8\"],[0.3333333333333333,\"#9c179e\"],[0.4444444444444444,\"#bd3786\"],[0.5555555555555556,\"#d8576b\"],[0.6666666666666666,\"#ed7953\"],[0.7777777777777778,\"#fb9f3a\"],[0.8888888888888888,\"#fdca26\"],[1.0,\"#f0f921\"]],\"sequentialminus\":[[0.0,\"#0d0887\"],[0.1111111111111111,\"#46039f\"],[0.2222222222222222,\"#7201a8\"],[0.3333333333333333,\"#9c179e\"],[0.4444444444444444,\"#bd3786\"],[0.5555555555555556,\"#d8576b\"],[0.6666666666666666,\"#ed7953\"],[0.7777777777777778,\"#fb9f3a\"],[0.8888888888888888,\"#fdca26\"],[1.0,\"#f0f921\"]]},\"colorway\":[\"#636efa\",\"#EF553B\",\"#00cc96\",\"#ab63fa\",\"#FFA15A\",\"#19d3f3\",\"#FF6692\",\"#B6E880\",\"#FF97FF\",\"#FECB52\"],\"font\":{\"color\":\"#f2f5fa\"},\"geo\":{\"bgcolor\":\"rgb(17,17,17)\",\"lakecolor\":\"rgb(17,17,17)\",\"landcolor\":\"rgb(17,17,17)\",\"showlakes\":true,\"showland\":true,\"subunitcolor\":\"#506784\"},\"hoverlabel\":{\"align\":\"left\"},\"hovermode\":\"closest\",\"mapbox\":{\"style\":\"dark\"},\"paper_bgcolor\":\"rgb(17,17,17)\",\"plot_bgcolor\":\"rgb(17,17,17)\",\"polar\":{\"angularaxis\":{\"gridcolor\":\"#506784\",\"linecolor\":\"#506784\",\"ticks\":\"\"},\"bgcolor\":\"rgb(17,17,17)\",\"radialaxis\":{\"gridcolor\":\"#506784\",\"linecolor\":\"#506784\",\"ticks\":\"\"}},\"scene\":{\"xaxis\":{\"backgroundcolor\":\"rgb(17,17,17)\",\"gridcolor\":\"#506784\",\"gridwidth\":2,\"linecolor\":\"#506784\",\"showbackground\":true,\"ticks\":\"\",\"zerolinecolor\":\"#C8D4E3\"},\"yaxis\":{\"backgroundcolor\":\"rgb(17,17,17)\",\"gridcolor\":\"#506784\",\"gridwidth\":2,\"linecolor\":\"#506784\",\"showbackground\":true,\"ticks\":\"\",\"zerolinecolor\":\"#C8D4E3\"},\"zaxis\":{\"backgroundcolor\":\"rgb(17,17,17)\",\"gridcolor\":\"#506784\",\"gridwidth\":2,\"linecolor\":\"#506784\",\"showbackground\":true,\"ticks\":\"\",\"zerolinecolor\":\"#C8D4E3\"}},\"shapedefaults\":{\"line\":{\"color\":\"#f2f5fa\"}},\"sliderdefaults\":{\"bgcolor\":\"#C8D4E3\",\"bordercolor\":\"rgb(17,17,17)\",\"borderwidth\":1,\"tickwidth\":0},\"ternary\":{\"aaxis\":{\"gridcolor\":\"#506784\",\"linecolor\":\"#506784\",\"ticks\":\"\"},\"baxis\":{\"gridcolor\":\"#506784\",\"linecolor\":\"#506784\",\"ticks\":\"\"},\"bgcolor\":\"rgb(17,17,17)\",\"caxis\":{\"gridcolor\":\"#506784\",\"linecolor\":\"#506784\",\"ticks\":\"\"}},\"title\":{\"x\":0.05},\"updatemenudefaults\":{\"bgcolor\":\"#506784\",\"borderwidth\":0},\"xaxis\":{\"automargin\":true,\"gridcolor\":\"#283442\",\"linecolor\":\"#506784\",\"ticks\":\"\",\"title\":{\"standoff\":15},\"zerolinecolor\":\"#283442\",\"zerolinewidth\":2},\"yaxis\":{\"automargin\":true,\"gridcolor\":\"#283442\",\"linecolor\":\"#506784\",\"ticks\":\"\",\"title\":{\"standoff\":15},\"zerolinecolor\":\"#283442\",\"zerolinewidth\":2}}},\"title\":{\"font\":{\"size\":20},\"text\":\"<b>Models Score</b>\",\"x\":0.5},\"uniformtext\":{\"minsize\":15},\"xaxis\":{\"anchor\":\"y\",\"categoryarray\":[\"KNeighborsClassifier\",\"RandomForest\",\"DecisionTree\",\"XgBoost\"],\"categoryorder\":\"array\",\"domain\":[0.0,1.0],\"title\":{\"text\":\"Algorithms\"}},\"yaxis\":{\"anchor\":\"x\",\"domain\":[0.0,1.0],\"title\":{\"text\":\"Score\"}}},                        {\"responsive\": true}                    ).then(function(){\n",
       "                            \n",
       "var gd = document.getElementById('fd019281-b8d6-4c06-b54c-f7ae7afb5631');\n",
       "var x = new MutationObserver(function (mutations, observer) {{\n",
       "        var display = window.getComputedStyle(gd).display;\n",
       "        if (!display || display === 'none') {{\n",
       "            console.log([gd, 'removed!']);\n",
       "            Plotly.purge(gd);\n",
       "            observer.disconnect();\n",
       "        }}\n",
       "}});\n",
       "\n",
       "// Listen for the removal of the full notebook cells\n",
       "var notebookContainer = gd.closest('#notebook-container');\n",
       "if (notebookContainer) {{\n",
       "    x.observe(notebookContainer, {childList: true});\n",
       "}}\n",
       "\n",
       "// Listen for the clearing of the current output cell\n",
       "var outputEl = gd.closest('.output');\n",
       "if (outputEl) {{\n",
       "    x.observe(outputEl, {childList: true});\n",
       "}}\n",
       "\n",
       "                        })                };                });            </script>        </div>"
      ]
     },
     "metadata": {},
     "output_type": "display_data"
    }
   ],
   "source": [
    "fig = px.bar(data_frame = model_scores,\n",
    "             x = \"Algorithms\",\n",
    "             y = \"Score\",\n",
    "             color = \"Algorithms\",\n",
    "             title = \"<b>Models Score</b>\",\n",
    "             template = 'plotly_dark')\n",
    "\n",
    "\n",
    "fig.update_layout(bargap = 0.2,\n",
    "                  title_x = 0.5,\n",
    "                  title_font = dict(size = 20),\n",
    "                  uniformtext_minsize = 15)\n",
    "\n",
    "fig.show()"
   ]
  },
  {
   "cell_type": "code",
   "execution_count": 46,
   "id": "029b928a",
   "metadata": {
    "_kg_hide-input": true,
    "execution": {
     "iopub.execute_input": "2021-11-14T17:07:12.739690Z",
     "iopub.status.busy": "2021-11-14T17:07:12.739028Z",
     "iopub.status.idle": "2021-11-14T17:07:12.773593Z",
     "shell.execute_reply": "2021-11-14T17:07:12.774100Z",
     "shell.execute_reply.started": "2021-11-14T16:58:12.769718Z"
    },
    "papermill": {
     "duration": 0.137713,
     "end_time": "2021-11-14T17:07:12.774279",
     "exception": false,
     "start_time": "2021-11-14T17:07:12.636566",
     "status": "completed"
    },
    "tags": []
   },
   "outputs": [
    {
     "data": {
      "text/html": [
       "<div>                            <div id=\"0abf3239-3b90-42bc-afb0-55e307be60ce\" class=\"plotly-graph-div\" style=\"height:525px; width:100%;\"></div>            <script type=\"text/javascript\">                require([\"plotly\"], function(Plotly) {                    window.PLOTLYENV=window.PLOTLYENV || {};                                    if (document.getElementById(\"0abf3239-3b90-42bc-afb0-55e307be60ce\")) {                    Plotly.newPlot(                        \"0abf3239-3b90-42bc-afb0-55e307be60ce\",                        [{\"labels\":[\"KNeighborsClassifier\",\"RandomForest\",\"DecisionTree\",\"XgBoost\"],\"marker\":{\"line\":{\"color\":\"#000000\",\"width\":1.5}},\"rotation\":90,\"textinfo\":\"percent+label\",\"textposition\":\"inside\",\"type\":\"pie\",\"values\":[0.8517520215633423,0.871967654986523,0.876010781671159,0.876010781671159]}],                        {\"template\":{\"data\":{\"bar\":[{\"error_x\":{\"color\":\"#f2f5fa\"},\"error_y\":{\"color\":\"#f2f5fa\"},\"marker\":{\"line\":{\"color\":\"rgb(17,17,17)\",\"width\":0.5},\"pattern\":{\"fillmode\":\"overlay\",\"size\":10,\"solidity\":0.2}},\"type\":\"bar\"}],\"barpolar\":[{\"marker\":{\"line\":{\"color\":\"rgb(17,17,17)\",\"width\":0.5},\"pattern\":{\"fillmode\":\"overlay\",\"size\":10,\"solidity\":0.2}},\"type\":\"barpolar\"}],\"carpet\":[{\"aaxis\":{\"endlinecolor\":\"#A2B1C6\",\"gridcolor\":\"#506784\",\"linecolor\":\"#506784\",\"minorgridcolor\":\"#506784\",\"startlinecolor\":\"#A2B1C6\"},\"baxis\":{\"endlinecolor\":\"#A2B1C6\",\"gridcolor\":\"#506784\",\"linecolor\":\"#506784\",\"minorgridcolor\":\"#506784\",\"startlinecolor\":\"#A2B1C6\"},\"type\":\"carpet\"}],\"choropleth\":[{\"colorbar\":{\"outlinewidth\":0,\"ticks\":\"\"},\"type\":\"choropleth\"}],\"contour\":[{\"colorbar\":{\"outlinewidth\":0,\"ticks\":\"\"},\"colorscale\":[[0.0,\"#0d0887\"],[0.1111111111111111,\"#46039f\"],[0.2222222222222222,\"#7201a8\"],[0.3333333333333333,\"#9c179e\"],[0.4444444444444444,\"#bd3786\"],[0.5555555555555556,\"#d8576b\"],[0.6666666666666666,\"#ed7953\"],[0.7777777777777778,\"#fb9f3a\"],[0.8888888888888888,\"#fdca26\"],[1.0,\"#f0f921\"]],\"type\":\"contour\"}],\"contourcarpet\":[{\"colorbar\":{\"outlinewidth\":0,\"ticks\":\"\"},\"type\":\"contourcarpet\"}],\"heatmap\":[{\"colorbar\":{\"outlinewidth\":0,\"ticks\":\"\"},\"colorscale\":[[0.0,\"#0d0887\"],[0.1111111111111111,\"#46039f\"],[0.2222222222222222,\"#7201a8\"],[0.3333333333333333,\"#9c179e\"],[0.4444444444444444,\"#bd3786\"],[0.5555555555555556,\"#d8576b\"],[0.6666666666666666,\"#ed7953\"],[0.7777777777777778,\"#fb9f3a\"],[0.8888888888888888,\"#fdca26\"],[1.0,\"#f0f921\"]],\"type\":\"heatmap\"}],\"heatmapgl\":[{\"colorbar\":{\"outlinewidth\":0,\"ticks\":\"\"},\"colorscale\":[[0.0,\"#0d0887\"],[0.1111111111111111,\"#46039f\"],[0.2222222222222222,\"#7201a8\"],[0.3333333333333333,\"#9c179e\"],[0.4444444444444444,\"#bd3786\"],[0.5555555555555556,\"#d8576b\"],[0.6666666666666666,\"#ed7953\"],[0.7777777777777778,\"#fb9f3a\"],[0.8888888888888888,\"#fdca26\"],[1.0,\"#f0f921\"]],\"type\":\"heatmapgl\"}],\"histogram\":[{\"marker\":{\"pattern\":{\"fillmode\":\"overlay\",\"size\":10,\"solidity\":0.2}},\"type\":\"histogram\"}],\"histogram2d\":[{\"colorbar\":{\"outlinewidth\":0,\"ticks\":\"\"},\"colorscale\":[[0.0,\"#0d0887\"],[0.1111111111111111,\"#46039f\"],[0.2222222222222222,\"#7201a8\"],[0.3333333333333333,\"#9c179e\"],[0.4444444444444444,\"#bd3786\"],[0.5555555555555556,\"#d8576b\"],[0.6666666666666666,\"#ed7953\"],[0.7777777777777778,\"#fb9f3a\"],[0.8888888888888888,\"#fdca26\"],[1.0,\"#f0f921\"]],\"type\":\"histogram2d\"}],\"histogram2dcontour\":[{\"colorbar\":{\"outlinewidth\":0,\"ticks\":\"\"},\"colorscale\":[[0.0,\"#0d0887\"],[0.1111111111111111,\"#46039f\"],[0.2222222222222222,\"#7201a8\"],[0.3333333333333333,\"#9c179e\"],[0.4444444444444444,\"#bd3786\"],[0.5555555555555556,\"#d8576b\"],[0.6666666666666666,\"#ed7953\"],[0.7777777777777778,\"#fb9f3a\"],[0.8888888888888888,\"#fdca26\"],[1.0,\"#f0f921\"]],\"type\":\"histogram2dcontour\"}],\"mesh3d\":[{\"colorbar\":{\"outlinewidth\":0,\"ticks\":\"\"},\"type\":\"mesh3d\"}],\"parcoords\":[{\"line\":{\"colorbar\":{\"outlinewidth\":0,\"ticks\":\"\"}},\"type\":\"parcoords\"}],\"pie\":[{\"automargin\":true,\"type\":\"pie\"}],\"scatter\":[{\"marker\":{\"line\":{\"color\":\"#283442\"}},\"type\":\"scatter\"}],\"scatter3d\":[{\"line\":{\"colorbar\":{\"outlinewidth\":0,\"ticks\":\"\"}},\"marker\":{\"colorbar\":{\"outlinewidth\":0,\"ticks\":\"\"}},\"type\":\"scatter3d\"}],\"scattercarpet\":[{\"marker\":{\"colorbar\":{\"outlinewidth\":0,\"ticks\":\"\"}},\"type\":\"scattercarpet\"}],\"scattergeo\":[{\"marker\":{\"colorbar\":{\"outlinewidth\":0,\"ticks\":\"\"}},\"type\":\"scattergeo\"}],\"scattergl\":[{\"marker\":{\"line\":{\"color\":\"#283442\"}},\"type\":\"scattergl\"}],\"scattermapbox\":[{\"marker\":{\"colorbar\":{\"outlinewidth\":0,\"ticks\":\"\"}},\"type\":\"scattermapbox\"}],\"scatterpolar\":[{\"marker\":{\"colorbar\":{\"outlinewidth\":0,\"ticks\":\"\"}},\"type\":\"scatterpolar\"}],\"scatterpolargl\":[{\"marker\":{\"colorbar\":{\"outlinewidth\":0,\"ticks\":\"\"}},\"type\":\"scatterpolargl\"}],\"scatterternary\":[{\"marker\":{\"colorbar\":{\"outlinewidth\":0,\"ticks\":\"\"}},\"type\":\"scatterternary\"}],\"surface\":[{\"colorbar\":{\"outlinewidth\":0,\"ticks\":\"\"},\"colorscale\":[[0.0,\"#0d0887\"],[0.1111111111111111,\"#46039f\"],[0.2222222222222222,\"#7201a8\"],[0.3333333333333333,\"#9c179e\"],[0.4444444444444444,\"#bd3786\"],[0.5555555555555556,\"#d8576b\"],[0.6666666666666666,\"#ed7953\"],[0.7777777777777778,\"#fb9f3a\"],[0.8888888888888888,\"#fdca26\"],[1.0,\"#f0f921\"]],\"type\":\"surface\"}],\"table\":[{\"cells\":{\"fill\":{\"color\":\"#506784\"},\"line\":{\"color\":\"rgb(17,17,17)\"}},\"header\":{\"fill\":{\"color\":\"#2a3f5f\"},\"line\":{\"color\":\"rgb(17,17,17)\"}},\"type\":\"table\"}]},\"layout\":{\"annotationdefaults\":{\"arrowcolor\":\"#f2f5fa\",\"arrowhead\":0,\"arrowwidth\":1},\"autotypenumbers\":\"strict\",\"coloraxis\":{\"colorbar\":{\"outlinewidth\":0,\"ticks\":\"\"}},\"colorscale\":{\"diverging\":[[0,\"#8e0152\"],[0.1,\"#c51b7d\"],[0.2,\"#de77ae\"],[0.3,\"#f1b6da\"],[0.4,\"#fde0ef\"],[0.5,\"#f7f7f7\"],[0.6,\"#e6f5d0\"],[0.7,\"#b8e186\"],[0.8,\"#7fbc41\"],[0.9,\"#4d9221\"],[1,\"#276419\"]],\"sequential\":[[0.0,\"#0d0887\"],[0.1111111111111111,\"#46039f\"],[0.2222222222222222,\"#7201a8\"],[0.3333333333333333,\"#9c179e\"],[0.4444444444444444,\"#bd3786\"],[0.5555555555555556,\"#d8576b\"],[0.6666666666666666,\"#ed7953\"],[0.7777777777777778,\"#fb9f3a\"],[0.8888888888888888,\"#fdca26\"],[1.0,\"#f0f921\"]],\"sequentialminus\":[[0.0,\"#0d0887\"],[0.1111111111111111,\"#46039f\"],[0.2222222222222222,\"#7201a8\"],[0.3333333333333333,\"#9c179e\"],[0.4444444444444444,\"#bd3786\"],[0.5555555555555556,\"#d8576b\"],[0.6666666666666666,\"#ed7953\"],[0.7777777777777778,\"#fb9f3a\"],[0.8888888888888888,\"#fdca26\"],[1.0,\"#f0f921\"]]},\"colorway\":[\"#636efa\",\"#EF553B\",\"#00cc96\",\"#ab63fa\",\"#FFA15A\",\"#19d3f3\",\"#FF6692\",\"#B6E880\",\"#FF97FF\",\"#FECB52\"],\"font\":{\"color\":\"#f2f5fa\"},\"geo\":{\"bgcolor\":\"rgb(17,17,17)\",\"lakecolor\":\"rgb(17,17,17)\",\"landcolor\":\"rgb(17,17,17)\",\"showlakes\":true,\"showland\":true,\"subunitcolor\":\"#506784\"},\"hoverlabel\":{\"align\":\"left\"},\"hovermode\":\"closest\",\"mapbox\":{\"style\":\"dark\"},\"paper_bgcolor\":\"rgb(17,17,17)\",\"plot_bgcolor\":\"rgb(17,17,17)\",\"polar\":{\"angularaxis\":{\"gridcolor\":\"#506784\",\"linecolor\":\"#506784\",\"ticks\":\"\"},\"bgcolor\":\"rgb(17,17,17)\",\"radialaxis\":{\"gridcolor\":\"#506784\",\"linecolor\":\"#506784\",\"ticks\":\"\"}},\"scene\":{\"xaxis\":{\"backgroundcolor\":\"rgb(17,17,17)\",\"gridcolor\":\"#506784\",\"gridwidth\":2,\"linecolor\":\"#506784\",\"showbackground\":true,\"ticks\":\"\",\"zerolinecolor\":\"#C8D4E3\"},\"yaxis\":{\"backgroundcolor\":\"rgb(17,17,17)\",\"gridcolor\":\"#506784\",\"gridwidth\":2,\"linecolor\":\"#506784\",\"showbackground\":true,\"ticks\":\"\",\"zerolinecolor\":\"#C8D4E3\"},\"zaxis\":{\"backgroundcolor\":\"rgb(17,17,17)\",\"gridcolor\":\"#506784\",\"gridwidth\":2,\"linecolor\":\"#506784\",\"showbackground\":true,\"ticks\":\"\",\"zerolinecolor\":\"#C8D4E3\"}},\"shapedefaults\":{\"line\":{\"color\":\"#f2f5fa\"}},\"sliderdefaults\":{\"bgcolor\":\"#C8D4E3\",\"bordercolor\":\"rgb(17,17,17)\",\"borderwidth\":1,\"tickwidth\":0},\"ternary\":{\"aaxis\":{\"gridcolor\":\"#506784\",\"linecolor\":\"#506784\",\"ticks\":\"\"},\"baxis\":{\"gridcolor\":\"#506784\",\"linecolor\":\"#506784\",\"ticks\":\"\"},\"bgcolor\":\"rgb(17,17,17)\",\"caxis\":{\"gridcolor\":\"#506784\",\"linecolor\":\"#506784\",\"ticks\":\"\"}},\"title\":{\"x\":0.05},\"updatemenudefaults\":{\"bgcolor\":\"#506784\",\"borderwidth\":0},\"xaxis\":{\"automargin\":true,\"gridcolor\":\"#283442\",\"linecolor\":\"#506784\",\"ticks\":\"\",\"title\":{\"standoff\":15},\"zerolinecolor\":\"#283442\",\"zerolinewidth\":2},\"yaxis\":{\"automargin\":true,\"gridcolor\":\"#283442\",\"linecolor\":\"#506784\",\"ticks\":\"\",\"title\":{\"standoff\":15},\"zerolinecolor\":\"#283442\",\"zerolinewidth\":2}}},\"title\":{\"text\":\"<b>Models Score</b>\"}},                        {\"responsive\": true}                    ).then(function(){\n",
       "                            \n",
       "var gd = document.getElementById('0abf3239-3b90-42bc-afb0-55e307be60ce');\n",
       "var x = new MutationObserver(function (mutations, observer) {{\n",
       "        var display = window.getComputedStyle(gd).display;\n",
       "        if (!display || display === 'none') {{\n",
       "            console.log([gd, 'removed!']);\n",
       "            Plotly.purge(gd);\n",
       "            observer.disconnect();\n",
       "        }}\n",
       "}});\n",
       "\n",
       "// Listen for the removal of the full notebook cells\n",
       "var notebookContainer = gd.closest('#notebook-container');\n",
       "if (notebookContainer) {{\n",
       "    x.observe(notebookContainer, {childList: true});\n",
       "}}\n",
       "\n",
       "// Listen for the clearing of the current output cell\n",
       "var outputEl = gd.closest('.output');\n",
       "if (outputEl) {{\n",
       "    x.observe(outputEl, {childList: true});\n",
       "}}\n",
       "\n",
       "                        })                };                });            </script>        </div>"
      ]
     },
     "metadata": {},
     "output_type": "display_data"
    }
   ],
   "source": [
    "label = model_scores['Algorithms']\n",
    "value = model_scores['Score']\n",
    "\n",
    "fig = go.Figure(data = [go.Pie(labels = label, values = value, rotation = 90)])\n",
    "\n",
    "fig.update_traces(textposition = 'inside',\n",
    "                  textinfo = 'percent+label',\n",
    "                  marker = dict(line = dict(color='#000000', width = 1.5)))\n",
    "\n",
    "fig.update_layout(title = \"<b>Models Score</b>\",\n",
    "                  template = 'plotly_dark')\n",
    "\n",
    "fig.show()"
   ]
  },
  {
   "cell_type": "markdown",
   "id": "e521268d",
   "metadata": {
    "papermill": {
     "duration": 0.097086,
     "end_time": "2021-11-14T17:07:12.968719",
     "exception": false,
     "start_time": "2021-11-14T17:07:12.871633",
     "status": "completed"
    },
    "tags": []
   },
   "source": [
    "<a id=\"11\"></a>\n",
    "# <p style=\"background-color:#47b7ed;font-family:newtimeroman;color:#000000;font-size:120%;text-align:center;border-radius:20px 80px;\">📻 Hyperparameter tuning using RandomizedSearchCV</p>\n",
    "\n",
    "\n",
    "\n"
   ]
  },
  {
   "cell_type": "code",
   "execution_count": 47,
   "id": "edf1d133",
   "metadata": {
    "execution": {
     "iopub.execute_input": "2021-11-14T17:07:13.166355Z",
     "iopub.status.busy": "2021-11-14T17:07:13.165492Z",
     "iopub.status.idle": "2021-11-14T17:07:13.170696Z",
     "shell.execute_reply": "2021-11-14T17:07:13.171237Z",
     "shell.execute_reply.started": "2021-11-14T16:58:48.046761Z"
    },
    "papermill": {
     "duration": 0.105439,
     "end_time": "2021-11-14T17:07:13.171426",
     "exception": false,
     "start_time": "2021-11-14T17:07:13.065987",
     "status": "completed"
    },
    "tags": []
   },
   "outputs": [],
   "source": [
    "## Hyper Parameter Optimization\n",
    "\n",
    "params={\n",
    " \"learning_rate\"    : [0.05, 0.10, 0.15, 0.20, 0.25, 0.30 ] ,\n",
    " \"max_depth\"        : [ 3, 4, 5, 6, 8, 10, 12, 15],\n",
    " \"min_child_weight\" : [ 1, 3, 5, 7 ],\n",
    " \"gamma\"            : [ 0.0, 0.1, 0.2 , 0.3, 0.4 ],\n",
    " \"colsample_bytree\" : [ 0.3, 0.4, 0.5 , 0.7 ]\n",
    "    \n",
    "}"
   ]
  },
  {
   "cell_type": "code",
   "execution_count": 48,
   "id": "cf2153ab",
   "metadata": {
    "execution": {
     "iopub.execute_input": "2021-11-14T17:07:13.370401Z",
     "iopub.status.busy": "2021-11-14T17:07:13.369792Z",
     "iopub.status.idle": "2021-11-14T17:07:13.374856Z",
     "shell.execute_reply": "2021-11-14T17:07:13.375451Z",
     "shell.execute_reply.started": "2021-11-14T16:58:53.789194Z"
    },
    "papermill": {
     "duration": 0.10718,
     "end_time": "2021-11-14T17:07:13.375594",
     "exception": false,
     "start_time": "2021-11-14T17:07:13.268414",
     "status": "completed"
    },
    "tags": []
   },
   "outputs": [],
   "source": [
    "def timer(start_time=None):\n",
    "    if not start_time:\n",
    "        start_time = datetime.now()\n",
    "        return start_time\n",
    "    elif start_time:\n",
    "        thour, temp_sec = divmod((datetime.now() - start_time).total_seconds(), 3600)\n",
    "        tmin, tsec = divmod(temp_sec, 60)\n",
    "        print(f'\\nTime taken: {thour} hours {tmin} minutes and {round(tsec, 2)} seconds.')"
   ]
  },
  {
   "cell_type": "code",
   "execution_count": 49,
   "id": "13e1f235",
   "metadata": {
    "execution": {
     "iopub.execute_input": "2021-11-14T17:07:13.572424Z",
     "iopub.status.busy": "2021-11-14T17:07:13.571784Z",
     "iopub.status.idle": "2021-11-14T17:07:13.575516Z",
     "shell.execute_reply": "2021-11-14T17:07:13.576080Z",
     "shell.execute_reply.started": "2021-11-14T16:58:55.472817Z"
    },
    "papermill": {
     "duration": 0.103612,
     "end_time": "2021-11-14T17:07:13.576249",
     "exception": false,
     "start_time": "2021-11-14T17:07:13.472637",
     "status": "completed"
    },
    "tags": []
   },
   "outputs": [],
   "source": [
    "# For now I use xgboost algo\n",
    "xgb_classifier = XGBClassifier()"
   ]
  },
  {
   "cell_type": "code",
   "execution_count": 50,
   "id": "6af1e8d2",
   "metadata": {
    "execution": {
     "iopub.execute_input": "2021-11-14T17:07:13.775222Z",
     "iopub.status.busy": "2021-11-14T17:07:13.774617Z",
     "iopub.status.idle": "2021-11-14T17:07:13.778708Z",
     "shell.execute_reply": "2021-11-14T17:07:13.779294Z",
     "shell.execute_reply.started": "2021-11-14T16:59:00.315470Z"
    },
    "papermill": {
     "duration": 0.104282,
     "end_time": "2021-11-14T17:07:13.779448",
     "exception": false,
     "start_time": "2021-11-14T17:07:13.675166",
     "status": "completed"
    },
    "tags": []
   },
   "outputs": [],
   "source": [
    "random_search = RandomizedSearchCV(xgb_classifier,\n",
    "                                   param_distributions=params,\n",
    "                                   n_iter=5,\n",
    "                                   scoring='roc_auc',\n",
    "                                   n_jobs=-1,\n",
    "                                   cv=5, verbose=3)"
   ]
  },
  {
   "cell_type": "code",
   "execution_count": 51,
   "id": "a4f14d3d",
   "metadata": {
    "_kg_hide-output": true,
    "execution": {
     "iopub.execute_input": "2021-11-14T17:07:13.978321Z",
     "iopub.status.busy": "2021-11-14T17:07:13.977661Z",
     "iopub.status.idle": "2021-11-14T17:12:55.412100Z",
     "shell.execute_reply": "2021-11-14T17:12:55.411583Z",
     "shell.execute_reply.started": "2021-11-14T16:59:08.151480Z"
    },
    "papermill": {
     "duration": 341.535125,
     "end_time": "2021-11-14T17:12:55.412263",
     "exception": false,
     "start_time": "2021-11-14T17:07:13.877138",
     "status": "completed"
    },
    "tags": []
   },
   "outputs": [
    {
     "name": "stdout",
     "output_type": "stream",
     "text": [
      "Fitting 5 folds for each of 5 candidates, totalling 25 fits\n"
     ]
    },
    {
     "name": "stderr",
     "output_type": "stream",
     "text": [
      "[Parallel(n_jobs=-1)]: Using backend LokyBackend with 4 concurrent workers.\n"
     ]
    },
    {
     "name": "stdout",
     "output_type": "stream",
     "text": [
      "[17:12:55] WARNING: ../src/learner.cc:1095: Starting in XGBoost 1.3.0, the default evaluation metric used with the objective 'binary:logistic' was changed from 'error' to 'logloss'. Explicitly set eval_metric if you'd like to restore the old behavior.\n",
      "\n",
      "Time taken: 0.0 hours 5.0 minutes and 41.33 seconds.\n"
     ]
    },
    {
     "name": "stderr",
     "output_type": "stream",
     "text": [
      "[Parallel(n_jobs=-1)]: Done  25 out of  25 | elapsed:  5.7min finished\n",
      "/opt/conda/lib/python3.7/site-packages/xgboost/sklearn.py:1146: UserWarning:\n",
      "\n",
      "The use of label encoder in XGBClassifier is deprecated and will be removed in a future release. To remove this warning, do the following: 1) Pass option use_label_encoder=False when constructing XGBClassifier object; and 2) Encode your labels (y) as integers starting with 0, i.e. 0, 1, 2, ..., [num_class - 1].\n",
      "\n"
     ]
    }
   ],
   "source": [
    "start_time = timer(None) \n",
    "\n",
    "random_search.fit(X_train, y_train)\n",
    "\n",
    "timer(start_time)"
   ]
  },
  {
   "cell_type": "markdown",
   "id": "5bbebbb4",
   "metadata": {
    "papermill": {
     "duration": 0.098886,
     "end_time": "2021-11-14T17:12:55.610545",
     "exception": false,
     "start_time": "2021-11-14T17:12:55.511659",
     "status": "completed"
    },
    "tags": []
   },
   "source": [
    "<a id=\"12\"></a>\n",
    "# <p style=\"background-color:#47b7ed;font-family:newtimeroman;color:#000000;font-size:120%;text-align:center;border-radius:20px 80px;\">✨ Checking for best Estimator and best Hyperparameters</p>\n",
    "\n",
    "\n",
    "\n"
   ]
  },
  {
   "cell_type": "code",
   "execution_count": 52,
   "id": "43936eb2",
   "metadata": {
    "execution": {
     "iopub.execute_input": "2021-11-14T17:12:55.837091Z",
     "iopub.status.busy": "2021-11-14T17:12:55.836465Z",
     "iopub.status.idle": "2021-11-14T17:12:55.839967Z",
     "shell.execute_reply": "2021-11-14T17:12:55.840549Z",
     "shell.execute_reply.started": "2021-11-14T17:04:48.500016Z"
    },
    "papermill": {
     "duration": 0.108957,
     "end_time": "2021-11-14T17:12:55.840707",
     "exception": false,
     "start_time": "2021-11-14T17:12:55.731750",
     "status": "completed"
    },
    "tags": []
   },
   "outputs": [],
   "source": [
    "xgb_best_params = random_search.best_estimator_"
   ]
  },
  {
   "cell_type": "code",
   "execution_count": 53,
   "id": "9733c5df",
   "metadata": {
    "execution": {
     "iopub.execute_input": "2021-11-14T17:12:56.041844Z",
     "iopub.status.busy": "2021-11-14T17:12:56.041231Z",
     "iopub.status.idle": "2021-11-14T17:12:56.051765Z",
     "shell.execute_reply": "2021-11-14T17:12:56.052314Z",
     "shell.execute_reply.started": "2021-11-14T17:04:49.873495Z"
    },
    "papermill": {
     "duration": 0.113654,
     "end_time": "2021-11-14T17:12:56.052474",
     "exception": false,
     "start_time": "2021-11-14T17:12:55.938820",
     "status": "completed"
    },
    "tags": []
   },
   "outputs": [
    {
     "data": {
      "text/plain": [
       "XGBClassifier(base_score=0.5, booster='gbtree', colsample_bylevel=1,\n",
       "              colsample_bynode=1, colsample_bytree=0.3, gamma=0.3, gpu_id=-1,\n",
       "              importance_type='gain', interaction_constraints='',\n",
       "              learning_rate=0.25, max_delta_step=0, max_depth=12,\n",
       "              min_child_weight=1, missing=nan, monotone_constraints='()',\n",
       "              n_estimators=100, n_jobs=4, num_parallel_tree=1, random_state=0,\n",
       "              reg_alpha=0, reg_lambda=1, scale_pos_weight=1, subsample=1,\n",
       "              tree_method='exact', validate_parameters=1, verbosity=None)"
      ]
     },
     "execution_count": 53,
     "metadata": {},
     "output_type": "execute_result"
    }
   ],
   "source": [
    "xgb_best_params"
   ]
  },
  {
   "cell_type": "code",
   "execution_count": 54,
   "id": "4829e769",
   "metadata": {
    "execution": {
     "iopub.execute_input": "2021-11-14T17:12:56.255324Z",
     "iopub.status.busy": "2021-11-14T17:12:56.254709Z",
     "iopub.status.idle": "2021-11-14T17:12:56.261131Z",
     "shell.execute_reply": "2021-11-14T17:12:56.260518Z",
     "shell.execute_reply.started": "2021-11-14T17:04:54.773287Z"
    },
    "papermill": {
     "duration": 0.108214,
     "end_time": "2021-11-14T17:12:56.261322",
     "exception": false,
     "start_time": "2021-11-14T17:12:56.153108",
     "status": "completed"
    },
    "tags": []
   },
   "outputs": [
    {
     "data": {
      "text/plain": [
       "{'min_child_weight': 1,\n",
       " 'max_depth': 12,\n",
       " 'learning_rate': 0.25,\n",
       " 'gamma': 0.3,\n",
       " 'colsample_bytree': 0.3}"
      ]
     },
     "execution_count": 54,
     "metadata": {},
     "output_type": "execute_result"
    }
   ],
   "source": [
    "random_search.best_params_"
   ]
  },
  {
   "cell_type": "code",
   "execution_count": 55,
   "id": "55e360c5",
   "metadata": {
    "execution": {
     "iopub.execute_input": "2021-11-14T17:12:56.467478Z",
     "iopub.status.busy": "2021-11-14T17:12:56.466004Z",
     "iopub.status.idle": "2021-11-14T17:12:56.469766Z",
     "shell.execute_reply": "2021-11-14T17:12:56.470283Z",
     "shell.execute_reply.started": "2021-11-14T17:04:58.591162Z"
    },
    "papermill": {
     "duration": 0.107881,
     "end_time": "2021-11-14T17:12:56.470441",
     "exception": false,
     "start_time": "2021-11-14T17:12:56.362560",
     "status": "completed"
    },
    "tags": []
   },
   "outputs": [],
   "source": [
    "classifier = xgb_best_params"
   ]
  },
  {
   "cell_type": "markdown",
   "id": "71242d5e",
   "metadata": {
    "papermill": {
     "duration": 0.0992,
     "end_time": "2021-11-14T17:12:56.669315",
     "exception": false,
     "start_time": "2021-11-14T17:12:56.570115",
     "status": "completed"
    },
    "tags": []
   },
   "source": [
    "\n",
    "<a id=\"13\"></a>\n",
    "# <p style=\"background-color:#47b7ed;font-family:newtimeroman;color:#000000;font-size:120%;text-align:center;border-radius:20px 80px;\">🤓 Training model with Best Hyperparameters</p>\n",
    "\n",
    "\n",
    "\n"
   ]
  },
  {
   "cell_type": "code",
   "execution_count": 56,
   "id": "0c9d0767",
   "metadata": {
    "execution": {
     "iopub.execute_input": "2021-11-14T17:12:56.871364Z",
     "iopub.status.busy": "2021-11-14T17:12:56.870748Z",
     "iopub.status.idle": "2021-11-14T17:12:56.961617Z",
     "shell.execute_reply": "2021-11-14T17:12:56.962128Z",
     "shell.execute_reply.started": "2021-11-14T17:05:01.973291Z"
    },
    "papermill": {
     "duration": 0.193047,
     "end_time": "2021-11-14T17:12:56.962339",
     "exception": false,
     "start_time": "2021-11-14T17:12:56.769292",
     "status": "completed"
    },
    "tags": []
   },
   "outputs": [
    {
     "data": {
      "text/plain": [
       "XGBClassifier(base_score=0.5, booster='gbtree', colsample_bylevel=1,\n",
       "              colsample_bynode=1, colsample_bytree=0.3, gamma=0.3, gpu_id=-1,\n",
       "              importance_type='gain', interaction_constraints='',\n",
       "              learning_rate=0.25, max_delta_step=0, max_depth=12,\n",
       "              min_child_weight=1, missing=nan, monotone_constraints='()',\n",
       "              n_estimators=100, n_jobs=4, num_parallel_tree=1, random_state=0,\n",
       "              reg_alpha=0, reg_lambda=1, scale_pos_weight=1, subsample=1,\n",
       "              tree_method='exact', validate_parameters=1, verbosity=None)"
      ]
     },
     "execution_count": 56,
     "metadata": {},
     "output_type": "execute_result"
    }
   ],
   "source": [
    "classifier.fit(X_train, y_train, eval_metric='logloss')"
   ]
  },
  {
   "cell_type": "code",
   "execution_count": 57,
   "id": "36e50db0",
   "metadata": {
    "execution": {
     "iopub.execute_input": "2021-11-14T17:12:57.170816Z",
     "iopub.status.busy": "2021-11-14T17:12:57.166743Z",
     "iopub.status.idle": "2021-11-14T17:12:57.179231Z",
     "shell.execute_reply": "2021-11-14T17:12:57.180439Z",
     "shell.execute_reply.started": "2021-11-14T17:05:03.618235Z"
    },
    "papermill": {
     "duration": 0.116859,
     "end_time": "2021-11-14T17:12:57.180653",
     "exception": false,
     "start_time": "2021-11-14T17:12:57.063794",
     "status": "completed"
    },
    "tags": []
   },
   "outputs": [
    {
     "name": "stdout",
     "output_type": "stream",
     "text": [
      "Accuracy: 0.8921832884097035\n"
     ]
    }
   ],
   "source": [
    "pred = classifier.predict(X_test)\n",
    "\n",
    "print(f\"Accuracy: {accuracy_score(y_test, pred)}\")"
   ]
  },
  {
   "cell_type": "markdown",
   "id": "15a7fb65",
   "metadata": {
    "papermill": {
     "duration": 0.101775,
     "end_time": "2021-11-14T17:12:57.384355",
     "exception": false,
     "start_time": "2021-11-14T17:12:57.282580",
     "status": "completed"
    },
    "tags": []
   },
   "source": [
    "<a id=\"14\"></a>\n",
    "# <p style=\"background-color:#47b7ed;font-family:newtimeroman;color:#000000;font-size:120%;text-align:center;border-radius:20px 80px;\">(⌐■_■) Ploting confusion matrix</p>\n",
    "\n",
    "\n",
    "\n",
    "\n"
   ]
  },
  {
   "cell_type": "code",
   "execution_count": 58,
   "id": "54ec2c46",
   "metadata": {
    "execution": {
     "iopub.execute_input": "2021-11-14T17:12:57.587676Z",
     "iopub.status.busy": "2021-11-14T17:12:57.587031Z",
     "iopub.status.idle": "2021-11-14T17:12:57.787111Z",
     "shell.execute_reply": "2021-11-14T17:12:57.786309Z",
     "shell.execute_reply.started": "2021-11-14T17:05:08.272912Z"
    },
    "papermill": {
     "duration": 0.30231,
     "end_time": "2021-11-14T17:12:57.787294",
     "exception": false,
     "start_time": "2021-11-14T17:12:57.484984",
     "status": "completed"
    },
    "tags": []
   },
   "outputs": [
    {
     "data": {
      "image/png": "[encoded data removed]",
      "text/plain": [
       "<Figure size 432x288 with 2 Axes>"
      ]
     },
     "metadata": {},
     "output_type": "display_data"
    }
   ],
   "source": [
    "plot_confusion_matrix(classifier,\n",
    "                      X_test, y_test,\n",
    "                      cmap = plt.cm.Blues,\n",
    "                      display_labels = ['Not Placed', 'Placed'])\n",
    "plt.grid(False)\n",
    "plt.show();"
   ]
  },
  {
   "cell_type": "markdown",
   "id": "c1ed0fb1",
   "metadata": {
    "papermill": {
     "duration": 0.102454,
     "end_time": "2021-11-14T17:12:57.991371",
     "exception": false,
     "start_time": "2021-11-14T17:12:57.888917",
     "status": "completed"
    },
    "tags": []
   },
   "source": [
    "<a id=\"6.2\"></a>\n",
    "# <p style=\"background-color:#47b7ed;font-family:newtimeroman;color:#FFF9ED;font-size:130%;text-align:center;border-radius:10px 10px;\">I Hope my Kernel will be helpful for you. If you like my work, Don't forget to Upvote Thank You! 🙂</p>\n",
    "\n"
   ]
  }
 ],
 "metadata": {
  "kernelspec": {
   "display_name": "Python 3",
   "language": "python",
   "name": "python3"
  },
  "language_info": {
   "codemirror_mode": {
    "name": "ipython",
    "version": 3
   },
   "file_extension": ".py",
   "mimetype": "text/x-python",
   "name": "python",
   "nbconvert_exporter": "python",
   "pygments_lexer": "ipython3",
   "version": "3.7.10"
  },
  "papermill": {
   "default_parameters": {},
   "duration": 376.009705,
   "end_time": "2021-11-14T17:12:59.635235",
   "environment_variables": {},
   "exception": null,
   "input_path": "__notebook__.ipynb",
   "output_path": "__notebook__.ipynb",
   "parameters": {},
   "start_time": "2021-11-14T17:06:43.625530",
   "version": "2.3.3"
  }
 },
 "nbformat": 4,
 "nbformat_minor": 5
}
